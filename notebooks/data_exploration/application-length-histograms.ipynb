{
 "cells": [
  {
   "cell_type": "code",
   "execution_count": 1,
   "metadata": {
    "collapsed": true
   },
   "outputs": [],
   "source": [
    "import pandas as pd\n",
    "import numpy as np\n",
    "import datetime as dt\n",
    "from utils import db_utils\n",
    "from utils import iefp_data_utils\n",
    "import seaborn as sns\n",
    "sns.set(color_codes=True)\n",
    "import matplotlib.pyplot as plt\n",
    "%matplotlib inline"
   ]
  },
  {
   "cell_type": "code",
   "execution_count": 2,
   "metadata": {
    "collapsed": true
   },
   "outputs": [],
   "source": [
    "#Connect to database\n",
    "conn = db_utils.connect_to_db()"
   ]
  },
  {
   "cell_type": "code",
   "execution_count": 3,
   "metadata": {
    "collapsed": true
   },
   "outputs": [],
   "source": [
    "#Read movements data from database as a dataframe\n",
    "movements = db_utils.read_table(conn,'cascais_v2','movement')"
   ]
  },
  {
   "cell_type": "code",
   "execution_count": 4,
   "metadata": {
    "collapsed": true
   },
   "outputs": [],
   "source": [
    "#Read Application Data\n",
    "applications = db_utils.read_table(conn,'cascais_v2','application')"
   ]
  },
  {
   "cell_type": "code",
   "execution_count": 5,
   "metadata": {},
   "outputs": [],
   "source": [
    "clean_apps = iefp_data_utils.clean_applications(applications,'1980-01-01','2016-04-30')"
   ]
  },
  {
   "cell_type": "code",
   "execution_count": 6,
   "metadata": {},
   "outputs": [],
   "source": [
    "clean_movs = iefp_data_utils.clean_movements(movements,'1980-01-01','2017-04-30')"
   ]
  },
  {
   "cell_type": "code",
   "execution_count": 7,
   "metadata": {},
   "outputs": [
    {
     "data": {
      "text/html": [
       "<div>\n",
       "<style>\n",
       "    .dataframe thead tr:only-child th {\n",
       "        text-align: right;\n",
       "    }\n",
       "\n",
       "    .dataframe thead th {\n",
       "        text-align: left;\n",
       "    }\n",
       "\n",
       "    .dataframe tbody tr th {\n",
       "        vertical-align: top;\n",
       "    }\n",
       "</style>\n",
       "<table border=\"1\" class=\"dataframe\">\n",
       "  <thead>\n",
       "    <tr style=\"text-align: right;\">\n",
       "      <th></th>\n",
       "      <th>ute_id</th>\n",
       "      <th>movement_event_date</th>\n",
       "      <th>application_id</th>\n",
       "      <th>movement_type</th>\n",
       "      <th>movement_subtype</th>\n",
       "      <th>movement_result</th>\n",
       "      <th>movement_index</th>\n",
       "    </tr>\n",
       "  </thead>\n",
       "  <tbody>\n",
       "    <tr>\n",
       "      <th>5</th>\n",
       "      <td>710</td>\n",
       "      <td>2016-12-06</td>\n",
       "      <td>120687</td>\n",
       "      <td>application</td>\n",
       "      <td>DESEMPREGADO-NOVO EMPREGO</td>\n",
       "      <td></td>\n",
       "      <td>120687</td>\n",
       "    </tr>\n",
       "    <tr>\n",
       "      <th>6</th>\n",
       "      <td>710</td>\n",
       "      <td>2016-12-06</td>\n",
       "      <td>120687</td>\n",
       "      <td>intervention</td>\n",
       "      <td>ENTREVISTA COLOCAÃÃO</td>\n",
       "      <td>CONCLUIU</td>\n",
       "      <td>434113</td>\n",
       "    </tr>\n",
       "    <tr>\n",
       "      <th>7</th>\n",
       "      <td>710</td>\n",
       "      <td>2017-01-10</td>\n",
       "      <td>120687</td>\n",
       "      <td>convocation</td>\n",
       "      <td>INTERVENÃÃO TÃCNICA</td>\n",
       "      <td>COMPARECEU</td>\n",
       "      <td>257387</td>\n",
       "    </tr>\n",
       "    <tr>\n",
       "      <th>8</th>\n",
       "      <td>710</td>\n",
       "      <td>2017-01-16</td>\n",
       "      <td>120687</td>\n",
       "      <td>intervention</td>\n",
       "      <td>ENTREVISTA ORIENTAÃÃO</td>\n",
       "      <td>CONCLUIU</td>\n",
       "      <td>439065</td>\n",
       "    </tr>\n",
       "    <tr>\n",
       "      <th>9</th>\n",
       "      <td>710</td>\n",
       "      <td>2017-02-03</td>\n",
       "      <td>120687</td>\n",
       "      <td>convocation</td>\n",
       "      <td>OFERTA</td>\n",
       "      <td>ANULADA</td>\n",
       "      <td>258569</td>\n",
       "    </tr>\n",
       "  </tbody>\n",
       "</table>\n",
       "</div>"
      ],
      "text/plain": [
       "   ute_id movement_event_date  application_id movement_type  \\\n",
       "5     710          2016-12-06          120687   application   \n",
       "6     710          2016-12-06          120687  intervention   \n",
       "7     710          2017-01-10          120687   convocation   \n",
       "8     710          2017-01-16          120687  intervention   \n",
       "9     710          2017-02-03          120687   convocation   \n",
       "\n",
       "            movement_subtype movement_result  movement_index  \n",
       "5  DESEMPREGADO-NOVO EMPREGO                          120687  \n",
       "6     ENTREVISTA COLOCAÃÃO        CONCLUIU          434113  \n",
       "7     INTERVENÃÃO TÃCNICA      COMPARECEU          257387  \n",
       "8    ENTREVISTA ORIENTAÃÃO        CONCLUIU          439065  \n",
       "9                     OFERTA         ANULADA          258569  "
      ]
     },
     "execution_count": 7,
     "metadata": {},
     "output_type": "execute_result"
    }
   ],
   "source": [
    "clean_movs.head()"
   ]
  },
  {
   "cell_type": "code",
   "execution_count": 8,
   "metadata": {},
   "outputs": [],
   "source": [
    "clean_data = pd.merge(clean_movs,clean_apps,how='inner', left_on = ['ute_id','application_id'], right_on=['ute_id','table_index'])"
   ]
  },
  {
   "cell_type": "code",
   "execution_count": 9,
   "metadata": {},
   "outputs": [
    {
     "data": {
      "text/plain": [
       "(1028041, 68)"
      ]
     },
     "execution_count": 9,
     "metadata": {},
     "output_type": "execute_result"
    }
   ],
   "source": [
    "clean_data.shape"
   ]
  },
  {
   "cell_type": "code",
   "execution_count": 10,
   "metadata": {},
   "outputs": [
    {
     "data": {
      "text/html": [
       "<div>\n",
       "<style>\n",
       "    .dataframe thead tr:only-child th {\n",
       "        text-align: right;\n",
       "    }\n",
       "\n",
       "    .dataframe thead th {\n",
       "        text-align: left;\n",
       "    }\n",
       "\n",
       "    .dataframe tbody tr th {\n",
       "        vertical-align: top;\n",
       "    }\n",
       "</style>\n",
       "<table border=\"1\" class=\"dataframe\">\n",
       "  <thead>\n",
       "    <tr style=\"text-align: right;\">\n",
       "      <th></th>\n",
       "      <th>ute_id</th>\n",
       "      <th>movement_event_date</th>\n",
       "      <th>application_id</th>\n",
       "      <th>movement_type</th>\n",
       "      <th>movement_subtype</th>\n",
       "      <th>movement_result</th>\n",
       "      <th>movement_index</th>\n",
       "      <th>anomes</th>\n",
       "      <th>ctipo_movimento</th>\n",
       "      <th>dtipo_movimento</th>\n",
       "      <th>...</th>\n",
       "      <th>conjuge_categoria</th>\n",
       "      <th>conjuge_estado</th>\n",
       "      <th>conjuge_motivo_indisponibilidade</th>\n",
       "      <th>candidatura_categoria_anterior</th>\n",
       "      <th>candidatura_estado_anterior</th>\n",
       "      <th>ute_nr_pessoas_cargo</th>\n",
       "      <th>ute_nr_descendentes_cargo</th>\n",
       "      <th>candidatura_data_ppe</th>\n",
       "      <th>table_index</th>\n",
       "      <th>app_start_date</th>\n",
       "    </tr>\n",
       "  </thead>\n",
       "  <tbody>\n",
       "    <tr>\n",
       "      <th>0</th>\n",
       "      <td>818</td>\n",
       "      <td>2013-02-18</td>\n",
       "      <td>70870</td>\n",
       "      <td>application</td>\n",
       "      <td>DESEMPREGADO-NOVO EMPREGO</td>\n",
       "      <td></td>\n",
       "      <td>70870</td>\n",
       "      <td>201302</td>\n",
       "      <td>11</td>\n",
       "      <td>PEDIDOS DE EMPREGO AO LONGO DO MÃS</td>\n",
       "      <td>...</td>\n",
       "      <td>None</td>\n",
       "      <td>None</td>\n",
       "      <td>None</td>\n",
       "      <td>None</td>\n",
       "      <td>None</td>\n",
       "      <td>2</td>\n",
       "      <td>2</td>\n",
       "      <td>None</td>\n",
       "      <td>70870</td>\n",
       "      <td>2013-02-18</td>\n",
       "    </tr>\n",
       "    <tr>\n",
       "      <th>1</th>\n",
       "      <td>818</td>\n",
       "      <td>2013-02-18</td>\n",
       "      <td>70870</td>\n",
       "      <td>intervention</td>\n",
       "      <td>INICIO PPE</td>\n",
       "      <td>INICIADO</td>\n",
       "      <td>228179</td>\n",
       "      <td>201302</td>\n",
       "      <td>11</td>\n",
       "      <td>PEDIDOS DE EMPREGO AO LONGO DO MÃS</td>\n",
       "      <td>...</td>\n",
       "      <td>None</td>\n",
       "      <td>None</td>\n",
       "      <td>None</td>\n",
       "      <td>None</td>\n",
       "      <td>None</td>\n",
       "      <td>2</td>\n",
       "      <td>2</td>\n",
       "      <td>None</td>\n",
       "      <td>70870</td>\n",
       "      <td>2013-02-18</td>\n",
       "    </tr>\n",
       "    <tr>\n",
       "      <th>2</th>\n",
       "      <td>818</td>\n",
       "      <td>2013-02-18</td>\n",
       "      <td>70870</td>\n",
       "      <td>intervention</td>\n",
       "      <td>ENTREVISTA COLOCAÃÃO</td>\n",
       "      <td>CONCLUIU</td>\n",
       "      <td>228180</td>\n",
       "      <td>201302</td>\n",
       "      <td>11</td>\n",
       "      <td>PEDIDOS DE EMPREGO AO LONGO DO MÃS</td>\n",
       "      <td>...</td>\n",
       "      <td>None</td>\n",
       "      <td>None</td>\n",
       "      <td>None</td>\n",
       "      <td>None</td>\n",
       "      <td>None</td>\n",
       "      <td>2</td>\n",
       "      <td>2</td>\n",
       "      <td>None</td>\n",
       "      <td>70870</td>\n",
       "      <td>2013-02-18</td>\n",
       "    </tr>\n",
       "    <tr>\n",
       "      <th>3</th>\n",
       "      <td>818</td>\n",
       "      <td>2013-04-04</td>\n",
       "      <td>70870</td>\n",
       "      <td>convocation</td>\n",
       "      <td>OFERTA</td>\n",
       "      <td>APRESENTADO</td>\n",
       "      <td>124146</td>\n",
       "      <td>201302</td>\n",
       "      <td>11</td>\n",
       "      <td>PEDIDOS DE EMPREGO AO LONGO DO MÃS</td>\n",
       "      <td>...</td>\n",
       "      <td>None</td>\n",
       "      <td>None</td>\n",
       "      <td>None</td>\n",
       "      <td>None</td>\n",
       "      <td>None</td>\n",
       "      <td>2</td>\n",
       "      <td>2</td>\n",
       "      <td>None</td>\n",
       "      <td>70870</td>\n",
       "      <td>2013-02-18</td>\n",
       "    </tr>\n",
       "    <tr>\n",
       "      <th>4</th>\n",
       "      <td>818</td>\n",
       "      <td>2013-04-08</td>\n",
       "      <td>70870</td>\n",
       "      <td>interview</td>\n",
       "      <td>588061835</td>\n",
       "      <td>RECUSA DA ENTIDADE EMPREGADORA - NÃO MARCAÃÃ...</td>\n",
       "      <td>104497</td>\n",
       "      <td>201302</td>\n",
       "      <td>11</td>\n",
       "      <td>PEDIDOS DE EMPREGO AO LONGO DO MÃS</td>\n",
       "      <td>...</td>\n",
       "      <td>None</td>\n",
       "      <td>None</td>\n",
       "      <td>None</td>\n",
       "      <td>None</td>\n",
       "      <td>None</td>\n",
       "      <td>2</td>\n",
       "      <td>2</td>\n",
       "      <td>None</td>\n",
       "      <td>70870</td>\n",
       "      <td>2013-02-18</td>\n",
       "    </tr>\n",
       "  </tbody>\n",
       "</table>\n",
       "<p>5 rows × 68 columns</p>\n",
       "</div>"
      ],
      "text/plain": [
       "   ute_id movement_event_date  application_id movement_type  \\\n",
       "0     818          2013-02-18           70870   application   \n",
       "1     818          2013-02-18           70870  intervention   \n",
       "2     818          2013-02-18           70870  intervention   \n",
       "3     818          2013-04-04           70870   convocation   \n",
       "4     818          2013-04-08           70870     interview   \n",
       "\n",
       "            movement_subtype  \\\n",
       "0  DESEMPREGADO-NOVO EMPREGO   \n",
       "1                 INICIO PPE   \n",
       "2     ENTREVISTA COLOCAÃÃO   \n",
       "3                     OFERTA   \n",
       "4                  588061835   \n",
       "\n",
       "                                     movement_result  movement_index  anomes  \\\n",
       "0                                                              70870  201302   \n",
       "1                                           INICIADO          228179  201302   \n",
       "2                                           CONCLUIU          228180  201302   \n",
       "3                                        APRESENTADO          124146  201302   \n",
       "4  RECUSA DA ENTIDADE EMPREGADORA - NÃO MARCAÃÃ...          104497  201302   \n",
       "\n",
       "   ctipo_movimento                      dtipo_movimento      ...        \\\n",
       "0               11  PEDIDOS DE EMPREGO AO LONGO DO MÃS      ...         \n",
       "1               11  PEDIDOS DE EMPREGO AO LONGO DO MÃS      ...         \n",
       "2               11  PEDIDOS DE EMPREGO AO LONGO DO MÃS      ...         \n",
       "3               11  PEDIDOS DE EMPREGO AO LONGO DO MÃS      ...         \n",
       "4               11  PEDIDOS DE EMPREGO AO LONGO DO MÃS      ...         \n",
       "\n",
       "  conjuge_categoria conjuge_estado conjuge_motivo_indisponibilidade  \\\n",
       "0              None           None                             None   \n",
       "1              None           None                             None   \n",
       "2              None           None                             None   \n",
       "3              None           None                             None   \n",
       "4              None           None                             None   \n",
       "\n",
       "   candidatura_categoria_anterior candidatura_estado_anterior  \\\n",
       "0                            None                        None   \n",
       "1                            None                        None   \n",
       "2                            None                        None   \n",
       "3                            None                        None   \n",
       "4                            None                        None   \n",
       "\n",
       "  ute_nr_pessoas_cargo ute_nr_descendentes_cargo candidatura_data_ppe  \\\n",
       "0                    2                         2                 None   \n",
       "1                    2                         2                 None   \n",
       "2                    2                         2                 None   \n",
       "3                    2                         2                 None   \n",
       "4                    2                         2                 None   \n",
       "\n",
       "  table_index app_start_date  \n",
       "0       70870     2013-02-18  \n",
       "1       70870     2013-02-18  \n",
       "2       70870     2013-02-18  \n",
       "3       70870     2013-02-18  \n",
       "4       70870     2013-02-18  \n",
       "\n",
       "[5 rows x 68 columns]"
      ]
     },
     "execution_count": 10,
     "metadata": {},
     "output_type": "execute_result"
    }
   ],
   "source": [
    "clean_data.head()"
   ]
  },
  {
   "cell_type": "code",
   "execution_count": 11,
   "metadata": {},
   "outputs": [],
   "source": [
    "def get_apps_cancellations(x):\n",
    "    return x[x['movement_type'].isin(['cancellation'])].groupby(['application_id']).first().reset_index()[['application_id','movement_event_date']].rename(columns={'movement_event_date': 'cancellation_date'})\n",
    "\n",
    "def get_apps_placements(x):\n",
    "    return x[x['movement_result'].isin(['ADMITIDO / COLOCADO'])].groupby(['application_id']).first().reset_index()[['application_id','movement_event_date']].rename(columns={'movement_event_date': 'placement_date'})"
   ]
  },
  {
   "cell_type": "code",
   "execution_count": 12,
   "metadata": {},
   "outputs": [],
   "source": [
    "apps_cancelled = get_apps_cancellations(clean_movs)\n",
    "apps_placed = get_apps_placements(clean_movs)"
   ]
  },
  {
   "cell_type": "code",
   "execution_count": 13,
   "metadata": {},
   "outputs": [
    {
     "data": {
      "text/html": [
       "<div>\n",
       "<style>\n",
       "    .dataframe thead tr:only-child th {\n",
       "        text-align: right;\n",
       "    }\n",
       "\n",
       "    .dataframe thead th {\n",
       "        text-align: left;\n",
       "    }\n",
       "\n",
       "    .dataframe tbody tr th {\n",
       "        vertical-align: top;\n",
       "    }\n",
       "</style>\n",
       "<table border=\"1\" class=\"dataframe\">\n",
       "  <thead>\n",
       "    <tr style=\"text-align: right;\">\n",
       "      <th></th>\n",
       "      <th>application_id</th>\n",
       "      <th>cancellation_date</th>\n",
       "    </tr>\n",
       "  </thead>\n",
       "  <tbody>\n",
       "    <tr>\n",
       "      <th>0</th>\n",
       "      <td>1</td>\n",
       "      <td>2007-02-22</td>\n",
       "    </tr>\n",
       "    <tr>\n",
       "      <th>1</th>\n",
       "      <td>3</td>\n",
       "      <td>2007-07-24</td>\n",
       "    </tr>\n",
       "    <tr>\n",
       "      <th>2</th>\n",
       "      <td>4</td>\n",
       "      <td>2007-11-16</td>\n",
       "    </tr>\n",
       "    <tr>\n",
       "      <th>3</th>\n",
       "      <td>5</td>\n",
       "      <td>2007-04-10</td>\n",
       "    </tr>\n",
       "    <tr>\n",
       "      <th>4</th>\n",
       "      <td>6</td>\n",
       "      <td>2007-11-21</td>\n",
       "    </tr>\n",
       "  </tbody>\n",
       "</table>\n",
       "</div>"
      ],
      "text/plain": [
       "   application_id cancellation_date\n",
       "0               1        2007-02-22\n",
       "1               3        2007-07-24\n",
       "2               4        2007-11-16\n",
       "3               5        2007-04-10\n",
       "4               6        2007-11-21"
      ]
     },
     "execution_count": 13,
     "metadata": {},
     "output_type": "execute_result"
    }
   ],
   "source": [
    "apps_cancelled.head()"
   ]
  },
  {
   "cell_type": "code",
   "execution_count": 14,
   "metadata": {},
   "outputs": [
    {
     "data": {
      "text/html": [
       "<div>\n",
       "<style>\n",
       "    .dataframe thead tr:only-child th {\n",
       "        text-align: right;\n",
       "    }\n",
       "\n",
       "    .dataframe thead th {\n",
       "        text-align: left;\n",
       "    }\n",
       "\n",
       "    .dataframe tbody tr th {\n",
       "        vertical-align: top;\n",
       "    }\n",
       "</style>\n",
       "<table border=\"1\" class=\"dataframe\">\n",
       "  <thead>\n",
       "    <tr style=\"text-align: right;\">\n",
       "      <th></th>\n",
       "      <th>application_id</th>\n",
       "      <th>placement_date</th>\n",
       "    </tr>\n",
       "  </thead>\n",
       "  <tbody>\n",
       "    <tr>\n",
       "      <th>0</th>\n",
       "      <td>2</td>\n",
       "      <td>2007-02-07</td>\n",
       "    </tr>\n",
       "    <tr>\n",
       "      <th>1</th>\n",
       "      <td>11</td>\n",
       "      <td>2007-02-27</td>\n",
       "    </tr>\n",
       "    <tr>\n",
       "      <th>2</th>\n",
       "      <td>36</td>\n",
       "      <td>2008-04-22</td>\n",
       "    </tr>\n",
       "    <tr>\n",
       "      <th>3</th>\n",
       "      <td>65</td>\n",
       "      <td>2007-01-19</td>\n",
       "    </tr>\n",
       "    <tr>\n",
       "      <th>4</th>\n",
       "      <td>70</td>\n",
       "      <td>2007-01-08</td>\n",
       "    </tr>\n",
       "  </tbody>\n",
       "</table>\n",
       "</div>"
      ],
      "text/plain": [
       "   application_id placement_date\n",
       "0               2     2007-02-07\n",
       "1              11     2007-02-27\n",
       "2              36     2008-04-22\n",
       "3              65     2007-01-19\n",
       "4              70     2007-01-08"
      ]
     },
     "execution_count": 14,
     "metadata": {},
     "output_type": "execute_result"
    }
   ],
   "source": [
    "apps_placed.head()"
   ]
  },
  {
   "cell_type": "code",
   "execution_count": 15,
   "metadata": {},
   "outputs": [
    {
     "data": {
      "text/html": [
       "<div>\n",
       "<style>\n",
       "    .dataframe thead tr:only-child th {\n",
       "        text-align: right;\n",
       "    }\n",
       "\n",
       "    .dataframe thead th {\n",
       "        text-align: left;\n",
       "    }\n",
       "\n",
       "    .dataframe tbody tr th {\n",
       "        vertical-align: top;\n",
       "    }\n",
       "</style>\n",
       "<table border=\"1\" class=\"dataframe\">\n",
       "  <thead>\n",
       "    <tr style=\"text-align: right;\">\n",
       "      <th></th>\n",
       "      <th>table_index</th>\n",
       "      <th>app_start_date</th>\n",
       "      <th>cancellation_date</th>\n",
       "      <th>placement_date</th>\n",
       "    </tr>\n",
       "  </thead>\n",
       "  <tbody>\n",
       "    <tr>\n",
       "      <th>0</th>\n",
       "      <td>70870</td>\n",
       "      <td>2013-02-18</td>\n",
       "      <td>2015-03-26</td>\n",
       "      <td>NaT</td>\n",
       "    </tr>\n",
       "    <tr>\n",
       "      <th>1</th>\n",
       "      <td>22642</td>\n",
       "      <td>2009-03-20</td>\n",
       "      <td>2011-11-29</td>\n",
       "      <td>NaT</td>\n",
       "    </tr>\n",
       "    <tr>\n",
       "      <th>2</th>\n",
       "      <td>61038</td>\n",
       "      <td>2012-05-17</td>\n",
       "      <td>2013-01-29</td>\n",
       "      <td>NaT</td>\n",
       "    </tr>\n",
       "    <tr>\n",
       "      <th>3</th>\n",
       "      <td>1941</td>\n",
       "      <td>2007-03-27</td>\n",
       "      <td>NaT</td>\n",
       "      <td>2007-10-15</td>\n",
       "    </tr>\n",
       "    <tr>\n",
       "      <th>4</th>\n",
       "      <td>9206</td>\n",
       "      <td>2007-12-10</td>\n",
       "      <td>2008-02-01</td>\n",
       "      <td>NaT</td>\n",
       "    </tr>\n",
       "  </tbody>\n",
       "</table>\n",
       "</div>"
      ],
      "text/plain": [
       "   table_index app_start_date cancellation_date placement_date\n",
       "0        70870     2013-02-18        2015-03-26            NaT\n",
       "1        22642     2009-03-20        2011-11-29            NaT\n",
       "2        61038     2012-05-17        2013-01-29            NaT\n",
       "3         1941     2007-03-27               NaT     2007-10-15\n",
       "4         9206     2007-12-10        2008-02-01            NaT"
      ]
     },
     "execution_count": 15,
     "metadata": {},
     "output_type": "execute_result"
    }
   ],
   "source": [
    "apps_length = clean_apps.merge(apps_cancelled,how='left', left_on='table_index',right_on='application_id').merge(apps_placed,how='left', left_on='table_index',right_on='application_id')[['table_index','app_start_date','cancellation_date','placement_date']]\n",
    "apps_length.head()"
   ]
  },
  {
   "cell_type": "code",
   "execution_count": 16,
   "metadata": {},
   "outputs": [],
   "source": [
    "def get_exit_date(app):\n",
    "    exit_date = None\n",
    "    if (pd.notnull(app['cancellation_date'])):\n",
    "        if (pd.notnull(app['placement_date'])):\n",
    "            return min(app['cancellation_date'],app['placement_date'])\n",
    "        else:\n",
    "            return app['cancellation_date']\n",
    "    elif (pd.notnull(app['placement_date'])):\n",
    "        return app['placement_date']\n",
    "    else:\n",
    "        return pd.to_datetime(dt.datetime.today().strftime(\"%m/%d/%Y\"))\n",
    "\n",
    "apps_length['app_exit_date'] = apps_length.apply(get_exit_date,axis=1)"
   ]
  },
  {
   "cell_type": "code",
   "execution_count": 17,
   "metadata": {},
   "outputs": [
    {
     "data": {
      "text/html": [
       "<div>\n",
       "<style>\n",
       "    .dataframe thead tr:only-child th {\n",
       "        text-align: right;\n",
       "    }\n",
       "\n",
       "    .dataframe thead th {\n",
       "        text-align: left;\n",
       "    }\n",
       "\n",
       "    .dataframe tbody tr th {\n",
       "        vertical-align: top;\n",
       "    }\n",
       "</style>\n",
       "<table border=\"1\" class=\"dataframe\">\n",
       "  <thead>\n",
       "    <tr style=\"text-align: right;\">\n",
       "      <th></th>\n",
       "      <th>table_index</th>\n",
       "      <th>app_start_date</th>\n",
       "      <th>cancellation_date</th>\n",
       "      <th>placement_date</th>\n",
       "      <th>app_exit_date</th>\n",
       "    </tr>\n",
       "  </thead>\n",
       "  <tbody>\n",
       "    <tr>\n",
       "      <th>0</th>\n",
       "      <td>70870</td>\n",
       "      <td>2013-02-18</td>\n",
       "      <td>2015-03-26</td>\n",
       "      <td>NaT</td>\n",
       "      <td>2015-03-26</td>\n",
       "    </tr>\n",
       "    <tr>\n",
       "      <th>1</th>\n",
       "      <td>22642</td>\n",
       "      <td>2009-03-20</td>\n",
       "      <td>2011-11-29</td>\n",
       "      <td>NaT</td>\n",
       "      <td>2011-11-29</td>\n",
       "    </tr>\n",
       "    <tr>\n",
       "      <th>2</th>\n",
       "      <td>61038</td>\n",
       "      <td>2012-05-17</td>\n",
       "      <td>2013-01-29</td>\n",
       "      <td>NaT</td>\n",
       "      <td>2013-01-29</td>\n",
       "    </tr>\n",
       "    <tr>\n",
       "      <th>3</th>\n",
       "      <td>1941</td>\n",
       "      <td>2007-03-27</td>\n",
       "      <td>NaT</td>\n",
       "      <td>2007-10-15</td>\n",
       "      <td>2007-10-15</td>\n",
       "    </tr>\n",
       "    <tr>\n",
       "      <th>4</th>\n",
       "      <td>9206</td>\n",
       "      <td>2007-12-10</td>\n",
       "      <td>2008-02-01</td>\n",
       "      <td>NaT</td>\n",
       "      <td>2008-02-01</td>\n",
       "    </tr>\n",
       "  </tbody>\n",
       "</table>\n",
       "</div>"
      ],
      "text/plain": [
       "   table_index app_start_date cancellation_date placement_date app_exit_date\n",
       "0        70870     2013-02-18        2015-03-26            NaT    2015-03-26\n",
       "1        22642     2009-03-20        2011-11-29            NaT    2011-11-29\n",
       "2        61038     2012-05-17        2013-01-29            NaT    2013-01-29\n",
       "3         1941     2007-03-27               NaT     2007-10-15    2007-10-15\n",
       "4         9206     2007-12-10        2008-02-01            NaT    2008-02-01"
      ]
     },
     "execution_count": 17,
     "metadata": {},
     "output_type": "execute_result"
    }
   ],
   "source": [
    "apps_length.head()"
   ]
  },
  {
   "cell_type": "code",
   "execution_count": 18,
   "metadata": {},
   "outputs": [],
   "source": [
    "def difftime_in_months(timeA,timeB):\n",
    "    return (timeA-timeB)/np.timedelta64(1, 'M')\n",
    "\n",
    "apps_length['app_length'] = difftime_in_months(apps_length['app_exit_date'],apps_length['app_start_date'])"
   ]
  },
  {
   "cell_type": "code",
   "execution_count": 19,
   "metadata": {},
   "outputs": [
    {
     "data": {
      "text/html": [
       "<div>\n",
       "<style>\n",
       "    .dataframe thead tr:only-child th {\n",
       "        text-align: right;\n",
       "    }\n",
       "\n",
       "    .dataframe thead th {\n",
       "        text-align: left;\n",
       "    }\n",
       "\n",
       "    .dataframe tbody tr th {\n",
       "        vertical-align: top;\n",
       "    }\n",
       "</style>\n",
       "<table border=\"1\" class=\"dataframe\">\n",
       "  <thead>\n",
       "    <tr style=\"text-align: right;\">\n",
       "      <th></th>\n",
       "      <th>table_index</th>\n",
       "      <th>app_start_date</th>\n",
       "      <th>cancellation_date</th>\n",
       "      <th>placement_date</th>\n",
       "      <th>app_exit_date</th>\n",
       "      <th>app_length</th>\n",
       "    </tr>\n",
       "  </thead>\n",
       "  <tbody>\n",
       "    <tr>\n",
       "      <th>0</th>\n",
       "      <td>70870</td>\n",
       "      <td>2013-02-18</td>\n",
       "      <td>2015-03-26</td>\n",
       "      <td>NaT</td>\n",
       "      <td>2015-03-26</td>\n",
       "      <td>25.166841</td>\n",
       "    </tr>\n",
       "    <tr>\n",
       "      <th>1</th>\n",
       "      <td>22642</td>\n",
       "      <td>2009-03-20</td>\n",
       "      <td>2011-11-29</td>\n",
       "      <td>NaT</td>\n",
       "      <td>2011-11-29</td>\n",
       "      <td>32.329206</td>\n",
       "    </tr>\n",
       "    <tr>\n",
       "      <th>2</th>\n",
       "      <td>61038</td>\n",
       "      <td>2012-05-17</td>\n",
       "      <td>2013-01-29</td>\n",
       "      <td>NaT</td>\n",
       "      <td>2013-01-29</td>\n",
       "      <td>8.443705</td>\n",
       "    </tr>\n",
       "    <tr>\n",
       "      <th>3</th>\n",
       "      <td>1941</td>\n",
       "      <td>2007-03-27</td>\n",
       "      <td>NaT</td>\n",
       "      <td>2007-10-15</td>\n",
       "      <td>2007-10-15</td>\n",
       "      <td>6.636687</td>\n",
       "    </tr>\n",
       "    <tr>\n",
       "      <th>4</th>\n",
       "      <td>9206</td>\n",
       "      <td>2007-12-10</td>\n",
       "      <td>2008-02-01</td>\n",
       "      <td>NaT</td>\n",
       "      <td>2008-02-01</td>\n",
       "      <td>1.741309</td>\n",
       "    </tr>\n",
       "  </tbody>\n",
       "</table>\n",
       "</div>"
      ],
      "text/plain": [
       "   table_index app_start_date cancellation_date placement_date app_exit_date  \\\n",
       "0        70870     2013-02-18        2015-03-26            NaT    2015-03-26   \n",
       "1        22642     2009-03-20        2011-11-29            NaT    2011-11-29   \n",
       "2        61038     2012-05-17        2013-01-29            NaT    2013-01-29   \n",
       "3         1941     2007-03-27               NaT     2007-10-15    2007-10-15   \n",
       "4         9206     2007-12-10        2008-02-01            NaT    2008-02-01   \n",
       "\n",
       "   app_length  \n",
       "0   25.166841  \n",
       "1   32.329206  \n",
       "2    8.443705  \n",
       "3    6.636687  \n",
       "4    1.741309  "
      ]
     },
     "execution_count": 19,
     "metadata": {},
     "output_type": "execute_result"
    }
   ],
   "source": [
    "apps_length.head()"
   ]
  },
  {
   "cell_type": "markdown",
   "metadata": {},
   "source": [
    "# Overall Analysis"
   ]
  },
  {
   "cell_type": "code",
   "execution_count": 20,
   "metadata": {},
   "outputs": [
    {
     "data": {
      "text/plain": [
       "count    108801.000000\n",
       "mean         12.132478\n",
       "std          15.853318\n",
       "min          -0.021866\n",
       "25%           2.759810\n",
       "50%           5.881024\n",
       "75%          15.737489\n",
       "max         203.667426\n",
       "Name: app_length, dtype: float64"
      ]
     },
     "execution_count": 20,
     "metadata": {},
     "output_type": "execute_result"
    }
   ],
   "source": [
    "apps_length['app_length'].describe()"
   ]
  },
  {
   "cell_type": "code",
   "execution_count": 21,
   "metadata": {},
   "outputs": [
    {
     "data": {
      "text/plain": [
       "<matplotlib.axes._subplots.AxesSubplot at 0x7ff5a3b6d490>"
      ]
     },
     "execution_count": 21,
     "metadata": {},
     "output_type": "execute_result"
    },
    {
     "name": "stderr",
     "output_type": "stream",
     "text": [
      "/opt/anaconda/lib/python2.7/site-packages/matplotlib/font_manager.py:1297: UserWarning: findfont: Font family [u'sans-serif'] not found. Falling back to DejaVu Sans\n",
      "  (prop.get_family(), self.defaultFamily[fontext]))\n"
     ]
    },
    {
     "data": {
      "image/png": "[encoded data removed]",
      "text/plain": [
       "<matplotlib.figure.Figure at 0x7ff55e8f5f10>"
      ]
     },
     "metadata": {},
     "output_type": "display_data"
    }
   ],
   "source": [
    "sns.distplot(apps_length['app_length'])"
   ]
  },
  {
   "cell_type": "code",
   "execution_count": 34,
   "metadata": {},
   "outputs": [],
   "source": [
    "def get_app_length_bucket(apps):\n",
    "    if (apps['app_length'] <=14):\n",
    "        return int(apps['app_length'])\n",
    "    else:\n",
    "        return 15\n",
    "    \n",
    "apps_length['app_length_bucket'] = apps_length.apply(get_app_length_bucket, axis=1)\n",
    "    "
   ]
  },
  {
   "cell_type": "code",
   "execution_count": 35,
   "metadata": {},
   "outputs": [
    {
     "data": {
      "text/plain": [
       "count    108801.000000\n",
       "mean          7.207903\n",
       "std           5.685559\n",
       "min           0.000000\n",
       "25%           2.000000\n",
       "50%           5.000000\n",
       "75%          15.000000\n",
       "max          15.000000\n",
       "Name: app_length_bucket, dtype: float64"
      ]
     },
     "execution_count": 35,
     "metadata": {},
     "output_type": "execute_result"
    }
   ],
   "source": [
    "apps_length['app_length_bucket'].describe()"
   ]
  },
  {
   "cell_type": "code",
   "execution_count": 36,
   "metadata": {},
   "outputs": [
    {
     "data": {
      "text/plain": [
       "<matplotlib.axes._subplots.AxesSubplot at 0x7ff53caf91d0>"
      ]
     },
     "execution_count": 36,
     "metadata": {},
     "output_type": "execute_result"
    },
    {
     "data": {
      "image/png": "[encoded data removed]",
      "text/plain": [
       "<matplotlib.figure.Figure at 0x7ff55e2fcbd0>"
      ]
     },
     "metadata": {},
     "output_type": "display_data"
    }
   ],
   "source": [
    "sns.distplot(apps_length['app_length_bucket'])"
   ]
  },
  {
   "cell_type": "markdown",
   "metadata": {},
   "source": [
    "# Per Year Analysis"
   ]
  },
  {
   "cell_type": "code",
   "execution_count": 37,
   "metadata": {},
   "outputs": [
    {
     "data": {
      "text/html": [
       "<div>\n",
       "<style>\n",
       "    .dataframe thead tr:only-child th {\n",
       "        text-align: right;\n",
       "    }\n",
       "\n",
       "    .dataframe thead th {\n",
       "        text-align: left;\n",
       "    }\n",
       "\n",
       "    .dataframe tbody tr th {\n",
       "        vertical-align: top;\n",
       "    }\n",
       "</style>\n",
       "<table border=\"1\" class=\"dataframe\">\n",
       "  <thead>\n",
       "    <tr style=\"text-align: right;\">\n",
       "      <th></th>\n",
       "      <th>table_index</th>\n",
       "      <th>app_start_date</th>\n",
       "      <th>cancellation_date</th>\n",
       "      <th>placement_date</th>\n",
       "      <th>app_exit_date</th>\n",
       "      <th>app_length</th>\n",
       "      <th>app_length_bucket</th>\n",
       "      <th>year</th>\n",
       "    </tr>\n",
       "  </thead>\n",
       "  <tbody>\n",
       "    <tr>\n",
       "      <th>0</th>\n",
       "      <td>70870</td>\n",
       "      <td>2013-02-18</td>\n",
       "      <td>2015-03-26</td>\n",
       "      <td>NaT</td>\n",
       "      <td>2015-03-26</td>\n",
       "      <td>25.166841</td>\n",
       "      <td>15</td>\n",
       "      <td>2013</td>\n",
       "    </tr>\n",
       "    <tr>\n",
       "      <th>1</th>\n",
       "      <td>22642</td>\n",
       "      <td>2009-03-20</td>\n",
       "      <td>2011-11-29</td>\n",
       "      <td>NaT</td>\n",
       "      <td>2011-11-29</td>\n",
       "      <td>32.329206</td>\n",
       "      <td>15</td>\n",
       "      <td>2009</td>\n",
       "    </tr>\n",
       "    <tr>\n",
       "      <th>2</th>\n",
       "      <td>61038</td>\n",
       "      <td>2012-05-17</td>\n",
       "      <td>2013-01-29</td>\n",
       "      <td>NaT</td>\n",
       "      <td>2013-01-29</td>\n",
       "      <td>8.443705</td>\n",
       "      <td>8</td>\n",
       "      <td>2012</td>\n",
       "    </tr>\n",
       "    <tr>\n",
       "      <th>3</th>\n",
       "      <td>1941</td>\n",
       "      <td>2007-03-27</td>\n",
       "      <td>NaT</td>\n",
       "      <td>2007-10-15</td>\n",
       "      <td>2007-10-15</td>\n",
       "      <td>6.636687</td>\n",
       "      <td>6</td>\n",
       "      <td>2007</td>\n",
       "    </tr>\n",
       "    <tr>\n",
       "      <th>4</th>\n",
       "      <td>9206</td>\n",
       "      <td>2007-12-10</td>\n",
       "      <td>2008-02-01</td>\n",
       "      <td>NaT</td>\n",
       "      <td>2008-02-01</td>\n",
       "      <td>1.741309</td>\n",
       "      <td>1</td>\n",
       "      <td>2007</td>\n",
       "    </tr>\n",
       "  </tbody>\n",
       "</table>\n",
       "</div>"
      ],
      "text/plain": [
       "   table_index app_start_date cancellation_date placement_date app_exit_date  \\\n",
       "0        70870     2013-02-18        2015-03-26            NaT    2015-03-26   \n",
       "1        22642     2009-03-20        2011-11-29            NaT    2011-11-29   \n",
       "2        61038     2012-05-17        2013-01-29            NaT    2013-01-29   \n",
       "3         1941     2007-03-27               NaT     2007-10-15    2007-10-15   \n",
       "4         9206     2007-12-10        2008-02-01            NaT    2008-02-01   \n",
       "\n",
       "   app_length  app_length_bucket  year  \n",
       "0   25.166841                 15  2013  \n",
       "1   32.329206                 15  2009  \n",
       "2    8.443705                  8  2012  \n",
       "3    6.636687                  6  2007  \n",
       "4    1.741309                  1  2007  "
      ]
     },
     "execution_count": 37,
     "metadata": {},
     "output_type": "execute_result"
    }
   ],
   "source": [
    "apps_length['year'] = apps_length['app_start_date'].dt.year\n",
    "apps_length.head()"
   ]
  },
  {
   "cell_type": "code",
   "execution_count": 38,
   "metadata": {},
   "outputs": [
    {
     "data": {
      "image/png": "[encoded data removed]",
      "text/plain": [
       "<matplotlib.figure.Figure at 0x7ff53cc1d790>"
      ]
     },
     "metadata": {},
     "output_type": "display_data"
    },
    {
     "data": {
      "image/png": "[encoded data removed]",
      "text/plain": [
       "<matplotlib.figure.Figure at 0x7ff53cc05a50>"
      ]
     },
     "metadata": {},
     "output_type": "display_data"
    },
    {
     "data": {
      "image/png": "[encoded data removed]",
      "text/plain": [
       "<matplotlib.figure.Figure at 0x7ff544877b90>"
      ]
     },
     "metadata": {},
     "output_type": "display_data"
    },
    {
     "data": {
      "image/png": "[encoded data removed]",
      "text/plain": [
       "<matplotlib.figure.Figure at 0x7ff544823290>"
      ]
     },
     "metadata": {},
     "output_type": "display_data"
    },
    {
     "data": {
      "image/png": "[encoded data removed]",
      "text/plain": [
       "<matplotlib.figure.Figure at 0x7ff54452c5d0>"
      ]
     },
     "metadata": {},
     "output_type": "display_data"
    },
    {
     "data": {
      "image/png": "[encoded data removed]",
      "text/plain": [
       "<matplotlib.figure.Figure at 0x7ff544061bd0>"
      ]
     },
     "metadata": {},
     "output_type": "display_data"
    },
    {
     "data": {
      "image/png": "[encoded data removed]",
      "text/plain": [
       "<matplotlib.figure.Figure at 0x7ff5446c1610>"
      ]
     },
     "metadata": {},
     "output_type": "display_data"
    },
    {
     "data": {
      "image/png": "[encoded data removed]",
      "text/plain": [
       "<matplotlib.figure.Figure at 0x7ff5447259d0>"
      ]
     },
     "metadata": {},
     "output_type": "display_data"
    },
    {
     "data": {
      "image/png": "[encoded data removed]",
      "text/plain": [
       "<matplotlib.figure.Figure at 0x7ff53ce3ed90>"
      ]
     },
     "metadata": {},
     "output_type": "display_data"
    },
    {
     "data": {
      "image/png": "[encoded data removed]",
      "text/plain": [
       "<matplotlib.figure.Figure at 0x7ff53c847fd0>"
      ]
     },
     "metadata": {},
     "output_type": "display_data"
    }
   ],
   "source": [
    "for year in range(2007,2017):\n",
    "    year_data = apps_length[apps_length['year'] == year]\n",
    "    ax = plt.axes()\n",
    "    sns.distplot(year_data['app_length_bucket'], ax=ax)\n",
    "    ax.set_title(str(year))\n",
    "    plt.show()"
   ]
  }
 ],
 "metadata": {
  "kernelspec": {
   "display_name": "Python 2",
   "language": "python",
   "name": "python2"
  },
  "language_info": {
   "codemirror_mode": {
    "name": "ipython",
    "version": 2
   },
   "file_extension": ".py",
   "mimetype": "text/x-python",
   "name": "python",
   "nbconvert_exporter": "python",
   "pygments_lexer": "ipython2",
   "version": "2.7.13"
  }
 },
 "nbformat": 4,
 "nbformat_minor": 2
}
