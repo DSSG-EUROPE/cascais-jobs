{
 "cells": [
  {
   "cell_type": "code",
   "execution_count": 1,
   "metadata": {
    "collapsed": true
   },
   "outputs": [],
   "source": [
    "import pandas as pd\n",
    "import numpy as np\n",
    "import matplotlib.pyplot as plt\n",
    "import psycopg2 as pg\n",
    "%matplotlib inline\n",
    "import seaborn as sns\n",
    "from sqlalchemy import create_engine\n",
    "import dbcreds"
   ]
  },
  {
   "cell_type": "code",
   "execution_count": null,
   "metadata": {
    "collapsed": true
   },
   "outputs": [],
   "source": []
  },
  {
   "cell_type": "code",
   "execution_count": 2,
   "metadata": {},
   "outputs": [
    {
     "data": {
      "text/html": [
       "<div>\n",
       "<style>\n",
       "    .dataframe thead tr:only-child th {\n",
       "        text-align: right;\n",
       "    }\n",
       "\n",
       "    .dataframe thead th {\n",
       "        text-align: left;\n",
       "    }\n",
       "\n",
       "    .dataframe tbody tr th {\n",
       "        vertical-align: top;\n",
       "    }\n",
       "</style>\n",
       "<table border=\"1\" class=\"dataframe\">\n",
       "  <thead>\n",
       "    <tr style=\"text-align: right;\">\n",
       "      <th></th>\n",
       "      <th>ute_id</th>\n",
       "      <th>movement_date</th>\n",
       "      <th>year_month</th>\n",
       "      <th>application_id</th>\n",
       "      <th>movement_type</th>\n",
       "      <th>movement_subtype</th>\n",
       "      <th>movement_result</th>\n",
       "      <th>movement_index</th>\n",
       "    </tr>\n",
       "  </thead>\n",
       "  <tbody>\n",
       "    <tr>\n",
       "      <th>3</th>\n",
       "      <td>710</td>\n",
       "      <td>2016-12-06</td>\n",
       "      <td>201612</td>\n",
       "      <td>120674</td>\n",
       "      <td>application</td>\n",
       "      <td>DESEMPREGADO-NOVO EMPREGO</td>\n",
       "      <td></td>\n",
       "      <td>120674</td>\n",
       "    </tr>\n",
       "    <tr>\n",
       "      <th>4</th>\n",
       "      <td>710</td>\n",
       "      <td>NaT</td>\n",
       "      <td>201701</td>\n",
       "      <td>120674</td>\n",
       "      <td>convocation</td>\n",
       "      <td>INTERVENÃÃO TÃCNICA</td>\n",
       "      <td>COMPARECEU</td>\n",
       "      <td>248206</td>\n",
       "    </tr>\n",
       "    <tr>\n",
       "      <th>5</th>\n",
       "      <td>710</td>\n",
       "      <td>NaT</td>\n",
       "      <td>201702</td>\n",
       "      <td>120674</td>\n",
       "      <td>convocation</td>\n",
       "      <td>OFERTA</td>\n",
       "      <td>NÃO APRESENTADO</td>\n",
       "      <td>250261</td>\n",
       "    </tr>\n",
       "    <tr>\n",
       "      <th>6</th>\n",
       "      <td>710</td>\n",
       "      <td>NaT</td>\n",
       "      <td>201702</td>\n",
       "      <td>120674</td>\n",
       "      <td>convocation</td>\n",
       "      <td>OFERTA</td>\n",
       "      <td>ANULADA</td>\n",
       "      <td>250262</td>\n",
       "    </tr>\n",
       "    <tr>\n",
       "      <th>7</th>\n",
       "      <td>710</td>\n",
       "      <td>NaT</td>\n",
       "      <td>201704</td>\n",
       "      <td>120674</td>\n",
       "      <td>convocation</td>\n",
       "      <td>GERAL UTENTE</td>\n",
       "      <td>COMPARECEU</td>\n",
       "      <td>255060</td>\n",
       "    </tr>\n",
       "  </tbody>\n",
       "</table>\n",
       "</div>"
      ],
      "text/plain": [
       "   ute_id movement_date  year_month  application_id movement_type  \\\n",
       "3     710    2016-12-06      201612          120674   application   \n",
       "4     710           NaT      201701          120674   convocation   \n",
       "5     710           NaT      201702          120674   convocation   \n",
       "6     710           NaT      201702          120674   convocation   \n",
       "7     710           NaT      201704          120674   convocation   \n",
       "\n",
       "            movement_subtype   movement_result  movement_index  \n",
       "3  DESEMPREGADO-NOVO EMPREGO                            120674  \n",
       "4     INTERVENÃÃO TÃCNICA        COMPARECEU          248206  \n",
       "5                     OFERTA  NÃO APRESENTADO          250261  \n",
       "6                     OFERTA           ANULADA          250262  \n",
       "7               GERAL UTENTE        COMPARECEU          255060  "
      ]
     },
     "execution_count": 2,
     "metadata": {},
     "output_type": "execute_result"
    }
   ],
   "source": [
    "conn = create_engine('postgresql://'+dbcreds.user+':'+dbcreds.password+'@'+dbcreds.host+':5432/'+dbcreds.database)\n",
    "data = pd.read_sql_table(table_name='movement',con=conn,schema='cascais')\n",
    "data.head()\n",
    "#remove all applications id that does not start with an application\n",
    "data=data[(data['application_id']!=-1)]\n",
    "#convert the movement data to daytime variabl\n",
    "from datetime import datetime, timedelta\n",
    "data.loc[:,'movement_date']= data.loc[:,'movement_date'].apply(\n",
    "    lambda x: None if x=='' else datetime(year=int(x[0:4]),\n",
    "                       month=int(x[5:7]),\n",
    "                       day=int(x[8:10])))\n",
    "data.head()\n",
    "\n",
    "\n"
   ]
  },
  {
   "cell_type": "code",
   "execution_count": null,
   "metadata": {
    "collapsed": true,
    "scrolled": true
   },
   "outputs": [],
   "source": []
  },
  {
   "cell_type": "code",
   "execution_count": 3,
   "metadata": {
    "collapsed": true
   },
   "outputs": [],
   "source": [
    "#read in the application table and make a datime varialble instad of the string\n",
    "applications = pd.read_sql_table(table_name='application',con=conn,schema='cascais')\n",
    "#applications = applications.sort_values([\"ute_id\",\"anomes\"])\n",
    "from datetime import datetime, timedelta\n",
    "applications.loc[:,'date']= applications.loc[:,'candidatura_data'].apply(\n",
    "    lambda x: None if x=='' else datetime(year=int(x[0:4]),\n",
    "                       month=int(x[5:7]),\n",
    "                       day=int(x[8:10])))\n"
   ]
  },
  {
   "cell_type": "code",
   "execution_count": 4,
   "metadata": {},
   "outputs": [
    {
     "data": {
      "text/plain": [
       "<matplotlib.axes._subplots.AxesSubplot at 0x7f1e3ec17cd0>"
      ]
     },
     "execution_count": 4,
     "metadata": {},
     "output_type": "execute_result"
    },
    {
     "name": "stderr",
     "output_type": "stream",
     "text": [
      "/opt/anaconda/lib/python2.7/site-packages/matplotlib/font_manager.py:1297: UserWarning: findfont: Font family [u'sans-serif'] not found. Falling back to DejaVu Sans\n",
      "  (prop.get_family(), self.defaultFamily[fontext]))\n"
     ]
    },
    {
     "data": {
      "image/png": "[encoded data removed]",
      "text/plain": [
       "<matplotlib.figure.Figure at 0x7f1e57d09d50>"
      ]
     },
     "metadata": {},
     "output_type": "display_data"
    }
   ],
   "source": [
    "#Find how many applications where submitted each year\n",
    "applications[\"year\"]=applications[\"date\"].map(lambda x: x.year)\n",
    "applications=applications[(applications[\"date\"].dt.year>2006)]\n",
    "applications.year.value_counts(sort=False,ascending=True).plot(kind='bar')"
   ]
  },
  {
   "cell_type": "code",
   "execution_count": 5,
   "metadata": {},
   "outputs": [
    {
     "data": {
      "text/html": [
       "<div>\n",
       "<style>\n",
       "    .dataframe thead tr:only-child th {\n",
       "        text-align: right;\n",
       "    }\n",
       "\n",
       "    .dataframe thead th {\n",
       "        text-align: left;\n",
       "    }\n",
       "\n",
       "    .dataframe tbody tr th {\n",
       "        vertical-align: top;\n",
       "    }\n",
       "</style>\n",
       "<table border=\"1\" class=\"dataframe\">\n",
       "  <thead>\n",
       "    <tr style=\"text-align: right;\">\n",
       "      <th></th>\n",
       "      <th>ute_id_x</th>\n",
       "      <th>movement_date</th>\n",
       "      <th>year_month</th>\n",
       "      <th>application_id</th>\n",
       "      <th>movement_type</th>\n",
       "      <th>movement_subtype</th>\n",
       "      <th>movement_result</th>\n",
       "      <th>movement_index</th>\n",
       "      <th>table_index</th>\n",
       "      <th>anomes</th>\n",
       "      <th>...</th>\n",
       "      <th>conjuge_categoria</th>\n",
       "      <th>conjuge_estado</th>\n",
       "      <th>conjuge_motivo_indisponibilidade</th>\n",
       "      <th>candidatura_categoria_anterior</th>\n",
       "      <th>candidatura_estado_anterior</th>\n",
       "      <th>ute_nr_pessoas_cargo</th>\n",
       "      <th>ute_nr_descendentes_cargo</th>\n",
       "      <th>candidatura_data_ppe</th>\n",
       "      <th>date</th>\n",
       "      <th>year</th>\n",
       "    </tr>\n",
       "  </thead>\n",
       "  <tbody>\n",
       "    <tr>\n",
       "      <th>0</th>\n",
       "      <td>710</td>\n",
       "      <td>2016-12-06</td>\n",
       "      <td>201612</td>\n",
       "      <td>120674</td>\n",
       "      <td>application</td>\n",
       "      <td>DESEMPREGADO-NOVO EMPREGO</td>\n",
       "      <td></td>\n",
       "      <td>120674</td>\n",
       "      <td>120674</td>\n",
       "      <td>201612</td>\n",
       "      <td>...</td>\n",
       "      <td>None</td>\n",
       "      <td>None</td>\n",
       "      <td>None</td>\n",
       "      <td>2.0</td>\n",
       "      <td>PAS</td>\n",
       "      <td>2.0</td>\n",
       "      <td>2.0</td>\n",
       "      <td>2011-07-19 00:00:00</td>\n",
       "      <td>2016-12-06</td>\n",
       "      <td>2016</td>\n",
       "    </tr>\n",
       "    <tr>\n",
       "      <th>1</th>\n",
       "      <td>710</td>\n",
       "      <td>NaT</td>\n",
       "      <td>201701</td>\n",
       "      <td>120674</td>\n",
       "      <td>convocation</td>\n",
       "      <td>INTERVENÃÃO TÃCNICA</td>\n",
       "      <td>COMPARECEU</td>\n",
       "      <td>248206</td>\n",
       "      <td>120674</td>\n",
       "      <td>201612</td>\n",
       "      <td>...</td>\n",
       "      <td>None</td>\n",
       "      <td>None</td>\n",
       "      <td>None</td>\n",
       "      <td>2.0</td>\n",
       "      <td>PAS</td>\n",
       "      <td>2.0</td>\n",
       "      <td>2.0</td>\n",
       "      <td>2011-07-19 00:00:00</td>\n",
       "      <td>2016-12-06</td>\n",
       "      <td>2016</td>\n",
       "    </tr>\n",
       "    <tr>\n",
       "      <th>2</th>\n",
       "      <td>710</td>\n",
       "      <td>NaT</td>\n",
       "      <td>201702</td>\n",
       "      <td>120674</td>\n",
       "      <td>convocation</td>\n",
       "      <td>OFERTA</td>\n",
       "      <td>NÃO APRESENTADO</td>\n",
       "      <td>250261</td>\n",
       "      <td>120674</td>\n",
       "      <td>201612</td>\n",
       "      <td>...</td>\n",
       "      <td>None</td>\n",
       "      <td>None</td>\n",
       "      <td>None</td>\n",
       "      <td>2.0</td>\n",
       "      <td>PAS</td>\n",
       "      <td>2.0</td>\n",
       "      <td>2.0</td>\n",
       "      <td>2011-07-19 00:00:00</td>\n",
       "      <td>2016-12-06</td>\n",
       "      <td>2016</td>\n",
       "    </tr>\n",
       "    <tr>\n",
       "      <th>3</th>\n",
       "      <td>710</td>\n",
       "      <td>NaT</td>\n",
       "      <td>201702</td>\n",
       "      <td>120674</td>\n",
       "      <td>convocation</td>\n",
       "      <td>OFERTA</td>\n",
       "      <td>ANULADA</td>\n",
       "      <td>250262</td>\n",
       "      <td>120674</td>\n",
       "      <td>201612</td>\n",
       "      <td>...</td>\n",
       "      <td>None</td>\n",
       "      <td>None</td>\n",
       "      <td>None</td>\n",
       "      <td>2.0</td>\n",
       "      <td>PAS</td>\n",
       "      <td>2.0</td>\n",
       "      <td>2.0</td>\n",
       "      <td>2011-07-19 00:00:00</td>\n",
       "      <td>2016-12-06</td>\n",
       "      <td>2016</td>\n",
       "    </tr>\n",
       "    <tr>\n",
       "      <th>4</th>\n",
       "      <td>710</td>\n",
       "      <td>NaT</td>\n",
       "      <td>201704</td>\n",
       "      <td>120674</td>\n",
       "      <td>convocation</td>\n",
       "      <td>GERAL UTENTE</td>\n",
       "      <td>COMPARECEU</td>\n",
       "      <td>255060</td>\n",
       "      <td>120674</td>\n",
       "      <td>201612</td>\n",
       "      <td>...</td>\n",
       "      <td>None</td>\n",
       "      <td>None</td>\n",
       "      <td>None</td>\n",
       "      <td>2.0</td>\n",
       "      <td>PAS</td>\n",
       "      <td>2.0</td>\n",
       "      <td>2.0</td>\n",
       "      <td>2011-07-19 00:00:00</td>\n",
       "      <td>2016-12-06</td>\n",
       "      <td>2016</td>\n",
       "    </tr>\n",
       "  </tbody>\n",
       "</table>\n",
       "<p>5 rows × 71 columns</p>\n",
       "</div>"
      ],
      "text/plain": [
       "   ute_id_x movement_date  year_month  application_id movement_type  \\\n",
       "0       710    2016-12-06      201612          120674   application   \n",
       "1       710           NaT      201701          120674   convocation   \n",
       "2       710           NaT      201702          120674   convocation   \n",
       "3       710           NaT      201702          120674   convocation   \n",
       "4       710           NaT      201704          120674   convocation   \n",
       "\n",
       "            movement_subtype   movement_result  movement_index  table_index  \\\n",
       "0  DESEMPREGADO-NOVO EMPREGO                            120674       120674   \n",
       "1     INTERVENÃÃO TÃCNICA        COMPARECEU          248206       120674   \n",
       "2                     OFERTA  NÃO APRESENTADO          250261       120674   \n",
       "3                     OFERTA           ANULADA          250262       120674   \n",
       "4               GERAL UTENTE        COMPARECEU          255060       120674   \n",
       "\n",
       "   anomes  ...   conjuge_categoria conjuge_estado  \\\n",
       "0  201612  ...                None           None   \n",
       "1  201612  ...                None           None   \n",
       "2  201612  ...                None           None   \n",
       "3  201612  ...                None           None   \n",
       "4  201612  ...                None           None   \n",
       "\n",
       "   conjuge_motivo_indisponibilidade candidatura_categoria_anterior  \\\n",
       "0                              None                            2.0   \n",
       "1                              None                            2.0   \n",
       "2                              None                            2.0   \n",
       "3                              None                            2.0   \n",
       "4                              None                            2.0   \n",
       "\n",
       "  candidatura_estado_anterior ute_nr_pessoas_cargo  ute_nr_descendentes_cargo  \\\n",
       "0                         PAS                  2.0                        2.0   \n",
       "1                         PAS                  2.0                        2.0   \n",
       "2                         PAS                  2.0                        2.0   \n",
       "3                         PAS                  2.0                        2.0   \n",
       "4                         PAS                  2.0                        2.0   \n",
       "\n",
       "  candidatura_data_ppe       date  year  \n",
       "0  2011-07-19 00:00:00 2016-12-06  2016  \n",
       "1  2011-07-19 00:00:00 2016-12-06  2016  \n",
       "2  2011-07-19 00:00:00 2016-12-06  2016  \n",
       "3  2011-07-19 00:00:00 2016-12-06  2016  \n",
       "4  2011-07-19 00:00:00 2016-12-06  2016  \n",
       "\n",
       "[5 rows x 71 columns]"
      ]
     },
     "execution_count": 5,
     "metadata": {},
     "output_type": "execute_result"
    }
   ],
   "source": [
    "#join the movement table to get the data from the application file togheter with the \n",
    "jointTable = pd.merge(data,applications, how='inner', left_on = 'application_id', right_on='table_index')\n",
    "jointTable.head()"
   ]
  },
  {
   "cell_type": "code",
   "execution_count": 6,
   "metadata": {
    "scrolled": true
   },
   "outputs": [
    {
     "name": "stderr",
     "output_type": "stream",
     "text": [
      "/opt/anaconda/lib/python2.7/site-packages/ipykernel_launcher.py:3: SettingWithCopyWarning: \n",
      "A value is trying to be set on a copy of a slice from a DataFrame.\n",
      "Try using .loc[row_indexer,col_indexer] = value instead\n",
      "\n",
      "See the caveats in the documentation: http://pandas.pydata.org/pandas-docs/stable/indexing.html#indexing-view-versus-copy\n",
      "  This is separate from the ipykernel package so we can avoid doing imports until\n"
     ]
    },
    {
     "data": {
      "text/plain": [
       "<matplotlib.axes._subplots.AxesSubplot at 0x7f1e5567e950>"
      ]
     },
     "execution_count": 6,
     "metadata": {},
     "output_type": "execute_result"
    },
    {
     "data": {
      "image/png": "[encoded data removed]",
      "text/plain": [
       "<matplotlib.figure.Figure at 0x7f1e5577bcd0>"
      ]
     },
     "metadata": {},
     "output_type": "display_data"
    }
   ],
   "source": [
    "newTable=jointTable[[\"ute_id_x\",\"application_id\",\"movement_type\",\"movement_subtype\",\"movement_result\",\"movement_date\",\"date\"]]\n",
    "newTableJob=newTable[(newTable[\"movement_type\"]==\"cancellation\")]\n",
    "newTableJob[\"timeFromApplication\"]=newTableJob[\"movement_date\"]-newTable[\"date\"]\n",
    "newTableJob=newTableJob.dropna()\n",
    "newTableJob=newTableJob[newTableJob[\"movement_subtype\"].str.contains(\"OUTREM\")]\n",
    "newTableJob[\"timeFromApplication\"]=(newTableJob[\"timeFromApplication\"]/np.timedelta64(1, 'D')).astype(int)\n",
    "newTableJob[\"timeFromApplication\"]= newTableJob[\"timeFromApplication\"]/12.0\n",
    "newTableJob[\"timeFromApplication\"].dropna().hist(bins=20,range=[-0.5,48.5])\n",
    "#newTable.head(100)"
   ]
  },
  {
   "cell_type": "code",
   "execution_count": 8,
   "metadata": {},
   "outputs": [
    {
     "data": {
      "text/plain": [
       "<matplotlib.axes._subplots.AxesSubplot at 0x7f1e2bf2afd0>"
      ]
     },
     "execution_count": 8,
     "metadata": {},
     "output_type": "execute_result"
    },
    {
     "data": {
      "image/png": "[encoded data removed]",
      "text/plain": [
       "<matplotlib.figure.Figure at 0x7f1e2c00bb10>"
      ]
     },
     "metadata": {},
     "output_type": "display_data"
    }
   ],
   "source": [
    "#here we find the time between application and getting a job given that they had intervention of type long term training\n",
    "#make a smaller table\n",
    "newTable=jointTable[[\"ute_id_x\",\"application_id\",\"movement_type\",\"movement_subtype\",\"movement_result\",\"movement_date\",\"date\"]]\n",
    "#find the applications ids that include the long term intervention\n",
    "find_id=newTable[(newTable[\"movement_type\"]==\"intervention\")&(newTable[\"movement_subtype\"].str.contains(\"MODULAR\"))][\"application_id\"].values\n",
    "newTable=newTable[newTable['application_id'].isin(find_id)]\n",
    "#find the cancellations that in this data. \n",
    "newTable=newTable[newTable[\"movement_type\"]==\"cancellation\"]\n",
    "#find time between cancellation and application\n",
    "newTable[\"timeFromApplication\"]=newTable[\"movement_date\"]-newTable[\"date\"]\n",
    "newTable=newTable.dropna()\n",
    "newTable=newTable[newTable[\"movement_subtype\"].str.contains(\"OUTREM\")]\n",
    "newTable[\"timeFromApplication\"]=(newTable[\"timeFromApplication\"]/np.timedelta64(1, 'D')).astype(int)\n",
    "newTable[\"timeFromApplication\"].dropna().hist(bins=20,range=[-0.5,1500.5])\n"
   ]
  },
  {
   "cell_type": "code",
   "execution_count": 9,
   "metadata": {
    "scrolled": true
   },
   "outputs": [
    {
     "data": {
      "text/html": [
       "<div>\n",
       "<style>\n",
       "    .dataframe thead tr:only-child th {\n",
       "        text-align: right;\n",
       "    }\n",
       "\n",
       "    .dataframe thead th {\n",
       "        text-align: left;\n",
       "    }\n",
       "\n",
       "    .dataframe tbody tr th {\n",
       "        vertical-align: top;\n",
       "    }\n",
       "</style>\n",
       "<table border=\"1\" class=\"dataframe\">\n",
       "  <thead>\n",
       "    <tr style=\"text-align: right;\">\n",
       "      <th></th>\n",
       "      <th>ute_id_x</th>\n",
       "      <th>application_id</th>\n",
       "      <th>movement_type</th>\n",
       "      <th>movement_subtype</th>\n",
       "      <th>movement_result</th>\n",
       "      <th>movement_date</th>\n",
       "      <th>date</th>\n",
       "      <th>timeFromApplication</th>\n",
       "    </tr>\n",
       "  </thead>\n",
       "  <tbody>\n",
       "  </tbody>\n",
       "</table>\n",
       "</div>"
      ],
      "text/plain": [
       "Empty DataFrame\n",
       "Columns: [ute_id_x, application_id, movement_type, movement_subtype, movement_result, movement_date, date, timeFromApplication]\n",
       "Index: []"
      ]
     },
     "execution_count": 9,
     "metadata": {},
     "output_type": "execute_result"
    }
   ],
   "source": [
    "\n"
   ]
  },
  {
   "cell_type": "code",
   "execution_count": 33,
   "metadata": {},
   "outputs": [
    {
     "name": "stderr",
     "output_type": "stream",
     "text": [
      "/opt/anaconda/lib/python2.7/site-packages/ipykernel_launcher.py:9: FutureWarning: 'candidatura_rinsc' is both a column name and an index level.\n",
      "Defaulting to column but this will raise an ambiguity error in a future version\n",
      "  if __name__ == '__main__':\n"
     ]
    },
    {
     "data": {
      "text/plain": [
       "candidatura_rinsc  candidatura_rinsc\n",
       "1                  1                    36585\n",
       "2                  2                      267\n",
       "3                  3                        6\n",
       "Name: candidatura_rinsc, dtype: int64"
      ]
     },
     "execution_count": 33,
     "metadata": {},
     "output_type": "execute_result"
    },
    {
     "data": {
      "image/png": "[encoded data removed]",
      "text/plain": [
       "<matplotlib.figure.Figure at 0x7f1e2bd7d4d0>"
      ]
     },
     "metadata": {},
     "output_type": "display_data"
    }
   ],
   "source": [
    "#her we check if one applicants has multiple applications that is not a reapplication\n",
    "applications.columns\n",
    "test=applications[[\"ute_id\",\"candidatura_rinsc\"]]\n",
    "test=test[(test[\"candidatura_rinsc\"]==\"N\")]\n",
    "test.groupby(\"ute_id\").ute_id.value_counts()\n",
    "newFrame=test.groupby(\"ute_id\").candidatura_rinsc.value_counts().hist(bins=3, range=[0.5,3.5])\n",
    "#newFrame.describe()\n",
    "newFrame=test.groupby(\"ute_id\").candidatura_rinsc.value_counts().to_frame()\n",
    "newFrame.groupby(\"candidatura_rinsc\").candidatura_rinsc.value_counts()"
   ]
  }
 ],
 "metadata": {
  "kernelspec": {
   "display_name": "Python 2",
   "language": "python",
   "name": "python2"
  },
  "language_info": {
   "codemirror_mode": {
    "name": "ipython",
    "version": 2
   },
   "file_extension": ".py",
   "mimetype": "text/x-python",
   "name": "python",
   "nbconvert_exporter": "python",
   "pygments_lexer": "ipython2",
   "version": "2.7.13"
  }
 },
 "nbformat": 4,
 "nbformat_minor": 2
}
