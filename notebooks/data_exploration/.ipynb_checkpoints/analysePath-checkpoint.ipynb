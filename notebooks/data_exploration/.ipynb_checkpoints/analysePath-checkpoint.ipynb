{
 "cells": [
  {
   "cell_type": "code",
   "execution_count": 7,
   "metadata": {
    "collapsed": true
   },
   "outputs": [],
   "source": [
    "import numpy as np\n",
    "import pandas as pd\n",
    "import psycopg2 as pg\n",
    "import matplotlib.pyplot as plt\n",
    "%matplotlib inline"
   ]
  },
  {
   "cell_type": "code",
   "execution_count": 8,
   "metadata": {
    "collapsed": true
   },
   "outputs": [],
   "source": [
    "def print_histograms (df):\n",
    "    for x in df.columns:\n",
    "        plt.figure()\n",
    "        #print df.groupby(x).count()\n",
    "        getattr(df,x).value_counts(dropna=False).plot(kind='bar', title=x)"
   ]
  },
  {
   "cell_type": "code",
   "execution_count": null,
   "metadata": {
    "collapsed": true
   },
   "outputs": [],
   "source": []
  },
  {
   "cell_type": "code",
   "execution_count": 9,
   "metadata": {},
   "outputs": [],
   "source": [
    "import csv\n",
    "data=pd.read_csv('/mnt/data/shared/workingData/iefp_events_data2.csv')\n",
    "#data.head(100)\n",
    "#data.shape\n",
    "#remove_data=data[data[\"Date\"]<=201012]\n",
    "#remove all application ids that does not start with an application\n",
    "remove_id=data.groupby(\"application_id\").first().event_type!=\"application\"\n",
    "data=data[~data['application_id'].isin(remove_id)]\n",
    "\n",
    "interesting_types=[\"application\",\"convocation\",\"interviews\"]\n",
    "data=data[data.event_type.isin(interesting_types)]#[\"event_type\"](\"application\" \"convocation\")]\n",
    "remove_data=data[(data[\"event_type\"]==\"convocation\")& (data[\"event_category\"]!=\"OFERTA\")]\n",
    "data=data[~data.isin(remove_data)]\n",
    "data=data[pd.notnull(data['ute_id'])]\n",
    "data=data[2000:2050]\n",
    "#print data\n",
    "#print data[[\"date\",\"application_id\",\"event_type\"]]\n",
    "\n",
    "\n",
    "\n",
    "\n",
    "#data.groupby(\"application_id\")[\"event_type\"].abs()\n",
    "\n",
    "\n",
    "\n",
    "#data[\"application_id\"].value_counts()\n",
    "#data=data[data[\"application_id\"]==29548.0] \n",
    "#data.head(100)\n",
    "\n",
    "\n",
    "\n",
    "##weather[(weather['value_type'] == \"RAIN\") & (weather['value'] > 300)]\n",
    "\n",
    "\n",
    "##and \"convocation\" and \"interviews\")]# or data[\"event_type\"]==\"interviews\"]\n",
    "#data.head(100)\n",
    "\n",
    "#remove_id=remove_data.ute_id.unique()\n",
    "#elected_data=data[~data['ute_id'].isin(remove_id)]\n",
    "#selected_data.head()\n",
    "#first_user_event=selected_data.groupby(\"ute_id\").first().event_type\n",
    "#frame=first_user_event.to_frame()\n",
    "#frame.shape\n",
    "#print_histograms(frame)\n",
    "#frame.groupby(\"event_type\").count()"
   ]
  },
  {
   "cell_type": "code",
   "execution_count": 21,
   "metadata": {},
   "outputs": [
    {
     "data": {
      "text/html": [
       "<div>\n",
       "<style>\n",
       "    .dataframe thead tr:only-child th {\n",
       "        text-align: right;\n",
       "    }\n",
       "\n",
       "    .dataframe thead th {\n",
       "        text-align: left;\n",
       "    }\n",
       "\n",
       "    .dataframe tbody tr th {\n",
       "        vertical-align: top;\n",
       "    }\n",
       "</style>\n",
       "<table border=\"1\" class=\"dataframe\">\n",
       "  <thead>\n",
       "    <tr style=\"text-align: right;\">\n",
       "      <th></th>\n",
       "      <th>ute_id</th>\n",
       "      <th>Date</th>\n",
       "      <th>index</th>\n",
       "    </tr>\n",
       "    <tr>\n",
       "      <th>event_type</th>\n",
       "      <th></th>\n",
       "      <th></th>\n",
       "      <th></th>\n",
       "    </tr>\n",
       "  </thead>\n",
       "  <tbody>\n",
       "    <tr>\n",
       "      <th>application</th>\n",
       "      <td>133024</td>\n",
       "      <td>133024</td>\n",
       "      <td>133024</td>\n",
       "    </tr>\n",
       "    <tr>\n",
       "      <th>cancellation</th>\n",
       "      <td>112514</td>\n",
       "      <td>112514</td>\n",
       "      <td>112514</td>\n",
       "    </tr>\n",
       "    <tr>\n",
       "      <th>category_change</th>\n",
       "      <td>115101</td>\n",
       "      <td>115101</td>\n",
       "      <td>115101</td>\n",
       "    </tr>\n",
       "    <tr>\n",
       "      <th>convocation</th>\n",
       "      <td>250225</td>\n",
       "      <td>250225</td>\n",
       "      <td>250225</td>\n",
       "    </tr>\n",
       "    <tr>\n",
       "      <th>interviews</th>\n",
       "      <td>125966</td>\n",
       "      <td>125966</td>\n",
       "      <td>125966</td>\n",
       "    </tr>\n",
       "  </tbody>\n",
       "</table>\n",
       "</div>"
      ],
      "text/plain": [
       "                 ute_id    Date   index\n",
       "event_type                             \n",
       "application      133024  133024  133024\n",
       "cancellation     112514  112514  112514\n",
       "category_change  115101  115101  115101\n",
       "convocation      250225  250225  250225\n",
       "interviews       125966  125966  125966"
      ]
     },
     "execution_count": 21,
     "metadata": {},
     "output_type": "execute_result"
    }
   ],
   "source": [
    "#Find all rows with the that contains an application\n",
    "hasApplication=data[data[\"event_type\"]==\"application\"]\n",
    "#Find all unique user id that has an aplication\n",
    "id_with_application=hasApplication.ute_id.unique()\n",
    "#select only rows that has a user id that is also found in an application\n",
    "selected_data=data[data['ute_id'].isin(id_with_application)]\n",
    "#see how many of the different event types we have now. \n",
    "selected_data.groupby(\"event_type\").count()\n"
   ]
  }
 ],
 "metadata": {
  "kernelspec": {
   "display_name": "Python 2",
   "language": "python",
   "name": "python2"
  },
  "language_info": {
   "codemirror_mode": {
    "name": "ipython",
    "version": 2
   },
   "file_extension": ".py",
   "mimetype": "text/x-python",
   "name": "python",
   "nbconvert_exporter": "python",
   "pygments_lexer": "ipython2",
   "version": "2.7.13"
  }
 },
 "nbformat": 4,
 "nbformat_minor": 2
}
