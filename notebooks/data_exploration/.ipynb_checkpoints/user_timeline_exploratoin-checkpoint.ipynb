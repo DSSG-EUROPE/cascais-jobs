{
 "cells": [
  {
   "cell_type": "markdown",
   "metadata": {},
   "source": [
    "# Data set-up and cleaning"
   ]
  },
  {
   "cell_type": "code",
   "execution_count": 1,
   "metadata": {
    "collapsed": true
   },
   "outputs": [],
   "source": [
    "import pandas as pd\n",
    "import numpy as np\n",
    "from pandas import Series, DataFrame\n",
    "import matplotlib.pyplot as plt\n",
    "import psycopg2 as pg\n",
    "%matplotlib inline\n",
    "import seaborn as sns\n",
    "import dbcreds"
   ]
  },
  {
   "cell_type": "code",
   "execution_count": 2,
   "metadata": {
    "collapsed": true
   },
   "outputs": [],
   "source": [
    "conn = pg.connect(dbname = dbcreds.database, host=dbcreds.host, user=dbcreds.user, password = dbcreds.password)"
   ]
  },
  {
   "cell_type": "code",
   "execution_count": 3,
   "metadata": {
    "collapsed": true
   },
   "outputs": [],
   "source": [
    "class color:\n",
    "   PURPLE = '\\033[95m'\n",
    "   CYAN = '\\033[96m'\n",
    "   DARKCYAN = '\\033[36m'\n",
    "   BLUE = '\\033[94m'\n",
    "   GREEN = '\\033[92m'\n",
    "   YELLOW = '\\033[93m'\n",
    "   RED = '\\033[91m'\n",
    "   BOLD = '\\033[1m'\n",
    "   UNDERLINE = '\\033[4m'\n",
    "   END = '\\033[0m'"
   ]
  },
  {
   "cell_type": "code",
   "execution_count": 4,
   "metadata": {
    "collapsed": true
   },
   "outputs": [],
   "source": [
    "events_df = pd.read_sql('select * from cascais.movements', con=conn)"
   ]
  },
  {
   "cell_type": "code",
   "execution_count": 5,
   "metadata": {},
   "outputs": [
    {
     "name": "stdout",
     "output_type": "stream",
     "text": [
      "870061\n",
      "140714\n",
      "74791\n"
     ]
    }
   ],
   "source": [
    "#print overall counts for dataset - ORIGINAL dataset\n",
    "print len(events_df)\n",
    "print events_df.application_id.nunique()\n",
    "print events_df.ute_id.nunique()"
   ]
  },
  {
   "cell_type": "code",
   "execution_count": 6,
   "metadata": {
    "collapsed": true
   },
   "outputs": [],
   "source": [
    "# identify first event for each app ID\n",
    "first_events = events_df.groupby(\"application_id\").first().movement_type\n",
    "\n",
    "# identify list of app IDs that do not start with application\n",
    "apps_to_remove=[]\n",
    "for app_id in range(1,len(first_events)+1):\n",
    "    if first_events[app_id] != \"application\":\n",
    "        apps_to_remove.append(app_id)\n",
    "        \n",
    "#remove all application ids that does not start with an application\n",
    "events_df = events_df[~events_df['application_id'].isin(apps_to_remove)]"
   ]
  },
  {
   "cell_type": "code",
   "execution_count": 7,
   "metadata": {},
   "outputs": [
    {
     "name": "stdout",
     "output_type": "stream",
     "text": [
      "808166\n",
      "125029\n",
      "65523\n"
     ]
    }
   ],
   "source": [
    "#print overall counts for dataset - REMOVE sets not starting with application\n",
    "print len(events_df)\n",
    "print events_df.application_id.nunique()\n",
    "print events_df.ute_id.nunique()"
   ]
  },
  {
   "cell_type": "code",
   "execution_count": 8,
   "metadata": {
    "collapsed": true
   },
   "outputs": [],
   "source": [
    "# Identify application IDs that are associated with applications submitted after\n",
    "# April 2015 - to allow for 2 years of follow-up data\n",
    "late_apps = []\n",
    "for i, row in events_df.iterrows():\n",
    "    if row['movement_type']=='application' and row['date']>201604:\n",
    "        late_apps.append(row['application_id'])"
   ]
  },
  {
   "cell_type": "code",
   "execution_count": 9,
   "metadata": {
    "collapsed": true
   },
   "outputs": [],
   "source": [
    "#remove late application IDs\n",
    "events_df = events_df[~events_df['application_id'].isin(late_apps)]\n"
   ]
  },
  {
   "cell_type": "code",
   "execution_count": 10,
   "metadata": {},
   "outputs": [
    {
     "name": "stdout",
     "output_type": "stream",
     "text": [
      "765659\n",
      "113249\n",
      "61403\n"
     ]
    }
   ],
   "source": [
    "#print overall counts for dataset - REMOVE starting w/o app, & apps w/o\n",
    "# 2 years of follow-up\n",
    "print len(events_df)\n",
    "print events_df.application_id.nunique()\n",
    "print events_df.ute_id.nunique()"
   ]
  },
  {
   "cell_type": "code",
   "execution_count": 11,
   "metadata": {
    "collapsed": true
   },
   "outputs": [],
   "source": [
    "# create datetime objects\n",
    "from datetime import datetime, timedelta\n",
    "events_df.loc[:,'datetime']= events_df.loc[:,'date'].apply(\n",
    "    lambda x: datetime(year=int(str(x)[0:4]), month=int(str(x)[4:6]), day=1))\n",
    "\n",
    "# add time since application\n",
    "application_dates_series = events_df.groupby('application_id').first().datetime\n",
    "events_df.loc[:, 'application_date'] = events_df.loc[:, 'application_id'].apply(lambda x: application_dates_series[x])\n",
    "events_df.loc[:, 'time_since_app'] = events_df.loc[:, 'datetime']-events_df.loc[:,'application_date']"
   ]
  },
  {
   "cell_type": "code",
   "execution_count": 12,
   "metadata": {
    "collapsed": true
   },
   "outputs": [],
   "source": [
    "# identify exits from system \n",
    "positive_cancellations = ['COLOCAÃÃO POR MEIOS PRÃPRIOS, POR CONTA DE OUTREM',\n",
    "                         'COLOCAÃÃO POR MEIOS PRÃPRIOS, POR CONTA PRÃPRIA',\n",
    "                         'COLOCAÃÃO - CANDIDATURA EXTERNA'\n",
    "                         'COLOCAÃÃO - CANDIDATURA INTERNA']\n",
    "is_exit_list=[]\n",
    "def is_exit(df):\n",
    "    for index in df.index:\n",
    "        if df['movement_result'][index] =='ADMITIDO / COLOCADO' or df['movement_subtype'][index] in positive_cancellations: #df['movement_type'][index] == 'cancellation':\n",
    "            is_exit_list.append('yes')\n",
    "        else:\n",
    "            is_exit_list.append('no')\n",
    "    df.loc[:,'is_exit']=is_exit_list\n",
    "    \n",
    "is_exit(events_df)"
   ]
  },
  {
   "cell_type": "code",
   "execution_count": 13,
   "metadata": {},
   "outputs": [
    {
     "name": "stdout",
     "output_type": "stream",
     "text": [
      "\u001b[1mNumber of unique applications\u001b[0m\n",
      "113249\n",
      "\u001b[1m\n",
      "Number of unique users\u001b[0m\n",
      "61403\n",
      "\u001b[1m\n",
      "Total number of placements through an interview\u001b[0m\n",
      "6776\n"
     ]
    }
   ],
   "source": [
    "#print overall counts\n",
    "print color.BOLD+'Number of unique applications'+color.END\n",
    "print events_df.application_id.nunique()\n",
    "\n",
    "print color.BOLD+'\\nNumber of unique users'+color.END\n",
    "print events_df.ute_id.nunique()\n",
    "\n",
    "print color.BOLD+'\\nTotal number of placements through an interview'+color.END\n",
    "print len(events_df[events_df['movement_result']=='ADMITIDO / COLOCADO'])"
   ]
  },
  {
   "cell_type": "code",
   "execution_count": null,
   "metadata": {},
   "outputs": [],
   "source": [
    "# count how many supposed positive exits end up with a non-application as a next event\n",
    "def next_event(df, step):\n",
    "    df = df.reset_index(drop=True)\n",
    "    next_event_list = []\n",
    "    for index in range(len(df)-1):\n",
    "        if df.loc[index+step, 'ute_id'] != df.loc[index, 'ute_id']:\n",
    "            next_event_list.append('new_user')\n",
    "        elif df.loc[index+step,'datetime'] == df.loc[index, 'datetime']:\n",
    "            step+=1\n",
    "            next_event(df, step)\n",
    "            #next_event_list.append('same_month')\n",
    "        else:\n",
    "            next_event_list.append(events_df.loc[index+1, 'movement_type'])\n",
    "    df['next_movement_type']=pd.Series(next_event_list)\n",
    "\n",
    "#events_df[events_df['is_exit']=='yes'].groupby('next_movement_type').ute_id.count()"
   ]
  },
  {
   "cell_type": "code",
   "execution_count": null,
   "metadata": {
    "collapsed": true
   },
   "outputs": [],
   "source": [
    "next_event(events_df)"
   ]
  },
  {
   "cell_type": "code",
   "execution_count": 15,
   "metadata": {
    "collapsed": true
   },
   "outputs": [],
   "source": [
    "# remove applications that had \"phantom\" movements after a positive exit\n",
    "phantom_movements = ['cancellation', 'category_change', 'convocation', 'interventions', 'interviews']\n",
    "apps_phantom = []\n",
    "positive_exits = events_df[events_df['is_exit']=='yes'].reset_index(drop=True)\n",
    "\n",
    "for index in range(len(positive_exits)-1):\n",
    "    if positive_exits.loc[index, 'next_movement_type'] in phantom_movements:\n",
    "        apps_phantom.append(positive_exits.loc[index,'application_id'])"
   ]
  },
  {
   "cell_type": "code",
   "execution_count": 16,
   "metadata": {
    "collapsed": true
   },
   "outputs": [],
   "source": [
    "events_df = events_df[~events_df['application_id'].isin(apps_phantom)]"
   ]
  },
  {
   "cell_type": "code",
   "execution_count": 17,
   "metadata": {},
   "outputs": [
    {
     "name": "stdout",
     "output_type": "stream",
     "text": [
      "753130\n",
      "111510\n",
      "61102\n"
     ]
    }
   ],
   "source": [
    "#print overall counts for dataset - REMOVE starting w/o app, & apps w/o\n",
    "# 2 years of follow-up, & apps w/ \"phantom\" movements\n",
    "print len(events_df)\n",
    "print events_df.application_id.nunique()\n",
    "print events_df.ute_id.nunique()"
   ]
  },
  {
   "cell_type": "markdown",
   "metadata": {},
   "source": [
    "# Data exploration / validation"
   ]
  },
  {
   "cell_type": "code",
   "execution_count": 18,
   "metadata": {
    "collapsed": true
   },
   "outputs": [],
   "source": [
    "# show applications that had multiple admitido / colocado placements through IEFP\n",
    "#events_df[events_df['movement_result']=='ADMITIDO / COLOCADO'].groupby(\n",
    "#    'application_id').application_id.count().sort_values(ascending=False)"
   ]
  },
  {
   "cell_type": "code",
   "execution_count": 19,
   "metadata": {
    "collapsed": true
   },
   "outputs": [],
   "source": [
    "# show example timeline of a user who had multiple placements from one application\n",
    "# events_df[events_df['application_id']==39862]"
   ]
  },
  {
   "cell_type": "code",
   "execution_count": 20,
   "metadata": {
    "collapsed": true
   },
   "outputs": [],
   "source": [
    "# show types of cancellations\n",
    "#events_df[events_df['movement_type']=='cancellation'].groupby(\n",
    "#    'movement_subtype').application_id.count().sort_values(ascending=False)"
   ]
  },
  {
   "cell_type": "markdown",
   "metadata": {},
   "source": [
    "# Finding values for classification flowchart"
   ]
  },
  {
   "cell_type": "code",
   "execution_count": 21,
   "metadata": {},
   "outputs": [
    {
     "data": {
      "text/html": [
       "<div>\n",
       "<style>\n",
       "    .dataframe thead tr:only-child th {\n",
       "        text-align: right;\n",
       "    }\n",
       "\n",
       "    .dataframe thead th {\n",
       "        text-align: left;\n",
       "    }\n",
       "\n",
       "    .dataframe tbody tr th {\n",
       "        vertical-align: top;\n",
       "    }\n",
       "</style>\n",
       "<table border=\"1\" class=\"dataframe\">\n",
       "  <thead>\n",
       "    <tr style=\"text-align: right;\">\n",
       "      <th></th>\n",
       "      <th>ute_id</th>\n",
       "      <th>date</th>\n",
       "      <th>application_id</th>\n",
       "      <th>movement_type</th>\n",
       "      <th>movement_subtype</th>\n",
       "      <th>movement_result</th>\n",
       "      <th>movement_index</th>\n",
       "      <th>datetime</th>\n",
       "      <th>application_date</th>\n",
       "      <th>time_since_app</th>\n",
       "      <th>is_exit</th>\n",
       "      <th>next_movement_type</th>\n",
       "      <th>job_path</th>\n",
       "    </tr>\n",
       "  </thead>\n",
       "  <tbody>\n",
       "    <tr>\n",
       "      <th>0</th>\n",
       "      <td>818</td>\n",
       "      <td>201302</td>\n",
       "      <td>3</td>\n",
       "      <td>application</td>\n",
       "      <td>DESEMPREGADO-NOVO EMPREGO</td>\n",
       "      <td></td>\n",
       "      <td>70865</td>\n",
       "      <td>2013-02-01</td>\n",
       "      <td>2013-02-01</td>\n",
       "      <td>0 days</td>\n",
       "      <td>no</td>\n",
       "      <td>convocation</td>\n",
       "      <td>NaN</td>\n",
       "    </tr>\n",
       "    <tr>\n",
       "      <th>1</th>\n",
       "      <td>818</td>\n",
       "      <td>201304</td>\n",
       "      <td>3</td>\n",
       "      <td>convocation</td>\n",
       "      <td>OFERTA</td>\n",
       "      <td>APRESENTADO</td>\n",
       "      <td>119828</td>\n",
       "      <td>2013-04-01</td>\n",
       "      <td>2013-02-01</td>\n",
       "      <td>59 days</td>\n",
       "      <td>no</td>\n",
       "      <td>interviews</td>\n",
       "      <td>NaN</td>\n",
       "    </tr>\n",
       "    <tr>\n",
       "      <th>2</th>\n",
       "      <td>818</td>\n",
       "      <td>201305</td>\n",
       "      <td>3</td>\n",
       "      <td>interviews</td>\n",
       "      <td></td>\n",
       "      <td>RECUSA DA ENTIDADE EMPREGADORA - NÃO MARCAÃÃ...</td>\n",
       "      <td>85298</td>\n",
       "      <td>2013-05-01</td>\n",
       "      <td>2013-02-01</td>\n",
       "      <td>89 days</td>\n",
       "      <td>no</td>\n",
       "      <td>convocation</td>\n",
       "      <td>NaN</td>\n",
       "    </tr>\n",
       "    <tr>\n",
       "      <th>3</th>\n",
       "      <td>818</td>\n",
       "      <td>201306</td>\n",
       "      <td>3</td>\n",
       "      <td>convocation</td>\n",
       "      <td>OFERTA</td>\n",
       "      <td>NÃO APRESENTADO</td>\n",
       "      <td>125724</td>\n",
       "      <td>2013-06-01</td>\n",
       "      <td>2013-02-01</td>\n",
       "      <td>120 days</td>\n",
       "      <td>no</td>\n",
       "      <td>convocation</td>\n",
       "      <td>NaN</td>\n",
       "    </tr>\n",
       "    <tr>\n",
       "      <th>4</th>\n",
       "      <td>818</td>\n",
       "      <td>201403</td>\n",
       "      <td>3</td>\n",
       "      <td>convocation</td>\n",
       "      <td>OFERTA</td>\n",
       "      <td>NÃO COMPARECEU INJUSTIFICADAMENTE</td>\n",
       "      <td>147876</td>\n",
       "      <td>2014-03-01</td>\n",
       "      <td>2013-02-01</td>\n",
       "      <td>393 days</td>\n",
       "      <td>no</td>\n",
       "      <td>convocation</td>\n",
       "      <td>NaN</td>\n",
       "    </tr>\n",
       "  </tbody>\n",
       "</table>\n",
       "</div>"
      ],
      "text/plain": [
       "   ute_id    date  application_id movement_type           movement_subtype  \\\n",
       "0     818  201302               3   application  DESEMPREGADO-NOVO EMPREGO   \n",
       "1     818  201304               3   convocation                     OFERTA   \n",
       "2     818  201305               3    interviews                              \n",
       "3     818  201306               3   convocation                     OFERTA   \n",
       "4     818  201403               3   convocation                     OFERTA   \n",
       "\n",
       "                                     movement_result  movement_index  \\\n",
       "0                                                              70865   \n",
       "1                                        APRESENTADO          119828   \n",
       "2  RECUSA DA ENTIDADE EMPREGADORA - NÃO MARCAÃÃ...           85298   \n",
       "3                                   NÃO APRESENTADO          125724   \n",
       "4                 NÃO COMPARECEU INJUSTIFICADAMENTE          147876   \n",
       "\n",
       "    datetime application_date time_since_app is_exit next_movement_type  \\\n",
       "0 2013-02-01       2013-02-01         0 days      no        convocation   \n",
       "1 2013-04-01       2013-02-01        59 days      no         interviews   \n",
       "2 2013-05-01       2013-02-01        89 days      no        convocation   \n",
       "3 2013-06-01       2013-02-01       120 days      no        convocation   \n",
       "4 2014-03-01       2013-02-01       393 days      no        convocation   \n",
       "\n",
       "  job_path  \n",
       "0      NaN  \n",
       "1      NaN  \n",
       "2      NaN  \n",
       "3      NaN  \n",
       "4      NaN  "
      ]
     },
     "execution_count": 21,
     "metadata": {},
     "output_type": "execute_result"
    }
   ],
   "source": [
    "# add columns about job found\n",
    "\n",
    "job_path_list=[]\n",
    "def job_placement_path(df):\n",
    "    for index in df.index:\n",
    "        if df['movement_result'][index] =='ADMITIDO / COLOCADO':\n",
    "            job_path_list.append('through_IEFP')\n",
    "        elif df['movement_subtype'][index] in positive_cancellations:\n",
    "            job_path_list.append('outside')\n",
    "        else:\n",
    "            job_path_list.append(np.nan)\n",
    "    df.loc[:,'job_path']=job_path_list\n",
    "    return df.head()\n",
    "\n",
    "job_placement_path(events_df)"
   ]
  },
  {
   "cell_type": "code",
   "execution_count": 22,
   "metadata": {},
   "outputs": [
    {
     "name": "stdout",
     "output_type": "stream",
     "text": [
      "\u001b[1mUnique applications that found a job ever\u001b[0m\n",
      "job_path\n",
      "outside         20634\n",
      "through_IEFP     6058\n",
      "Name: application_id, dtype: int64\n",
      "\u001b[1m\n",
      "Unique users that found a job ever\u001b[0m\n",
      "job_path\n",
      "outside         15406\n",
      "through_IEFP     5386\n",
      "Name: ute_id, dtype: int64\n"
     ]
    }
   ],
   "source": [
    "# unique applications that found a job\n",
    "print color.BOLD+'Unique applications that found a job ever'+color.END\n",
    "print events_df.groupby('job_path').application_id.nunique()\n",
    "\n",
    "print color.BOLD+'\\nUnique users that found a job ever'+color.END\n",
    "print events_df.groupby('job_path').ute_id.nunique()"
   ]
  },
  {
   "cell_type": "code",
   "execution_count": 23,
   "metadata": {
    "scrolled": false
   },
   "outputs": [
    {
     "name": "stdout",
     "output_type": "stream",
     "text": [
      "\u001b[1mUnique applications that found a job within 12 months\u001b[0m\n",
      "job_path\n",
      "outside         16746\n",
      "through_IEFP     4664\n",
      "Name: application_id, dtype: int64\n",
      "\u001b[1m\n",
      "Unique users that found a job within 12 months\u001b[0m\n",
      "job_path\n",
      "outside         12489\n",
      "through_IEFP     4126\n",
      "Name: ute_id, dtype: int64\n"
     ]
    }
   ],
   "source": [
    "#found a job within 12 months\n",
    "events_within_year = events_df[events_df['time_since_app']<=timedelta(days=365)]\n",
    "\n",
    "print color.BOLD+'Unique applications that found a job within 12 months'+color.END\n",
    "print events_within_year.groupby('job_path').application_id.nunique()\n",
    "\n",
    "print color.BOLD+'\\nUnique users that found a job within 12 months'+color.END\n",
    "print events_within_year.groupby('job_path').ute_id.nunique()"
   ]
  },
  {
   "cell_type": "code",
   "execution_count": 24,
   "metadata": {
    "collapsed": true
   },
   "outputs": [],
   "source": [
    "# add time until next event, if not a user change & not the same month\n",
    "events_df = events_df.reset_index(drop=True)\n",
    "\n",
    "time_until_next_list = []\n",
    "for index in range(len(events_df)-1):\n",
    "    if events_df.loc[index+1, 'ute_id'] != events_df.loc[index, 'ute_id']:\n",
    "        time_until_next_list.append(np.nan)\n",
    "    elif events_df.loc[index+1, 'datetime'] == events_df.loc[index, 'datetime']:\n",
    "        time_until_next_list.append(np.nan)\n",
    "    else:\n",
    "        time_until_next_list.append(events_df.loc[index+1, 'datetime'] - events_df.loc[index,'datetime'])\n",
    "    \n",
    "events_df['time_until_next']=pd.Series(time_until_next_list)"
   ]
  },
  {
   "cell_type": "code",
   "execution_count": 25,
   "metadata": {
    "scrolled": false
   },
   "outputs": [
    {
     "name": "stderr",
     "output_type": "stream",
     "text": [
      "/opt/anaconda/lib/python2.7/site-packages/pandas/core/indexing.py:337: SettingWithCopyWarning: \n",
      "A value is trying to be set on a copy of a slice from a DataFrame.\n",
      "Try using .loc[row_indexer,col_indexer] = value instead\n",
      "\n",
      "See the caveats in the documentation: http://pandas.pydata.org/pandas-docs/stable/indexing.html#indexing-view-versus-copy\n",
      "  self.obj[key] = _infer_fill_value(value)\n",
      "/opt/anaconda/lib/python2.7/site-packages/pandas/core/indexing.py:517: SettingWithCopyWarning: \n",
      "A value is trying to be set on a copy of a slice from a DataFrame.\n",
      "Try using .loc[row_indexer,col_indexer] = value instead\n",
      "\n",
      "See the caveats in the documentation: http://pandas.pydata.org/pandas-docs/stable/indexing.html#indexing-view-versus-copy\n",
      "  self.obj[item] = s\n"
     ]
    }
   ],
   "source": [
    "#found a job within 12 months & didn't return in 12 months\n",
    "found_job_df = events_df[events_df.loc[:,'job_path'].notnull()]\n",
    "found_job_df.loc[:,'found_within_year'] = events_df.loc[:,'time_since_app'].apply(lambda x: x<=timedelta(days=365))\n",
    "found_job_df.loc[:,'next_within_year'] = events_df.loc[:,'time_until_next'].apply(lambda x: x<=timedelta(days=365))\n",
    "\n",
    "#remove intermediary exits\n",
    "app_ids = []\n",
    "exit_count = []\n",
    "for index in found_job_df.index:\n",
    "    app_id = found_job_df.loc[index,'application_id']\n",
    "    app_ids.append(app_id)\n",
    "    exit_count.append(app_ids.count(app_id))\n",
    "found_job_df.loc[:,'exit_number']=exit_count"
   ]
  },
  {
   "cell_type": "code",
   "execution_count": 26,
   "metadata": {},
   "outputs": [
    {
     "data": {
      "text/html": [
       "<div>\n",
       "<style>\n",
       "    .dataframe thead tr:only-child th {\n",
       "        text-align: right;\n",
       "    }\n",
       "\n",
       "    .dataframe thead th {\n",
       "        text-align: left;\n",
       "    }\n",
       "\n",
       "    .dataframe tbody tr th {\n",
       "        vertical-align: top;\n",
       "    }\n",
       "</style>\n",
       "<table border=\"1\" class=\"dataframe\">\n",
       "  <thead>\n",
       "    <tr style=\"text-align: right;\">\n",
       "      <th></th>\n",
       "      <th>ute_id</th>\n",
       "      <th>date</th>\n",
       "      <th>application_id</th>\n",
       "      <th>movement_type</th>\n",
       "      <th>movement_subtype</th>\n",
       "      <th>movement_result</th>\n",
       "      <th>movement_index</th>\n",
       "      <th>datetime</th>\n",
       "      <th>application_date</th>\n",
       "      <th>time_since_app</th>\n",
       "      <th>is_exit</th>\n",
       "      <th>next_movement_type</th>\n",
       "      <th>job_path</th>\n",
       "      <th>time_until_next</th>\n",
       "    </tr>\n",
       "  </thead>\n",
       "  <tbody>\n",
       "    <tr>\n",
       "      <th>11174</th>\n",
       "      <td>273106</td>\n",
       "      <td>201507</td>\n",
       "      <td>1897</td>\n",
       "      <td>application</td>\n",
       "      <td>DESEMPREGADO-NOVO EMPREGO</td>\n",
       "      <td></td>\n",
       "      <td>102552</td>\n",
       "      <td>2015-07-01</td>\n",
       "      <td>2015-07-01</td>\n",
       "      <td>0 days</td>\n",
       "      <td>no</td>\n",
       "      <td>same_month</td>\n",
       "      <td>NaN</td>\n",
       "      <td>NaT</td>\n",
       "    </tr>\n",
       "    <tr>\n",
       "      <th>11175</th>\n",
       "      <td>273106</td>\n",
       "      <td>201507</td>\n",
       "      <td>1897</td>\n",
       "      <td>cancellation</td>\n",
       "      <td>COLOCAÃÃO POR MEIOS PRÃPRIOS, POR CONTA DE ...</td>\n",
       "      <td></td>\n",
       "      <td>92320</td>\n",
       "      <td>2015-07-01</td>\n",
       "      <td>2015-07-01</td>\n",
       "      <td>0 days</td>\n",
       "      <td>yes</td>\n",
       "      <td>same_month</td>\n",
       "      <td>outside</td>\n",
       "      <td>NaT</td>\n",
       "    </tr>\n",
       "    <tr>\n",
       "      <th>11176</th>\n",
       "      <td>273106</td>\n",
       "      <td>201507</td>\n",
       "      <td>1897</td>\n",
       "      <td>category_change</td>\n",
       "      <td>OCUPADO</td>\n",
       "      <td></td>\n",
       "      <td>90430</td>\n",
       "      <td>2015-07-01</td>\n",
       "      <td>2015-07-01</td>\n",
       "      <td>0 days</td>\n",
       "      <td>no</td>\n",
       "      <td>same_month</td>\n",
       "      <td>NaN</td>\n",
       "      <td>NaT</td>\n",
       "    </tr>\n",
       "    <tr>\n",
       "      <th>11177</th>\n",
       "      <td>273106</td>\n",
       "      <td>201507</td>\n",
       "      <td>1897</td>\n",
       "      <td>category_change</td>\n",
       "      <td>DESEMPREGADO-NOVO EMPREGO</td>\n",
       "      <td></td>\n",
       "      <td>90431</td>\n",
       "      <td>2015-07-01</td>\n",
       "      <td>2015-07-01</td>\n",
       "      <td>0 days</td>\n",
       "      <td>no</td>\n",
       "      <td>same_month</td>\n",
       "      <td>NaN</td>\n",
       "      <td>NaT</td>\n",
       "    </tr>\n",
       "    <tr>\n",
       "      <th>11178</th>\n",
       "      <td>273106</td>\n",
       "      <td>201507</td>\n",
       "      <td>1897</td>\n",
       "      <td>convocation</td>\n",
       "      <td>GERAL UTENTE</td>\n",
       "      <td>ANULADA</td>\n",
       "      <td>200461</td>\n",
       "      <td>2015-07-01</td>\n",
       "      <td>2015-07-01</td>\n",
       "      <td>0 days</td>\n",
       "      <td>no</td>\n",
       "      <td>same_month</td>\n",
       "      <td>NaN</td>\n",
       "      <td>NaT</td>\n",
       "    </tr>\n",
       "    <tr>\n",
       "      <th>11179</th>\n",
       "      <td>273106</td>\n",
       "      <td>201507</td>\n",
       "      <td>1897</td>\n",
       "      <td>interventions</td>\n",
       "      <td>FORMAÃÃO - VIDA ATIVA</td>\n",
       "      <td></td>\n",
       "      <td>107767</td>\n",
       "      <td>2015-07-01</td>\n",
       "      <td>2015-07-01</td>\n",
       "      <td>0 days</td>\n",
       "      <td>no</td>\n",
       "      <td>same_month</td>\n",
       "      <td>NaN</td>\n",
       "      <td>NaT</td>\n",
       "    </tr>\n",
       "    <tr>\n",
       "      <th>11180</th>\n",
       "      <td>273106</td>\n",
       "      <td>201507</td>\n",
       "      <td>1897</td>\n",
       "      <td>interventions</td>\n",
       "      <td>EFA - N2 - FORMAÃÃO PROFISSIONAL</td>\n",
       "      <td></td>\n",
       "      <td>107768</td>\n",
       "      <td>2015-07-01</td>\n",
       "      <td>2015-07-01</td>\n",
       "      <td>0 days</td>\n",
       "      <td>no</td>\n",
       "      <td>cancellation</td>\n",
       "      <td>NaN</td>\n",
       "      <td>123 days</td>\n",
       "    </tr>\n",
       "    <tr>\n",
       "      <th>11181</th>\n",
       "      <td>273106</td>\n",
       "      <td>201511</td>\n",
       "      <td>1897</td>\n",
       "      <td>cancellation</td>\n",
       "      <td>COLOCAÃÃO POR MEIOS PRÃPRIOS, POR CONTA DE ...</td>\n",
       "      <td></td>\n",
       "      <td>96453</td>\n",
       "      <td>2015-11-01</td>\n",
       "      <td>2015-07-01</td>\n",
       "      <td>123 days</td>\n",
       "      <td>yes</td>\n",
       "      <td>application</td>\n",
       "      <td>outside</td>\n",
       "      <td>92 days</td>\n",
       "    </tr>\n",
       "  </tbody>\n",
       "</table>\n",
       "</div>"
      ],
      "text/plain": [
       "       ute_id    date  application_id    movement_type  \\\n",
       "11174  273106  201507            1897      application   \n",
       "11175  273106  201507            1897     cancellation   \n",
       "11176  273106  201507            1897  category_change   \n",
       "11177  273106  201507            1897  category_change   \n",
       "11178  273106  201507            1897      convocation   \n",
       "11179  273106  201507            1897    interventions   \n",
       "11180  273106  201507            1897    interventions   \n",
       "11181  273106  201511            1897     cancellation   \n",
       "\n",
       "                                        movement_subtype movement_result  \\\n",
       "11174                          DESEMPREGADO-NOVO EMPREGO                   \n",
       "11175  COLOCAÃÃO POR MEIOS PRÃPRIOS, POR CONTA DE ...                   \n",
       "11176                                            OCUPADO                   \n",
       "11177                          DESEMPREGADO-NOVO EMPREGO                   \n",
       "11178                                       GERAL UTENTE         ANULADA   \n",
       "11179                            FORMAÃÃO - VIDA ATIVA                   \n",
       "11180                 EFA - N2 - FORMAÃÃO PROFISSIONAL                   \n",
       "11181  COLOCAÃÃO POR MEIOS PRÃPRIOS, POR CONTA DE ...                   \n",
       "\n",
       "       movement_index   datetime application_date time_since_app is_exit  \\\n",
       "11174          102552 2015-07-01       2015-07-01         0 days      no   \n",
       "11175           92320 2015-07-01       2015-07-01         0 days     yes   \n",
       "11176           90430 2015-07-01       2015-07-01         0 days      no   \n",
       "11177           90431 2015-07-01       2015-07-01         0 days      no   \n",
       "11178          200461 2015-07-01       2015-07-01         0 days      no   \n",
       "11179          107767 2015-07-01       2015-07-01         0 days      no   \n",
       "11180          107768 2015-07-01       2015-07-01         0 days      no   \n",
       "11181           96453 2015-11-01       2015-07-01       123 days     yes   \n",
       "\n",
       "      next_movement_type job_path time_until_next  \n",
       "11174         same_month      NaN             NaT  \n",
       "11175         same_month  outside             NaT  \n",
       "11176         same_month      NaN             NaT  \n",
       "11177         same_month      NaN             NaT  \n",
       "11178         same_month      NaN             NaT  \n",
       "11179         same_month      NaN             NaT  \n",
       "11180       cancellation      NaN        123 days  \n",
       "11181        application  outside         92 days  "
      ]
     },
     "execution_count": 26,
     "metadata": {},
     "output_type": "execute_result"
    }
   ],
   "source": [
    "# show example timelines of users that appear both in and out of next within year\n",
    "#events_df[events_df['application_id']==465]\n",
    "#events_df[events_df['ute_id']==131234]\n",
    "events_df[events_df['application_id']==1897]\n",
    "#found_job_within_year[found_job_within_year['application_id']==1897]"
   ]
  },
  {
   "cell_type": "code",
   "execution_count": 27,
   "metadata": {},
   "outputs": [
    {
     "ename": "NameError",
     "evalue": "name 'found_job_within_year' is not defined",
     "output_type": "error",
     "traceback": [
      "\u001b[0;31m---------------------------------------------------------------------------\u001b[0m",
      "\u001b[0;31mNameError\u001b[0m                                 Traceback (most recent call last)",
      "\u001b[0;32m<ipython-input-27-46e366962f95>\u001b[0m in \u001b[0;36m<module>\u001b[0;34m()\u001b[0m\n\u001b[0;32m----> 1\u001b[0;31m \u001b[0mfound_job_within_year\u001b[0m\u001b[0;34m[\u001b[0m\u001b[0mfound_job_within_year\u001b[0m\u001b[0;34m[\u001b[0m\u001b[0;34m'application_id'\u001b[0m\u001b[0;34m]\u001b[0m\u001b[0;34m==\u001b[0m\u001b[0;36m1897\u001b[0m\u001b[0;34m]\u001b[0m\u001b[0;34m\u001b[0m\u001b[0m\n\u001b[0m",
      "\u001b[0;31mNameError\u001b[0m: name 'found_job_within_year' is not defined"
     ]
    }
   ],
   "source": [
    "found_job_within_year[found_job_within_year['application_id']==1897]"
   ]
  },
  {
   "cell_type": "code",
   "execution_count": null,
   "metadata": {},
   "outputs": [],
   "source": [
    "# find ute_ids that appear both in and out of next within year\n",
    "\n",
    "found_job_within_year = found_job_df[found_job_df['found_within_year']==True]\n",
    "app_relapse = found_job_within_year[found_job_within_year['next_within_year']==True].application_id.unique()\n",
    "app_perm = found_job_within_year[found_job_within_year['next_within_year']==False].application_id.unique()\n",
    "print len(app_relapse)\n",
    "print len(app_perm)\n",
    "app_intersect = set(app_relapse).intersection(app_perm)\n",
    "app_intersect"
   ]
  },
  {
   "cell_type": "code",
   "execution_count": null,
   "metadata": {},
   "outputs": [],
   "source": [
    "print color.BOLD+'Unique applications that found a job within 12 months and did not return in 12 months'+color.END\n",
    "print found_job_df.groupby(['found_within_year','job_path','next_within_year']).application_id.nunique()\n",
    "print color.BOLD+'\\nUnique users that found a job within 12 months and did not return in 12 months'+color.END\n",
    "print found_job_df.groupby(['found_within_year','job_path','next_within_year']).ute_id.nunique()"
   ]
  },
  {
   "cell_type": "code",
   "execution_count": null,
   "metadata": {},
   "outputs": [],
   "source": [
    "found_job_df.head(100)"
   ]
  },
  {
   "cell_type": "code",
   "execution_count": null,
   "metadata": {
    "collapsed": true
   },
   "outputs": [],
   "source": []
  },
  {
   "cell_type": "code",
   "execution_count": null,
   "metadata": {
    "collapsed": true
   },
   "outputs": [],
   "source": []
  }
 ],
 "metadata": {
  "kernelspec": {
   "display_name": "Python 2",
   "language": "python",
   "name": "python2"
  },
  "language_info": {
   "codemirror_mode": {
    "name": "ipython",
    "version": 2
   },
   "file_extension": ".py",
   "mimetype": "text/x-python",
   "name": "python",
   "nbconvert_exporter": "python",
   "pygments_lexer": "ipython2",
   "version": "2.7.13"
  }
 },
 "nbformat": 4,
 "nbformat_minor": 2
}
