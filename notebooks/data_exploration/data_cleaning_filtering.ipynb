{
 "cells": [
  {
   "cell_type": "code",
   "execution_count": 1,
   "metadata": {
    "collapsed": true
   },
   "outputs": [],
   "source": [
    "import pandas as pd\n",
    "import numpy as np\n",
    "from pandas import Series, DataFrame\n",
    "import matplotlib.pyplot as plt\n",
    "import psycopg2 as pg\n",
    "%matplotlib inline\n",
    "import seaborn as sns\n",
    "from sqlalchemy import create_engine\n",
    "from datetime import datetime#, timedelta\n",
    "from utils import db_utils\n",
    "from utils import iefp_data_utils"
   ]
  },
  {
   "cell_type": "code",
   "execution_count": 2,
   "metadata": {
    "collapsed": true
   },
   "outputs": [],
   "source": [
    "#Connect to database\n",
    "conn = db_utils.connect_to_db()"
   ]
  },
  {
   "cell_type": "code",
   "execution_count": 3,
   "metadata": {
    "collapsed": true
   },
   "outputs": [],
   "source": [
    "#Read movements data from database as a dataframe\n",
    "movements = db_utils.read_table(conn,'cascais_v2','movement')"
   ]
  },
  {
   "cell_type": "code",
   "execution_count": 4,
   "metadata": {
    "collapsed": true
   },
   "outputs": [],
   "source": [
    "#Read Application Data\n",
    "applications = db_utils.read_table(conn,'cascais_v2','application')"
   ]
  },
  {
   "cell_type": "code",
   "execution_count": 5,
   "metadata": {},
   "outputs": [
    {
     "name": "stdout",
     "output_type": "stream",
     "text": [
      "Initial Data:\n",
      "Movements:  (1244698, 7)\n",
      "Applications:  (125029, 61)\n",
      "Users:  (65523,)\n"
     ]
    }
   ],
   "source": [
    "#Initial Data\n",
    "print \"Initial Data:\"\n",
    "print \"Movements: \", movements.shape\n",
    "print \"Applications: \", applications.shape\n",
    "print \"Users: \", applications.ute_id.unique().shape"
   ]
  },
  {
   "cell_type": "code",
   "execution_count": 12,
   "metadata": {},
   "outputs": [
    {
     "name": "stdout",
     "output_type": "stream",
     "text": [
      "Applications which started after 04-30-2015 (leaving 2 years of follow up):  24378 ( 0.194978764927 %)\n",
      "Applications of people who are (part-time)employed:  5103 ( 0.0408145310288 %)\n"
     ]
    }
   ],
   "source": [
    "#Applications data filtering\n",
    "applications['app_start_date'] = pd.to_datetime(applications['candidatura_data'])\n",
    "apps_within_date_limit = applications[(applications['app_start_date'] < '1980-01-01') | (applications['app_start_date'] > '2015-04-30')]\n",
    "print \"Applications which started after 04-30-2015 (leaving 2 years of follow up): \", apps_within_date_limit.shape[0], \"(\", apps_within_date_limit.shape[0]/float(applications.shape[0]), \"%)\"\n",
    "\n",
    "apps_from_employed = applications[applications['dcategoria'].isin(['EMPREGADO', 'EMPREGADO A TEMPO PARCIAL'])] \n",
    "print \"Applications of people who are (part-time)employed: \", apps_from_employed.shape[0], \"(\", apps_from_employed.shape[0]/float(applications.shape[0]), \"%)\""
   ]
  },
  {
   "cell_type": "code",
   "execution_count": 13,
   "metadata": {},
   "outputs": [
    {
     "name": "stdout",
     "output_type": "stream",
     "text": [
      "Clean applications left:  96388 ( 0.770925145366 %)\n",
      "Number of unique users:  55375 ( 0.84512308655 %)\n"
     ]
    }
   ],
   "source": [
    "clean_apps = iefp_data_utils.clean_applications(applications,'1980-01-01','2015-04-30')\n",
    "\n",
    "print \"Clean applications left: \", clean_apps.shape[0], \"(\", clean_apps.shape[0]/float(applications.shape[0]), \"%)\"\n",
    "print \"Number of unique users: \", clean_apps.ute_id.unique().shape[0], \"(\", clean_apps.ute_id.unique().shape[0]/float(applications.ute_id.unique().shape[0]), \"%)\""
   ]
  },
  {
   "cell_type": "code",
   "execution_count": 14,
   "metadata": {},
   "outputs": [
    {
     "name": "stdout",
     "output_type": "stream",
     "text": [
      "Movements which do not have a preceding application:  99421 ( 0.0798756003464 %)\n"
     ]
    }
   ],
   "source": [
    "#Movements data filtering\n",
    "movements['date'] = pd.to_datetime(movements['movement_event_date'])\n",
    "movs_no_preceding_app = movements[movements['application_id'] == -1] #Removing movements that don't start with an application\n",
    "print \"Movements which do not have a preceding application: \", movs_no_preceding_app.shape[0], \"(\", movs_no_preceding_app.shape[0]/float(movements.shape[0]), \"%)\""
   ]
  },
  {
   "cell_type": "code",
   "execution_count": 16,
   "metadata": {},
   "outputs": [
    {
     "name": "stdout",
     "output_type": "stream",
     "text": [
      "Clean movements left:  934232 ( 0.75056921438 %)\n"
     ]
    }
   ],
   "source": [
    "clean_movs = iefp_data_utils.clean_movements(movements, '1980-01-01','2017-04-30',clean_apps['table_index'])\n",
    "print \"Clean movements left: \", clean_movs.shape[0], \"(\", clean_movs.shape[0]/float(movements.shape[0]), \"%)\""
   ]
  },
  {
   "cell_type": "code",
   "execution_count": 17,
   "metadata": {},
   "outputs": [
    {
     "name": "stdout",
     "output_type": "stream",
     "text": [
      "Clean movements left:  934232 ( 0.75056921438 %)\n"
     ]
    }
   ],
   "source": [
    "#Removing \"clean\" movements which do not match clean applications\n",
    "clean_data = pd.merge(clean_movs,clean_apps,how='inner', left_on = 'application_id', right_on='table_index')\n",
    "print \"Clean movements left: \", clean_data.shape[0], \"(\", clean_data.shape[0]/float(movements.shape[0]), \"%)\""
   ]
  },
  {
   "cell_type": "code",
   "execution_count": 18,
   "metadata": {},
   "outputs": [
    {
     "name": "stdout",
     "output_type": "stream",
     "text": [
      "Clean movements left:  934244 ( 0.750578855273 %)\n"
     ]
    }
   ],
   "source": [
    "#Removing movements which do not match clean applications\n",
    "clean_data2 = pd.merge(movements,clean_apps,how='inner', left_on = 'application_id', right_on='table_index')\n",
    "print \"Clean movements left: \", clean_data2.shape[0], \"(\", clean_data2.shape[0]/float(movements.shape[0]), \"%)\""
   ]
  },
  {
   "cell_type": "code",
   "execution_count": null,
   "metadata": {
    "collapsed": true
   },
   "outputs": [],
   "source": []
  }
 ],
 "metadata": {
  "kernelspec": {
   "display_name": "Python 2",
   "language": "python",
   "name": "python2"
  },
  "language_info": {
   "codemirror_mode": {
    "name": "ipython",
    "version": 2
   },
   "file_extension": ".py",
   "mimetype": "text/x-python",
   "name": "python",
   "nbconvert_exporter": "python",
   "pygments_lexer": "ipython2",
   "version": "2.7.13"
  }
 },
 "nbformat": 4,
 "nbformat_minor": 2
}
