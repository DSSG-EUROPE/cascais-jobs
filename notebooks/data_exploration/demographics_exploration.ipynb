{
 "cells": [
  {
   "cell_type": "markdown",
   "metadata": {},
   "source": [
    "# Data set-up and cleaning"
   ]
  },
  {
   "cell_type": "code",
   "execution_count": 1,
   "metadata": {
    "collapsed": true
   },
   "outputs": [],
   "source": [
    "import pandas as pd\n",
    "import numpy as np\n",
    "from pandas import Series, DataFrame\n",
    "import matplotlib.pyplot as plt\n",
    "import psycopg2 as pg\n",
    "%matplotlib inline\n",
    "import seaborn as sns\n",
    "import dbcreds"
   ]
  },
  {
   "cell_type": "code",
   "execution_count": 2,
   "metadata": {
    "collapsed": true
   },
   "outputs": [],
   "source": [
    "conn = pg.connect(dbname = dbcreds.database, host=dbcreds.host, user=dbcreds.user, password = dbcreds.password)"
   ]
  },
  {
   "cell_type": "code",
   "execution_count": 3,
   "metadata": {
    "collapsed": true
   },
   "outputs": [],
   "source": [
    "class color:\n",
    "   PURPLE = '\\033[95m'\n",
    "   CYAN = '\\033[96m'\n",
    "   DARKCYAN = '\\033[36m'\n",
    "   BLUE = '\\033[94m'\n",
    "   GREEN = '\\033[92m'\n",
    "   YELLOW = '\\033[93m'\n",
    "   RED = '\\033[91m'\n",
    "   BOLD = '\\033[1m'\n",
    "   UNDERLINE = '\\033[4m'\n",
    "   END = '\\033[0m'"
   ]
  },
  {
   "cell_type": "code",
   "execution_count": 4,
   "metadata": {
    "collapsed": true
   },
   "outputs": [],
   "source": [
    "apps_df = pd.read_sql('select * from cascais_v2.application', con=conn)\n"
   ]
  },
  {
   "cell_type": "code",
   "execution_count": 5,
   "metadata": {
    "collapsed": true
   },
   "outputs": [],
   "source": [
    "# create datetime objects for date of application\n",
    "from datetime import datetime, timedelta\n",
    "apps_df.loc[:,'app_date']= apps_df.loc[:,'candidatura_data'].apply(\n",
    "    lambda x: datetime(year=int(str(x)[0:4]), month=int(str(x)[5:7]),\n",
    "                       day=int(str(x)[8:10])))\n",
    "\n",
    "# create english education levels\n",
    "eng_edu = {'11': '11', '12': '12', '04': '04', '06': '06', '09':'09',\n",
    "          'BM': 'bachelor', 'DT': 'doctoral', 'PS': 'post-secondary',\n",
    "          'SL': 'grade school', 'LC': 'licensed',\n",
    "          'MT': 'masters', 'NS': 'cannot read/write'}\n",
    "    \n",
    "apps_df.loc[:, 'education'] = apps_df['chabilitacao_escolar'].map(eng_edu)\n",
    "\n",
    "# create english categories\n",
    "eng_category = {'DESEMPREGADO-NOVO EMPREGO': 'Unemployed - new job',\n",
    "          'DESEMPREGADO-1Âº EMPREGO': 'Unemployed - first job',\n",
    "          'EMPREGADO': 'Employed',\n",
    "          'EMPREGADO A TEMPO PARCIAL':'Part-time employed'}\n",
    "apps_df.loc[:, 'category'] = apps_df['dcategoria'].map(eng_category)\n",
    "\n",
    "# create english nationality\n",
    "eng_nat = {'PORTUGAL':'PORTUGAL','BRASIL': 'BRAZIL',\n",
    "           'GUINÃ-BISSAU':'GUINEA-BISSAU','CABO VERDE': 'CAPE VERDE'}\n",
    "\n",
    "apps_df.loc[:,'nationality'] = apps_df['dnacionalidade'].apply(\n",
    "lambda x: eng_nat[x] if x in eng_nat.keys() else 'OTHER')\n",
    "\n",
    "#convert dependents to integer\n",
    "apps_df.loc[:,'all_dependents'] = apps_df.loc[:,'ute_nr_pessoas_cargo'].apply(lambda x: None if x is None else float(x))\n",
    "apps_df.loc[:,'descendants'] = apps_df.loc[:,'ute_nr_descendentes_cargo'].apply(lambda x: None if x is None else float(x))"
   ]
  },
  {
   "cell_type": "code",
   "execution_count": 6,
   "metadata": {
    "collapsed": true
   },
   "outputs": [],
   "source": [
    "#create age buckets\n",
    "def age_bucket(x):\n",
    "    if x<30:\n",
    "        return \"<30\"\n",
    "    elif x<50:\n",
    "        return \"30-49\"\n",
    "    elif x<65:\n",
    "        return \"50-64\"\n",
    "    else:\n",
    "        return \"65+\"\n",
    "\n",
    "apps_df.loc[:, 'age_bucket'] = apps_df.loc[:, 'ute_idade'].apply(lambda x: age_bucket(x))"
   ]
  },
  {
   "cell_type": "code",
   "execution_count": 7,
   "metadata": {
    "collapsed": true
   },
   "outputs": [],
   "source": [
    "#create # of apps\n",
    "app_counts = apps_df.ute_id.value_counts()\n",
    "apps_df['app_count'] = apps_df['ute_id'].apply(lambda x: app_counts[x])"
   ]
  },
  {
   "cell_type": "code",
   "execution_count": 8,
   "metadata": {},
   "outputs": [
    {
     "data": {
      "text/plain": [
       "119926"
      ]
     },
     "execution_count": 8,
     "metadata": {},
     "output_type": "execute_result"
    }
   ],
   "source": [
    "# filter for only unemployed\n",
    "apps_unemp = apps_df[apps_df['dcategoria'].apply(lambda x: x[0:3]==('DES'))]\n",
    "len(apps_unemp)"
   ]
  },
  {
   "cell_type": "code",
   "execution_count": 9,
   "metadata": {},
   "outputs": [
    {
     "data": {
      "text/plain": [
       "Index([u'anomes', u'ctipo_movimento', u'dtipo_movimento', u'ute_id', u'sexo',\n",
       "       u'chabilitacao_escolar', u'dhabilitacao_escolar', u'cdeficiencia',\n",
       "       u'ddeficiencia', u'cnacionalidade', u'dnacionalidade',\n",
       "       u'cnp_pretendida', u'dcnp_pretendida', u'cpp_pretendida',\n",
       "       u'dcpp_pretendida', u'candidatura_data', u'ccategoria', u'dcategoria',\n",
       "       u'candidatura_motivo_inscricao', u'candidatura_rinsc',\n",
       "       u'ute_estado_civil', u'candidatura_int_tempo_nao_insc',\n",
       "       u'candidatura_prof_pret_tempo_pratica',\n",
       "       u'sit_anterior_prof_tempo_pratica', u'candidatura_local_trabalho',\n",
       "       u'ute_plano_emprego', u'ute_plano_emprego_anterior',\n",
       "       u'candidatura_carteira_prof', u'candidatura_formacao_prof',\n",
       "       u'candidatura_qualificacao', u'reinscricao_ult_saida_data',\n",
       "       u'reinscricao_ult_saida_motivo', u'carea_formacao_tabela_em_activo',\n",
       "       u'darea_formacao_tabela_em_activo', u'carea_curso_tabela_em_activo',\n",
       "       u'darea_curso_tabela_em_activo', u'colocacao_regime_contrato',\n",
       "       u'colocacao_tipo_contrato', u'cnp_anterior', u'dcnp_anterior',\n",
       "       u'cpp_anterior', u'dcpp_anterior', u'dregime_contrato_pretendido',\n",
       "       u'sub_rsi', u'ute_curso_estabelec_ens_superior',\n",
       "       u'ute_curso_ano_conclusao', u'candidatura_origem', u'cae_anterior',\n",
       "       u'dcae_anterior', u'ute_data_nascimento', u'ute_idade',\n",
       "       u'conjuge_estado_civil', u'conjuge_categoria', u'conjuge_estado',\n",
       "       u'conjuge_motivo_indisponibilidade', u'candidatura_categoria_anterior',\n",
       "       u'candidatura_estado_anterior', u'ute_nr_pessoas_cargo',\n",
       "       u'ute_nr_descendentes_cargo', u'candidatura_data_ppe', u'table_index',\n",
       "       u'app_date', u'education', u'category', u'nationality',\n",
       "       u'all_dependents', u'descendants', u'age_bucket', u'app_count'],\n",
       "      dtype='object')"
      ]
     },
     "execution_count": 9,
     "metadata": {},
     "output_type": "execute_result"
    }
   ],
   "source": [
    "apps_unemp.columns"
   ]
  },
  {
   "cell_type": "markdown",
   "metadata": {},
   "source": [
    "## KY sanity checks"
   ]
  },
  {
   "cell_type": "markdown",
   "metadata": {},
   "source": [
    "10. Understand data cleaning needed for \"transfer of center\" cancellation reasons"
   ]
  },
  {
   "cell_type": "code",
   "execution_count": 10,
   "metadata": {
    "collapsed": true
   },
   "outputs": [],
   "source": [
    "move_df = pd.read_sql('select * from cascais_v2.movement', con=conn)"
   ]
  },
  {
   "cell_type": "code",
   "execution_count": 11,
   "metadata": {},
   "outputs": [
    {
     "data": {
      "text/html": [
       "<div>\n",
       "<style>\n",
       "    .dataframe thead tr:only-child th {\n",
       "        text-align: right;\n",
       "    }\n",
       "\n",
       "    .dataframe thead th {\n",
       "        text-align: left;\n",
       "    }\n",
       "\n",
       "    .dataframe tbody tr th {\n",
       "        vertical-align: top;\n",
       "    }\n",
       "</style>\n",
       "<table border=\"1\" class=\"dataframe\">\n",
       "  <thead>\n",
       "    <tr style=\"text-align: right;\">\n",
       "      <th></th>\n",
       "      <th></th>\n",
       "      <th>movement_event_date</th>\n",
       "      <th>application_id</th>\n",
       "      <th>movement_type</th>\n",
       "      <th>movement_subtype</th>\n",
       "      <th>movement_result</th>\n",
       "    </tr>\n",
       "    <tr>\n",
       "      <th>ute_id</th>\n",
       "      <th>movement_index</th>\n",
       "      <th></th>\n",
       "      <th></th>\n",
       "      <th></th>\n",
       "      <th></th>\n",
       "      <th></th>\n",
       "    </tr>\n",
       "  </thead>\n",
       "  <tbody>\n",
       "    <tr>\n",
       "      <th>710</th>\n",
       "      <th>120687</th>\n",
       "      <td>1</td>\n",
       "      <td>1</td>\n",
       "      <td>1</td>\n",
       "      <td>1</td>\n",
       "      <td>1</td>\n",
       "    </tr>\n",
       "    <tr>\n",
       "      <th>818</th>\n",
       "      <th>70870</th>\n",
       "      <td>1</td>\n",
       "      <td>1</td>\n",
       "      <td>1</td>\n",
       "      <td>1</td>\n",
       "      <td>1</td>\n",
       "    </tr>\n",
       "    <tr>\n",
       "      <th rowspan=\"2\" valign=\"top\">820</th>\n",
       "      <th>22642</th>\n",
       "      <td>1</td>\n",
       "      <td>1</td>\n",
       "      <td>1</td>\n",
       "      <td>1</td>\n",
       "      <td>1</td>\n",
       "    </tr>\n",
       "    <tr>\n",
       "      <th>61038</th>\n",
       "      <td>1</td>\n",
       "      <td>1</td>\n",
       "      <td>1</td>\n",
       "      <td>1</td>\n",
       "      <td>1</td>\n",
       "    </tr>\n",
       "    <tr>\n",
       "      <th>832</th>\n",
       "      <th>1941</th>\n",
       "      <td>1</td>\n",
       "      <td>1</td>\n",
       "      <td>1</td>\n",
       "      <td>1</td>\n",
       "      <td>1</td>\n",
       "    </tr>\n",
       "  </tbody>\n",
       "</table>\n",
       "</div>"
      ],
      "text/plain": [
       "                       movement_event_date  application_id  movement_type  \\\n",
       "ute_id movement_index                                                       \n",
       "710    120687                            1               1              1   \n",
       "818    70870                             1               1              1   \n",
       "820    22642                             1               1              1   \n",
       "       61038                             1               1              1   \n",
       "832    1941                              1               1              1   \n",
       "\n",
       "                       movement_subtype  movement_result  \n",
       "ute_id movement_index                                     \n",
       "710    120687                         1                1  \n",
       "818    70870                          1                1  \n",
       "820    22642                          1                1  \n",
       "       61038                          1                1  \n",
       "832    1941                           1                1  "
      ]
     },
     "execution_count": 11,
     "metadata": {},
     "output_type": "execute_result"
    }
   ],
   "source": [
    "move_df[move_df['movement_type']=='application'].groupby(['ute_id', 'movement_index']).count().head()"
   ]
  },
  {
   "cell_type": "code",
   "execution_count": 12,
   "metadata": {},
   "outputs": [
    {
     "data": {
      "text/html": [
       "<div>\n",
       "<style>\n",
       "    .dataframe thead tr:only-child th {\n",
       "        text-align: right;\n",
       "    }\n",
       "\n",
       "    .dataframe thead th {\n",
       "        text-align: left;\n",
       "    }\n",
       "\n",
       "    .dataframe tbody tr th {\n",
       "        vertical-align: top;\n",
       "    }\n",
       "</style>\n",
       "<table border=\"1\" class=\"dataframe\">\n",
       "  <thead>\n",
       "    <tr style=\"text-align: right;\">\n",
       "      <th></th>\n",
       "      <th></th>\n",
       "      <th>anomes</th>\n",
       "      <th>ctipo_movimento</th>\n",
       "      <th>dtipo_movimento</th>\n",
       "      <th>sexo</th>\n",
       "      <th>chabilitacao_escolar</th>\n",
       "      <th>dhabilitacao_escolar</th>\n",
       "      <th>cdeficiencia</th>\n",
       "      <th>ddeficiencia</th>\n",
       "      <th>cnacionalidade</th>\n",
       "      <th>dnacionalidade</th>\n",
       "      <th>...</th>\n",
       "      <th>ute_nr_descendentes_cargo</th>\n",
       "      <th>candidatura_data_ppe</th>\n",
       "      <th>app_date</th>\n",
       "      <th>education</th>\n",
       "      <th>category</th>\n",
       "      <th>nationality</th>\n",
       "      <th>all_dependents</th>\n",
       "      <th>descendants</th>\n",
       "      <th>age_bucket</th>\n",
       "      <th>app_count</th>\n",
       "    </tr>\n",
       "    <tr>\n",
       "      <th>ute_id</th>\n",
       "      <th>table_index</th>\n",
       "      <th></th>\n",
       "      <th></th>\n",
       "      <th></th>\n",
       "      <th></th>\n",
       "      <th></th>\n",
       "      <th></th>\n",
       "      <th></th>\n",
       "      <th></th>\n",
       "      <th></th>\n",
       "      <th></th>\n",
       "      <th></th>\n",
       "      <th></th>\n",
       "      <th></th>\n",
       "      <th></th>\n",
       "      <th></th>\n",
       "      <th></th>\n",
       "      <th></th>\n",
       "      <th></th>\n",
       "      <th></th>\n",
       "      <th></th>\n",
       "      <th></th>\n",
       "    </tr>\n",
       "  </thead>\n",
       "  <tbody>\n",
       "    <tr>\n",
       "      <th>710</th>\n",
       "      <th>120687</th>\n",
       "      <td>1</td>\n",
       "      <td>1</td>\n",
       "      <td>1</td>\n",
       "      <td>1</td>\n",
       "      <td>1</td>\n",
       "      <td>1</td>\n",
       "      <td>1</td>\n",
       "      <td>1</td>\n",
       "      <td>1</td>\n",
       "      <td>1</td>\n",
       "      <td>...</td>\n",
       "      <td>1</td>\n",
       "      <td>1</td>\n",
       "      <td>1</td>\n",
       "      <td>1</td>\n",
       "      <td>1</td>\n",
       "      <td>1</td>\n",
       "      <td>1</td>\n",
       "      <td>1</td>\n",
       "      <td>1</td>\n",
       "      <td>1</td>\n",
       "    </tr>\n",
       "    <tr>\n",
       "      <th>818</th>\n",
       "      <th>70870</th>\n",
       "      <td>1</td>\n",
       "      <td>1</td>\n",
       "      <td>1</td>\n",
       "      <td>1</td>\n",
       "      <td>1</td>\n",
       "      <td>1</td>\n",
       "      <td>1</td>\n",
       "      <td>1</td>\n",
       "      <td>1</td>\n",
       "      <td>1</td>\n",
       "      <td>...</td>\n",
       "      <td>1</td>\n",
       "      <td>0</td>\n",
       "      <td>1</td>\n",
       "      <td>1</td>\n",
       "      <td>1</td>\n",
       "      <td>1</td>\n",
       "      <td>1</td>\n",
       "      <td>1</td>\n",
       "      <td>1</td>\n",
       "      <td>1</td>\n",
       "    </tr>\n",
       "    <tr>\n",
       "      <th rowspan=\"2\" valign=\"top\">820</th>\n",
       "      <th>22642</th>\n",
       "      <td>1</td>\n",
       "      <td>1</td>\n",
       "      <td>1</td>\n",
       "      <td>1</td>\n",
       "      <td>1</td>\n",
       "      <td>1</td>\n",
       "      <td>1</td>\n",
       "      <td>1</td>\n",
       "      <td>1</td>\n",
       "      <td>1</td>\n",
       "      <td>...</td>\n",
       "      <td>0</td>\n",
       "      <td>0</td>\n",
       "      <td>1</td>\n",
       "      <td>1</td>\n",
       "      <td>1</td>\n",
       "      <td>1</td>\n",
       "      <td>1</td>\n",
       "      <td>0</td>\n",
       "      <td>1</td>\n",
       "      <td>1</td>\n",
       "    </tr>\n",
       "    <tr>\n",
       "      <th>61038</th>\n",
       "      <td>1</td>\n",
       "      <td>1</td>\n",
       "      <td>1</td>\n",
       "      <td>1</td>\n",
       "      <td>1</td>\n",
       "      <td>1</td>\n",
       "      <td>1</td>\n",
       "      <td>1</td>\n",
       "      <td>1</td>\n",
       "      <td>1</td>\n",
       "      <td>...</td>\n",
       "      <td>1</td>\n",
       "      <td>0</td>\n",
       "      <td>1</td>\n",
       "      <td>1</td>\n",
       "      <td>1</td>\n",
       "      <td>1</td>\n",
       "      <td>1</td>\n",
       "      <td>1</td>\n",
       "      <td>1</td>\n",
       "      <td>1</td>\n",
       "    </tr>\n",
       "    <tr>\n",
       "      <th>832</th>\n",
       "      <th>1941</th>\n",
       "      <td>1</td>\n",
       "      <td>1</td>\n",
       "      <td>1</td>\n",
       "      <td>1</td>\n",
       "      <td>1</td>\n",
       "      <td>1</td>\n",
       "      <td>1</td>\n",
       "      <td>1</td>\n",
       "      <td>1</td>\n",
       "      <td>1</td>\n",
       "      <td>...</td>\n",
       "      <td>0</td>\n",
       "      <td>0</td>\n",
       "      <td>1</td>\n",
       "      <td>1</td>\n",
       "      <td>1</td>\n",
       "      <td>1</td>\n",
       "      <td>1</td>\n",
       "      <td>0</td>\n",
       "      <td>1</td>\n",
       "      <td>1</td>\n",
       "    </tr>\n",
       "  </tbody>\n",
       "</table>\n",
       "<p>5 rows × 67 columns</p>\n",
       "</div>"
      ],
      "text/plain": [
       "                    anomes  ctipo_movimento  dtipo_movimento  sexo  \\\n",
       "ute_id table_index                                                   \n",
       "710    120687            1                1                1     1   \n",
       "818    70870             1                1                1     1   \n",
       "820    22642             1                1                1     1   \n",
       "       61038             1                1                1     1   \n",
       "832    1941              1                1                1     1   \n",
       "\n",
       "                    chabilitacao_escolar  dhabilitacao_escolar  cdeficiencia  \\\n",
       "ute_id table_index                                                             \n",
       "710    120687                          1                     1             1   \n",
       "818    70870                           1                     1             1   \n",
       "820    22642                           1                     1             1   \n",
       "       61038                           1                     1             1   \n",
       "832    1941                            1                     1             1   \n",
       "\n",
       "                    ddeficiencia  cnacionalidade  dnacionalidade    ...      \\\n",
       "ute_id table_index                                                  ...       \n",
       "710    120687                  1               1               1    ...       \n",
       "818    70870                   1               1               1    ...       \n",
       "820    22642                   1               1               1    ...       \n",
       "       61038                   1               1               1    ...       \n",
       "832    1941                    1               1               1    ...       \n",
       "\n",
       "                    ute_nr_descendentes_cargo  candidatura_data_ppe  app_date  \\\n",
       "ute_id table_index                                                              \n",
       "710    120687                               1                     1         1   \n",
       "818    70870                                1                     0         1   \n",
       "820    22642                                0                     0         1   \n",
       "       61038                                1                     0         1   \n",
       "832    1941                                 0                     0         1   \n",
       "\n",
       "                    education  category  nationality  all_dependents  \\\n",
       "ute_id table_index                                                     \n",
       "710    120687               1         1            1               1   \n",
       "818    70870                1         1            1               1   \n",
       "820    22642                1         1            1               1   \n",
       "       61038                1         1            1               1   \n",
       "832    1941                 1         1            1               1   \n",
       "\n",
       "                    descendants  age_bucket  app_count  \n",
       "ute_id table_index                                      \n",
       "710    120687                 1           1          1  \n",
       "818    70870                  1           1          1  \n",
       "820    22642                  0           1          1  \n",
       "       61038                  1           1          1  \n",
       "832    1941                   0           1          1  \n",
       "\n",
       "[5 rows x 67 columns]"
      ]
     },
     "execution_count": 12,
     "metadata": {},
     "output_type": "execute_result"
    }
   ],
   "source": [
    "apps_df.groupby(['ute_id', 'table_index']).count().head()"
   ]
  },
  {
   "cell_type": "code",
   "execution_count": 13,
   "metadata": {
    "collapsed": true
   },
   "outputs": [],
   "source": [
    "merged = pd.merge(move_df, apps_df, how='inner', left_on='application_id', right_on='table_index')\n",
    "#merged[['ute_id_x', 'ute_id_y']]\n",
    "merged.loc[:, 'different']=merged['ute_id_x']!=merged['ute_id_y']"
   ]
  },
  {
   "cell_type": "code",
   "execution_count": 14,
   "metadata": {},
   "outputs": [
    {
     "data": {
      "text/plain": [
       "0"
      ]
     },
     "execution_count": 14,
     "metadata": {},
     "output_type": "execute_result"
    }
   ],
   "source": [
    "merged.different.sum()"
   ]
  },
  {
   "cell_type": "code",
   "execution_count": 15,
   "metadata": {},
   "outputs": [
    {
     "ename": "ImportError",
     "evalue": "No module named utils",
     "output_type": "error",
     "traceback": [
      "\u001b[0;31m---------------------------------------------------------------------------\u001b[0m",
      "\u001b[0;31mImportError\u001b[0m                               Traceback (most recent call last)",
      "\u001b[0;32m<ipython-input-15-768f32bb5926>\u001b[0m in \u001b[0;36m<module>\u001b[0;34m()\u001b[0m\n\u001b[0;32m----> 1\u001b[0;31m \u001b[0;32mfrom\u001b[0m \u001b[0mutils\u001b[0m \u001b[0;32mimport\u001b[0m \u001b[0mdb_utils\u001b[0m\u001b[0;34m\u001b[0m\u001b[0m\n\u001b[0m\u001b[1;32m      2\u001b[0m \u001b[0;32mfrom\u001b[0m \u001b[0mutils\u001b[0m \u001b[0;32mimport\u001b[0m \u001b[0miefp_data_utils\u001b[0m\u001b[0;34m\u001b[0m\u001b[0m\n",
      "\u001b[0;31mImportError\u001b[0m: No module named utils"
     ]
    }
   ],
   "source": [
    "from utils import db_utils\n",
    "from utils import iefp_data_utils"
   ]
  },
  {
   "cell_type": "code",
   "execution_count": null,
   "metadata": {
    "collapsed": true
   },
   "outputs": [],
   "source": [
    "clean_apps = iefp_data_utils.clean_applications(apps_df,'1980-01-01','2016-04-30')\n",
    "clean_movs2 = iefp_data_utils.clean_movements(move_df, '1980-01-01','2017-04-30',clean_apps['table_index'])"
   ]
  },
  {
   "cell_type": "code",
   "execution_count": null,
   "metadata": {
    "collapsed": true
   },
   "outputs": [],
   "source": [
    "merged_clean = pd.merge(clean_movs2, clean_apps, how='inner', left_on='application_id', right_on='table_index')\n",
    "merged_clean.loc[:, 'different']=merged['ute_id_x']!=merged['ute_id_y']"
   ]
  },
  {
   "cell_type": "code",
   "execution_count": null,
   "metadata": {},
   "outputs": [],
   "source": [
    "merged_clean.different.sum()"
   ]
  },
  {
   "cell_type": "code",
   "execution_count": null,
   "metadata": {
    "collapsed": true
   },
   "outputs": [],
   "source": [
    "#count blank movement event dates\n",
    "#move_df[move_df['movement_event_date']==''].groupby('movement_type').count()"
   ]
  },
  {
   "cell_type": "code",
   "execution_count": null,
   "metadata": {
    "collapsed": true
   },
   "outputs": [],
   "source": [
    "transfers = move_df[move_df['movement_subtype']=='TRANSFERÃNCIA DE CENTRO DE EMPREGO']"
   ]
  },
  {
   "cell_type": "code",
   "execution_count": null,
   "metadata": {
    "collapsed": true
   },
   "outputs": [],
   "source": [
    "transfers.head()"
   ]
  },
  {
   "cell_type": "code",
   "execution_count": null,
   "metadata": {
    "collapsed": true
   },
   "outputs": [],
   "source": [
    "plt.figure()\n",
    "transfers.groupby('year').ute_id.count().plot(kind='bar')\n",
    "plt.title(\"\\nNumber of cancellations for Transfer de centro de emprego by year\")"
   ]
  },
  {
   "cell_type": "code",
   "execution_count": null,
   "metadata": {
    "collapsed": true
   },
   "outputs": [],
   "source": [
    "#look at specific users' paths\n",
    "move_df[move_df['ute_id']==97213]"
   ]
  },
  {
   "cell_type": "code",
   "execution_count": null,
   "metadata": {
    "collapsed": true
   },
   "outputs": [],
   "source": [
    "def next_move()"
   ]
  },
  {
   "cell_type": "code",
   "execution_count": null,
   "metadata": {
    "collapsed": true
   },
   "outputs": [],
   "source": [
    "move_df.head()"
   ]
  },
  {
   "cell_type": "markdown",
   "metadata": {},
   "source": [
    "## Null analysis"
   ]
  },
  {
   "cell_type": "code",
   "execution_count": null,
   "metadata": {},
   "outputs": [],
   "source": [
    "pd.set_option('display.max_colwidth', -1)\n",
    "pd.set_option('display.max_rows', 1000)\n",
    "\n",
    "def nulls_by_year(df):\n",
    "    total_records = len(df)\n",
    "    year_series = df.loc[:, 'anomes'].apply(lambda x: int(str(x)[0:4]))\n",
    "    df_new = df.isnull().astype(int)\n",
    "    df_new['year']=year_series\n",
    "    \n",
    "    df_new = df_new.groupby('year').sum()\n",
    "    nulls_total = df_new.sum()\n",
    "    nulls_total.name = 'nulls_total'\n",
    "    \n",
    "    return df_new.append(nulls_total).sort_values(by='nulls_total', ascending =False,axis=1).transpose().apply(lambda x: x/total_records*100)\n",
    "\n",
    "nulls_by_year(apps_df)"
   ]
  },
  {
   "cell_type": "code",
   "execution_count": null,
   "metadata": {
    "collapsed": true
   },
   "outputs": [],
   "source": []
  },
  {
   "cell_type": "markdown",
   "metadata": {},
   "source": [
    "## Create histograms (all apps))"
   ]
  },
  {
   "cell_type": "code",
   "execution_count": null,
   "metadata": {},
   "outputs": [],
   "source": [
    "# plot number of apps by sex and category\n",
    "status_order = ['Unemployed - new job', 'Unemployed - first job',\n",
    "                'Part-time employed', 'Employed']\n",
    "\n",
    "plt.figure()\n",
    "sns.countplot(x='category', hue='sexo', data=apps_df, order=status_order)\n",
    "plt.title(\"\\n Number of applications by category and sex\")\n",
    "plt.xticks(rotation=45)\n",
    "\n",
    "#plot dist of category by nationality\n",
    "plt.figure()\n",
    "sns.countplot(x='category', hue='nationality', data=apps_df, order=status_order)\n",
    "plt.title(\"\\nNumber of applications by category and nationality\")\n",
    "plt.xticks(rotation=45)\n",
    "\n",
    "# plot number of times one applies (assumes sex and app count stays the same)\n",
    "plt.figure()\n",
    "first_app = apps_df.groupby('ute_id').first()\n",
    "sns.countplot(x='app_count', hue='sexo', data=first_app)\n",
    "plt.title(\"\\n Number of users who applied X number of times between 2007-2017\")\n",
    "\n"
   ]
  },
  {
   "cell_type": "markdown",
   "metadata": {},
   "source": [
    "## Create histograms (unemployed only)"
   ]
  },
  {
   "cell_type": "code",
   "execution_count": null,
   "metadata": {
    "collapsed": true
   },
   "outputs": [],
   "source": [
    "#apps_unemp.columns\n",
    "#apps_unemp.dnacionalidade.value_counts()"
   ]
  },
  {
   "cell_type": "code",
   "execution_count": null,
   "metadata": {
    "scrolled": false
   },
   "outputs": [],
   "source": [
    "#plot dist of ages by sex\n",
    "plt.figure()\n",
    "plt.hist(apps_unemp[apps_unemp['sexo']=='M'].ute_idade, bins=np.arange(15,80,1), color='indianred',\n",
    "        alpha=0.5)\n",
    "plt.hist(apps_unemp[apps_unemp['sexo']=='F'].ute_idade, bins=np.arange(15,80,1), alpha =0.4)\n",
    "plt.title(\"\\nDistribution of unemployed applications by age and sexo\")\n",
    "\n",
    "#plot dist of ages by sex\n",
    "plt.figure()\n",
    "sns.countplot(x='age_bucket', hue='sexo', data=apps_unemp)\n",
    "plt.title(\"\\nDistribution of unemployed applications by age bucket and sexo\")\n",
    "\n"
   ]
  },
  {
   "cell_type": "code",
   "execution_count": null,
   "metadata": {
    "scrolled": false
   },
   "outputs": [],
   "source": [
    "edu_order = ['cannot read/write', 'grade school', \n",
    "            '04', '06', '09', '11', '12', 'post-secondary', 'licensed',\n",
    "            'bachelor', 'masters', 'doctoral']\n",
    "sns.countplot(x='education', hue='sexo', order=edu_order, data=apps_unemp)\n",
    "plt.xticks(rotation=45)\n",
    "plt.title(\"\\nDistribution of applications by education and sexo (all ages)\")\n",
    "\n",
    "plt.figure()\n",
    "sns.countplot(x='education', hue='sexo', order=edu_order,\n",
    "              data=apps_unemp[apps_unemp['age_bucket']==\"<30\"])\n",
    "plt.xticks(rotation=45)\n",
    "plt.title(\"\\nDistribution of applications by education and sexo (<30 y.o.)\")"
   ]
  },
  {
   "cell_type": "code",
   "execution_count": null,
   "metadata": {},
   "outputs": [],
   "source": [
    "edu_age = DataFrame(apps_unemp.groupby(['education', 'age_bucket']).ute_id.count())\n",
    "edu_age = edu_age.reset_index().pivot( \"age_bucket\", \"education\",\"ute_id\")\n",
    "edu_age = edu_age.reindex(index = [\"65+\", \"50-64\",\"30-49\",\"<30\"], columns = edu_order)\n",
    "edu_age = edu_age.fillna(value = 0)\n",
    "\n",
    "fig, ax = plt.subplots(figsize = (10,3))\n",
    "sns.heatmap(edu_age, annot=True, fmt='g', ax=ax)\n",
    "plt.title(\"\\nNumber of applications by education and age\")"
   ]
  },
  {
   "cell_type": "code",
   "execution_count": null,
   "metadata": {
    "scrolled": false
   },
   "outputs": [],
   "source": [
    "plt.figure()\n",
    "sns.countplot(x='sexo', hue='ute_estado_civil', data=apps_unemp)\n",
    "plt.title(\"\\nDistribution of applications by marital status and sexo\")\n",
    "\n",
    "plt.figure()\n",
    "sns.countplot(x='age_bucket', hue='ute_estado_civil', data=apps_unemp)\n",
    "plt.title(\"\\nDistribution of applications by marital status and age\")"
   ]
  },
  {
   "cell_type": "code",
   "execution_count": null,
   "metadata": {},
   "outputs": [],
   "source": [
    "plt.figure()\n",
    "sns.barplot(x=\"ute_estado_civil\", y=\"all_dependents\", hue='sexo',\n",
    "            data=apps_unemp)\n",
    "plt.title(\"\\nAverage number of dependents by sex and marital status\")\n",
    "\n",
    "plt.figure()\n",
    "sns.regplot(x=\"all_dependents\",y=\"descendants\", data=apps_unemp)\n",
    "\n"
   ]
  },
  {
   "cell_type": "code",
   "execution_count": null,
   "metadata": {},
   "outputs": [],
   "source": [
    "des_dep = DataFrame(apps_unemp.groupby(['all_dependents', 'descendants']).ute_id.count())\n",
    "des_dep = des_dep.reset_index().pivot( \"all_dependents\", \"descendants\",\"ute_id\").sort_index(ascending=False)\n",
    "#edu_age = edu_age.reindex(index = [\"65+\", \"50-64\",\"30-49\",\"<30\"], columns = edu_order)\n",
    "#edu_age = edu_age.fillna(value = 0)\n",
    "\n",
    "fig, ax = plt.subplots(figsize = (10,5))\n",
    "sns.heatmap(des_dep, annot=True, fmt='g', ax=ax)\n",
    "plt.title(\"\\nNumber of dependents vs. Number of toal descendants\")"
   ]
  },
  {
   "cell_type": "markdown",
   "metadata": {
    "collapsed": true
   },
   "source": [
    "## Deep dive on young people (<30 y.o.)"
   ]
  },
  {
   "cell_type": "code",
   "execution_count": null,
   "metadata": {
    "collapsed": true
   },
   "outputs": [],
   "source": [
    "events_df = pd.read_sql('select * from cascais.movement', con=conn)"
   ]
  },
  {
   "cell_type": "code",
   "execution_count": null,
   "metadata": {},
   "outputs": [],
   "source": [
    "events_df.columns"
   ]
  },
  {
   "cell_type": "code",
   "execution_count": null,
   "metadata": {},
   "outputs": [],
   "source": [
    "events_df.movement_index.sort_values(ascending=False)"
   ]
  },
  {
   "cell_type": "code",
   "execution_count": null,
   "metadata": {
    "collapsed": true
   },
   "outputs": [],
   "source": []
  }
 ],
 "metadata": {
  "kernelspec": {
   "display_name": "Python 2",
   "language": "python",
   "name": "python2"
  },
  "language_info": {
   "codemirror_mode": {
    "name": "ipython",
    "version": 2
   },
   "file_extension": ".py",
   "mimetype": "text/x-python",
   "name": "python",
   "nbconvert_exporter": "python",
   "pygments_lexer": "ipython2",
   "version": "2.7.13"
  }
 },
 "nbformat": 4,
 "nbformat_minor": 2
}
