{
 "cells": [
  {
   "cell_type": "markdown",
   "metadata": {},
   "source": [
    "We learn how to process csv files using command lines, import to the database, now we willlearn how to manipulate the data in Python"
   ]
  },
  {
   "cell_type": "code",
   "execution_count": 3,
   "metadata": {
    "collapsed": true
   },
   "outputs": [],
   "source": [
    "import numpy as np\n",
    "import pandas as pd\n",
    "import psycopg2 as pg\n",
    "import numpy as np\n",
    "import matplotlib.pyplot as plt\n",
    "%matplotlib inline"
   ]
  },
  {
   "cell_type": "code",
   "execution_count": 23,
   "metadata": {},
   "outputs": [
    {
     "name": "stdout",
     "output_type": "stream",
     "text": [
      "total number of unemployed 12843\n",
      "total number with more than  3477\n",
      "total number with more than 1 application that is ltu 2454\n",
      "shape (12843, 3)\n",
      "shape (16, 2)\n",
      "total number of unemployed 12843\n"
     ]
    },
    {
     "data": {
      "image/png": "[encoded data removed]",
      "text/plain": [
       "<matplotlib.figure.Figure at 0x7f62aa62b750>"
      ]
     },
     "metadata": {},
     "output_type": "display_data"
    }
   ],
   "source": [
    "from pandas import Series, DataFrame\n",
    "#dataltu=data[data[\"ltu\"]==True]\n",
    "#plotFrame=dataltu[[\"application_id\",\"year\",\"intended_prof\"]]\n",
    "#print \"shape\",plotFrame.shape\n",
    "#plotFrame=DataFrame(plotFrame.groupby([\"year\",\"intended_prof\"]).count())\n",
    "##print plotFrame.head(100)\n",
    "#plotFrame=plotFrame.unstack(level=1)\n",
    "##plotFrame.head(100)\n",
    "#plotFrame=plotFrame.xs(\"application_id\",axis=1,drop_level=True)\n",
    "#print \"shape\",plotFrame.shape\n",
    "#plotFrame=plotFrame[columnsOrder]\n",
    "##plotFrame.sort_values(by=2016,ascending=False,axis=1,inplace=True)\n",
    "#plotFrame.loc[:, 'total'] = plotFrame.sum(axis=1)\n",
    "##cancel_reasons.div(cancel_reasons.loc[:, 'total'], axis=0)\n",
    "#ax=plotFrame.div(plotFrame.loc[:,'total'],axis=0).drop(\"total\",axis=1).plot(kind=\"bar\",stacked=True,colormap=\"gnuplot\",ylim=[0,1.5])\n",
    "#patches, labels = ax.get_legend_handles_labels()\n",
    "#ax.legend(patches, labels, loc='upper left',ncol=3)\n",
    "\n",
    "\n",
    "data=pd.read_csv('/mnt/data/shared/workingData/testPrev.csv')\n",
    "plotFrame=data[[\"application_id\",\"prev_apps_within_limit\",\"ltu\"]]\n",
    "print \"total number of unemployed\",data.shape[0]\n",
    "print \"total number with more than \",plotFrame[plotFrame[\"prev_apps_within_limit\"]>1].shape[0]\n",
    "print \"total number with more than 1 application that is ltu\",plotFrame[(plotFrame[\"prev_apps_within_limit\"]>1)&(plotFrame[\"ltu\"]==False)].shape[0]\n",
    "print \"shape\",plotFrame.shape\n",
    "plotFrame=DataFrame(plotFrame.groupby([\"prev_apps_within_limit\",\"ltu\"]).count())\n",
    "#print plotFrame.head(100)\n",
    "plotFrame=plotFrame.unstack(level=1)\n",
    "#plotFrame.head(100)\n",
    "plotFrame=plotFrame.xs(\"application_id\",axis=1,drop_level=True)\n",
    "print \"shape\",plotFrame.shape\n",
    "plotFrame.sort_values(by=10,ascending=False,axis=1,inplace=True)\n",
    "plotFrame.loc[:, 'total'] = plotFrame.sum(axis=1)\n",
    "#cancel_reasons.div(cancel_reasons.loc[:, 'total'], axis=0)\n",
    "ax=plotFrame.div(plotFrame.loc[:,'total'],axis=0).drop(\"total\",axis=1).plot(kind=\"bar\",stacked=True,colormap=\"gnuplot\",ylim=[0,1.5])\n",
    "#ax=plotFrame.drop(\"total\",axis=1).plot(kind=\"bar\",stacked=True,colormap=\"gnuplot\",ylim=[0,7000])\n",
    "patches, labels = ax.get_legend_handles_labels()\n",
    "ax.legend(patches, labels, loc='upper left',ncol=3)\n",
    "print \"total number of unemployed\",data.shape[0]\n",
    "\n",
    "\n",
    "#data.head()\n",
    "#data=data[['ltu','application_id','prev_apps_within_limit']]\n",
    "#plotData=DataFrame(data.groupby([\"ltu\",\"prev_apps_within_limit\"]).count())\n",
    "#plotData=plotData.unstack(level=1)\n",
    "#plotData=plotData.xs(\"application_id\",axis=1,drop_level=True)\n",
    "#plotData.head(100)\n",
    "#plotData.plot(kind='bar',stacked='True')\n",
    "\n",
    "#data=data[data['ltu']==True]\n",
    "#data.head()\n",
    "#data.groupby(\"ltu\").plot(kind='bar',stacked=True)"
   ]
  },
  {
   "cell_type": "markdown",
   "metadata": {
    "collapsed": true
   },
   "source": [
    "conn.cursor will return a cursor object, you can use this cursor to perform queries"
   ]
  },
  {
   "cell_type": "code",
   "execution_count": 3,
   "metadata": {
    "collapsed": true
   },
   "outputs": [],
   "source": [
    "def generate_df(table_list):\n",
    "    df_dict = {}\n",
    "    for table in table_list:\n",
    "        df_dict[table] = pd.read_csv('/mnt/data/shared/workingData/csv-files/'+table)\n",
    "    return df_dict"
   ]
  },
  {
   "cell_type": "code",
   "execution_count": 4,
   "metadata": {
    "scrolled": true
   },
   "outputs": [
    {
     "name": "stderr",
     "output_type": "stream",
     "text": [
      "/opt/anaconda/lib/python2.7/site-packages/IPython/core/interactiveshell.py:2821: DtypeWarning: Columns (1,12,13,24,25,27,28,38,39,52) have mixed types. Specify dtype option on import or set low_memory=False.\n",
      "  if self.run_code(code, result):\n"
     ]
    }
   ],
   "source": [
    "#test=pd.read_csv('/mnt/data/shared/workingData/csv-files/unl-Pedido-fixed.csv')\n",
    "#test.head\n",
    "df_dict = generate_df(['unl-Pedido-fixed.csv','unl-sie-31.csv','unl-sie-43.csv','unl-sie-38-fixed.csv','unl-sie-36-falta id.csv','unl-sie-37.csv'])"
   ]
  },
  {
   "cell_type": "code",
   "execution_count": 5,
   "metadata": {
    "scrolled": true
   },
   "outputs": [
    {
     "data": {
      "text/html": [
       "<div>\n",
       "<style>\n",
       "    .dataframe thead tr:only-child th {\n",
       "        text-align: right;\n",
       "    }\n",
       "\n",
       "    .dataframe thead th {\n",
       "        text-align: left;\n",
       "    }\n",
       "\n",
       "    .dataframe tbody tr th {\n",
       "        vertical-align: top;\n",
       "    }\n",
       "</style>\n",
       "<table border=\"1\" class=\"dataframe\">\n",
       "  <thead>\n",
       "    <tr style=\"text-align: right;\">\n",
       "      <th></th>\n",
       "      <th>ute_id</th>\n",
       "      <th>Date</th>\n",
       "      <th>Cause</th>\n",
       "      <th>type</th>\n",
       "    </tr>\n",
       "  </thead>\n",
       "  <tbody>\n",
       "    <tr>\n",
       "      <th>0</th>\n",
       "      <td>1060922</td>\n",
       "      <td>200701</td>\n",
       "      <td>RECUSA DE ENTIDADE EMPREGADORA - DESAJUSTAMENT...</td>\n",
       "      <td>interviews</td>\n",
       "    </tr>\n",
       "    <tr>\n",
       "      <th>1</th>\n",
       "      <td>1062047</td>\n",
       "      <td>200701</td>\n",
       "      <td>ADMITIDO / COLOCADO</td>\n",
       "      <td>interviews</td>\n",
       "    </tr>\n",
       "    <tr>\n",
       "      <th>2</th>\n",
       "      <td>1062047</td>\n",
       "      <td>200701</td>\n",
       "      <td>RECUSA ENTIDADE EMPREGADORA- OUTROSMOTIVOS</td>\n",
       "      <td>interviews</td>\n",
       "    </tr>\n",
       "    <tr>\n",
       "      <th>3</th>\n",
       "      <td>1080395</td>\n",
       "      <td>200701</td>\n",
       "      <td>ADMITIDO / COLOCADO</td>\n",
       "      <td>interviews</td>\n",
       "    </tr>\n",
       "    <tr>\n",
       "      <th>4</th>\n",
       "      <td>1133828</td>\n",
       "      <td>200701</td>\n",
       "      <td>RECUSA DE ENTIDADE EMPREGADORA - POSTO JÁ PREE...</td>\n",
       "      <td>interviews</td>\n",
       "    </tr>\n",
       "  </tbody>\n",
       "</table>\n",
       "</div>"
      ],
      "text/plain": [
       "    ute_id    Date                                              Cause  \\\n",
       "0  1060922  200701  RECUSA DE ENTIDADE EMPREGADORA - DESAJUSTAMENT...   \n",
       "1  1062047  200701                                ADMITIDO / COLOCADO   \n",
       "2  1062047  200701         RECUSA ENTIDADE EMPREGADORA- OUTROSMOTIVOS   \n",
       "3  1080395  200701                                ADMITIDO / COLOCADO   \n",
       "4  1133828  200701  RECUSA DE ENTIDADE EMPREGADORA - POSTO JÁ PREE...   \n",
       "\n",
       "         type  \n",
       "0  interviews  \n",
       "1  interviews  \n",
       "2  interviews  \n",
       "3  interviews  \n",
       "4  interviews  "
      ]
     },
     "execution_count": 5,
     "metadata": {},
     "output_type": "execute_result"
    }
   ],
   "source": [
    "\n",
    "df_dict = generate_df(['unl-Pedido-fixed.csv','unl-sie-31.csv','unl-sie-43.csv','unl-sie-38-fixed.csv','unl-sie-36-falta id.csv','unl-sie-37.csv'])\n",
    "apps_df = df_dict['unl-Pedido-fixed.csv']\n",
    "cancel_df = df_dict['unl-sie-31.csv']\n",
    "cat_changes_df = df_dict['unl-sie-43.csv']\n",
    "convocation_df = df_dict['unl-sie-38-fixed.csv']\n",
    "interventions_df = df_dict['unl-sie-36-falta id.csv']\n",
    "interviews_df = df_dict['unl-sie-37.csv']\n",
    "apps_df.rename(columns={\"Ute-Id\":\"ute_id\"},inplace=True)\n",
    "apps_df.rename(columns={\"Candidatura-Origem\":\"Cause\"},inplace=True)\n",
    "apps_df.rename(columns={\"AnoMes\":\"Date\"},inplace=True)\n",
    "apps_df=apps_df[pd.notnull(apps_df['Cause'])]\n",
    "apps_df=apps_df[pd.notnull(apps_df['Date'])]\n",
    "#Here it is shown how to convert a part of a string to an integer. We will not use this\n",
    "#apps_df[\"Date\"]=(apps_df[\"Date\"].astype(str).str[:4].astype(int)\n",
    "apps_df=apps_df[[\"ute_id\",\"Date\",\"Cause\"]]\n",
    "apps_df[\"type\"]=\"application\"\n",
    "\n",
    "cancel_df.rename(columns={\"ID\":\"ute_id\"},inplace=True)\n",
    "cancel_df.rename(columns={\"DMotivo Anulação\":\"Cause\"},inplace=True)\n",
    "cancel_df.rename(columns={'AnoMes':\"Date\"},inplace=True)\n",
    "cancel_df=cancel_df[pd.notnull(cancel_df['Date'])]\n",
    "cancel_df=cancel_df[[\"ute_id\",\"Date\",\"Cause\"]]\n",
    "cancel_df[\"type\"]=\"cancellation\"\n",
    "\n",
    "cat_changes_df.rename(columns={\"Ute-Id\":\"ute_id\"},inplace=True)\n",
    "cat_changes_df.rename(columns={\"DCategoria\":\"Cause\"},inplace=True)\n",
    "cat_changes_df.rename(columns={'AnoMes':\"Date\"},inplace=True)\n",
    "cat_changes_df=cat_changes_df[pd.notnull(cat_changes_df['Date'])]\n",
    "cat_changes_df=cat_changes_df[[\"ute_id\",\"Date\",\"Cause\"]]\n",
    "cat_changes_df[\"type\"]=\"statusChange\"\n",
    "\n",
    "convocation_df.rename(columns={\"Ute-Id\":\"ute_id\"},inplace=True)\n",
    "convocation_df.rename(columns={\"DResultado Convocatória\":\"Result\"},inplace=True)\n",
    "convocation_df.rename(columns={\"DTipo Convocatória\":\"TypeOfIntervention\"},inplace=True)\n",
    "convocation_df.rename(columns={'AnoMes':\"Date\"},inplace=True)\n",
    "convocation_df=convocation_df[pd.notnull(convocation_df['Date'])]\n",
    "convocation_df=convocation_df[[\"ute_id\",\"Date\",\"Result\",\"TypeOfIntervention\"]]\n",
    "convocation_df[\"type\"]=\"convocation\"\n",
    "\n",
    "interventions_df.rename(columns={\"Ute-Id\":\"ute_id\"},inplace=True)\n",
    "interventions_df.rename(columns={\"Intervenção Codigo D\":\"Cause\"},inplace=True)\n",
    "interventions_df.rename(columns={'AnoMes':\"Date\"},inplace=True)\n",
    "#How to remove all lines that has NaN in one of the columns\n",
    "interventions_df=interventions_df[pd.notnull(interventions_df['Date'])]\n",
    "interventions_df=interventions_df[[\"ute_id\",\"Date\",\"Cause\"]]\n",
    "interventions_df[\"type\"]=\"intervention\"\n",
    "\n",
    "interviews_df.rename(columns={\"Ute-Id\":\"ute_id\"},inplace=True)\n",
    "interviews_df.rename(columns={\"DResultado Apresentação\":\"Cause\"},inplace=True)\n",
    "interviews_df.rename(columns={'AnoMes':\"Date\"},inplace=True)\n",
    "interviews_df=interviews_df[pd.notnull(interviews_df['Date'])]\n",
    "interviews_df=interviews_df[[\"ute_id\",\"Date\",\"Cause\"]]\n",
    "interviews_df[\"type\"]=\"interviews\"\n",
    "interviews_df.head()\n",
    "\n"
   ]
  },
  {
   "cell_type": "code",
   "execution_count": null,
   "metadata": {
    "collapsed": true
   },
   "outputs": [],
   "source": []
  },
  {
   "cell_type": "code",
   "execution_count": 6,
   "metadata": {
    "collapsed": true
   },
   "outputs": [],
   "source": [
    "frames=[apps_df,cancel_df,cat_changes_df,convocation_df,interventions_df,interviews_df]\n",
    "total=pd.concat(frames)\n",
    "#How to sort data. This is now sorted first by the id and then by the type of application\n",
    "total=total.sort_values([\"ute_id\",\"Date\"])\n"
   ]
  },
  {
   "cell_type": "code",
   "execution_count": 3,
   "metadata": {
    "collapsed": true
   },
   "outputs": [],
   "source": [
    "def print_histograms (df):\n",
    "    for x in df.columns:\n",
    "        plt.figure()\n",
    "        #print type(getattr)\n",
    "        getattr(df,x).value_counts(dropna=False).plot(kind='bar', title=x)"
   ]
  },
  {
   "cell_type": "code",
   "execution_count": 42,
   "metadata": {},
   "outputs": [
    {
     "data": {
      "text/plain": [
       "<matplotlib.axes._subplots.AxesSubplot at 0x7fe57f511bd0>"
      ]
     },
     "execution_count": 42,
     "metadata": {},
     "output_type": "execute_result"
    },
    {
     "data": {
      "image/png": "[encoded data removed]",
      "text/plain": [
       "<matplotlib.figure.Figure at 0x7fe57f806e90>"
      ]
     },
     "metadata": {},
     "output_type": "display_data"
    }
   ],
   "source": [
    "import csv\n",
    "data=pd.read_csv('/mnt/data/shared/workingData/iefp_events_data.csv')\n",
    "data.rename(columns={\"Ute-Id\":\"ute_id\"},inplace=True)\n",
    "#find all the rows that has a data later than 201012.\n",
    "remove_data=data[data[\"Date\"]<=201012]\n",
    "#find all the unique ids in the data\n",
    "remove_id=remove_data.ute_id.unique()\n",
    "#make a true false series that shows if the id is in the list or not \n",
    "to_remove=data['ute_id'].isin(remove_id)\n",
    "#take the dataframe and remove the data that has the unvanted id\n",
    "selected_data=data[~data['ute_id'].isin(remove_id)]\n",
    "selected_data.head()\n",
    "#group by ute_id and find the first in each group. \n",
    "#this is now a series\n",
    "first_user_event=selected_data.groupby(\"ute_id\").first()\n",
    "first_user_event.head()\n",
    "first_user_event[\"event_type\"].value_counts().plot(kind='bar')\n",
    "#convert the series to a data frame\n",
    "#frame=first_user_event.to_frame()\n",
    "#print frame.head()"
   ]
  },
  {
   "cell_type": "code",
   "execution_count": null,
   "metadata": {
    "collapsed": true
   },
   "outputs": [],
   "source": []
  }
 ],
 "metadata": {
  "kernelspec": {
   "display_name": "Python 2",
   "language": "python",
   "name": "python2"
  },
  "language_info": {
   "codemirror_mode": {
    "name": "ipython",
    "version": 2
   },
   "file_extension": ".py",
   "mimetype": "text/x-python",
   "name": "python",
   "nbconvert_exporter": "python",
   "pygments_lexer": "ipython2",
   "version": "2.7.13"
  }
 },
 "nbformat": 4,
 "nbformat_minor": 2
}
