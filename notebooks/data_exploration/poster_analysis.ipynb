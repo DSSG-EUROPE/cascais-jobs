{
 "cells": [
  {
   "cell_type": "code",
   "execution_count": 1,
   "metadata": {},
   "outputs": [
    {
     "name": "stderr",
     "output_type": "stream",
     "text": [
      "/opt/anaconda/lib/python2.7/site-packages/statsmodels/compat/pandas.py:56: FutureWarning: The pandas.core.datetools module is deprecated and will be removed in a future version. Please use the pandas.tseries module instead.\n",
      "  from pandas.core import datetools\n"
     ]
    }
   ],
   "source": [
    "import json\n",
    "import sys\n",
    "import pandas as pd\n",
    "sys.path.append(\"../../\")\n",
    "from utils import model_utils\n",
    "from utils import db_utils\n",
    "from utils import feature_utils\n",
    "from utils import iefp_data_utils\n",
    "from utils import train_test_utils\n",
    "import os\n",
    "import datetime as dt"
   ]
  },
  {
   "cell_type": "code",
   "execution_count": 25,
   "metadata": {
    "collapsed": true
   },
   "outputs": [],
   "source": [
    "%matplotlib inline\n",
    "\n",
    "import matplotlib\n",
    "import numpy as np\n",
    "import matplotlib.pyplot as plt\n",
    "import seaborn as sns"
   ]
  },
  {
   "cell_type": "code",
   "execution_count": 2,
   "metadata": {
    "collapsed": true
   },
   "outputs": [],
   "source": [
    "conn = db_utils.connect_to_db()"
   ]
  },
  {
   "cell_type": "code",
   "execution_count": 5,
   "metadata": {},
   "outputs": [],
   "source": [
    "movements = db_utils.read_table(conn,'iefp','movement')\n",
    "applications = db_utils.read_table(conn,'iefp','application')"
   ]
  },
  {
   "cell_type": "code",
   "execution_count": 7,
   "metadata": {},
   "outputs": [
    {
     "data": {
      "text/plain": [
       "DESEMPREGADO-NOVO EMPREGO    106828\n",
       "DESEMPREGADO-1Âº EMPREGO      13100\n",
       "EMPREGADO                      4581\n",
       "EMPREGADO A TEMPO PARCIAL       555\n",
       "Name: dcategoria, dtype: int64"
      ]
     },
     "execution_count": 7,
     "metadata": {},
     "output_type": "execute_result"
    }
   ],
   "source": [
    "applications.dcategoria.value_counts()"
   ]
  },
  {
   "cell_type": "code",
   "execution_count": 14,
   "metadata": {},
   "outputs": [],
   "source": [
    "unemp_apps = applications[applications['dcategoria'].apply(lambda x: x[0] == 'D')]"
   ]
  },
  {
   "cell_type": "code",
   "execution_count": 16,
   "metadata": {},
   "outputs": [
    {
     "data": {
      "text/plain": [
       "Index([u'anomes', u'mo_data_movimento', u'cfreguesia', u'dfreguesia',\n",
       "       u'ctipo_movimento', u'dtipo_movimento', u'ute_id', u'cnp_pretendida',\n",
       "       u'dcnp_pretendida', u'cpp_pretendida', u'dcpp_pretendida',\n",
       "       u'candidatura_data', u'cnacionalidade', u'dnacionalidade', u'sexo',\n",
       "       u'chabilitacao_escolar', u'dhabilitacao_escolar', u'cdeficiencia',\n",
       "       u'ddeficiencia', u'ccategoria', u'dcategoria',\n",
       "       u'candidatura_motivo_inscricao', u'candidatura_rinsc',\n",
       "       u'ute_estado_civil', u'dmotivo_inscricao',\n",
       "       u'candidatura_int_tempo_nao_insc',\n",
       "       u'candidatura_prof_pret_tempo_pratica',\n",
       "       u'sit_anterior_prof_tempo_pratica', u'candidatura_local_trabalho',\n",
       "       u'ute_plano_emprego', u'ute_plano_emprego_anterior',\n",
       "       u'candidatura_carteira_prof', u'candidatura_formacao_prof',\n",
       "       u'candidatura_qualificacao', u'reinscricao_ult_saida_data',\n",
       "       u'reinscricao_ult_saida_motivo', u'carea_formacao_tabela_em_activo',\n",
       "       u'darea_formacao_tabela_em_activo', u'carea_curso_tabela_em_activo',\n",
       "       u'darea_curso_tabela_em_activo', u'colocacao_regime_contrato',\n",
       "       u'colocacao_tipo_contrato', u'cnp_anterior', u'dcnp_anterior',\n",
       "       u'cpp_anterior', u'dcpp_anterior', u'dregime_contrato_pretendido',\n",
       "       u'sub_rsi', u'ute_curso_estabelec_ens_superior',\n",
       "       u'ute_curso_ano_conclusao', u'candidatura_origem', u'cae_anterior',\n",
       "       u'dcae_anterior', u'ute_data_nascimento', u'conjuge_estado_civil',\n",
       "       u'conjuge_categoria', u'conjuge_estado',\n",
       "       u'conjuge_motivo_indisponibilidade', u'candidatura_categoria_anterior',\n",
       "       u'candidatura_estado_anterior', u'ute_nr_pessoas_cargo',\n",
       "       u'ute_nr_descendentes_cargo', u'candidatura_data_ppe', u'ute_idade',\n",
       "       u'intervencoes', u'sub_data_inicio', u'sub_data_fim',\n",
       "       u'sub_data_extincao', u'sub_data_suspensao', u'table_index'],\n",
       "      dtype='object')"
      ]
     },
     "execution_count": 16,
     "metadata": {},
     "output_type": "execute_result"
    }
   ],
   "source": [
    "unemp_apps.columns"
   ]
  },
  {
   "cell_type": "code",
   "execution_count": 23,
   "metadata": {},
   "outputs": [
    {
     "name": "stderr",
     "output_type": "stream",
     "text": [
      "/opt/anaconda/lib/python2.7/site-packages/ipykernel_launcher.py:1: SettingWithCopyWarning: \n",
      "A value is trying to be set on a copy of a slice from a DataFrame.\n",
      "Try using .loc[row_indexer,col_indexer] = value instead\n",
      "\n",
      "See the caveats in the documentation: http://pandas.pydata.org/pandas-docs/stable/indexing.html#indexing-view-versus-copy\n",
      "  \"\"\"Entry point for launching an IPython kernel.\n"
     ]
    }
   ],
   "source": [
    "unemp_apps['year'] = unemp_apps['anomes'].apply(lambda x: str(x)[0:4])\n",
    "unemp_apps = unemp_apps[unemp_apps['year']!='2017']"
   ]
  },
  {
   "cell_type": "code",
   "execution_count": 29,
   "metadata": {},
   "outputs": [],
   "source": [
    "count_by_year = pd.DataFrame(unemp_apps.groupby(['year']).ute_id.nunique())\n",
    "count_by_year.reset_index(inplace=True)"
   ]
  },
  {
   "cell_type": "code",
   "execution_count": 30,
   "metadata": {},
   "outputs": [
    {
     "data": {
      "text/plain": [
       "<matplotlib.axes._subplots.AxesSubplot at 0x7f06d25c6810>"
      ]
     },
     "execution_count": 30,
     "metadata": {},
     "output_type": "execute_result"
    },
    {
     "name": "stderr",
     "output_type": "stream",
     "text": [
      "/opt/anaconda/lib/python2.7/site-packages/matplotlib/font_manager.py:1297: UserWarning: findfont: Font family [u'sans-serif'] not found. Falling back to DejaVu Sans\n",
      "  (prop.get_family(), self.defaultFamily[fontext]))\n"
     ]
    },
    {
     "data": {
      "image/png": "[encoded data removed]",
      "text/plain": [
       "<matplotlib.figure.Figure at 0x7f06d25b9d10>"
      ]
     },
     "metadata": {},
     "output_type": "display_data"
    }
   ],
   "source": [
    "sns.barplot(x=\"year\", y=\"ute_id\", data=count_by_year)"
   ]
  },
  {
   "cell_type": "code",
   "execution_count": 46,
   "metadata": {},
   "outputs": [
    {
     "data": {
      "text/plain": [
       "<matplotlib.text.Text at 0x7f06d1036350>"
      ]
     },
     "execution_count": 46,
     "metadata": {},
     "output_type": "execute_result"
    },
    {
     "data": {
      "image/png": "[encoded data removed]",
      "text/plain": [
       "<matplotlib.figure.Figure at 0x7f06d0fcf450>"
      ]
     },
     "metadata": {},
     "output_type": "display_data"
    }
   ],
   "source": [
    "fig = plt.figure(figsize = (8,4))\n",
    "\n",
    "unemp_apps.groupby(['year']).ute_id.nunique().plot(kind='bar')\n",
    "\n",
    "fig.suptitle('Registrations of unemployed individuals in Cascais', fontsize=20)\n",
    "plt.xlabel('\\n Year', fontsize=18)\n",
    "plt.ylabel('Number of unique users\\n', fontsize=16)"
   ]
  },
  {
   "cell_type": "code",
   "execution_count": null,
   "metadata": {
    "collapsed": true
   },
   "outputs": [],
   "source": []
  }
 ],
 "metadata": {
  "kernelspec": {
   "display_name": "Python 2",
   "language": "python",
   "name": "python2"
  },
  "language_info": {
   "codemirror_mode": {
    "name": "ipython",
    "version": 2
   },
   "file_extension": ".py",
   "mimetype": "text/x-python",
   "name": "python",
   "nbconvert_exporter": "python",
   "pygments_lexer": "ipython2",
   "version": "2.7.13"
  }
 },
 "nbformat": 4,
 "nbformat_minor": 2
}
