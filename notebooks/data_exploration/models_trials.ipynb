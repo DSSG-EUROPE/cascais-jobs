{
 "cells": [
  {
   "cell_type": "markdown",
   "metadata": {},
   "source": [
    "## Imports"
   ]
  },
  {
   "cell_type": "code",
   "execution_count": 86,
   "metadata": {
    "collapsed": true
   },
   "outputs": [],
   "source": [
    "import pandas as pd\n",
    "import numpy as np\n",
    "import sklearn\n",
    "from sklearn.ensemble import (RandomForestClassifier)\n",
    "from sklearn.metrics import precision_recall_curve\n",
    "import matplotlib.pyplot as plt\n",
    "%matplotlib inline"
   ]
  },
  {
   "cell_type": "markdown",
   "metadata": {},
   "source": [
    "## Read Model Matrix Data"
   ]
  },
  {
   "cell_type": "code",
   "execution_count": 7,
   "metadata": {},
   "outputs": [
    {
     "name": "stderr",
     "output_type": "stream",
     "text": [
      "/opt/anaconda/lib/python2.7/site-packages/IPython/core/interactiveshell.py:2717: DtypeWarning: Columns (23,35,50) have mixed types. Specify dtype option on import or set low_memory=False.\n",
      "  interactivity=interactivity, compiler=compiler, result=result)\n"
     ]
    }
   ],
   "source": [
    "labeled_m = pd.read_csv('/mnt/data/shared/workingData/unemployment_data_matrix.csv')"
   ]
  },
  {
   "cell_type": "code",
   "execution_count": 11,
   "metadata": {},
   "outputs": [
    {
     "data": {
      "text/html": [
       "<div>\n",
       "<style>\n",
       "    .dataframe thead tr:only-child th {\n",
       "        text-align: right;\n",
       "    }\n",
       "\n",
       "    .dataframe thead th {\n",
       "        text-align: left;\n",
       "    }\n",
       "\n",
       "    .dataframe tbody tr th {\n",
       "        vertical-align: top;\n",
       "    }\n",
       "</style>\n",
       "<table border=\"1\" class=\"dataframe\">\n",
       "  <thead>\n",
       "    <tr style=\"text-align: right;\">\n",
       "      <th></th>\n",
       "      <th>ute_id</th>\n",
       "      <th>application_id</th>\n",
       "      <th>cancelled_before_12mo</th>\n",
       "      <th>placed_before_12mo</th>\n",
       "      <th>ltu</th>\n",
       "      <th>application</th>\n",
       "      <th>cancellation</th>\n",
       "      <th>category_change</th>\n",
       "      <th>convocation</th>\n",
       "      <th>intervention</th>\n",
       "      <th>...</th>\n",
       "      <th>conjuge_estado_civil</th>\n",
       "      <th>conjuge_categoria</th>\n",
       "      <th>conjuge_estado</th>\n",
       "      <th>conjuge_motivo_indisponibilidade</th>\n",
       "      <th>candidatura_categoria_anterior</th>\n",
       "      <th>candidatura_estado_anterior</th>\n",
       "      <th>ute_nr_pessoas_cargo</th>\n",
       "      <th>ute_nr_descendentes_cargo</th>\n",
       "      <th>candidatura_data_ppe</th>\n",
       "      <th>app_start_date</th>\n",
       "    </tr>\n",
       "  </thead>\n",
       "  <tbody>\n",
       "    <tr>\n",
       "      <th>0</th>\n",
       "      <td>818</td>\n",
       "      <td>70845</td>\n",
       "      <td>False</td>\n",
       "      <td>False</td>\n",
       "      <td>True</td>\n",
       "      <td>1.0</td>\n",
       "      <td>1.0</td>\n",
       "      <td>NaN</td>\n",
       "      <td>9.0</td>\n",
       "      <td>2.0</td>\n",
       "      <td>...</td>\n",
       "      <td>NaN</td>\n",
       "      <td>NaN</td>\n",
       "      <td>NaN</td>\n",
       "      <td>NaN</td>\n",
       "      <td>NaN</td>\n",
       "      <td>NaN</td>\n",
       "      <td>2.0</td>\n",
       "      <td>2.0</td>\n",
       "      <td>NaN</td>\n",
       "      <td>2013-02-01</td>\n",
       "    </tr>\n",
       "    <tr>\n",
       "      <th>1</th>\n",
       "      <td>820</td>\n",
       "      <td>22603</td>\n",
       "      <td>False</td>\n",
       "      <td>False</td>\n",
       "      <td>True</td>\n",
       "      <td>1.0</td>\n",
       "      <td>1.0</td>\n",
       "      <td>1.0</td>\n",
       "      <td>NaN</td>\n",
       "      <td>2.0</td>\n",
       "      <td>...</td>\n",
       "      <td>NaN</td>\n",
       "      <td>NaN</td>\n",
       "      <td>NaN</td>\n",
       "      <td>NaN</td>\n",
       "      <td>NaN</td>\n",
       "      <td>NaN</td>\n",
       "      <td>2.0</td>\n",
       "      <td>NaN</td>\n",
       "      <td>NaN</td>\n",
       "      <td>2009-03-01</td>\n",
       "    </tr>\n",
       "    <tr>\n",
       "      <th>2</th>\n",
       "      <td>820</td>\n",
       "      <td>61013</td>\n",
       "      <td>True</td>\n",
       "      <td>False</td>\n",
       "      <td>False</td>\n",
       "      <td>1.0</td>\n",
       "      <td>1.0</td>\n",
       "      <td>NaN</td>\n",
       "      <td>3.0</td>\n",
       "      <td>1.0</td>\n",
       "      <td>...</td>\n",
       "      <td>NaN</td>\n",
       "      <td>NaN</td>\n",
       "      <td>NaN</td>\n",
       "      <td>NaN</td>\n",
       "      <td>3.0</td>\n",
       "      <td>PAS</td>\n",
       "      <td>2.0</td>\n",
       "      <td>2.0</td>\n",
       "      <td>NaN</td>\n",
       "      <td>2012-05-01</td>\n",
       "    </tr>\n",
       "    <tr>\n",
       "      <th>3</th>\n",
       "      <td>832</td>\n",
       "      <td>1930</td>\n",
       "      <td>False</td>\n",
       "      <td>True</td>\n",
       "      <td>False</td>\n",
       "      <td>1.0</td>\n",
       "      <td>NaN</td>\n",
       "      <td>NaN</td>\n",
       "      <td>4.0</td>\n",
       "      <td>1.0</td>\n",
       "      <td>...</td>\n",
       "      <td>NaN</td>\n",
       "      <td>NaN</td>\n",
       "      <td>NaN</td>\n",
       "      <td>NaN</td>\n",
       "      <td>NaN</td>\n",
       "      <td>NaN</td>\n",
       "      <td>1.0</td>\n",
       "      <td>NaN</td>\n",
       "      <td>NaN</td>\n",
       "      <td>2007-03-01</td>\n",
       "    </tr>\n",
       "    <tr>\n",
       "      <th>4</th>\n",
       "      <td>832</td>\n",
       "      <td>9174</td>\n",
       "      <td>True</td>\n",
       "      <td>False</td>\n",
       "      <td>False</td>\n",
       "      <td>1.0</td>\n",
       "      <td>1.0</td>\n",
       "      <td>NaN</td>\n",
       "      <td>1.0</td>\n",
       "      <td>NaN</td>\n",
       "      <td>...</td>\n",
       "      <td>NaN</td>\n",
       "      <td>NaN</td>\n",
       "      <td>NaN</td>\n",
       "      <td>NaN</td>\n",
       "      <td>NaN</td>\n",
       "      <td>NaN</td>\n",
       "      <td>1.0</td>\n",
       "      <td>NaN</td>\n",
       "      <td>NaN</td>\n",
       "      <td>2007-12-01</td>\n",
       "    </tr>\n",
       "  </tbody>\n",
       "</table>\n",
       "<p>5 rows × 72 columns</p>\n",
       "</div>"
      ],
      "text/plain": [
       "   ute_id  application_id  cancelled_before_12mo  placed_before_12mo    ltu  \\\n",
       "0     818           70845                  False               False   True   \n",
       "1     820           22603                  False               False   True   \n",
       "2     820           61013                   True               False  False   \n",
       "3     832            1930                  False                True  False   \n",
       "4     832            9174                   True               False  False   \n",
       "\n",
       "   application  cancellation  category_change  convocation  intervention  \\\n",
       "0          1.0           1.0              NaN          9.0           2.0   \n",
       "1          1.0           1.0              1.0          NaN           2.0   \n",
       "2          1.0           1.0              NaN          3.0           1.0   \n",
       "3          1.0           NaN              NaN          4.0           1.0   \n",
       "4          1.0           1.0              NaN          1.0           NaN   \n",
       "\n",
       "       ...        conjuge_estado_civil  conjuge_categoria  conjuge_estado  \\\n",
       "0      ...                         NaN                NaN             NaN   \n",
       "1      ...                         NaN                NaN             NaN   \n",
       "2      ...                         NaN                NaN             NaN   \n",
       "3      ...                         NaN                NaN             NaN   \n",
       "4      ...                         NaN                NaN             NaN   \n",
       "\n",
       "   conjuge_motivo_indisponibilidade candidatura_categoria_anterior  \\\n",
       "0                               NaN                            NaN   \n",
       "1                               NaN                            NaN   \n",
       "2                               NaN                            3.0   \n",
       "3                               NaN                            NaN   \n",
       "4                               NaN                            NaN   \n",
       "\n",
       "  candidatura_estado_anterior ute_nr_pessoas_cargo ute_nr_descendentes_cargo  \\\n",
       "0                         NaN                  2.0                       2.0   \n",
       "1                         NaN                  2.0                       NaN   \n",
       "2                         PAS                  2.0                       2.0   \n",
       "3                         NaN                  1.0                       NaN   \n",
       "4                         NaN                  1.0                       NaN   \n",
       "\n",
       "   candidatura_data_ppe app_start_date  \n",
       "0                   NaN     2013-02-01  \n",
       "1                   NaN     2009-03-01  \n",
       "2                   NaN     2012-05-01  \n",
       "3                   NaN     2007-03-01  \n",
       "4                   NaN     2007-12-01  \n",
       "\n",
       "[5 rows x 72 columns]"
      ]
     },
     "execution_count": 11,
     "metadata": {},
     "output_type": "execute_result"
    }
   ],
   "source": [
    "labeled_m.head()"
   ]
  },
  {
   "cell_type": "code",
   "execution_count": 12,
   "metadata": {},
   "outputs": [
    {
     "data": {
      "text/plain": [
       "Index([u'ute_id', u'application_id', u'cancelled_before_12mo',\n",
       "       u'placed_before_12mo', u'ltu', u'application', u'cancellation',\n",
       "       u'category_change', u'convocation', u'intervention', u'interview',\n",
       "       u'table_index', u'anomes', u'ctipo_movimento', u'dtipo_movimento',\n",
       "       u'sexo', u'chabilitacao_escolar', u'dhabilitacao_escolar',\n",
       "       u'cdeficiencia', u'ddeficiencia', u'cnacionalidade', u'dnacionalidade',\n",
       "       u'cnp_pretendida', u'dcnp_pretendida', u'cpp_pretendida',\n",
       "       u'dcpp_pretendida', u'candidatura_data', u'ccategoria', u'dcategoria',\n",
       "       u'candidatura_motivo_inscricao', u'candidatura_rinsc',\n",
       "       u'ute_estado_civil', u'candidatura_int_tempo_nao_insc',\n",
       "       u'candidatura_prof_pret_tempo_pratica',\n",
       "       u'sit_anterior_prof_tempo_pratica', u'candidatura_local_trabalho',\n",
       "       u'ute_plano_emprego', u'ute_plano_emprego_anterior',\n",
       "       u'candidatura_carteira_prof', u'candidatura_formacao_prof',\n",
       "       u'candidatura_qualificacao', u'reinscricao_ult_saida_data',\n",
       "       u'reinscricao_ult_saida_motivo', u'carea_formacao_tabela_em_activo',\n",
       "       u'darea_formacao_tabela_em_activo', u'carea_curso_tabela_em_activo',\n",
       "       u'darea_curso_tabela_em_activo', u'colocacao_regime_contrato',\n",
       "       u'colocacao_tipo_contrato', u'cnp_anterior', u'dcnp_anterior',\n",
       "       u'cpp_anterior', u'dcpp_anterior', u'dregime_contrato_pretendido',\n",
       "       u'sub_rsi', u'ute_curso_estabelec_ens_superior',\n",
       "       u'ute_curso_ano_conclusao', u'candidatura_origem', u'cae_anterior',\n",
       "       u'dcae_anterior', u'ute_data_nascimento', u'ute_idade',\n",
       "       u'conjuge_estado_civil', u'conjuge_categoria', u'conjuge_estado',\n",
       "       u'conjuge_motivo_indisponibilidade', u'candidatura_categoria_anterior',\n",
       "       u'candidatura_estado_anterior', u'ute_nr_pessoas_cargo',\n",
       "       u'ute_nr_descendentes_cargo', u'candidatura_data_ppe',\n",
       "       u'app_start_date'],\n",
       "      dtype='object')"
      ]
     },
     "execution_count": 12,
     "metadata": {},
     "output_type": "execute_result"
    }
   ],
   "source": [
    "labeled_m.columns"
   ]
  },
  {
   "cell_type": "markdown",
   "metadata": {},
   "source": [
    "## Select Features"
   ]
  },
  {
   "cell_type": "code",
   "execution_count": 33,
   "metadata": {},
   "outputs": [
    {
     "data": {
      "text/html": [
       "<div>\n",
       "<style>\n",
       "    .dataframe thead tr:only-child th {\n",
       "        text-align: right;\n",
       "    }\n",
       "\n",
       "    .dataframe thead th {\n",
       "        text-align: left;\n",
       "    }\n",
       "\n",
       "    .dataframe tbody tr th {\n",
       "        vertical-align: top;\n",
       "    }\n",
       "</style>\n",
       "<table border=\"1\" class=\"dataframe\">\n",
       "  <thead>\n",
       "    <tr style=\"text-align: right;\">\n",
       "      <th></th>\n",
       "      <th>application_id</th>\n",
       "      <th>app_start_date</th>\n",
       "      <th>ute_idade</th>\n",
       "      <th>ltu</th>\n",
       "      <th>sexo_F</th>\n",
       "      <th>sexo_M</th>\n",
       "      <th>sub_rsi_N</th>\n",
       "      <th>sub_rsi_S</th>\n",
       "    </tr>\n",
       "  </thead>\n",
       "  <tbody>\n",
       "    <tr>\n",
       "      <th>0</th>\n",
       "      <td>70845</td>\n",
       "      <td>2013-02-01</td>\n",
       "      <td>50</td>\n",
       "      <td>True</td>\n",
       "      <td>1</td>\n",
       "      <td>0</td>\n",
       "      <td>1</td>\n",
       "      <td>0</td>\n",
       "    </tr>\n",
       "    <tr>\n",
       "      <th>1</th>\n",
       "      <td>22603</td>\n",
       "      <td>2009-03-01</td>\n",
       "      <td>39</td>\n",
       "      <td>True</td>\n",
       "      <td>1</td>\n",
       "      <td>0</td>\n",
       "      <td>1</td>\n",
       "      <td>0</td>\n",
       "    </tr>\n",
       "    <tr>\n",
       "      <th>2</th>\n",
       "      <td>61013</td>\n",
       "      <td>2012-05-01</td>\n",
       "      <td>42</td>\n",
       "      <td>False</td>\n",
       "      <td>1</td>\n",
       "      <td>0</td>\n",
       "      <td>1</td>\n",
       "      <td>0</td>\n",
       "    </tr>\n",
       "    <tr>\n",
       "      <th>3</th>\n",
       "      <td>1930</td>\n",
       "      <td>2007-03-01</td>\n",
       "      <td>32</td>\n",
       "      <td>False</td>\n",
       "      <td>0</td>\n",
       "      <td>1</td>\n",
       "      <td>1</td>\n",
       "      <td>0</td>\n",
       "    </tr>\n",
       "    <tr>\n",
       "      <th>4</th>\n",
       "      <td>9174</td>\n",
       "      <td>2007-12-01</td>\n",
       "      <td>33</td>\n",
       "      <td>False</td>\n",
       "      <td>0</td>\n",
       "      <td>1</td>\n",
       "      <td>1</td>\n",
       "      <td>0</td>\n",
       "    </tr>\n",
       "  </tbody>\n",
       "</table>\n",
       "</div>"
      ],
      "text/plain": [
       "   application_id app_start_date  ute_idade    ltu  sexo_F  sexo_M  sub_rsi_N  \\\n",
       "0           70845     2013-02-01         50   True       1       0          1   \n",
       "1           22603     2009-03-01         39   True       1       0          1   \n",
       "2           61013     2012-05-01         42  False       1       0          1   \n",
       "3            1930     2007-03-01         32  False       0       1          1   \n",
       "4            9174     2007-12-01         33  False       0       1          1   \n",
       "\n",
       "   sub_rsi_S  \n",
       "0          0  \n",
       "1          0  \n",
       "2          0  \n",
       "3          0  \n",
       "4          0  "
      ]
     },
     "execution_count": 33,
     "metadata": {},
     "output_type": "execute_result"
    }
   ],
   "source": [
    "model_m = labeled_m.copy()\n",
    "model_m = model_m[['application_id','app_start_date','sexo','ute_idade','sub_rsi','ltu']]\n",
    "model_m['app_start_date'] = pd.to_datetime(model_m['app_start_date'])\n",
    "model_m = pd.get_dummies(model_m, columns=['sexo','sub_rsi'])\n",
    "model_m.head()"
   ]
  },
  {
   "cell_type": "code",
   "execution_count": 35,
   "metadata": {},
   "outputs": [
    {
     "data": {
      "text/plain": [
       "pandas._libs.tslib.Timestamp"
      ]
     },
     "execution_count": 35,
     "metadata": {},
     "output_type": "execute_result"
    }
   ],
   "source": [
    "type(model_m['app_start_date'][0])"
   ]
  },
  {
   "cell_type": "markdown",
   "metadata": {},
   "source": [
    "## Define Model input/output"
   ]
  },
  {
   "cell_type": "code",
   "execution_count": 47,
   "metadata": {},
   "outputs": [],
   "source": [
    "y = model_m.ltu.astype(float)\n",
    "X = model_m.drop('ltu', 1)"
   ]
  },
  {
   "cell_type": "code",
   "execution_count": 23,
   "metadata": {},
   "outputs": [
    {
     "data": {
      "text/plain": [
       "RandomForestClassifier(bootstrap=True, class_weight=None, criterion='gini',\n",
       "            max_depth=None, max_features='auto', max_leaf_nodes=None,\n",
       "            min_impurity_split=1e-07, min_samples_leaf=1,\n",
       "            min_samples_split=2, min_weight_fraction_leaf=0.0,\n",
       "            n_estimators=100, n_jobs=1, oob_score=False, random_state=4321,\n",
       "            verbose=0, warm_start=False)"
      ]
     },
     "execution_count": 23,
     "metadata": {},
     "output_type": "execute_result"
    }
   ],
   "source": [
    "estimator = sklearn.ensemble.RandomForestClassifier(n_estimators=100,\n",
    "                       criterion='gini',\n",
    "                       max_depth=None,\n",
    "                       random_state=4321) # always set your random seed for reproducibility!\n",
    "estimator.fit(X=X, y=y)"
   ]
  },
  {
   "cell_type": "markdown",
   "metadata": {},
   "source": [
    "## Temporal Split"
   ]
  },
  {
   "cell_type": "code",
   "execution_count": 88,
   "metadata": {},
   "outputs": [],
   "source": [
    "def split_data(data_matrix,test_date,train_timedelta,test_timedelta):\n",
    "    m_train = data_matrix[(data_matrix['app_start_date'] >= test_date - train_timedelta) & (data_matrix['app_start_date'] < test_date)].sort_values('app_start_date').drop('app_start_date',1)\n",
    "    m_test = data_matrix[(data_matrix['app_start_date'] >= test_date) & (data_matrix['app_start_date'] < test_date + test_timedelta)].sort_values('app_start_date').drop('app_start_date',1)\n",
    "    \n",
    "    return m_train, m_test\n",
    "\n",
    "m_train, m_test = split_data(data_matrix=model_m,\n",
    "                             test_date=pd.to_datetime('2015-04-30'),\n",
    "                             train_timedelta=pd.Timedelta('730D'),\n",
    "                             test_timedelta=pd.Timedelta('365D'))"
   ]
  },
  {
   "cell_type": "code",
   "execution_count": 89,
   "metadata": {},
   "outputs": [
    {
     "data": {
      "text/html": [
       "<div>\n",
       "<style>\n",
       "    .dataframe thead tr:only-child th {\n",
       "        text-align: right;\n",
       "    }\n",
       "\n",
       "    .dataframe thead th {\n",
       "        text-align: left;\n",
       "    }\n",
       "\n",
       "    .dataframe tbody tr th {\n",
       "        vertical-align: top;\n",
       "    }\n",
       "</style>\n",
       "<table border=\"1\" class=\"dataframe\">\n",
       "  <thead>\n",
       "    <tr style=\"text-align: right;\">\n",
       "      <th></th>\n",
       "      <th>application_id</th>\n",
       "      <th>ute_idade</th>\n",
       "      <th>ltu</th>\n",
       "      <th>sexo_F</th>\n",
       "      <th>sexo_M</th>\n",
       "      <th>sub_rsi_N</th>\n",
       "      <th>sub_rsi_S</th>\n",
       "    </tr>\n",
       "  </thead>\n",
       "  <tbody>\n",
       "    <tr>\n",
       "      <th>67677</th>\n",
       "      <td>74506</td>\n",
       "      <td>23</td>\n",
       "      <td>True</td>\n",
       "      <td>0</td>\n",
       "      <td>1</td>\n",
       "      <td>1</td>\n",
       "      <td>0</td>\n",
       "    </tr>\n",
       "    <tr>\n",
       "      <th>30156</th>\n",
       "      <td>74241</td>\n",
       "      <td>33</td>\n",
       "      <td>True</td>\n",
       "      <td>0</td>\n",
       "      <td>1</td>\n",
       "      <td>1</td>\n",
       "      <td>0</td>\n",
       "    </tr>\n",
       "    <tr>\n",
       "      <th>18769</th>\n",
       "      <td>74138</td>\n",
       "      <td>33</td>\n",
       "      <td>False</td>\n",
       "      <td>0</td>\n",
       "      <td>1</td>\n",
       "      <td>1</td>\n",
       "      <td>0</td>\n",
       "    </tr>\n",
       "    <tr>\n",
       "      <th>25433</th>\n",
       "      <td>74192</td>\n",
       "      <td>62</td>\n",
       "      <td>True</td>\n",
       "      <td>0</td>\n",
       "      <td>1</td>\n",
       "      <td>1</td>\n",
       "      <td>0</td>\n",
       "    </tr>\n",
       "    <tr>\n",
       "      <th>7801</th>\n",
       "      <td>74044</td>\n",
       "      <td>58</td>\n",
       "      <td>True</td>\n",
       "      <td>0</td>\n",
       "      <td>1</td>\n",
       "      <td>1</td>\n",
       "      <td>0</td>\n",
       "    </tr>\n",
       "  </tbody>\n",
       "</table>\n",
       "</div>"
      ],
      "text/plain": [
       "       application_id  ute_idade    ltu  sexo_F  sexo_M  sub_rsi_N  sub_rsi_S\n",
       "67677           74506         23   True       0       1          1          0\n",
       "30156           74241         33   True       0       1          1          0\n",
       "18769           74138         33  False       0       1          1          0\n",
       "25433           74192         62   True       0       1          1          0\n",
       "7801            74044         58   True       0       1          1          0"
      ]
     },
     "execution_count": 89,
     "metadata": {},
     "output_type": "execute_result"
    }
   ],
   "source": [
    "m_train.head()"
   ]
  },
  {
   "cell_type": "code",
   "execution_count": 90,
   "metadata": {},
   "outputs": [
    {
     "data": {
      "text/html": [
       "<div>\n",
       "<style>\n",
       "    .dataframe thead tr:only-child th {\n",
       "        text-align: right;\n",
       "    }\n",
       "\n",
       "    .dataframe thead th {\n",
       "        text-align: left;\n",
       "    }\n",
       "\n",
       "    .dataframe tbody tr th {\n",
       "        vertical-align: top;\n",
       "    }\n",
       "</style>\n",
       "<table border=\"1\" class=\"dataframe\">\n",
       "  <thead>\n",
       "    <tr style=\"text-align: right;\">\n",
       "      <th></th>\n",
       "      <th>application_id</th>\n",
       "      <th>ute_idade</th>\n",
       "      <th>ltu</th>\n",
       "      <th>sexo_F</th>\n",
       "      <th>sexo_M</th>\n",
       "      <th>sub_rsi_N</th>\n",
       "      <th>sub_rsi_S</th>\n",
       "    </tr>\n",
       "  </thead>\n",
       "  <tbody>\n",
       "    <tr>\n",
       "      <th>59775</th>\n",
       "      <td>100608</td>\n",
       "      <td>54</td>\n",
       "      <td>False</td>\n",
       "      <td>0</td>\n",
       "      <td>1</td>\n",
       "      <td>1</td>\n",
       "      <td>0</td>\n",
       "    </tr>\n",
       "    <tr>\n",
       "      <th>18489</th>\n",
       "      <td>100302</td>\n",
       "      <td>48</td>\n",
       "      <td>False</td>\n",
       "      <td>1</td>\n",
       "      <td>0</td>\n",
       "      <td>1</td>\n",
       "      <td>0</td>\n",
       "    </tr>\n",
       "    <tr>\n",
       "      <th>85815</th>\n",
       "      <td>100765</td>\n",
       "      <td>29</td>\n",
       "      <td>False</td>\n",
       "      <td>1</td>\n",
       "      <td>0</td>\n",
       "      <td>1</td>\n",
       "      <td>0</td>\n",
       "    </tr>\n",
       "    <tr>\n",
       "      <th>28533</th>\n",
       "      <td>100374</td>\n",
       "      <td>48</td>\n",
       "      <td>False</td>\n",
       "      <td>1</td>\n",
       "      <td>0</td>\n",
       "      <td>1</td>\n",
       "      <td>0</td>\n",
       "    </tr>\n",
       "    <tr>\n",
       "      <th>104924</th>\n",
       "      <td>100963</td>\n",
       "      <td>34</td>\n",
       "      <td>False</td>\n",
       "      <td>0</td>\n",
       "      <td>1</td>\n",
       "      <td>0</td>\n",
       "      <td>1</td>\n",
       "    </tr>\n",
       "  </tbody>\n",
       "</table>\n",
       "</div>"
      ],
      "text/plain": [
       "        application_id  ute_idade    ltu  sexo_F  sexo_M  sub_rsi_N  sub_rsi_S\n",
       "59775           100608         54  False       0       1          1          0\n",
       "18489           100302         48  False       1       0          1          0\n",
       "85815           100765         29  False       1       0          1          0\n",
       "28533           100374         48  False       1       0          1          0\n",
       "104924          100963         34  False       0       1          0          1"
      ]
     },
     "execution_count": 90,
     "metadata": {},
     "output_type": "execute_result"
    }
   ],
   "source": [
    "m_test.head()"
   ]
  },
  {
   "cell_type": "code",
   "execution_count": 91,
   "metadata": {},
   "outputs": [
    {
     "name": "stdout",
     "output_type": "stream",
     "text": [
      "(25399, 7)\n",
      "(12524, 7)\n"
     ]
    }
   ],
   "source": [
    "print(m_train.shape)\n",
    "print(m_test.shape)"
   ]
  },
  {
   "cell_type": "markdown",
   "metadata": {},
   "source": [
    "## Predict"
   ]
  },
  {
   "cell_type": "code",
   "execution_count": 92,
   "metadata": {},
   "outputs": [
    {
     "data": {
      "text/plain": [
       "RandomForestClassifier(bootstrap=True, class_weight=None, criterion='gini',\n",
       "            max_depth=None, max_features='auto', max_leaf_nodes=None,\n",
       "            min_impurity_split=1e-07, min_samples_leaf=1,\n",
       "            min_samples_split=2, min_weight_fraction_leaf=0.0,\n",
       "            n_estimators=100, n_jobs=1, oob_score=False, random_state=4321,\n",
       "            verbose=0, warm_start=False)"
      ]
     },
     "execution_count": 92,
     "metadata": {},
     "output_type": "execute_result"
    }
   ],
   "source": [
    "estimator.fit(X=m_train.drop('ltu',1), y=m_train.ltu.astype(float))"
   ]
  },
  {
   "cell_type": "code",
   "execution_count": 93,
   "metadata": {},
   "outputs": [],
   "source": [
    "pred = estimator.predict_proba(X=m_test.drop('ltu',1)) # not all classifiers have predict_proba"
   ]
  },
  {
   "cell_type": "code",
   "execution_count": 94,
   "metadata": {},
   "outputs": [
    {
     "data": {
      "text/plain": [
       "array([[ 0.76,  0.24],\n",
       "       [ 0.24,  0.76],\n",
       "       [ 0.79,  0.21],\n",
       "       ..., \n",
       "       [ 0.9 ,  0.1 ],\n",
       "       [ 0.99,  0.01],\n",
       "       [ 0.99,  0.01]])"
      ]
     },
     "execution_count": 94,
     "metadata": {},
     "output_type": "execute_result"
    }
   ],
   "source": [
    "pred"
   ]
  },
  {
   "cell_type": "code",
   "execution_count": 95,
   "metadata": {
    "collapsed": true
   },
   "outputs": [],
   "source": [
    "pred = pd.Series(index=m_test.index, data=pred[:,1])"
   ]
  },
  {
   "cell_type": "markdown",
   "metadata": {},
   "source": [
    "## Evaluate"
   ]
  },
  {
   "cell_type": "code",
   "execution_count": 96,
   "metadata": {},
   "outputs": [
    {
     "data": {
      "text/plain": [
       "0.58407305875767002"
      ]
     },
     "execution_count": 96,
     "metadata": {},
     "output_type": "execute_result"
    }
   ],
   "source": [
    "sklearn.metrics.roc_auc_score(m_test.ltu, pred)"
   ]
  },
  {
   "cell_type": "code",
   "execution_count": 97,
   "metadata": {},
   "outputs": [],
   "source": [
    "# sklearn.metrics to the rescue!\n",
    "precision_curve, recall_curve, pr_thresholds = precision_recall_curve(y_true=m_test.ltu,probas_pred=pred)"
   ]
  },
  {
   "cell_type": "code",
   "execution_count": 98,
   "metadata": {},
   "outputs": [
    {
     "data": {
      "image/png": "[encoded data removed]",
      "text/plain": [
       "<matplotlib.figure.Figure at 0x7f483e5bca90>"
      ]
     },
     "metadata": {},
     "output_type": "display_data"
    }
   ],
   "source": [
    "# first, let's plot precision vs recall\n",
    "fig = plt.figure(figsize=(10,6))\n",
    "ax = fig.add_subplot(111)\n",
    "ax.plot(recall_curve, precision_curve)\n",
    "ax.set_xlabel('Recall')\n",
    "ax.set_ylabel('Precision')\n",
    "ax.set_title('Precision vs. Recall for our Example model')\n",
    "plt.show()"
   ]
  },
  {
   "cell_type": "code",
   "execution_count": 99,
   "metadata": {
    "collapsed": true
   },
   "outputs": [],
   "source": [
    "def plot_precision_recall_n(y_true, y_prob, model_name, **kwargs): # kwargs to the rescue\n",
    "    \"\"\"\n",
    "    y_true: ls\n",
    "        ls of ground truth labels\n",
    "    y_prob: ls\n",
    "        ls of predic proba from model\n",
    "    model_name: str\n",
    "        str of model name (e.g, LR_123)\n",
    "    \"\"\"\n",
    "    from sklearn.metrics import precision_recall_curve\n",
    "    y_score = y_prob\n",
    "    precision_curve, recall_curve, pr_thresholds = precision_recall_curve(y_true, y_score)\n",
    "    precision_curve = precision_curve[:-1]\n",
    "    recall_curve = recall_curve[:-1]\n",
    "    pct_above_per_thresh = []\n",
    "    number_scored = len(y_score)\n",
    "    for value in pr_thresholds:\n",
    "        num_above_thresh = len(y_score[y_score>=value])\n",
    "        pct_above_thresh = num_above_thresh / float(number_scored)\n",
    "        pct_above_per_thresh.append(pct_above_thresh)\n",
    "    pct_above_per_thresh = np.array(pct_above_per_thresh)\n",
    "    plt.clf()\n",
    "    fig, ax1 = plt.subplots(**kwargs)\n",
    "    ax1.plot(pct_above_per_thresh, precision_curve, 'b')\n",
    "    ax1.set_xlabel('ratio of population')\n",
    "    ax1.set_ylabel('precision', color='b')\n",
    "    ax1.set_ylim(0,1.05)\n",
    "    ax2 = ax1.twinx()\n",
    "    ax2.plot(pct_above_per_thresh, recall_curve, 'r')\n",
    "    ax2.set_ylabel('recall', color='r')\n",
    "    ax2.set_ylim(0,1.05)\n",
    "    \n",
    "    name = model_name\n",
    "    plt.title(name)\n",
    "    plt.show()\n",
    "    plt.clf()"
   ]
  },
  {
   "cell_type": "code",
   "execution_count": 100,
   "metadata": {},
   "outputs": [
    {
     "data": {
      "text/plain": [
       "<matplotlib.figure.Figure at 0x7f483e5b0110>"
      ]
     },
     "metadata": {},
     "output_type": "display_data"
    },
    {
     "data": {
      "image/png": "[encoded data removed]",
      "text/plain": [
       "<matplotlib.figure.Figure at 0x7f483e49f610>"
      ]
     },
     "metadata": {},
     "output_type": "display_data"
    },
    {
     "data": {
      "text/plain": [
       "<matplotlib.figure.Figure at 0x7f4843634850>"
      ]
     },
     "metadata": {},
     "output_type": "display_data"
    }
   ],
   "source": [
    "plot_precision_recall_n(y_true=m_test.ltu,\n",
    "                        y_prob=pred,\n",
    "                        model_name='Our Example Model',\n",
    "                        figsize=(10,8)) # <-- figsize is a kwarg now, we pass it through to the plotting function"
   ]
  },
  {
   "cell_type": "code",
   "execution_count": null,
   "metadata": {
    "collapsed": true
   },
   "outputs": [],
   "source": []
  }
 ],
 "metadata": {
  "kernelspec": {
   "display_name": "Python 2",
   "language": "python",
   "name": "python2"
  },
  "language_info": {
   "codemirror_mode": {
    "name": "ipython",
    "version": 2
   },
   "file_extension": ".py",
   "mimetype": "text/x-python",
   "name": "python",
   "nbconvert_exporter": "python",
   "pygments_lexer": "ipython2",
   "version": "2.7.13"
  }
 },
 "nbformat": 4,
 "nbformat_minor": 2
}
