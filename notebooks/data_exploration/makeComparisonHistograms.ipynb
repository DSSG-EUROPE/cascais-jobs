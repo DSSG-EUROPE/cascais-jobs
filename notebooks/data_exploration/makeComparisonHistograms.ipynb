{
 "cells": [
  {
   "cell_type": "code",
   "execution_count": 1,
   "metadata": {
    "collapsed": true
   },
   "outputs": [],
   "source": [
    "import pandas as pd\n",
    "import numpy as np\n",
    "from pandas import Series, DataFrame\n",
    "import matplotlib.pyplot as plt\n",
    "%matplotlib inline\n",
    "import seaborn as sns\n",
    "import sys\n",
    "sys.path.append(\"../\")\n",
    "from datetime import datetime#, timedelta\n",
    "from utils import db_utils\n",
    "from utils import iefp_data_utils"
   ]
  },
  {
   "cell_type": "code",
   "execution_count": 2,
   "metadata": {
    "collapsed": true
   },
   "outputs": [],
   "source": [
    "def makeBarPlot(x,y,theTitle):\n",
    "    sns.set(font_scale=2.0)\n",
    "    fig = plt.figure() # Create matplotlib figure\n",
    "\n",
    "    ax = fig.add_subplot(111) # Create matplotlib axes\n",
    "#ax2 = ax.twinx() # Create another axes that shares the same x-axis as ax.\n",
    "\n",
    "    width = 0.3\n",
    "    #x.value_counts().plot(kind=\"bar\")\n",
    "    (x.value_counts()/len(x)).plot(kind='bar', color='red', ax=ax, width=width, position=1,title=theTitle)\n",
    "    (y.value_counts()/len(y)).plot(kind='bar', color='blue', ax=ax, width=width, position=2)\n",
    "    \n",
    "    #df.price.plot(kind='bar', color='blue', ax=ax2, width=width, position=0)\n",
    "\n",
    "#ax.set_ylabel('Amount')\n",
    "#ax2.set_ylabel('Price')\n",
    "\n",
    "    \n",
    "    \n",
    " #   plt.hist([x.value_counts(), y.value_counts()], color=['r','b'], alpha=0.5)\n",
    "    #x.value_counts(normalize=True).plot(kind=\"bar\")\n",
    "    #y.histo()\n",
    "    \n",
    "    \n",
    "    \n",
    "    "
   ]
  },
  {
   "cell_type": "code",
   "execution_count": 3,
   "metadata": {
    "collapsed": true
   },
   "outputs": [],
   "source": [
    "def makeHistogram(x,y,theTitle,theBins,theRange):\n",
    "    \n",
    "    fig = plt.figure() # Create matplotlib figure\n",
    "\n",
    "    ax = fig.add_subplot(111) # Create matplotlib axes\n",
    "#ax2 = ax.twinx() # Create another axes that shares the same x-axis as ax.\n",
    "    \n",
    "    #x.value_counts().plot(kind=\"bar\")\n",
    "    x.hist(ax=ax,bins=theBins,normed=True,color='red',alpha=1.0,range=theRange)\n",
    "    y.hist(ax=ax,bins=theBins,normed=True,color='blue',alpha=0.5,range=theRange)\n",
    "    #(y.hist(kind='bar', color='blue', ax=ax, width=width, position=2)\n",
    "    \n",
    "    #df.price.plot(kind='bar', color='blue', ax=ax2, width=width, position=0)\n",
    "\n",
    "#ax.set_ylabel('Amount')\n",
    "#ax2.set_ylabel('Price')\n",
    "\n",
    "    \n",
    "    \n",
    " #   plt.hist([x.value_counts(), y.value_counts()], color=['r','b'], alpha=0.5)\n",
    "    #x.value_counts(normalize=True).plot(kind=\"bar\")\n",
    "    #y.histo()\n",
    "    "
   ]
  },
  {
   "cell_type": "code",
   "execution_count": 4,
   "metadata": {
    "collapsed": true
   },
   "outputs": [],
   "source": [
    "def findMainBucket(profession):\n",
    "    profDict={1:\"Managment\",2:\"Higer level professionals\",3:\"Lower level professionals\",4:\"Office jobs\",5:\"Sales\",\n",
    "              6:\"Fising and farming\",7:\"Craft and trade\",8:\"Factory work\",9:\"Elementary professions\"}\n",
    "    if pd.isnull(profession):\n",
    "        return np.nan\n",
    "    else:\n",
    "        professionInt=int(str(profession)[0:1])\n",
    "        return profDict[professionInt]\n",
    "    "
   ]
  },
  {
   "cell_type": "code",
   "execution_count": 18,
   "metadata": {},
   "outputs": [
    {
     "data": {
      "text/html": [
       "<div>\n",
       "<style>\n",
       "    .dataframe thead tr:only-child th {\n",
       "        text-align: right;\n",
       "    }\n",
       "\n",
       "    .dataframe thead th {\n",
       "        text-align: left;\n",
       "    }\n",
       "\n",
       "    .dataframe tbody tr th {\n",
       "        vertical-align: top;\n",
       "    }\n",
       "</style>\n",
       "<table border=\"1\" class=\"dataframe\">\n",
       "  <thead>\n",
       "    <tr style=\"text-align: right;\">\n",
       "      <th></th>\n",
       "      <th>application_id</th>\n",
       "      <th>app_start_date</th>\n",
       "      <th>ltu</th>\n",
       "      <th>age</th>\n",
       "      <th>time_since_exit</th>\n",
       "      <th>number_dependence</th>\n",
       "      <th>experience_intended_prof</th>\n",
       "      <th>experience_prev_prof</th>\n",
       "      <th>gender_F</th>\n",
       "      <th>gender_M</th>\n",
       "      <th>...</th>\n",
       "      <th>previous_prof_Unknown</th>\n",
       "      <th>training_area_Agriculture</th>\n",
       "      <th>training_area_ArtsAndHumanities</th>\n",
       "      <th>training_area_Education</th>\n",
       "      <th>training_area_EngineeringAndConstruction</th>\n",
       "      <th>training_area_HealthAndSocialProtection</th>\n",
       "      <th>training_area_STEM</th>\n",
       "      <th>training_area_Service</th>\n",
       "      <th>training_area_SocialScienceTradeAndLaw</th>\n",
       "      <th>training_area_Unkown</th>\n",
       "    </tr>\n",
       "  </thead>\n",
       "  <tbody>\n",
       "    <tr>\n",
       "      <th>0</th>\n",
       "      <td>120687</td>\n",
       "      <td>2016-12-06 00:00:00</td>\n",
       "      <td>True</td>\n",
       "      <td>44</td>\n",
       "      <td>1928.0</td>\n",
       "      <td>2.0</td>\n",
       "      <td>36.0</td>\n",
       "      <td>36.0</td>\n",
       "      <td>0</td>\n",
       "      <td>1</td>\n",
       "      <td>...</td>\n",
       "      <td>0</td>\n",
       "      <td>0</td>\n",
       "      <td>0</td>\n",
       "      <td>0</td>\n",
       "      <td>0</td>\n",
       "      <td>0</td>\n",
       "      <td>0</td>\n",
       "      <td>0</td>\n",
       "      <td>0</td>\n",
       "      <td>1</td>\n",
       "    </tr>\n",
       "    <tr>\n",
       "      <th>5</th>\n",
       "      <td>50137</td>\n",
       "      <td>2011-07-27 00:00:00</td>\n",
       "      <td>True</td>\n",
       "      <td>36</td>\n",
       "      <td>41.0</td>\n",
       "      <td>0.0</td>\n",
       "      <td>48.0</td>\n",
       "      <td>36.0</td>\n",
       "      <td>1</td>\n",
       "      <td>0</td>\n",
       "      <td>...</td>\n",
       "      <td>0</td>\n",
       "      <td>0</td>\n",
       "      <td>0</td>\n",
       "      <td>0</td>\n",
       "      <td>0</td>\n",
       "      <td>0</td>\n",
       "      <td>0</td>\n",
       "      <td>0</td>\n",
       "      <td>0</td>\n",
       "      <td>1</td>\n",
       "    </tr>\n",
       "    <tr>\n",
       "      <th>6</th>\n",
       "      <td>109085</td>\n",
       "      <td>2016-01-26 00:00:00</td>\n",
       "      <td>True</td>\n",
       "      <td>40</td>\n",
       "      <td>181.0</td>\n",
       "      <td>0.0</td>\n",
       "      <td>48.0</td>\n",
       "      <td>36.0</td>\n",
       "      <td>1</td>\n",
       "      <td>0</td>\n",
       "      <td>...</td>\n",
       "      <td>0</td>\n",
       "      <td>0</td>\n",
       "      <td>0</td>\n",
       "      <td>0</td>\n",
       "      <td>0</td>\n",
       "      <td>0</td>\n",
       "      <td>0</td>\n",
       "      <td>0</td>\n",
       "      <td>0</td>\n",
       "      <td>1</td>\n",
       "    </tr>\n",
       "    <tr>\n",
       "      <th>7</th>\n",
       "      <td>63160</td>\n",
       "      <td>2012-07-04 00:00:00</td>\n",
       "      <td>True</td>\n",
       "      <td>36</td>\n",
       "      <td>94.0</td>\n",
       "      <td>0.0</td>\n",
       "      <td>120.0</td>\n",
       "      <td>120.0</td>\n",
       "      <td>0</td>\n",
       "      <td>1</td>\n",
       "      <td>...</td>\n",
       "      <td>0</td>\n",
       "      <td>0</td>\n",
       "      <td>0</td>\n",
       "      <td>0</td>\n",
       "      <td>0</td>\n",
       "      <td>0</td>\n",
       "      <td>0</td>\n",
       "      <td>0</td>\n",
       "      <td>0</td>\n",
       "      <td>1</td>\n",
       "    </tr>\n",
       "    <tr>\n",
       "      <th>10</th>\n",
       "      <td>109120</td>\n",
       "      <td>2016-01-19 00:00:00</td>\n",
       "      <td>True</td>\n",
       "      <td>39</td>\n",
       "      <td>3405.0</td>\n",
       "      <td>0.0</td>\n",
       "      <td>240.0</td>\n",
       "      <td>240.0</td>\n",
       "      <td>0</td>\n",
       "      <td>1</td>\n",
       "      <td>...</td>\n",
       "      <td>0</td>\n",
       "      <td>0</td>\n",
       "      <td>0</td>\n",
       "      <td>0</td>\n",
       "      <td>0</td>\n",
       "      <td>0</td>\n",
       "      <td>0</td>\n",
       "      <td>0</td>\n",
       "      <td>0</td>\n",
       "      <td>1</td>\n",
       "    </tr>\n",
       "  </tbody>\n",
       "</table>\n",
       "<p>5 rows × 68 columns</p>\n",
       "</div>"
      ],
      "text/plain": [
       "    application_id       app_start_date   ltu  age  time_since_exit  \\\n",
       "0           120687  2016-12-06 00:00:00  True   44           1928.0   \n",
       "5            50137  2011-07-27 00:00:00  True   36             41.0   \n",
       "6           109085  2016-01-26 00:00:00  True   40            181.0   \n",
       "7            63160  2012-07-04 00:00:00  True   36             94.0   \n",
       "10          109120  2016-01-19 00:00:00  True   39           3405.0   \n",
       "\n",
       "    number_dependence  experience_intended_prof  experience_prev_prof  \\\n",
       "0                 2.0                      36.0                  36.0   \n",
       "5                 0.0                      48.0                  36.0   \n",
       "6                 0.0                      48.0                  36.0   \n",
       "7                 0.0                     120.0                 120.0   \n",
       "10                0.0                     240.0                 240.0   \n",
       "\n",
       "    gender_F  gender_M          ...           previous_prof_Unknown  \\\n",
       "0          0         1          ...                               0   \n",
       "5          1         0          ...                               0   \n",
       "6          1         0          ...                               0   \n",
       "7          0         1          ...                               0   \n",
       "10         0         1          ...                               0   \n",
       "\n",
       "    training_area_Agriculture  training_area_ArtsAndHumanities  \\\n",
       "0                           0                                0   \n",
       "5                           0                                0   \n",
       "6                           0                                0   \n",
       "7                           0                                0   \n",
       "10                          0                                0   \n",
       "\n",
       "    training_area_Education  training_area_EngineeringAndConstruction  \\\n",
       "0                         0                                         0   \n",
       "5                         0                                         0   \n",
       "6                         0                                         0   \n",
       "7                         0                                         0   \n",
       "10                        0                                         0   \n",
       "\n",
       "    training_area_HealthAndSocialProtection  training_area_STEM  \\\n",
       "0                                         0                   0   \n",
       "5                                         0                   0   \n",
       "6                                         0                   0   \n",
       "7                                         0                   0   \n",
       "10                                        0                   0   \n",
       "\n",
       "    training_area_Service  training_area_SocialScienceTradeAndLaw  \\\n",
       "0                       0                                       0   \n",
       "5                       0                                       0   \n",
       "6                       0                                       0   \n",
       "7                       0                                       0   \n",
       "10                      0                                       0   \n",
       "\n",
       "    training_area_Unkown  \n",
       "0                      1  \n",
       "5                      1  \n",
       "6                      1  \n",
       "7                      1  \n",
       "10                     1  \n",
       "\n",
       "[5 rows x 68 columns]"
      ]
     },
     "execution_count": 18,
     "metadata": {},
     "output_type": "execute_result"
    },
    {
     "data": {
      "image/png": "[encoded data removed]",
      "text/plain": [
       "<matplotlib.figure.Figure at 0x7f27e60ba790>"
      ]
     },
     "metadata": {},
     "output_type": "display_data"
    },
    {
     "data": {
      "image/png": "[encoded data removed]",
      "text/plain": [
       "<matplotlib.figure.Figure at 0x7f27e2b81b10>"
      ]
     },
     "metadata": {},
     "output_type": "display_data"
    }
   ],
   "source": [
    "ltu=data[data[\"ltu\"]==True]\n",
    "nonltu=data[data[\"ltu\"]==False]\n",
    "\n",
    "\n",
    "makeHistogram(ltu[\"age\"],nonltu[\"age\"],\"age\",65,[15,80])\n",
    "#makeHistogram(ltu[\"experience_prev_prof\"]/12,nonltu[\"experience_prev_prof\"]/12,\"experience in previous profession\",10,[0,36])\n",
    "\n",
    "#looks like people who are longterm unemployed has often recently been in the system\n",
    "makeHistogram(ltu[\"time_since_exit\"].dropna(),nonltu[\"time_since_exit\"].dropna(),\"time since exit\",10,[0,400])\n",
    "ltu.head()"
   ]
  },
  {
   "cell_type": "code",
   "execution_count": 6,
   "metadata": {
    "collapsed": true
   },
   "outputs": [],
   "source": [
    "#data=pd.read_csv('/mnt/data/shared/workingData/iefp/feature_matrix/data_matrix.csv')\n",
    "#data.columns\n",
    "#data[\"intended_prof_1\"]=data[\"intended_prof_1\"].apply(findMainBucket)\n",
    "#data[\"intended_prof_2\"]=data[\"intended_prof_2\"].apply(findMainBucket)\n",
    "#data[\"intended_prof_1\"].value_counts(dropna=False)\n",
    "##data[\"intended_prof_1\"].fillna(,inplace=True)\n",
    "#data[\"intended_prof_1\"].value_counts(dropna=False)\n",
    "##print pd.isnull(data[\"intended_prof_1\"])\n",
    "#data[\"test\"]=np.where(pd.isnull(data[\"intended_prof_1\"]) & pd.isnull(data['intended_prof_2']),\"er null\",\"er ikke null\")\n",
    "#data[\"intended_prof\"]=np.where(pd.isnull(data[\"intended_prof_1\"]),data[\"intended_prof_2\"],data[\"intended_prof_1\"])\n",
    "#data[\"intended_prof\"].value_counts()\n",
    "##print data.head()\n",
    "#data[\"year\"]=data[\"app_start_date\"].apply(lambda x:pd.to_datetime(x).year)\n",
    "#data=data[data[\"year\"]>2007]\n",
    "#print data[\"intended_prof\"].value_counts()\n"
   ]
  },
  {
   "cell_type": "code",
   "execution_count": null,
   "metadata": {
    "collapsed": true
   },
   "outputs": [],
   "source": []
  },
  {
   "cell_type": "code",
   "execution_count": 77,
   "metadata": {},
   "outputs": [
    {
     "name": "stdout",
     "output_type": "stream",
     "text": [
      "shape (106974, 3)\n"
     ]
    },
    {
     "data": {
      "text/plain": [
       "<matplotlib.legend.Legend at 0x7fd522577e10>"
      ]
     },
     "execution_count": 77,
     "metadata": {},
     "output_type": "execute_result"
    },
    {
     "data": {
      "image/png": "[encoded data removed]",
      "text/plain": [
       "<matplotlib.figure.Figure at 0x7fd51f194510>"
      ]
     },
     "metadata": {},
     "output_type": "display_data"
    }
   ],
   "source": [
    "plotFrame=data[[\"application_id\",\"year\",\"intended_prof\"]]\n",
    "print \"shape\",plotFrame.shape\n",
    "plotFrame=DataFrame(plotFrame.groupby([\"year\",\"intended_prof\"]).count())\n",
    "#print plotFrame.head(100)\n",
    "plotFrame=plotFrame.unstack(level=1)\n",
    "#plotFrame.head(100)\n",
    "plotFrame=plotFrame.xs(\"application_id\",axis=1,drop_level=True)\n",
    "plotFrame.sort_values(by=2016,ascending=False,axis=1,inplace=True)\n",
    "columnsOrder=plotFrame.columns.values\n",
    "plotFrame.loc[:, 'total'] = plotFrame.sum(axis=1)\n",
    "#cancel_reasons.div(cancel_reasons.loc[:, 'total'], axis=0)\n",
    "ax=plotFrame.div(plotFrame.loc[:,'total'],axis=0).drop(\"total\",axis=1).plot(kind=\"bar\",stacked=True,colormap=\"gnuplot\",ylim=[0,1.5])\n",
    "patches, labels = ax.get_legend_handles_labels()\n",
    "ax.legend(patches, labels, loc='upper left',ncol=3)\n",
    "\n",
    "#print ax\n",
    "#lines, labels = ax.get_legend_handles_labels()\n",
    "#ax.legend([lines[0], lines[2]], [\"Bounds\", \"Value\"])\n",
    "#plt.figure\n",
    "#plt.show()\n",
    "\n",
    "\n",
    "#movements.loc[:, 'year'] = movements.loc[:, 'movement_event_date'].map(lambda x: x.year)\n",
    "#cancel_reasons = DataFrame(movements[movements['movement_type']=='cancellation'].groupby(['year','movement_subtype']).count())\n",
    "#cancel_reasons = cancel_reasons.unstack(level=-1)\n",
    "#cancel_reasons = cancel_reasons.xs('ute_id', axis=1, drop_level=True)\n",
    "#cancel_reasons.loc[:, 'total'] = cancel_reasons.sum(axis=1)\n",
    "#cancel_reasons.sort_values(by = 2017, ascending=False, axis=1, inplace=True)\n",
    "\n",
    "\n",
    "\n",
    "#data=data[data[\"test\"]==\"er null\"]\n",
    "#print data.shape\n",
    "#df['que'] = np.where((df['one'] >= df['two']) & (df['one'] <= df['three'])\n",
    "#                     , df['one'], np.nan)]                           \n",
    "    \n",
    "    \n",
    "                           #,data['indended_prof_2'])#&pd.isnull(data['intended_prof_2']))\n",
    "\n",
    "#print data[\"compare\"]\n",
    "#& (df['one'] <= df['three'])\n",
    "#                     , df['one'], np.nan)\n",
    "\n",
    "\n",
    "\n",
    "#print test.tail()\n",
    "#data[\"intended_prof_1\"].value_counts()\n",
    "\n",
    "#ltu=data[data[\"ltu\"]==True]\n",
    "#nonltu=data[data[\"ltu\"]==False]\n",
    "#newDataframe=pd.DataFrame\n",
    "#for x in ltu.columns.values:\n",
    "    #pass\n",
    "#    makeBarPlot(ltu[x],nonltu[x],x)\n",
    "#makeBarPlot(ltu[\"soc_ben\"],nonltu[\"soc_ben\"],\"Recives social benefits\")\n",
    "#makeBarPlot()\n",
    "#makeBarPlot(ltu[\"civil_status\"],nonltu[\"civil_status\"],\"Civil status\")\n"
   ]
  },
  {
   "cell_type": "code",
   "execution_count": 80,
   "metadata": {
    "scrolled": true
   },
   "outputs": [
    {
     "name": "stdout",
     "output_type": "stream",
     "text": [
      "shape (35420, 3)\n",
      "shape (9, 9)\n"
     ]
    },
    {
     "data": {
      "text/plain": [
       "<matplotlib.legend.Legend at 0x7fd51eb75d90>"
      ]
     },
     "execution_count": 80,
     "metadata": {},
     "output_type": "execute_result"
    },
    {
     "data": {
      "image/png": "[encoded data removed]",
      "text/plain": [
       "<matplotlib.figure.Figure at 0x7fd51f1813d0>"
      ]
     },
     "metadata": {},
     "output_type": "display_data"
    }
   ],
   "source": [
    "dataltu=data[data[\"ltu\"]==True]\n",
    "plotFrame=dataltu[[\"application_id\",\"year\",\"intended_prof\"]]\n",
    "print \"shape\",plotFrame.shape\n",
    "plotFrame=DataFrame(plotFrame.groupby([\"year\",\"intended_prof\"]).count())\n",
    "#print plotFrame.head(100)\n",
    "plotFrame=plotFrame.unstack(level=1)\n",
    "#plotFrame.head(100)\n",
    "plotFrame=plotFrame.xs(\"application_id\",axis=1,drop_level=True)\n",
    "print \"shape\",plotFrame.shape\n",
    "plotFrame=plotFrame[columnsOrder]\n",
    "#plotFrame.sort_values(by=2016,ascending=False,axis=1,inplace=True)\n",
    "plotFrame.loc[:, 'total'] = plotFrame.sum(axis=1)\n",
    "#cancel_reasons.div(cancel_reasons.loc[:, 'total'], axis=0)\n",
    "ax=plotFrame.div(plotFrame.loc[:,'total'],axis=0).drop(\"total\",axis=1).plot(kind=\"bar\",stacked=True,colormap=\"gnuplot\",ylim=[0,1.5])\n",
    "patches, labels = ax.get_legend_handles_labels()\n",
    "ax.legend(patches, labels, loc='upper left',ncol=3)\n",
    "\n",
    "\n",
    "\n",
    "\n"
   ]
  },
  {
   "cell_type": "code",
   "execution_count": 60,
   "metadata": {},
   "outputs": [
    {
     "name": "stdout",
     "output_type": "stream",
     "text": [
      "shape (71554, 3)\n",
      "shape (9, 9)\n"
     ]
    },
    {
     "data": {
      "text/plain": [
       "<matplotlib.legend.Legend at 0x7fd5220da690>"
      ]
     },
     "execution_count": 60,
     "metadata": {},
     "output_type": "execute_result"
    },
    {
     "data": {
      "image/png": "[encoded data removed]",
      "text/plain": [
       "<matplotlib.figure.Figure at 0x7fd5221b9750>"
      ]
     },
     "metadata": {},
     "output_type": "display_data"
    }
   ],
   "source": [
    "datanonltu=data[data[\"ltu\"]==False]\n",
    "plotFrame=datanonltu[[\"application_id\",\"year\",\"intended_prof\"]]\n",
    "print \"shape\",plotFrame.shape\n",
    "plotFrame=DataFrame(plotFrame.groupby([\"year\",\"intended_prof\"]).count())\n",
    "#print plotFrame.head(100)\n",
    "plotFrame=plotFrame.unstack(level=1)\n",
    "#plotFrame.head(100)\n",
    "plotFrame=plotFrame.xs(\"application_id\",axis=1,drop_level=True)\n",
    "print \"shape\",plotFrame.shape\n",
    "plotFrame.sort_values(by=2016,ascending=False,axis=1,inplace=True)\n",
    "plotFrame.loc[:, 'total'] = plotFrame.sum(axis=1)\n",
    "#cancel_reasons.div(cancel_reasons.loc[:, 'total'], axis=0)\n",
    "ax=plotFrame.div(plotFrame.loc[:,'total'],axis=0).drop(\"total\",axis=1).plot(kind=\"bar\",stacked=True,colormap=\"gnuplot\",ylim=[0,1.5])\n",
    "patches, labels = ax.get_legend_handles_labels()\n",
    "ax.legend(patches, labels, loc='upper left',ncol=3)\n",
    "\n",
    "\n"
   ]
  },
  {
   "cell_type": "code",
   "execution_count": 7,
   "metadata": {},
   "outputs": [
    {
     "ename": "NameError",
     "evalue": "name 'ltu' is not defined",
     "output_type": "error",
     "traceback": [
      "\u001b[0;31m---------------------------------------------------------------------------\u001b[0m",
      "\u001b[0;31mNameError\u001b[0m                                 Traceback (most recent call last)",
      "\u001b[0;32m<ipython-input-7-129136294e5f>\u001b[0m in \u001b[0;36m<module>\u001b[0;34m()\u001b[0m\n\u001b[0;32m----> 1\u001b[0;31m \u001b[0mmakeHistogram\u001b[0m\u001b[0;34m(\u001b[0m\u001b[0mltu\u001b[0m\u001b[0;34m[\u001b[0m\u001b[0;34m\"age\"\u001b[0m\u001b[0;34m]\u001b[0m\u001b[0;34m,\u001b[0m\u001b[0mnonltu\u001b[0m\u001b[0;34m[\u001b[0m\u001b[0;34m\"age\"\u001b[0m\u001b[0;34m]\u001b[0m\u001b[0;34m,\u001b[0m\u001b[0;34m\"age\"\u001b[0m\u001b[0;34m,\u001b[0m\u001b[0;36m65\u001b[0m\u001b[0;34m,\u001b[0m\u001b[0;34m[\u001b[0m\u001b[0;36m15\u001b[0m\u001b[0;34m,\u001b[0m\u001b[0;36m80\u001b[0m\u001b[0;34m]\u001b[0m\u001b[0;34m)\u001b[0m\u001b[0;34m\u001b[0m\u001b[0m\n\u001b[0m\u001b[1;32m      2\u001b[0m \u001b[0mmakeHistogram\u001b[0m\u001b[0;34m(\u001b[0m\u001b[0mltu\u001b[0m\u001b[0;34m[\u001b[0m\u001b[0;34m\"experience_prev_prof\"\u001b[0m\u001b[0;34m]\u001b[0m\u001b[0;34m/\u001b[0m\u001b[0;36m12\u001b[0m\u001b[0;34m,\u001b[0m\u001b[0mnonltu\u001b[0m\u001b[0;34m[\u001b[0m\u001b[0;34m\"experience_prev_prof\"\u001b[0m\u001b[0;34m]\u001b[0m\u001b[0;34m/\u001b[0m\u001b[0;36m12\u001b[0m\u001b[0;34m,\u001b[0m\u001b[0;34m\"experience in previous profession\"\u001b[0m\u001b[0;34m,\u001b[0m\u001b[0;36m10\u001b[0m\u001b[0;34m,\u001b[0m\u001b[0;34m[\u001b[0m\u001b[0;36m0\u001b[0m\u001b[0;34m,\u001b[0m\u001b[0;36m36\u001b[0m\u001b[0;34m]\u001b[0m\u001b[0;34m)\u001b[0m\u001b[0;34m\u001b[0m\u001b[0m\n\u001b[1;32m      3\u001b[0m \u001b[0;34m\u001b[0m\u001b[0m\n\u001b[1;32m      4\u001b[0m \u001b[0;31m#looks like people who are longterm unemployed has often recently been in the system\u001b[0m\u001b[0;34m\u001b[0m\u001b[0;34m\u001b[0m\u001b[0m\n\u001b[1;32m      5\u001b[0m \u001b[0mmakeHistogram\u001b[0m\u001b[0;34m(\u001b[0m\u001b[0mltu\u001b[0m\u001b[0;34m[\u001b[0m\u001b[0;34m\"time_since_exit\"\u001b[0m\u001b[0;34m]\u001b[0m\u001b[0;34m.\u001b[0m\u001b[0mdropna\u001b[0m\u001b[0;34m(\u001b[0m\u001b[0;34m)\u001b[0m\u001b[0;34m,\u001b[0m\u001b[0mnonltu\u001b[0m\u001b[0;34m[\u001b[0m\u001b[0;34m\"time_since_exit\"\u001b[0m\u001b[0;34m]\u001b[0m\u001b[0;34m.\u001b[0m\u001b[0mdropna\u001b[0m\u001b[0;34m(\u001b[0m\u001b[0;34m)\u001b[0m\u001b[0;34m,\u001b[0m\u001b[0;34m\"time since exit\"\u001b[0m\u001b[0;34m,\u001b[0m\u001b[0;36m10\u001b[0m\u001b[0;34m,\u001b[0m\u001b[0;34m[\u001b[0m\u001b[0;36m0\u001b[0m\u001b[0;34m,\u001b[0m\u001b[0;36m400\u001b[0m\u001b[0;34m]\u001b[0m\u001b[0;34m)\u001b[0m\u001b[0;34m\u001b[0m\u001b[0m\n",
      "\u001b[0;31mNameError\u001b[0m: name 'ltu' is not defined"
     ]
    }
   ],
   "source": [
    "\n",
    "\n",
    "\n",
    "\n"
   ]
  }
 ],
 "metadata": {
  "kernelspec": {
   "display_name": "Python 2",
   "language": "python",
   "name": "python2"
  },
  "language_info": {
   "codemirror_mode": {
    "name": "ipython",
    "version": 2
   },
   "file_extension": ".py",
   "mimetype": "text/x-python",
   "name": "python",
   "nbconvert_exporter": "python",
   "pygments_lexer": "ipython2",
   "version": "2.7.13"
  }
 },
 "nbformat": 4,
 "nbformat_minor": 2
}
