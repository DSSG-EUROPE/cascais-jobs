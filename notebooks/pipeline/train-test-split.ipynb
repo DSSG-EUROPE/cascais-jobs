{
 "cells": [
  {
   "cell_type": "code",
   "execution_count": 17,
   "metadata": {
    "collapsed": true
   },
   "outputs": [],
   "source": [
    "import os\n",
    "import sys\n",
    "module_path = os.path.abspath(os.path.join('../..'))\n",
    "if module_path not in sys.path:\n",
    "    sys.path.append(module_path)"
   ]
  },
  {
   "cell_type": "code",
   "execution_count": 18,
   "metadata": {
    "collapsed": true
   },
   "outputs": [],
   "source": [
    "import pandas as pd\n",
    "import numpy as np"
   ]
  },
  {
   "cell_type": "code",
   "execution_count": 19,
   "metadata": {},
   "outputs": [],
   "source": [
    "from utils import model_utils\n",
    "from utils import db_utils\n",
    "from utils import iefp_data_utils\n",
    "from utils import feature_utils"
   ]
  },
  {
   "cell_type": "code",
   "execution_count": 20,
   "metadata": {
    "collapsed": true
   },
   "outputs": [],
   "source": [
    "conn = db_utils.connect_to_db()\n",
    "apps, movs = iefp_data_utils.get_clean_data(conn)"
   ]
  },
  {
   "cell_type": "code",
   "execution_count": 47,
   "metadata": {
    "collapsed": true
   },
   "outputs": [],
   "source": [
    "def apps_cancelled_before_date(movs,date):\n",
    "    return movs[(movs['movement_type'].isin(['cancellation'])) & (movs['movement_event_date'] < date)]['application_id'].unique()\n",
    "\n",
    "def apps_placed_before_date(movs,date):\n",
    "    return movs[(movs['movement_result'].isin(['ADMITIDO / COLOCADO'])) & (movs['movement_event_date'] < date)]['application_id'].unique()\n",
    "\n",
    "def apps_exited_before_date(movs,date):\n",
    "    return np.unique(np.append(apps_cancelled_before_date(movs,date),apps_placed_before_date(movs,date)))\n",
    "\n",
    "def filter_by_time_range(df,column,start_date,end_date):\n",
    "    return df[(df[column] >= start_date) & (df[column] < end_date)].copy()\n",
    "\n",
    "def split_train_test_on_action_date(apps_df, movs_df,action_date,timedelta):\n",
    "    #Define start and end dates for app_start_date filtering based on action date\n",
    "    apps_train_st_date = action_date - 2*timedelta\n",
    "    apps_train_end_date = action_date - timedelta\n",
    "    apps_test_st_date = action_date - timedelta\n",
    "    apps_test_end_date = action_date\n",
    "    \n",
    "    #Select applications for train and test sets based on their app_start_date\n",
    "    train_apps = filter_by_time_range(apps_df,'app_start_date',apps_train_st_date,apps_train_end_date).sort_values('app_start_date')\n",
    "    test_apps = filter_by_time_range(apps_df,'app_start_date',apps_test_st_date,apps_test_end_date).sort_values('app_start_date')\n",
    "    \n",
    "    #Select movements for train and test sets based on their movement_event_date\n",
    "    train_movs = filter_by_time_range(movs_df[movs_df['application_id'].isin(train_apps['table_index'])],'movement_event_date',apps_train_st_date,apps_train_end_date).sort_values('movement_event_date')\n",
    "    test_movs = filter_by_time_range(movs_df[movs_df['application_id'].isin(test_apps['table_index'])],'movement_event_date',apps_test_st_date,apps_test_end_date).sort_values('movement_event_date')    \n",
    "    \n",
    "    #Remove people who exited the system before the end date\n",
    "    train_exitted = apps_exited_before_date(train_movs,action_date)\n",
    "    train_apps = train_apps[np.logical_not(train_apps['table_index'].isin(train_exitted))]\n",
    "    train_movs = train_movs[np.logical_not(train_movs['application_id'].isin(train_exitted))]\n",
    "    \n",
    "    test_exitted = apps_exited_before_date(test_movs,action_date)\n",
    "    test_apps = test_apps[np.logical_not(test_apps['table_index'].isin(test_exitted))]\n",
    "    test_movs = test_movs[np.logical_not(test_movs['application_id'].isin(test_exitted))]\n",
    "    \n",
    "    return (train_apps,train_movs,test_apps,test_movs)"
   ]
  },
  {
   "cell_type": "code",
   "execution_count": 48,
   "metadata": {},
   "outputs": [],
   "source": [
    "train_apps,train_movs,test_apps,test_movs = split_train_test_on_action_date(apps,movs,pd.to_datetime('2015-05-01'),pd.Timedelta('182.5D'))"
   ]
  },
  {
   "cell_type": "code",
   "execution_count": 49,
   "metadata": {
    "collapsed": true
   },
   "outputs": [],
   "source": [
    "#Assert that no application id appears in both sets\n",
    "assert sum(train_movs['application_id'].isin(test_movs['application_id'])) == 0"
   ]
  },
  {
   "cell_type": "code",
   "execution_count": 50,
   "metadata": {},
   "outputs": [],
   "source": [
    "#Assert that applications which exitted the system before the action date do not figure in the train/test sets\n",
    "action_date = pd.to_datetime('2015-05-01')\n",
    "train_st_date = pd.to_datetime('2015-05-01') - 2*pd.Timedelta('182.5D')\n",
    "train_end_date = pd.to_datetime('2015-05-01') - pd.Timedelta('182.5D')\n",
    "selected_train_apps = filter_by_time_range(apps,'app_start_date',train_st_date,train_end_date)\n",
    "selected_train_movs = filter_by_time_range(movs[movs['application_id'].isin(selected_train_apps['table_index'])],'movement_event_date',train_st_date,train_end_date)\n",
    "exitted_train_apps = apps_exited_before_date(selected_train_movs,action_date)\n",
    "\n",
    "assert sum(train_movs['application_id'].isin(exitted_train_apps)) == 0\n",
    "\n",
    "test_st_date = pd.to_datetime('2015-05-01') - pd.Timedelta('182.5D')\n",
    "test_end_date = pd.to_datetime('2015-05-01')\n",
    "selected_test_apps = filter_by_time_range(apps,'app_start_date',test_st_date,test_end_date)\n",
    "selected_test_movs = filter_by_time_range(movs[movs['application_id'].isin(selected_test_apps['table_index'])],'movement_event_date',test_st_date,test_end_date)\n",
    "exitted_test_apps = apps_exited_before_date(selected_test_movs,action_date)\n",
    "\n",
    "assert sum(test_movs['application_id'].isin(exitted_test_apps)) == 0"
   ]
  },
  {
   "cell_type": "code",
   "execution_count": 51,
   "metadata": {
    "collapsed": true
   },
   "outputs": [],
   "source": [
    "#Assert that applications dates match expected dates in train set\n",
    "train_app_start_date = pd.to_datetime('2015-05-01') - 2*pd.Timedelta('182.5D')\n",
    "train_app_end_date = pd.to_datetime('2015-05-01') - pd.Timedelta('182.5D')\n",
    "assert sum(train_movs[train_movs['movement_type'].isin(['application'])]['movement_event_date'] < train_app_start_date) == 0\n",
    "assert sum(train_movs[train_movs['movement_type'].isin(['application'])]['movement_event_date'] >= train_app_end_date) == 0"
   ]
  },
  {
   "cell_type": "code",
   "execution_count": 52,
   "metadata": {
    "collapsed": true
   },
   "outputs": [],
   "source": [
    "#Assert that movements dates match expected dates in train set\n",
    "train_mov_start_date = pd.to_datetime('2015-05-01') - 2*pd.Timedelta('182.5D')\n",
    "train_mov_end_date = pd.to_datetime('2015-05-01') - pd.Timedelta('182.5D')\n",
    "assert sum(train_movs['movement_event_date'] < train_mov_start_date) == 0\n",
    "assert sum(train_movs['movement_event_date'] >= train_mov_end_date) == 0"
   ]
  },
  {
   "cell_type": "code",
   "execution_count": 53,
   "metadata": {
    "collapsed": true
   },
   "outputs": [],
   "source": [
    "#Assert that applications dates match expected dates in test set\n",
    "test_app_start_date = pd.to_datetime('2015-05-01') - pd.Timedelta('182.5D')\n",
    "test_app_end_date = pd.to_datetime('2015-05-01')\n",
    "assert sum(test_movs[test_movs['movement_type'].isin(['application'])]['movement_event_date'] < test_app_start_date) == 0\n",
    "assert sum(test_movs[test_movs['movement_type'].isin(['application'])]['movement_event_date'] >= test_app_end_date) == 0"
   ]
  },
  {
   "cell_type": "code",
   "execution_count": 54,
   "metadata": {
    "collapsed": true
   },
   "outputs": [],
   "source": [
    "#Assert that movements dates match expected dates in test set\n",
    "test_mov_start_date = pd.to_datetime('2015-05-01') - pd.Timedelta('182.5D')\n",
    "test_mov_end_date = pd.to_datetime('2015-05-01')\n",
    "assert sum(test_movs['movement_event_date'] < test_mov_start_date) == 0\n",
    "assert sum(test_movs['movement_event_date'] >= test_mov_end_date) == 0"
   ]
  },
  {
   "cell_type": "code",
   "execution_count": 55,
   "metadata": {},
   "outputs": [
    {
     "name": "stdout",
     "output_type": "stream",
     "text": [
      "87555   2014-05-02\n",
      "87464   2014-05-02\n",
      "88025   2014-05-02\n",
      "87309   2014-05-02\n",
      "87465   2014-05-02\n",
      "Name: app_start_date, dtype: datetime64[ns]\n",
      "92518   2014-10-30 00:00:00\n",
      "92517   2014-10-30 00:00:00\n",
      "93233   2014-10-30 00:00:00\n",
      "92778   2014-10-30 10:02:35\n",
      "92779   2014-10-30 10:02:35\n",
      "Name: app_start_date, dtype: datetime64[ns]\n",
      "Max diff: 181 days 10:02:35\n"
     ]
    }
   ],
   "source": [
    "print(train_apps['app_start_date'].head())\n",
    "print(train_apps['app_start_date'].tail())\n",
    "print \"Max diff:\",(train_apps['app_start_date'].iloc[-1]-train_apps['app_start_date'].iloc[1])"
   ]
  },
  {
   "cell_type": "code",
   "execution_count": 56,
   "metadata": {},
   "outputs": [
    {
     "name": "stdout",
     "output_type": "stream",
     "text": [
      "1161098   2014-05-02\n",
      "179786    2014-05-02\n",
      "179787    2014-05-02\n",
      "179788    2014-05-02\n",
      "296838    2014-05-02\n",
      "Name: movement_event_date, dtype: datetime64[ns]\n",
      "1134859   2014-10-30\n",
      "1134858   2014-10-30\n",
      "1134857   2014-10-30\n",
      "1134856   2014-10-30\n",
      "1182144   2014-10-30\n",
      "Name: movement_event_date, dtype: datetime64[ns]\n",
      "Max diff: 181 days 00:00:00\n"
     ]
    }
   ],
   "source": [
    "print(train_movs['movement_event_date'].head())\n",
    "print(train_movs['movement_event_date'].tail())\n",
    "print \"Max diff:\",(train_movs['movement_event_date'].iloc[-1]-train_movs['movement_event_date'].iloc[1])"
   ]
  },
  {
   "cell_type": "code",
   "execution_count": 57,
   "metadata": {},
   "outputs": [
    {
     "name": "stdout",
     "output_type": "stream",
     "text": [
      "93627   2014-10-30 12:23:57\n",
      "93667   2014-10-31 00:00:00\n",
      "93668   2014-10-31 00:00:00\n",
      "93670   2014-10-31 00:00:00\n",
      "92596   2014-10-31 00:00:00\n",
      "Name: app_start_date, dtype: datetime64[ns]\n",
      "99318    2015-04-30 00:00:00\n",
      "99262    2015-04-30 00:00:00\n",
      "99241    2015-04-30 00:00:00\n",
      "100228   2015-04-30 00:00:00\n",
      "100606   2015-04-30 10:59:22\n",
      "Name: app_start_date, dtype: datetime64[ns]\n",
      "Max diff: 181 days 10:59:22\n"
     ]
    }
   ],
   "source": [
    "print(test_apps['app_start_date'].head())\n",
    "print(test_apps['app_start_date'].tail())\n",
    "print \"Max diff:\",(test_apps['app_start_date'].iloc[-1]-test_apps['app_start_date'].iloc[1])"
   ]
  },
  {
   "cell_type": "code",
   "execution_count": 58,
   "metadata": {},
   "outputs": [
    {
     "name": "stdout",
     "output_type": "stream",
     "text": [
      "1138929   2014-10-31\n",
      "598007    2014-10-31\n",
      "598006    2014-10-31\n",
      "783576    2014-10-31\n",
      "1122546   2014-10-31\n",
      "Name: movement_event_date, dtype: datetime64[ns]\n",
      "1037211   2015-04-30\n",
      "175934    2015-04-30\n",
      "175935    2015-04-30\n",
      "639656    2015-04-30\n",
      "1199309   2015-04-30\n",
      "Name: movement_event_date, dtype: datetime64[ns]\n",
      "Max diff: 181 days 00:00:00\n"
     ]
    }
   ],
   "source": [
    "print(test_movs['movement_event_date'].head())\n",
    "print(test_movs['movement_event_date'].tail())\n",
    "print \"Max diff:\",(test_movs['movement_event_date'].iloc[-1]-test_movs['movement_event_date'].iloc[1])"
   ]
  },
  {
   "cell_type": "code",
   "execution_count": null,
   "metadata": {
    "collapsed": true
   },
   "outputs": [],
   "source": []
  }
 ],
 "metadata": {
  "kernelspec": {
   "display_name": "Python 2",
   "language": "python",
   "name": "python2"
  },
  "language_info": {
   "codemirror_mode": {
    "name": "ipython",
    "version": 2
   },
   "file_extension": ".py",
   "mimetype": "text/x-python",
   "name": "python",
   "nbconvert_exporter": "python",
   "pygments_lexer": "ipython2",
   "version": "2.7.13"
  }
 },
 "nbformat": 4,
 "nbformat_minor": 2
}
