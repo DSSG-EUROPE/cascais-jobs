{
 "cells": [
  {
   "cell_type": "markdown",
   "metadata": {},
   "source": [
    "## Data and package imports"
   ]
  },
  {
   "cell_type": "code",
   "execution_count": 1,
   "metadata": {
    "collapsed": true
   },
   "outputs": [],
   "source": [
    "import pandas as pd\n",
    "import numpy as np\n",
    "from pandas import Series, DataFrame\n",
    "import matplotlib.pyplot as plt\n",
    "import psycopg2 as pg\n",
    "%matplotlib inline\n",
    "import seaborn as sns\n",
    "import dbcreds\n",
    "from datetime import datetime, timedelta\n",
    "\n",
    "import sklearn\n",
    "from sklearn.metrics import precision_recall_curve, auc\n",
    "from sklearn.metrics import accuracy_score, precision_score, recall_score\n",
    "from sklearn.ensemble import (RandomForestClassifier, ExtraTreesClassifier, GradientBoostingClassifier, \n",
    "AdaBoostClassifier)\n",
    "from sklearn.linear_model import LogisticRegression, SGDClassifier\n",
    "from sklearn.naive_bayes import GaussianNB\n",
    "from sklearn.tree import DecisionTreeClassifier\n",
    "\n",
    "#from .utils import db_utils"
   ]
  },
  {
   "cell_type": "code",
   "execution_count": 2,
   "metadata": {
    "collapsed": true
   },
   "outputs": [],
   "source": [
    "class color:\n",
    "   PURPLE = '\\033[95m'\n",
    "   CYAN = '\\033[96m'\n",
    "   DARKCYAN = '\\033[36m'\n",
    "   BLUE = '\\033[94m'\n",
    "   GREEN = '\\033[92m'\n",
    "   YELLOW = '\\033[93m'\n",
    "   RED = '\\033[91m'\n",
    "   BOLD = '\\033[1m'\n",
    "   UNDERLINE = '\\033[4m'\n",
    "   END = '\\033[0m'"
   ]
  },
  {
   "cell_type": "code",
   "execution_count": 3,
   "metadata": {
    "collapsed": true
   },
   "outputs": [],
   "source": [
    "conn = pg.connect(dbname = dbcreds.database, host=dbcreds.host, user=dbcreds.user, password = dbcreds.password)\n",
    "apps_df = pd.read_sql('select * from cascais.application', con=conn)\n",
    "move_df = pd.read_sql('select * from cascais.movement', con=conn)"
   ]
  },
  {
   "cell_type": "code",
   "execution_count": 4,
   "metadata": {},
   "outputs": [
    {
     "name": "stdout",
     "output_type": "stream",
     "text": [
      "\u001b[1mMovements, Applications, and Users: \n",
      "Original Dataset\u001b[0m\n",
      "870061\n",
      "125029\n",
      "65523\n"
     ]
    }
   ],
   "source": [
    "#print lengths of original tables\n",
    "print color.BOLD+'Movements, Applications, and Users: \\nOriginal Dataset'+color.END\n",
    "print len(move_df)\n",
    "print len(apps_df)\n",
    "print apps_df.ute_id.nunique()\n",
    "\n",
    "#show dates of last movements\n",
    "#move_df.groupby('date').application_id.count().sort_index(ascending=False)"
   ]
  },
  {
   "cell_type": "code",
   "execution_count": 5,
   "metadata": {},
   "outputs": [
    {
     "data": {
      "text/plain": [
       "numpy.int64"
      ]
     },
     "execution_count": 5,
     "metadata": {},
     "output_type": "execute_result"
    }
   ],
   "source": [
    "move_df.head()\n",
    "#move_df.loc[10, 'movement_date']==''\n",
    "type(move_df.loc[10, 'year_month'])"
   ]
  },
  {
   "cell_type": "markdown",
   "metadata": {},
   "source": [
    "## Filter data to use"
   ]
  },
  {
   "cell_type": "code",
   "execution_count": 6,
   "metadata": {
    "collapsed": true
   },
   "outputs": [],
   "source": [
    "# create datetime objects for applications from candidatura_data\n",
    "# apps_df.loc[:,'date']= apps_df.loc[:,'candidatura_data'].apply(\n",
    "# #     lambda x: None if x=='' else datetime(year=int(x[0:4]),\n",
    "# #                        month=int(x[5:7]),\n",
    "# #                        day=int(x[8:10])))\n",
    "\n",
    "apps_df.loc[:, 'date']=pd.to_datetime(apps_df.loc[:,'anomes'],format=\"%Y%m\")"
   ]
  },
  {
   "cell_type": "code",
   "execution_count": 7,
   "metadata": {},
   "outputs": [],
   "source": [
    "#create datetime objects for cancellations,\n",
    "# and placeholder dates for movements that aren't cancellations\n",
    "def create_date(series):\n",
    "    if series['movement_date'] == '':\n",
    "        return datetime(year=int(str(series['year_month'])[0:4]),\n",
    "                        month = int(str(series['year_month'])[4:6]),\n",
    "                        day = 15)\n",
    "    else:\n",
    "        return datetime(year=int(series['movement_date'][0:4]),\n",
    "                       month=int(series['movement_date'][5:7]),\n",
    "                       day=int(series['movement_date'][8:10]))\n",
    "\n",
    "move_df.loc[:, 'date'] = pd.to_datetime(move_df.loc[:,'year_month'],format=\"%Y%m\")\n",
    "#move_df.apply(create_date, axis=1)\n",
    "\n",
    "# OR create datetime objects for just cancellations from movement_date\n",
    "# move_df.loc[:, 'date'] = move_df.loc[:, 'movement_date'].apply(\n",
    "#     lambda x: None if x=='' else datetime(year=int(x[0:4]),\n",
    "#                        month=int(x[5:7]),\n",
    "#                        day=int(x[8:10])))"
   ]
  },
  {
   "cell_type": "code",
   "execution_count": 8,
   "metadata": {},
   "outputs": [
    {
     "data": {
      "text/html": [
       "<div>\n",
       "<style>\n",
       "    .dataframe thead tr:only-child th {\n",
       "        text-align: right;\n",
       "    }\n",
       "\n",
       "    .dataframe thead th {\n",
       "        text-align: left;\n",
       "    }\n",
       "\n",
       "    .dataframe tbody tr th {\n",
       "        vertical-align: top;\n",
       "    }\n",
       "</style>\n",
       "<table border=\"1\" class=\"dataframe\">\n",
       "  <thead>\n",
       "    <tr style=\"text-align: right;\">\n",
       "      <th></th>\n",
       "      <th>table_index</th>\n",
       "      <th>anomes</th>\n",
       "      <th>ctipo_movimento</th>\n",
       "      <th>dtipo_movimento</th>\n",
       "      <th>ute_id</th>\n",
       "      <th>sexo</th>\n",
       "      <th>chabilitacao_escolar</th>\n",
       "      <th>dhabilitacao_escolar</th>\n",
       "      <th>cdeficiencia</th>\n",
       "      <th>ddeficiencia</th>\n",
       "      <th>...</th>\n",
       "      <th>conjuge_estado_civil</th>\n",
       "      <th>conjuge_categoria</th>\n",
       "      <th>conjuge_estado</th>\n",
       "      <th>conjuge_motivo_indisponibilidade</th>\n",
       "      <th>candidatura_categoria_anterior</th>\n",
       "      <th>candidatura_estado_anterior</th>\n",
       "      <th>ute_nr_pessoas_cargo</th>\n",
       "      <th>ute_nr_descendentes_cargo</th>\n",
       "      <th>candidatura_data_ppe</th>\n",
       "      <th>date</th>\n",
       "    </tr>\n",
       "  </thead>\n",
       "  <tbody>\n",
       "    <tr>\n",
       "      <th>0</th>\n",
       "      <td>1</td>\n",
       "      <td>200701</td>\n",
       "      <td>11</td>\n",
       "      <td>PEDIDOS DE EMPREGO AO LONGO DO MÃS</td>\n",
       "      <td>1058797</td>\n",
       "      <td>M</td>\n",
       "      <td>09</td>\n",
       "      <td>9 ANOS</td>\n",
       "      <td>0</td>\n",
       "      <td>NÃO DEFICIENTE</td>\n",
       "      <td>...</td>\n",
       "      <td>None</td>\n",
       "      <td>None</td>\n",
       "      <td>None</td>\n",
       "      <td>None</td>\n",
       "      <td>None</td>\n",
       "      <td>None</td>\n",
       "      <td>0.0</td>\n",
       "      <td>None</td>\n",
       "      <td>None</td>\n",
       "      <td>2007-01-01</td>\n",
       "    </tr>\n",
       "    <tr>\n",
       "      <th>1</th>\n",
       "      <td>2</td>\n",
       "      <td>200701</td>\n",
       "      <td>11</td>\n",
       "      <td>PEDIDOS DE EMPREGO AO LONGO DO MÃS</td>\n",
       "      <td>1062047</td>\n",
       "      <td>F</td>\n",
       "      <td>06</td>\n",
       "      <td>6 ANOS</td>\n",
       "      <td>0</td>\n",
       "      <td>NÃO DEFICIENTE</td>\n",
       "      <td>...</td>\n",
       "      <td>None</td>\n",
       "      <td>None</td>\n",
       "      <td>None</td>\n",
       "      <td>None</td>\n",
       "      <td>None</td>\n",
       "      <td>None</td>\n",
       "      <td>1.0</td>\n",
       "      <td>None</td>\n",
       "      <td>None</td>\n",
       "      <td>2007-01-01</td>\n",
       "    </tr>\n",
       "    <tr>\n",
       "      <th>2</th>\n",
       "      <td>3</td>\n",
       "      <td>200701</td>\n",
       "      <td>11</td>\n",
       "      <td>PEDIDOS DE EMPREGO AO LONGO DO MÃS</td>\n",
       "      <td>1080395</td>\n",
       "      <td>F</td>\n",
       "      <td>06</td>\n",
       "      <td>6 ANOS</td>\n",
       "      <td>21</td>\n",
       "      <td>DEFICIÃNCIAS DA MEMÃRIA</td>\n",
       "      <td>...</td>\n",
       "      <td>None</td>\n",
       "      <td>None</td>\n",
       "      <td>None</td>\n",
       "      <td>None</td>\n",
       "      <td>None</td>\n",
       "      <td>None</td>\n",
       "      <td>1.0</td>\n",
       "      <td>None</td>\n",
       "      <td>None</td>\n",
       "      <td>2007-01-01</td>\n",
       "    </tr>\n",
       "    <tr>\n",
       "      <th>3</th>\n",
       "      <td>4</td>\n",
       "      <td>200701</td>\n",
       "      <td>11</td>\n",
       "      <td>PEDIDOS DE EMPREGO AO LONGO DO MÃS</td>\n",
       "      <td>1194683</td>\n",
       "      <td>F</td>\n",
       "      <td>LC</td>\n",
       "      <td>LICENCIATURA</td>\n",
       "      <td>0</td>\n",
       "      <td>NÃO DEFICIENTE</td>\n",
       "      <td>...</td>\n",
       "      <td>None</td>\n",
       "      <td>None</td>\n",
       "      <td>None</td>\n",
       "      <td>None</td>\n",
       "      <td>None</td>\n",
       "      <td>None</td>\n",
       "      <td>0.0</td>\n",
       "      <td>None</td>\n",
       "      <td>None</td>\n",
       "      <td>2007-01-01</td>\n",
       "    </tr>\n",
       "    <tr>\n",
       "      <th>4</th>\n",
       "      <td>5</td>\n",
       "      <td>200701</td>\n",
       "      <td>11</td>\n",
       "      <td>PEDIDOS DE EMPREGO AO LONGO DO MÃS</td>\n",
       "      <td>1199775</td>\n",
       "      <td>M</td>\n",
       "      <td>09</td>\n",
       "      <td>9 ANOS</td>\n",
       "      <td>0</td>\n",
       "      <td>NÃO DEFICIENTE</td>\n",
       "      <td>...</td>\n",
       "      <td>None</td>\n",
       "      <td>None</td>\n",
       "      <td>None</td>\n",
       "      <td>None</td>\n",
       "      <td>None</td>\n",
       "      <td>None</td>\n",
       "      <td>0.0</td>\n",
       "      <td>None</td>\n",
       "      <td>None</td>\n",
       "      <td>2007-01-01</td>\n",
       "    </tr>\n",
       "  </tbody>\n",
       "</table>\n",
       "<p>5 rows × 62 columns</p>\n",
       "</div>"
      ],
      "text/plain": [
       "   table_index  anomes  ctipo_movimento                      dtipo_movimento  \\\n",
       "0            1  200701               11  PEDIDOS DE EMPREGO AO LONGO DO MÃS   \n",
       "1            2  200701               11  PEDIDOS DE EMPREGO AO LONGO DO MÃS   \n",
       "2            3  200701               11  PEDIDOS DE EMPREGO AO LONGO DO MÃS   \n",
       "3            4  200701               11  PEDIDOS DE EMPREGO AO LONGO DO MÃS   \n",
       "4            5  200701               11  PEDIDOS DE EMPREGO AO LONGO DO MÃS   \n",
       "\n",
       "    ute_id sexo chabilitacao_escolar dhabilitacao_escolar  cdeficiencia  \\\n",
       "0  1058797    M                   09               9 ANOS             0   \n",
       "1  1062047    F                   06               6 ANOS             0   \n",
       "2  1080395    F                   06               6 ANOS            21   \n",
       "3  1194683    F                   LC         LICENCIATURA             0   \n",
       "4  1199775    M                   09               9 ANOS             0   \n",
       "\n",
       "                ddeficiencia    ...     conjuge_estado_civil  \\\n",
       "0            NÃO DEFICIENTE    ...                     None   \n",
       "1            NÃO DEFICIENTE    ...                     None   \n",
       "2  DEFICIÃNCIAS DA MEMÃRIA    ...                     None   \n",
       "3            NÃO DEFICIENTE    ...                     None   \n",
       "4            NÃO DEFICIENTE    ...                     None   \n",
       "\n",
       "  conjuge_categoria conjuge_estado conjuge_motivo_indisponibilidade  \\\n",
       "0              None           None                             None   \n",
       "1              None           None                             None   \n",
       "2              None           None                             None   \n",
       "3              None           None                             None   \n",
       "4              None           None                             None   \n",
       "\n",
       "  candidatura_categoria_anterior candidatura_estado_anterior  \\\n",
       "0                           None                        None   \n",
       "1                           None                        None   \n",
       "2                           None                        None   \n",
       "3                           None                        None   \n",
       "4                           None                        None   \n",
       "\n",
       "  ute_nr_pessoas_cargo  ute_nr_descendentes_cargo candidatura_data_ppe  \\\n",
       "0                  0.0                       None                 None   \n",
       "1                  1.0                       None                 None   \n",
       "2                  1.0                       None                 None   \n",
       "3                  0.0                       None                 None   \n",
       "4                  0.0                       None                 None   \n",
       "\n",
       "        date  \n",
       "0 2007-01-01  \n",
       "1 2007-01-01  \n",
       "2 2007-01-01  \n",
       "3 2007-01-01  \n",
       "4 2007-01-01  \n",
       "\n",
       "[5 rows x 62 columns]"
      ]
     },
     "execution_count": 8,
     "metadata": {},
     "output_type": "execute_result"
    }
   ],
   "source": [
    "apps_df.head()"
   ]
  },
  {
   "cell_type": "code",
   "execution_count": 9,
   "metadata": {},
   "outputs": [
    {
     "data": {
      "text/html": [
       "<div>\n",
       "<style>\n",
       "    .dataframe thead tr:only-child th {\n",
       "        text-align: right;\n",
       "    }\n",
       "\n",
       "    .dataframe thead th {\n",
       "        text-align: left;\n",
       "    }\n",
       "\n",
       "    .dataframe tbody tr th {\n",
       "        vertical-align: top;\n",
       "    }\n",
       "</style>\n",
       "<table border=\"1\" class=\"dataframe\">\n",
       "  <thead>\n",
       "    <tr style=\"text-align: right;\">\n",
       "      <th></th>\n",
       "      <th>ute_id</th>\n",
       "      <th>movement_date</th>\n",
       "      <th>year_month</th>\n",
       "      <th>application_id</th>\n",
       "      <th>movement_type</th>\n",
       "      <th>movement_subtype</th>\n",
       "      <th>movement_result</th>\n",
       "      <th>movement_index</th>\n",
       "      <th>date</th>\n",
       "    </tr>\n",
       "  </thead>\n",
       "  <tbody>\n",
       "    <tr>\n",
       "      <th>0</th>\n",
       "      <td>677</td>\n",
       "      <td></td>\n",
       "      <td>200701</td>\n",
       "      <td>-1</td>\n",
       "      <td>convocation</td>\n",
       "      <td>GERAL UTENTE</td>\n",
       "      <td>COMPARECEU</td>\n",
       "      <td>3</td>\n",
       "      <td>2007-01-01</td>\n",
       "    </tr>\n",
       "    <tr>\n",
       "      <th>1</th>\n",
       "      <td>677</td>\n",
       "      <td></td>\n",
       "      <td>200702</td>\n",
       "      <td>-1</td>\n",
       "      <td>convocation</td>\n",
       "      <td>INTERVENÃÃO TÃCNICA</td>\n",
       "      <td>COMPARECEU</td>\n",
       "      <td>2752</td>\n",
       "      <td>2007-02-01</td>\n",
       "    </tr>\n",
       "    <tr>\n",
       "      <th>2</th>\n",
       "      <td>677</td>\n",
       "      <td>2007-09-26 00:00:00</td>\n",
       "      <td>200709</td>\n",
       "      <td>-1</td>\n",
       "      <td>cancellation</td>\n",
       "      <td>FALTA AO CONTROLO</td>\n",
       "      <td></td>\n",
       "      <td>7180</td>\n",
       "      <td>2007-09-01</td>\n",
       "    </tr>\n",
       "    <tr>\n",
       "      <th>3</th>\n",
       "      <td>710</td>\n",
       "      <td>2016-12-06 00:00:00</td>\n",
       "      <td>201612</td>\n",
       "      <td>120674</td>\n",
       "      <td>application</td>\n",
       "      <td>DESEMPREGADO-NOVO EMPREGO</td>\n",
       "      <td></td>\n",
       "      <td>120674</td>\n",
       "      <td>2016-12-01</td>\n",
       "    </tr>\n",
       "    <tr>\n",
       "      <th>4</th>\n",
       "      <td>710</td>\n",
       "      <td></td>\n",
       "      <td>201701</td>\n",
       "      <td>120674</td>\n",
       "      <td>convocation</td>\n",
       "      <td>INTERVENÃÃO TÃCNICA</td>\n",
       "      <td>COMPARECEU</td>\n",
       "      <td>248206</td>\n",
       "      <td>2017-01-01</td>\n",
       "    </tr>\n",
       "  </tbody>\n",
       "</table>\n",
       "</div>"
      ],
      "text/plain": [
       "   ute_id        movement_date  year_month  application_id movement_type  \\\n",
       "0     677                           200701              -1   convocation   \n",
       "1     677                           200702              -1   convocation   \n",
       "2     677  2007-09-26 00:00:00      200709              -1  cancellation   \n",
       "3     710  2016-12-06 00:00:00      201612          120674   application   \n",
       "4     710                           201701          120674   convocation   \n",
       "\n",
       "            movement_subtype movement_result  movement_index       date  \n",
       "0               GERAL UTENTE      COMPARECEU               3 2007-01-01  \n",
       "1     INTERVENÃÃO TÃCNICA      COMPARECEU            2752 2007-02-01  \n",
       "2          FALTA AO CONTROLO                            7180 2007-09-01  \n",
       "3  DESEMPREGADO-NOVO EMPREGO                          120674 2016-12-01  \n",
       "4     INTERVENÃÃO TÃCNICA      COMPARECEU          248206 2017-01-01  "
      ]
     },
     "execution_count": 9,
     "metadata": {},
     "output_type": "execute_result"
    }
   ],
   "source": [
    "move_df.head()"
   ]
  },
  {
   "cell_type": "code",
   "execution_count": 10,
   "metadata": {},
   "outputs": [
    {
     "name": "stdout",
     "output_type": "stream",
     "text": [
      "\u001b[1mMovements, Applications, and Users: \n",
      "Removed apps after April 28, 2016 & associated movements\u001b[0m\n",
      "756387\n",
      "113249\n",
      "61403\n"
     ]
    }
   ],
   "source": [
    "# Identify application IDs that are associated with applications submitted after\n",
    "# April 2016 - to allow for 1 year of follow-up data\n",
    "apps_not_late = apps_df[apps_df['date']<=datetime(2016, 4, 30)].loc[:,'table_index'].tolist()\n",
    "\n",
    "apps_df = apps_df[apps_df['table_index'].isin(apps_not_late)]\n",
    "move_df = move_df[move_df['application_id'].isin(apps_df['table_index'])]\n",
    "\n",
    "print color.BOLD+'Movements, Applications, and Users: \\nRemoved apps after April 28, 2016 & associated movements'+color.END\n",
    "print len(move_df)\n",
    "print len(apps_df)\n",
    "print apps_df.ute_id.nunique()"
   ]
  },
  {
   "cell_type": "code",
   "execution_count": 11,
   "metadata": {},
   "outputs": [
    {
     "name": "stdout",
     "output_type": "stream",
     "text": [
      "\u001b[1mMovements, Applications, and Users: \n",
      "Removed apps after April 28, 2016 & associated movements\n",
      "Removed employed & part-time employed\u001b[0m\n",
      "729811\n",
      "108663\n",
      "59941\n"
     ]
    }
   ],
   "source": [
    "# Identify applications IDs that were not unemployed\n",
    "apps_df.dcategoria.value_counts()\n",
    "apps_df = apps_df[apps_df['dcategoria'].isin(['DESEMPREGADO-NOVO EMPREGO',\n",
    "                                            'DESEMPREGADO-1Âº EMPREGO'])]\n",
    "move_df = move_df[move_df['application_id'].isin(apps_df['table_index'])]\n",
    "print color.BOLD+'Movements, Applications, and Users: \\nRemoved apps after April 28, 2016 & associated movements\\nRemoved employed & part-time employed'+color.END\n",
    "print len(move_df)\n",
    "print len(apps_df)\n",
    "print apps_df.ute_id.nunique()"
   ]
  },
  {
   "cell_type": "markdown",
   "metadata": {},
   "source": [
    "## Generating labels"
   ]
  },
  {
   "cell_type": "code",
   "execution_count": 12,
   "metadata": {
    "collapsed": true
   },
   "outputs": [],
   "source": [
    "# Create dictionary of appliction dates\n",
    "app_date_dict = dict(zip(apps_df['table_index'], apps_df['date']))\n",
    "\n",
    "# Create time since app variable\n",
    "move_df.loc[:, 'app_date'] = move_df.loc[:, 'application_id'].map(app_date_dict)\n",
    "move_df.loc[:, 'time_since_app'] = move_df.loc[:, 'date'] - move_df.loc[:, 'app_date']"
   ]
  },
  {
   "cell_type": "code",
   "execution_count": 13,
   "metadata": {
    "collapsed": true
   },
   "outputs": [],
   "source": [
    "# Identify applications that had an interview placement within 12 months\n",
    "apps_placed_interview = move_df[(move_df['movement_result']=='ADMITIDO / COLOCADO') \\\n",
    "                                & (move_df['time_since_app']<=timedelta(days=365))].\\\n",
    "application_id.unique().tolist()"
   ]
  },
  {
   "cell_type": "code",
   "execution_count": 14,
   "metadata": {
    "collapsed": true
   },
   "outputs": [],
   "source": [
    "# Identify applications that had a cancellation for becoming employed within 12 months\n",
    "employed_cancellations = ['COLOCAÃÃO POR MEIOS PRÃPRIOS, POR CONTA DE OUTREM',\n",
    "                         'COLOCAÃÃO POR MEIOS PRÃPRIOS, POR CONTA PRÃPRIA',\n",
    "                         'COLOCAÃÃO - CANDIDATURA EXTERNA'\n",
    "                         'COLOCAÃÃO - CANDIDATURA INTERNA']\n",
    "\n",
    "apps_placed_cancellation = move_df[(move_df['movement_subtype'].isin(employed_cancellations)) \\\n",
    "                                & (move_df['time_since_app']<=timedelta(days=365))].\\\n",
    "application_id.unique().tolist()\n",
    "\n",
    "\n",
    "# Identify applications that had any canacellation within 12 months\n",
    "apps_cancelled_12 = move_df[(move_df['movement_type']=='cancellation') \\\n",
    "                                & (move_df['time_since_app']<=timedelta(days=365))].\\\n",
    "application_id.unique().tolist()"
   ]
  },
  {
   "cell_type": "code",
   "execution_count": 15,
   "metadata": {},
   "outputs": [
    {
     "name": "stdout",
     "output_type": "stream",
     "text": [
      "Applications placed within 12 mo thru interview: 4245\n",
      "Applications placed within 12 mo thru cancellation: 17395\n",
      "Applications that appear in both lists: 223\n",
      "\n",
      "Applications cancelled within 12 months: 71595\n",
      "Applications that were both placed and cancelled within 12 months: 504\n"
     ]
    }
   ],
   "source": [
    "print 'Applications placed within 12 mo thru interview: '+\\\n",
    "str(len(apps_placed_interview))\n",
    "\n",
    "print 'Applications placed within 12 mo thru cancellation: '+\\\n",
    "str(len(apps_placed_cancellation))\n",
    "\n",
    "print 'Applications that appear in both lists: '+\\\n",
    "str(len(set(apps_placed_interview).intersection(apps_placed_cancellation)))\n",
    "\n",
    "print '\\nApplications cancelled within 12 months: '+\\\n",
    "str(len(apps_cancelled_12))\n",
    "print 'Applications that were both placed and cancelled within 12 months: '+\\\n",
    "str(len(set(apps_placed_interview).intersection(apps_cancelled_12)))"
   ]
  },
  {
   "cell_type": "code",
   "execution_count": 16,
   "metadata": {},
   "outputs": [
    {
     "data": {
      "text/html": [
       "<div>\n",
       "<style>\n",
       "    .dataframe thead tr:only-child th {\n",
       "        text-align: right;\n",
       "    }\n",
       "\n",
       "    .dataframe thead th {\n",
       "        text-align: left;\n",
       "    }\n",
       "\n",
       "    .dataframe tbody tr th {\n",
       "        vertical-align: top;\n",
       "    }\n",
       "</style>\n",
       "<table border=\"1\" class=\"dataframe\">\n",
       "  <thead>\n",
       "    <tr style=\"text-align: right;\">\n",
       "      <th></th>\n",
       "      <th></th>\n",
       "      <th>ute_id</th>\n",
       "      <th>anomes</th>\n",
       "    </tr>\n",
       "    <tr>\n",
       "      <th>table_index</th>\n",
       "      <th>date</th>\n",
       "      <th></th>\n",
       "      <th></th>\n",
       "    </tr>\n",
       "  </thead>\n",
       "  <tbody>\n",
       "    <tr>\n",
       "      <th>1</th>\n",
       "      <th>2007-01-01</th>\n",
       "      <td>1</td>\n",
       "      <td>1</td>\n",
       "    </tr>\n",
       "    <tr>\n",
       "      <th>2</th>\n",
       "      <th>2007-01-01</th>\n",
       "      <td>1</td>\n",
       "      <td>1</td>\n",
       "    </tr>\n",
       "    <tr>\n",
       "      <th>3</th>\n",
       "      <th>2007-01-01</th>\n",
       "      <td>1</td>\n",
       "      <td>1</td>\n",
       "    </tr>\n",
       "    <tr>\n",
       "      <th>4</th>\n",
       "      <th>2007-01-01</th>\n",
       "      <td>1</td>\n",
       "      <td>1</td>\n",
       "    </tr>\n",
       "    <tr>\n",
       "      <th>5</th>\n",
       "      <th>2007-01-01</th>\n",
       "      <td>1</td>\n",
       "      <td>1</td>\n",
       "    </tr>\n",
       "  </tbody>\n",
       "</table>\n",
       "</div>"
      ],
      "text/plain": [
       "                        ute_id  anomes\n",
       "table_index date                      \n",
       "1           2007-01-01       1       1\n",
       "2           2007-01-01       1       1\n",
       "3           2007-01-01       1       1\n",
       "4           2007-01-01       1       1\n",
       "5           2007-01-01       1       1"
      ]
     },
     "execution_count": 16,
     "metadata": {},
     "output_type": "execute_result"
    }
   ],
   "source": [
    "apps_df.groupby(['table_index', 'date'])['ute_id', 'anomes'].count().head()"
   ]
  },
  {
   "cell_type": "code",
   "execution_count": 17,
   "metadata": {},
   "outputs": [
    {
     "data": {
      "text/html": [
       "<div>\n",
       "<style>\n",
       "    .dataframe thead tr:only-child th {\n",
       "        text-align: right;\n",
       "    }\n",
       "\n",
       "    .dataframe thead th {\n",
       "        text-align: left;\n",
       "    }\n",
       "\n",
       "    .dataframe tbody tr th {\n",
       "        vertical-align: top;\n",
       "    }\n",
       "</style>\n",
       "<table border=\"1\" class=\"dataframe\">\n",
       "  <thead>\n",
       "    <tr style=\"text-align: right;\">\n",
       "      <th></th>\n",
       "      <th>table_index</th>\n",
       "      <th>anomes</th>\n",
       "      <th>ctipo_movimento</th>\n",
       "      <th>dtipo_movimento</th>\n",
       "      <th>ute_id</th>\n",
       "      <th>sexo</th>\n",
       "      <th>chabilitacao_escolar</th>\n",
       "      <th>dhabilitacao_escolar</th>\n",
       "      <th>cdeficiencia</th>\n",
       "      <th>ddeficiencia</th>\n",
       "      <th>...</th>\n",
       "      <th>conjuge_estado_civil</th>\n",
       "      <th>conjuge_categoria</th>\n",
       "      <th>conjuge_estado</th>\n",
       "      <th>conjuge_motivo_indisponibilidade</th>\n",
       "      <th>candidatura_categoria_anterior</th>\n",
       "      <th>candidatura_estado_anterior</th>\n",
       "      <th>ute_nr_pessoas_cargo</th>\n",
       "      <th>ute_nr_descendentes_cargo</th>\n",
       "      <th>candidatura_data_ppe</th>\n",
       "      <th>date</th>\n",
       "    </tr>\n",
       "  </thead>\n",
       "  <tbody>\n",
       "    <tr>\n",
       "      <th>0</th>\n",
       "      <td>1</td>\n",
       "      <td>200701</td>\n",
       "      <td>11</td>\n",
       "      <td>PEDIDOS DE EMPREGO AO LONGO DO MÃS</td>\n",
       "      <td>1058797</td>\n",
       "      <td>M</td>\n",
       "      <td>09</td>\n",
       "      <td>9 ANOS</td>\n",
       "      <td>0</td>\n",
       "      <td>NÃO DEFICIENTE</td>\n",
       "      <td>...</td>\n",
       "      <td>None</td>\n",
       "      <td>None</td>\n",
       "      <td>None</td>\n",
       "      <td>None</td>\n",
       "      <td>None</td>\n",
       "      <td>None</td>\n",
       "      <td>0.0</td>\n",
       "      <td>None</td>\n",
       "      <td>None</td>\n",
       "      <td>2007-01-01</td>\n",
       "    </tr>\n",
       "    <tr>\n",
       "      <th>1</th>\n",
       "      <td>2</td>\n",
       "      <td>200701</td>\n",
       "      <td>11</td>\n",
       "      <td>PEDIDOS DE EMPREGO AO LONGO DO MÃS</td>\n",
       "      <td>1062047</td>\n",
       "      <td>F</td>\n",
       "      <td>06</td>\n",
       "      <td>6 ANOS</td>\n",
       "      <td>0</td>\n",
       "      <td>NÃO DEFICIENTE</td>\n",
       "      <td>...</td>\n",
       "      <td>None</td>\n",
       "      <td>None</td>\n",
       "      <td>None</td>\n",
       "      <td>None</td>\n",
       "      <td>None</td>\n",
       "      <td>None</td>\n",
       "      <td>1.0</td>\n",
       "      <td>None</td>\n",
       "      <td>None</td>\n",
       "      <td>2007-01-01</td>\n",
       "    </tr>\n",
       "    <tr>\n",
       "      <th>2</th>\n",
       "      <td>3</td>\n",
       "      <td>200701</td>\n",
       "      <td>11</td>\n",
       "      <td>PEDIDOS DE EMPREGO AO LONGO DO MÃS</td>\n",
       "      <td>1080395</td>\n",
       "      <td>F</td>\n",
       "      <td>06</td>\n",
       "      <td>6 ANOS</td>\n",
       "      <td>21</td>\n",
       "      <td>DEFICIÃNCIAS DA MEMÃRIA</td>\n",
       "      <td>...</td>\n",
       "      <td>None</td>\n",
       "      <td>None</td>\n",
       "      <td>None</td>\n",
       "      <td>None</td>\n",
       "      <td>None</td>\n",
       "      <td>None</td>\n",
       "      <td>1.0</td>\n",
       "      <td>None</td>\n",
       "      <td>None</td>\n",
       "      <td>2007-01-01</td>\n",
       "    </tr>\n",
       "    <tr>\n",
       "      <th>3</th>\n",
       "      <td>4</td>\n",
       "      <td>200701</td>\n",
       "      <td>11</td>\n",
       "      <td>PEDIDOS DE EMPREGO AO LONGO DO MÃS</td>\n",
       "      <td>1194683</td>\n",
       "      <td>F</td>\n",
       "      <td>LC</td>\n",
       "      <td>LICENCIATURA</td>\n",
       "      <td>0</td>\n",
       "      <td>NÃO DEFICIENTE</td>\n",
       "      <td>...</td>\n",
       "      <td>None</td>\n",
       "      <td>None</td>\n",
       "      <td>None</td>\n",
       "      <td>None</td>\n",
       "      <td>None</td>\n",
       "      <td>None</td>\n",
       "      <td>0.0</td>\n",
       "      <td>None</td>\n",
       "      <td>None</td>\n",
       "      <td>2007-01-01</td>\n",
       "    </tr>\n",
       "    <tr>\n",
       "      <th>4</th>\n",
       "      <td>5</td>\n",
       "      <td>200701</td>\n",
       "      <td>11</td>\n",
       "      <td>PEDIDOS DE EMPREGO AO LONGO DO MÃS</td>\n",
       "      <td>1199775</td>\n",
       "      <td>M</td>\n",
       "      <td>09</td>\n",
       "      <td>9 ANOS</td>\n",
       "      <td>0</td>\n",
       "      <td>NÃO DEFICIENTE</td>\n",
       "      <td>...</td>\n",
       "      <td>None</td>\n",
       "      <td>None</td>\n",
       "      <td>None</td>\n",
       "      <td>None</td>\n",
       "      <td>None</td>\n",
       "      <td>None</td>\n",
       "      <td>0.0</td>\n",
       "      <td>None</td>\n",
       "      <td>None</td>\n",
       "      <td>2007-01-01</td>\n",
       "    </tr>\n",
       "  </tbody>\n",
       "</table>\n",
       "<p>5 rows × 62 columns</p>\n",
       "</div>"
      ],
      "text/plain": [
       "   table_index  anomes  ctipo_movimento                      dtipo_movimento  \\\n",
       "0            1  200701               11  PEDIDOS DE EMPREGO AO LONGO DO MÃS   \n",
       "1            2  200701               11  PEDIDOS DE EMPREGO AO LONGO DO MÃS   \n",
       "2            3  200701               11  PEDIDOS DE EMPREGO AO LONGO DO MÃS   \n",
       "3            4  200701               11  PEDIDOS DE EMPREGO AO LONGO DO MÃS   \n",
       "4            5  200701               11  PEDIDOS DE EMPREGO AO LONGO DO MÃS   \n",
       "\n",
       "    ute_id sexo chabilitacao_escolar dhabilitacao_escolar  cdeficiencia  \\\n",
       "0  1058797    M                   09               9 ANOS             0   \n",
       "1  1062047    F                   06               6 ANOS             0   \n",
       "2  1080395    F                   06               6 ANOS            21   \n",
       "3  1194683    F                   LC         LICENCIATURA             0   \n",
       "4  1199775    M                   09               9 ANOS             0   \n",
       "\n",
       "                ddeficiencia    ...     conjuge_estado_civil  \\\n",
       "0            NÃO DEFICIENTE    ...                     None   \n",
       "1            NÃO DEFICIENTE    ...                     None   \n",
       "2  DEFICIÃNCIAS DA MEMÃRIA    ...                     None   \n",
       "3            NÃO DEFICIENTE    ...                     None   \n",
       "4            NÃO DEFICIENTE    ...                     None   \n",
       "\n",
       "  conjuge_categoria conjuge_estado conjuge_motivo_indisponibilidade  \\\n",
       "0              None           None                             None   \n",
       "1              None           None                             None   \n",
       "2              None           None                             None   \n",
       "3              None           None                             None   \n",
       "4              None           None                             None   \n",
       "\n",
       "  candidatura_categoria_anterior candidatura_estado_anterior  \\\n",
       "0                           None                        None   \n",
       "1                           None                        None   \n",
       "2                           None                        None   \n",
       "3                           None                        None   \n",
       "4                           None                        None   \n",
       "\n",
       "  ute_nr_pessoas_cargo  ute_nr_descendentes_cargo candidatura_data_ppe  \\\n",
       "0                  0.0                       None                 None   \n",
       "1                  1.0                       None                 None   \n",
       "2                  1.0                       None                 None   \n",
       "3                  0.0                       None                 None   \n",
       "4                  0.0                       None                 None   \n",
       "\n",
       "        date  \n",
       "0 2007-01-01  \n",
       "1 2007-01-01  \n",
       "2 2007-01-01  \n",
       "3 2007-01-01  \n",
       "4 2007-01-01  \n",
       "\n",
       "[5 rows x 62 columns]"
      ]
     },
     "execution_count": 17,
     "metadata": {},
     "output_type": "execute_result"
    }
   ],
   "source": [
    "apps_df.head()"
   ]
  },
  {
   "cell_type": "code",
   "execution_count": 18,
   "metadata": {
    "collapsed": true
   },
   "outputs": [],
   "source": [
    "    lab_df = apps_df.rename(columns = {'table_index':'application_id'})\n",
    "    lab_df = lab_df.groupby(['application_id', 'date'])['ute_id', 'anomes'].count()"
   ]
  },
  {
   "cell_type": "code",
   "execution_count": 19,
   "metadata": {},
   "outputs": [
    {
     "data": {
      "text/plain": [
       "Int64Index([     1,      2,      3,      4,      5,      6,      7,      8,\n",
       "                 9,     10,\n",
       "            ...\n",
       "            113240, 113241, 113242, 113243, 113244, 113245, 113246, 113247,\n",
       "            113248, 113249],\n",
       "           dtype='int64', name=u'application_id', length=108663)"
      ]
     },
     "execution_count": 19,
     "metadata": {},
     "output_type": "execute_result"
    }
   ],
   "source": [
    "lab_df.index.get_level_values(level='application_id')"
   ]
  },
  {
   "cell_type": "code",
   "execution_count": null,
   "metadata": {
    "collapsed": true
   },
   "outputs": [],
   "source": []
  },
  {
   "cell_type": "code",
   "execution_count": 20,
   "metadata": {
    "collapsed": true
   },
   "outputs": [],
   "source": [
    "def generate_labels(apps_df, move_df):\n",
    "    # Create dictionary of appliction dates\n",
    "    app_date_dict = dict(zip(apps_df['table_index'], apps_df['date']))\n",
    "    \n",
    "    # Create time since app variable\n",
    "    move_df.loc[:, 'app_date'] = move_df.loc[:, 'application_id'].map(app_date_dict)\n",
    "    move_df.loc[:, 'time_since_app'] = move_df.loc[:, 'date'] - move_df.loc[:, 'app_date']\n",
    "\n",
    "    # Identify applications that had an interview placement within 12 months\n",
    "    apps_placed_interview = move_df[(move_df['movement_result']=='ADMITIDO / COLOCADO') \\\n",
    "                                & (move_df['time_since_app']<=timedelta(days=365))].\\\n",
    "    application_id.unique().tolist()\n",
    "    \n",
    "    # Identify applications that had a cancellation for becoming employed within 12 months\n",
    "    employed_cancellations = ['COLOCAÃÃO POR MEIOS PRÃPRIOS, POR CONTA DE OUTREM',\n",
    "                         'COLOCAÃÃO POR MEIOS PRÃPRIOS, POR CONTA PRÃPRIA',\n",
    "                         'COLOCAÃÃO - CANDIDATURA EXTERNA'\n",
    "                         'COLOCAÃÃO - CANDIDATURA INTERNA']\n",
    "\n",
    "    apps_placed_cancellation = move_df[(move_df['movement_subtype'].isin(employed_cancellations)) \\\n",
    "                                & (move_df['time_since_app']<=timedelta(days=365))].\\\n",
    "    application_id.unique().tolist()\n",
    "\n",
    "    # Create list for applications that found a job within 12 months\n",
    "    apps_found_job_12 = apps_placed_interview + apps_placed_cancellation\n",
    "    \n",
    "    # Identify applications that had any cancellation within 12 months\n",
    "    apps_cancelled_12 = move_df[(move_df['movement_type']=='cancellation') \\\n",
    "                                & (move_df['time_since_app']<=timedelta(days=365))].\\\n",
    "    application_id.unique().tolist()\n",
    "    \n",
    "    # grab unique app IDs and put into index\n",
    "    labels_df = apps_df.rename(columns = {'table_index':'application_id'})\n",
    "    labels_df = labels_df.groupby(['application_id', 'date'])['ute_id', 'anomes'].count()\n",
    "  #  labels_df.columns = ['application_id']\n",
    "    \n",
    "\n",
    "    #create intermediate variables found_job_12 and cancelled _12\n",
    "    labels_df.loc[:,'found_job_12'] = labels_df.index.get_level_values(level='application_id').isin(apps_found_job_12)\n",
    "    labels_df.loc[:,'canceled_12'] = labels_df.index.get_level_values(level='application_id').isin(apps_cancelled_12)\n",
    "    \n",
    "    #create labels, set application ID as the index, and drop intermediate variables\n",
    "    #label is True if application is LTU\n",
    "    labels_df.loc[:, 'label'] = ~labels_df.loc[:, 'found_job_12'] & ~labels_df.loc[:, 'canceled_12']\n",
    "    labels_df.drop (['found_job_12', 'canceled_12', 'ute_id', 'anomes'], axis=1, inplace=True)\n",
    "\n",
    "    return labels_df\n",
    "\n",
    "labels = generate_labels(apps_df, move_df)"
   ]
  },
  {
   "cell_type": "code",
   "execution_count": 46,
   "metadata": {},
   "outputs": [
    {
     "name": "stdout",
     "output_type": "stream",
     "text": [
      "False    0.693299\n",
      "True     0.306701\n",
      "Name: label, dtype: float64\n",
      "False    75336\n",
      "True     33327\n",
      "Name: label, dtype: int64\n",
      "(108663, 1)\n"
     ]
    }
   ],
   "source": [
    "print labels.label.value_counts(normalize=True)\n",
    "print labels.label.value_counts(normalize=False)\n",
    "print labels.shape"
   ]
  },
  {
   "cell_type": "code",
   "execution_count": 49,
   "metadata": {},
   "outputs": [
    {
     "name": "stdout",
     "output_type": "stream",
     "text": [
      "\n",
      "Number of applications that are LTU\n",
      "False    75336\n",
      "True     33327\n",
      "Name: label, dtype: int64\n",
      "\n",
      "Proportion of applications that are LTU\n",
      "False    0.693299\n",
      "True     0.306701\n",
      "Name: label, dtype: float64\n"
     ]
    }
   ],
   "source": [
    "#matrix.describe(include='all')\n",
    "print '\\nNumber of applications that are LTU'\n",
    "print labels.label.value_counts(dropna=False)\n",
    "print '\\nProportion of applications that are LTU'\n",
    "print labels.label.value_counts(dropna=False, normalize=True)"
   ]
  },
  {
   "cell_type": "code",
   "execution_count": 55,
   "metadata": {},
   "outputs": [
    {
     "data": {
      "text/html": [
       "<div>\n",
       "<style>\n",
       "    .dataframe thead tr:only-child th {\n",
       "        text-align: right;\n",
       "    }\n",
       "\n",
       "    .dataframe thead th {\n",
       "        text-align: left;\n",
       "    }\n",
       "\n",
       "    .dataframe tbody tr th {\n",
       "        vertical-align: top;\n",
       "    }\n",
       "</style>\n",
       "<table border=\"1\" class=\"dataframe\">\n",
       "  <thead>\n",
       "    <tr style=\"text-align: right;\">\n",
       "      <th></th>\n",
       "      <th>application_id</th>\n",
       "      <th>label</th>\n",
       "    </tr>\n",
       "  </thead>\n",
       "  <tbody>\n",
       "    <tr>\n",
       "      <th>0</th>\n",
       "      <td>1</td>\n",
       "      <td>False</td>\n",
       "    </tr>\n",
       "    <tr>\n",
       "      <th>1</th>\n",
       "      <td>2</td>\n",
       "      <td>False</td>\n",
       "    </tr>\n",
       "    <tr>\n",
       "      <th>2</th>\n",
       "      <td>3</td>\n",
       "      <td>False</td>\n",
       "    </tr>\n",
       "    <tr>\n",
       "      <th>3</th>\n",
       "      <td>4</td>\n",
       "      <td>False</td>\n",
       "    </tr>\n",
       "    <tr>\n",
       "      <th>4</th>\n",
       "      <td>5</td>\n",
       "      <td>False</td>\n",
       "    </tr>\n",
       "  </tbody>\n",
       "</table>\n",
       "</div>"
      ],
      "text/plain": [
       "   application_id  label\n",
       "0               1  False\n",
       "1               2  False\n",
       "2               3  False\n",
       "3               4  False\n",
       "4               5  False"
      ]
     },
     "execution_count": 55,
     "metadata": {},
     "output_type": "execute_result"
    }
   ],
   "source": [
    "m1 = labels.copy()\n",
    "m1.reset_index(inplace=True)\n",
    "m1.drop('date', axis=1, inplace=True)\n",
    "m1.head()"
   ]
  },
  {
   "cell_type": "markdown",
   "metadata": {},
   "source": [
    "## Compare labels to other matrix generation file"
   ]
  },
  {
   "cell_type": "code",
   "execution_count": 67,
   "metadata": {
    "scrolled": true
   },
   "outputs": [],
   "source": [
    "m2 = pd.read_csv('/mnt/data/shared/workingData/unemployment_data_matrix.csv')"
   ]
  },
  {
   "cell_type": "code",
   "execution_count": 63,
   "metadata": {},
   "outputs": [
    {
     "ename": "AttributeError",
     "evalue": "'NoneType' object has no attribute 'head'",
     "output_type": "error",
     "traceback": [
      "\u001b[0;31m---------------------------------------------------------------------------\u001b[0m",
      "\u001b[0;31mAttributeError\u001b[0m                            Traceback (most recent call last)",
      "\u001b[0;32m<ipython-input-63-d2a8dd3c9030>\u001b[0m in \u001b[0;36m<module>\u001b[0;34m()\u001b[0m\n\u001b[0;32m----> 1\u001b[0;31m \u001b[0mm2\u001b[0m\u001b[0;34m.\u001b[0m\u001b[0mhead\u001b[0m\u001b[0;34m(\u001b[0m\u001b[0;34m)\u001b[0m\u001b[0;34m\u001b[0m\u001b[0m\n\u001b[0m",
      "\u001b[0;31mAttributeError\u001b[0m: 'NoneType' object has no attribute 'head'"
     ]
    }
   ],
   "source": []
  },
  {
   "cell_type": "code",
   "execution_count": 80,
   "metadata": {},
   "outputs": [
    {
     "name": "stdout",
     "output_type": "stream",
     "text": [
      "0\n"
     ]
    }
   ],
   "source": [
    "m2 = m2[['application_id', 'ltu']]\n",
    "m2 = m2.sort_values('application_id')\n",
    "m2.reset_index(inplace=True)\n",
    "\n",
    "comparison = sum(m1['label'] != m2['ltu'])\n",
    "print comparison"
   ]
  },
  {
   "cell_type": "code",
   "execution_count": 76,
   "metadata": {},
   "outputs": [
    {
     "name": "stdout",
     "output_type": "stream",
     "text": [
      "<type 'numpy.bool_'>\n",
      "<type 'numpy.bool_'>\n",
      "(108663, 2)\n",
      "(108663, 2)\n"
     ]
    }
   ],
   "source": [
    "print type(m1.label[0])\n",
    "print type(m2.ltu[0])\n",
    "\n",
    "print m1.shape\n",
    "print m2.shape"
   ]
  },
  {
   "cell_type": "markdown",
   "metadata": {},
   "source": [
    "## Generating features"
   ]
  },
  {
   "cell_type": "code",
   "execution_count": 23,
   "metadata": {},
   "outputs": [
    {
     "data": {
      "text/html": [
       "<div>\n",
       "<style>\n",
       "    .dataframe thead tr:only-child th {\n",
       "        text-align: right;\n",
       "    }\n",
       "\n",
       "    .dataframe thead th {\n",
       "        text-align: left;\n",
       "    }\n",
       "\n",
       "    .dataframe tbody tr th {\n",
       "        vertical-align: top;\n",
       "    }\n",
       "</style>\n",
       "<table border=\"1\" class=\"dataframe\">\n",
       "  <thead>\n",
       "    <tr style=\"text-align: right;\">\n",
       "      <th></th>\n",
       "      <th></th>\n",
       "      <th>sexo</th>\n",
       "      <th>ute_idade</th>\n",
       "      <th>sub_rsi</th>\n",
       "    </tr>\n",
       "    <tr>\n",
       "      <th>application_id</th>\n",
       "      <th>date</th>\n",
       "      <th></th>\n",
       "      <th></th>\n",
       "      <th></th>\n",
       "    </tr>\n",
       "  </thead>\n",
       "  <tbody>\n",
       "    <tr>\n",
       "      <th>1</th>\n",
       "      <th>2007-01-01</th>\n",
       "      <td>M</td>\n",
       "      <td>29</td>\n",
       "      <td>N</td>\n",
       "    </tr>\n",
       "    <tr>\n",
       "      <th>2</th>\n",
       "      <th>2007-01-01</th>\n",
       "      <td>F</td>\n",
       "      <td>46</td>\n",
       "      <td>N</td>\n",
       "    </tr>\n",
       "    <tr>\n",
       "      <th>3</th>\n",
       "      <th>2007-01-01</th>\n",
       "      <td>F</td>\n",
       "      <td>31</td>\n",
       "      <td>S</td>\n",
       "    </tr>\n",
       "    <tr>\n",
       "      <th>4</th>\n",
       "      <th>2007-01-01</th>\n",
       "      <td>F</td>\n",
       "      <td>34</td>\n",
       "      <td>N</td>\n",
       "    </tr>\n",
       "    <tr>\n",
       "      <th>5</th>\n",
       "      <th>2007-01-01</th>\n",
       "      <td>M</td>\n",
       "      <td>26</td>\n",
       "      <td>N</td>\n",
       "    </tr>\n",
       "  </tbody>\n",
       "</table>\n",
       "</div>"
      ],
      "text/plain": [
       "                          sexo  ute_idade sub_rsi\n",
       "application_id date                              \n",
       "1              2007-01-01    M         29       N\n",
       "2              2007-01-01    F         46       N\n",
       "3              2007-01-01    F         31       S\n",
       "4              2007-01-01    F         34       N\n",
       "5              2007-01-01    M         26       N"
      ]
     },
     "execution_count": 23,
     "metadata": {},
     "output_type": "execute_result"
    }
   ],
   "source": [
    "# generate demographic fetaures from applications table\n",
    "def demographic_features(apps_df, column_names):\n",
    "    apps_df_small = apps_df.rename(columns={'table_index': 'application_id'})\n",
    "    apps_df_small = apps_df_small.groupby(['application_id', 'date']).first()\n",
    "    apps_df_small = apps_df_small[column_names]\n",
    "#     apps_df_small = apps_df.loc[:,column_names+['table_index', 'date']]\n",
    "#     apps_df_small.rename(columns = {'table_index':'application_id'}, inplace=True)\n",
    "#     apps_df_small.index = apps_df_small[['application_id', 'date']]\n",
    "    return apps_df_small\n",
    "\n",
    "features_demographic = demographic_features(apps_df, ['sexo', 'ute_idade', 'sub_rsi'])\n",
    "features_demographic.head()"
   ]
  },
  {
   "cell_type": "code",
   "execution_count": 24,
   "metadata": {
    "collapsed": true
   },
   "outputs": [],
   "source": [
    "# generate reapplication features from applications table\n",
    "# generate interaction features from movements table"
   ]
  },
  {
   "cell_type": "markdown",
   "metadata": {},
   "source": [
    "## Binding Features to Labels"
   ]
  },
  {
   "cell_type": "code",
   "execution_count": 25,
   "metadata": {
    "collapsed": true
   },
   "outputs": [],
   "source": [
    "m = labels\n",
    "for f in [features_demographic]:\n",
    "    m = m.merge(f, how = 'left', left_index=True, right_index=True)"
   ]
  },
  {
   "cell_type": "code",
   "execution_count": 26,
   "metadata": {},
   "outputs": [
    {
     "data": {
      "text/plain": [
       "label        0\n",
       "sexo         0\n",
       "ute_idade    0\n",
       "sub_rsi      0\n",
       "dtype: int64"
      ]
     },
     "execution_count": 26,
     "metadata": {},
     "output_type": "execute_result"
    }
   ],
   "source": [
    "# m.head()\n",
    "# m.describe(include='all')\n",
    "m.isnull().sum()"
   ]
  },
  {
   "cell_type": "code",
   "execution_count": 27,
   "metadata": {
    "collapsed": true
   },
   "outputs": [],
   "source": [
    "# create function for cleaning matrix\n",
    "def clean_matrix(m):\n",
    "    # generate dummies for categorical values\n",
    "    m = pd.get_dummies(m, drop_first=False)\n",
    "    return m\n",
    "\n",
    "m = clean_matrix(m)"
   ]
  },
  {
   "cell_type": "markdown",
   "metadata": {},
   "source": [
    "# Fitting the Model"
   ]
  },
  {
   "cell_type": "code",
   "execution_count": 28,
   "metadata": {
    "collapsed": true
   },
   "outputs": [],
   "source": [
    "y = m.label.astype(float)\n",
    "X = m.drop('label', 1)"
   ]
  },
  {
   "cell_type": "code",
   "execution_count": 29,
   "metadata": {},
   "outputs": [
    {
     "data": {
      "text/plain": [
       "RandomForestClassifier(bootstrap=True, class_weight=None, criterion='gini',\n",
       "            max_depth=None, max_features='auto', max_leaf_nodes=None,\n",
       "            min_impurity_split=1e-07, min_samples_leaf=1,\n",
       "            min_samples_split=2, min_weight_fraction_leaf=0.0,\n",
       "            n_estimators=100, n_jobs=1, oob_score=False, random_state=4321,\n",
       "            verbose=0, warm_start=False)"
      ]
     },
     "execution_count": 29,
     "metadata": {},
     "output_type": "execute_result"
    }
   ],
   "source": [
    "estimator = RandomForestClassifier(n_estimators=100,\n",
    "                                  criterion = 'gini',\n",
    "                                  max_depth = None,\n",
    "                                  random_state=4321)\n",
    "estimator.fit(X=X, y=y)"
   ]
  },
  {
   "cell_type": "code",
   "execution_count": 30,
   "metadata": {
    "collapsed": true
   },
   "outputs": [],
   "source": [
    "#linear regression exploration\n",
    "# import statsmodels.formula.api as sm\n",
    "# result = sm.ols(formula = 'LTU ~ ute_idade + sexo_F + sexo_M', data=m).fit()\n",
    "# print result.params\n",
    "# print result.summary()"
   ]
  },
  {
   "cell_type": "markdown",
   "metadata": {},
   "source": [
    "## Evaluating the Model"
   ]
  },
  {
   "cell_type": "code",
   "execution_count": 31,
   "metadata": {},
   "outputs": [
    {
     "data": {
      "text/html": [
       "<div>\n",
       "<style>\n",
       "    .dataframe thead tr:only-child th {\n",
       "        text-align: right;\n",
       "    }\n",
       "\n",
       "    .dataframe thead th {\n",
       "        text-align: left;\n",
       "    }\n",
       "\n",
       "    .dataframe tbody tr th {\n",
       "        vertical-align: top;\n",
       "    }\n",
       "</style>\n",
       "<table border=\"1\" class=\"dataframe\">\n",
       "  <thead>\n",
       "    <tr style=\"text-align: right;\">\n",
       "      <th></th>\n",
       "      <th></th>\n",
       "      <th>label</th>\n",
       "      <th>ute_idade</th>\n",
       "      <th>sexo_F</th>\n",
       "      <th>sexo_M</th>\n",
       "      <th>sub_rsi_N</th>\n",
       "      <th>sub_rsi_S</th>\n",
       "    </tr>\n",
       "    <tr>\n",
       "      <th>application_id</th>\n",
       "      <th>date</th>\n",
       "      <th></th>\n",
       "      <th></th>\n",
       "      <th></th>\n",
       "      <th></th>\n",
       "      <th></th>\n",
       "      <th></th>\n",
       "    </tr>\n",
       "  </thead>\n",
       "  <tbody>\n",
       "    <tr>\n",
       "      <th>1</th>\n",
       "      <th>2007-01-01</th>\n",
       "      <td>False</td>\n",
       "      <td>29</td>\n",
       "      <td>0</td>\n",
       "      <td>1</td>\n",
       "      <td>1</td>\n",
       "      <td>0</td>\n",
       "    </tr>\n",
       "    <tr>\n",
       "      <th>2</th>\n",
       "      <th>2007-01-01</th>\n",
       "      <td>False</td>\n",
       "      <td>46</td>\n",
       "      <td>1</td>\n",
       "      <td>0</td>\n",
       "      <td>1</td>\n",
       "      <td>0</td>\n",
       "    </tr>\n",
       "    <tr>\n",
       "      <th>3</th>\n",
       "      <th>2007-01-01</th>\n",
       "      <td>False</td>\n",
       "      <td>31</td>\n",
       "      <td>1</td>\n",
       "      <td>0</td>\n",
       "      <td>0</td>\n",
       "      <td>1</td>\n",
       "    </tr>\n",
       "    <tr>\n",
       "      <th>4</th>\n",
       "      <th>2007-01-01</th>\n",
       "      <td>False</td>\n",
       "      <td>34</td>\n",
       "      <td>1</td>\n",
       "      <td>0</td>\n",
       "      <td>1</td>\n",
       "      <td>0</td>\n",
       "    </tr>\n",
       "    <tr>\n",
       "      <th>5</th>\n",
       "      <th>2007-01-01</th>\n",
       "      <td>False</td>\n",
       "      <td>26</td>\n",
       "      <td>0</td>\n",
       "      <td>1</td>\n",
       "      <td>1</td>\n",
       "      <td>0</td>\n",
       "    </tr>\n",
       "  </tbody>\n",
       "</table>\n",
       "</div>"
      ],
      "text/plain": [
       "                           label  ute_idade  sexo_F  sexo_M  sub_rsi_N  \\\n",
       "application_id date                                                      \n",
       "1              2007-01-01  False         29       0       1          1   \n",
       "2              2007-01-01  False         46       1       0          1   \n",
       "3              2007-01-01  False         31       1       0          0   \n",
       "4              2007-01-01  False         34       1       0          1   \n",
       "5              2007-01-01  False         26       0       1          1   \n",
       "\n",
       "                           sub_rsi_S  \n",
       "application_id date                   \n",
       "1              2007-01-01          0  \n",
       "2              2007-01-01          0  \n",
       "3              2007-01-01          1  \n",
       "4              2007-01-01          0  \n",
       "5              2007-01-01          0  "
      ]
     },
     "execution_count": 31,
     "metadata": {},
     "output_type": "execute_result"
    }
   ],
   "source": [
    "m.head()"
   ]
  },
  {
   "cell_type": "code",
   "execution_count": 32,
   "metadata": {
    "collapsed": true
   },
   "outputs": [],
   "source": [
    "#m.iloc[m.index.get_level_values('date')<pd.to_datetime('2014-01-01'), :]#.sort_index(level='date', ascending = False)"
   ]
  },
  {
   "cell_type": "code",
   "execution_count": 33,
   "metadata": {
    "collapsed": true
   },
   "outputs": [],
   "source": [
    "def split_data(apps_df, move_df, start_date, run_date, follow_up):\n",
    "    \n",
    "    # get a timestamp\n",
    "    start_date = pd.to_datetime(start_date)\n",
    "    run_date = pd.to_datetime(run_date)\n",
    "    split_date = run_date - timedelta(days=follow_up)\n",
    "    \n",
    "    # create lables and features\n",
    "    labels = generate_labels(apps_df, move_df)\n",
    "    features_demographic = demographic_features(apps_df, ['sexo', 'ute_idade', 'sub_rsi'])\n",
    "    \n",
    "    # bind labels and features\n",
    "    m = labels\n",
    "    for f in [features_demographic]:\n",
    "        m = m.merge(f, how = 'left', left_index=True, right_index=True)\n",
    "    \n",
    "    # create a training set and test set based on split date\n",
    "    m_train = m.iloc[(m.index.get_level_values('date')<split_date) & (m.index.get_level_values('date')>=start_date), :] \n",
    "    m_test = m.iloc[m.index.get_level_values('date')>=split_date, :]\n",
    "    \n",
    "    return clean_matrix(m_train), clean_matrix(m_test)\n",
    "\n",
    "m_train, m_test = split_data(apps_df, move_df, start_date = '2012-01-01',\n",
    "                             run_date = '2014-01-01', follow_up = 365)"
   ]
  },
  {
   "cell_type": "code",
   "execution_count": 34,
   "metadata": {},
   "outputs": [
    {
     "data": {
      "text/html": [
       "<div>\n",
       "<style>\n",
       "    .dataframe thead tr:only-child th {\n",
       "        text-align: right;\n",
       "    }\n",
       "\n",
       "    .dataframe thead th {\n",
       "        text-align: left;\n",
       "    }\n",
       "\n",
       "    .dataframe tbody tr th {\n",
       "        vertical-align: top;\n",
       "    }\n",
       "</style>\n",
       "<table border=\"1\" class=\"dataframe\">\n",
       "  <thead>\n",
       "    <tr style=\"text-align: right;\">\n",
       "      <th></th>\n",
       "      <th></th>\n",
       "      <th>label</th>\n",
       "      <th>ute_idade</th>\n",
       "      <th>sexo_F</th>\n",
       "      <th>sexo_M</th>\n",
       "      <th>sub_rsi_N</th>\n",
       "      <th>sub_rsi_S</th>\n",
       "    </tr>\n",
       "    <tr>\n",
       "      <th>application_id</th>\n",
       "      <th>date</th>\n",
       "      <th></th>\n",
       "      <th></th>\n",
       "      <th></th>\n",
       "      <th></th>\n",
       "      <th></th>\n",
       "      <th></th>\n",
       "    </tr>\n",
       "  </thead>\n",
       "  <tbody>\n",
       "    <tr>\n",
       "      <th>56177</th>\n",
       "      <th>2012-01-01</th>\n",
       "      <td>True</td>\n",
       "      <td>38</td>\n",
       "      <td>0</td>\n",
       "      <td>1</td>\n",
       "      <td>1</td>\n",
       "      <td>0</td>\n",
       "    </tr>\n",
       "    <tr>\n",
       "      <th>56178</th>\n",
       "      <th>2012-01-01</th>\n",
       "      <td>False</td>\n",
       "      <td>33</td>\n",
       "      <td>0</td>\n",
       "      <td>1</td>\n",
       "      <td>1</td>\n",
       "      <td>0</td>\n",
       "    </tr>\n",
       "    <tr>\n",
       "      <th>56179</th>\n",
       "      <th>2012-01-01</th>\n",
       "      <td>True</td>\n",
       "      <td>40</td>\n",
       "      <td>1</td>\n",
       "      <td>0</td>\n",
       "      <td>1</td>\n",
       "      <td>0</td>\n",
       "    </tr>\n",
       "    <tr>\n",
       "      <th>56180</th>\n",
       "      <th>2012-01-01</th>\n",
       "      <td>False</td>\n",
       "      <td>35</td>\n",
       "      <td>1</td>\n",
       "      <td>0</td>\n",
       "      <td>1</td>\n",
       "      <td>0</td>\n",
       "    </tr>\n",
       "    <tr>\n",
       "      <th>56181</th>\n",
       "      <th>2012-01-01</th>\n",
       "      <td>True</td>\n",
       "      <td>51</td>\n",
       "      <td>1</td>\n",
       "      <td>0</td>\n",
       "      <td>1</td>\n",
       "      <td>0</td>\n",
       "    </tr>\n",
       "  </tbody>\n",
       "</table>\n",
       "</div>"
      ],
      "text/plain": [
       "                           label  ute_idade  sexo_F  sexo_M  sub_rsi_N  \\\n",
       "application_id date                                                      \n",
       "56177          2012-01-01   True         38       0       1          1   \n",
       "56178          2012-01-01  False         33       0       1          1   \n",
       "56179          2012-01-01   True         40       1       0          1   \n",
       "56180          2012-01-01  False         35       1       0          1   \n",
       "56181          2012-01-01   True         51       1       0          1   \n",
       "\n",
       "                           sub_rsi_S  \n",
       "application_id date                   \n",
       "56177          2012-01-01          0  \n",
       "56178          2012-01-01          0  \n",
       "56179          2012-01-01          0  \n",
       "56180          2012-01-01          0  \n",
       "56181          2012-01-01          0  "
      ]
     },
     "execution_count": 34,
     "metadata": {},
     "output_type": "execute_result"
    }
   ],
   "source": [
    "m_train.head()"
   ]
  },
  {
   "cell_type": "code",
   "execution_count": 35,
   "metadata": {},
   "outputs": [
    {
     "name": "stdout",
     "output_type": "stream",
     "text": [
      "Lenth of train set: 12720\n",
      "Lenth of test set: 42366\n",
      "Total apps: 55086\n"
     ]
    }
   ],
   "source": [
    "print 'Lenth of train set: '+str(len(m_train))\n",
    "print 'Lenth of test set: '+str(len(m_test))\n",
    "print 'Total apps: '+str((len(m_train)+len(m_test)))"
   ]
  },
  {
   "cell_type": "code",
   "execution_count": 36,
   "metadata": {},
   "outputs": [
    {
     "data": {
      "text/plain": [
       "RandomForestClassifier(bootstrap=True, class_weight=None, criterion='gini',\n",
       "            max_depth=None, max_features='auto', max_leaf_nodes=None,\n",
       "            min_impurity_split=1e-07, min_samples_leaf=1,\n",
       "            min_samples_split=2, min_weight_fraction_leaf=0.0,\n",
       "            n_estimators=100, n_jobs=1, oob_score=False, random_state=4321,\n",
       "            verbose=0, warm_start=False)"
      ]
     },
     "execution_count": 36,
     "metadata": {},
     "output_type": "execute_result"
    }
   ],
   "source": [
    "# Create and train the estimator \n",
    "estimator = RandomForestClassifier(n_estimators=100,\n",
    "                       criterion='gini',\n",
    "                       max_depth=None,\n",
    "                       random_state=4321)\n",
    "\n",
    "X_train = m_train.drop('label', 1)\n",
    "y_train = m_train.label.astype(float)\n",
    "\n",
    "X_test = m_test.drop('label', 1)\n",
    "y_test = m_test.label.astype(float)\n",
    "\n",
    "estimator.fit(X=X_train, y=y_train)"
   ]
  },
  {
   "cell_type": "code",
   "execution_count": 37,
   "metadata": {},
   "outputs": [
    {
     "ename": "NameError",
     "evalue": "name 'y_predict' is not defined",
     "output_type": "error",
     "traceback": [
      "\u001b[0;31m---------------------------------------------------------------------------\u001b[0m",
      "\u001b[0;31mNameError\u001b[0m                                 Traceback (most recent call last)",
      "\u001b[0;32m<ipython-input-37-6248e41efa76>\u001b[0m in \u001b[0;36m<module>\u001b[0;34m()\u001b[0m\n\u001b[1;32m      4\u001b[0m \u001b[0;34m\u001b[0m\u001b[0m\n\u001b[1;32m      5\u001b[0m \u001b[0;31m#translate proba to 1 or 0\u001b[0m\u001b[0;34m\u001b[0m\u001b[0;34m\u001b[0m\u001b[0m\n\u001b[0;32m----> 6\u001b[0;31m \u001b[0my_predict_class\u001b[0m \u001b[0;34m=\u001b[0m \u001b[0my_predict\u001b[0m\u001b[0;34m.\u001b[0m\u001b[0mapply\u001b[0m\u001b[0;34m(\u001b[0m\u001b[0;32mlambda\u001b[0m \u001b[0mx\u001b[0m\u001b[0;34m:\u001b[0m \u001b[0;36m1\u001b[0m \u001b[0;32mif\u001b[0m \u001b[0mx\u001b[0m\u001b[0;34m>=\u001b[0m\u001b[0;36m0.50\u001b[0m \u001b[0;32melse\u001b[0m \u001b[0;36m0\u001b[0m\u001b[0;34m)\u001b[0m\u001b[0;34m\u001b[0m\u001b[0m\n\u001b[0m",
      "\u001b[0;31mNameError\u001b[0m: name 'y_predict' is not defined"
     ]
    }
   ],
   "source": [
    "# Use estimator to predict on test set\n",
    "pred = estimator.predict_proba(X=X_test)\n",
    "y_predict_prob = pd.Series(index=m_test.index, data=pred[:,1])\n",
    "\n",
    "#translate proba to 1 or 0\n",
    "y_predict_class = y_predict.apply(lambda x: 1 if x>=0.50 else 0)"
   ]
  },
  {
   "cell_type": "code",
   "execution_count": null,
   "metadata": {},
   "outputs": [],
   "source": [
    "#print sklearn.metrics.roc_auc_score(y_test, y_predict_prob)\n",
    "print 'Accuracy score:'\n",
    "print sklearn.metrics.accuracy_score(y_test, y_predict_class)\n",
    "\n",
    "print '\\nBaseline accuracy:'\n",
    "print max (m_test.label.mean(), 1-m.label.mean())\n",
    "\n",
    "print '\\nPrecision score:'\n",
    "print sklearn.metrics.precision_score(y_test, y_predict_class)"
   ]
  },
  {
   "cell_type": "code",
   "execution_count": null,
   "metadata": {},
   "outputs": [],
   "source": [
    "# precision vs. recall curves\n",
    "from sklearn.metrics import precision_recall_curve\n",
    "precision_curve, recall_curve, pr_thresholds = \\\n",
    "precision_recall_curve(y_true = y_test, probas_pred = y_predict_prob)"
   ]
  },
  {
   "cell_type": "code",
   "execution_count": null,
   "metadata": {},
   "outputs": [],
   "source": [
    "# plotting curve\n",
    "fig = plt.figure(figsize=(10,6))\n",
    "ax = fig.add_subplot(111)\n",
    "ax.plot(recall_curve, precision_curve)\n",
    "ax.set_xlabel('Recall')\n",
    "ax.set_ylabel('Precision')\n",
    "ax.set_title('Precision vs. Recall for our Example model')\n",
    "plt.show()"
   ]
  },
  {
   "cell_type": "code",
   "execution_count": null,
   "metadata": {},
   "outputs": [],
   "source": [
    "apps_df.columns"
   ]
  },
  {
   "cell_type": "code",
   "execution_count": null,
   "metadata": {
    "collapsed": true
   },
   "outputs": [],
   "source": []
  }
 ],
 "metadata": {
  "kernelspec": {
   "display_name": "Python 2",
   "language": "python",
   "name": "python2"
  },
  "language_info": {
   "codemirror_mode": {
    "name": "ipython",
    "version": 2
   },
   "file_extension": ".py",
   "mimetype": "text/x-python",
   "name": "python",
   "nbconvert_exporter": "python",
   "pygments_lexer": "ipython2",
   "version": "2.7.13"
  }
 },
 "nbformat": 4,
 "nbformat_minor": 2
}
