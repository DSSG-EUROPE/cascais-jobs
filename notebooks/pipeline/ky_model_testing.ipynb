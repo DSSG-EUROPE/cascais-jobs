{
 "cells": [
  {
   "cell_type": "code",
   "execution_count": 1,
   "metadata": {
    "collapsed": true
   },
   "outputs": [],
   "source": [
    "import pandas as pd\n",
    "import numpy as np\n",
    "from pandas import Series, DataFrame\n",
    "import matplotlib.pyplot as plt\n",
    "import psycopg2 as pg\n",
    "%matplotlib inline\n",
    "import seaborn as sns\n",
    "import dbcreds"
   ]
  },
  {
   "cell_type": "code",
   "execution_count": 2,
   "metadata": {},
   "outputs": [
    {
     "name": "stderr",
     "output_type": "stream",
     "text": [
      "/opt/anaconda/lib/python2.7/site-packages/statsmodels/compat/pandas.py:56: FutureWarning: The pandas.core.datetools module is deprecated and will be removed in a future version. Please use the pandas.tseries module instead.\n",
      "  from pandas.core import datetools\n"
     ]
    }
   ],
   "source": [
    "import sys\n",
    "import pickle\n",
    "from utils import model_utils\n",
    "from utils import db_utils\n",
    "import prepare_feature_matrix\n",
    "import train_model\n",
    "import test_model\n",
    "import evaluate_models"
   ]
  },
  {
   "cell_type": "code",
   "execution_count": 3,
   "metadata": {
    "collapsed": true
   },
   "outputs": [],
   "source": [
    "conn = db_utils.connect_to_db()"
   ]
  },
  {
   "cell_type": "code",
   "execution_count": 4,
   "metadata": {
    "collapsed": true
   },
   "outputs": [],
   "source": [
    "config={\n",
    "    \"models\":[\n",
    "        {\"type\":\"rf\"} \n",
    "    ],\n",
    "    \"time_splits\":[\n",
    "        {\"type\":\"action\",\"split_date\":\"2016-04-30\",\"train_timedelta\":\"365D\",\"test_timedelta\":\"183D\"},\n",
    "        {\"type\":\"application\",\"split_date\":\"2016-04-30\",\"train_timedelta\":\"365D\",\"test_timedelta\":\"365D\"}\n",
    "    ],\n",
    "    \"feature_sets\":[\n",
    "        {\"name\":\"demographics_only\"}\n",
    "    ],\n",
    "    \"cutoffs\":[\n",
    "        {\"type\":\"number\", \"value\":1000}\n",
    "    ]        \n",
    "}"
   ]
  },
  {
   "cell_type": "code",
   "execution_count": 5,
   "metadata": {},
   "outputs": [
    {
     "name": "stdout",
     "output_type": "stream",
     "text": [
      "Generating Feature Matrix\n",
      "Reading data from DB\n",
      "Cleaning data\n",
      "Generating LTU/Non-LTU labels\n",
      "Building model feature matrix\n",
      "Splitting Train/Test Sets\n",
      "Training Model\n",
      "Testing Model\n",
      "Evaluating Model Performance\n",
      "Calculating performance metrics for model: 2017-07-28_17:22:13_rf_action\n",
      "Appending performance metrics to db and rewriting performances.csv\n",
      "Getting config details and rewriting config.csv\n",
      "Getting feature importances and rewriting feature_importances.csv\n",
      "Appending model config and feature importances to db tables\n",
      "Generating Feature Matrix\n",
      "Reading data from DB\n",
      "Cleaning data\n",
      "Generating LTU/Non-LTU labels\n",
      "Building model feature matrix\n",
      "Splitting Train/Test Sets\n",
      "Training Model\n",
      "Testing Model\n",
      "Evaluating Model Performance\n",
      "Calculating performance metrics for model: 2017-07-28_17:22:51_rf_application\n",
      "Appending performance metrics to db and rewriting performances.csv\n",
      "Getting config details and rewriting config.csv\n",
      "Getting feature importances and rewriting feature_importances.csv\n",
      "Appending model config and feature importances to db tables\n"
     ]
    }
   ],
   "source": [
    "#Run pipeline\n",
    "for time_split in config['time_splits']:\n",
    "    split_type = time_split['type']\n",
    "    split_date = pd.to_datetime(time_split['split_date'])\n",
    "    train_timedelta = pd.Timedelta(time_split['train_timedelta'])\n",
    "    test_timedelta = pd.Timedelta(time_split['test_timedelta'])\n",
    "\n",
    "    for feature_set in config['feature_sets']:\n",
    "        feature_set_name = feature_set['name']\n",
    "\n",
    "        print \"Generating Feature Matrix\"\n",
    "        feature_matrix = prepare_feature_matrix.generate_matrix(feature_set_name)\n",
    "        \n",
    "        print \"Splitting Train/Test Sets\"\n",
    "        train_data,test_data=model_utils.split_train_test(feature_matrix,split_type,split_date,train_timedelta,test_timedelta)\n",
    "\n",
    "        for model in config['models']:\n",
    "            model_id = model_utils.get_time()+'_'+model['type']+'_'+split_type\n",
    "    \n",
    "            print \"Training Model\"\n",
    "            model_obj = model_utils.train_model(model['type'],train_data,{})\n",
    "            print \"Testing Model\"\n",
    "            model_results = model_utils.test_model(model['type'],model_obj,test_data,model_id)\n",
    "                 \n",
    "            \n",
    "            for k in config['cutoffs']: \n",
    "                print \"Evaluating Model Performance\"\n",
    "                model_performance = evaluate_models.evaluate_models(model_results, k[\"type\"], k[\"value\"])\n",
    "            \n",
    "                print \"Appending performance metrics to db and rewriting performances.csv\"\n",
    "#                model_performance.to_csv('/mnt/data/shared/model_output/performances.csv',mode='w',header=False, index=False)\n",
    "#                db_utils.write_table(model_performance,conn, 'model_output', 'performances', if_exists='append')\n",
    "               \n",
    "           \n",
    "            print \"Getting config details and rewriting config.csv\"\n",
    "            model_config = pd.DataFrame({'model_id':model_id, 'split_type':split_type, 'model_type':model['type'], 'feature_set':feature_set_name, 'split_date':split_date}, index=[0])\n",
    "            model_config = model_config.reindex(columns=['model_id', 'split_type', 'model_type','feature_set','split_date'])\n",
    "#            model_config.to_csv('/mnt/data/shared/model_output/configs.csv',mode='w',header=False, index=False)\n",
    "           \n",
    "            print \"Getting feature importances and rewriting feature_importances.csv\"\n",
    "            feature_importance = model_utils.get_feature_importances(model_obj, model['type'], model_id, train_data, top_n=10)\n",
    "#            feature_importance.to_csv('/mnt/data/shared/model_output/feature_importances.csv',mode='w',header=False,index=False)\n",
    "            \n",
    "            print \"Appending model config and feature importances to db tables\"\n",
    "#            db_utils.write_table(model_config,conn, 'model_output', 'configs',if_exists='append')\n",
    "#            db_utils.write_table(feature_importance,conn,'model_output','feature_importances',if_exists='append')"
   ]
  },
  {
   "cell_type": "code",
   "execution_count": 8,
   "metadata": {},
   "outputs": [
    {
     "data": {
      "text/html": [
       "<div>\n",
       "<style>\n",
       "    .dataframe thead tr:only-child th {\n",
       "        text-align: right;\n",
       "    }\n",
       "\n",
       "    .dataframe thead th {\n",
       "        text-align: left;\n",
       "    }\n",
       "\n",
       "    .dataframe tbody tr th {\n",
       "        vertical-align: top;\n",
       "    }\n",
       "</style>\n",
       "<table border=\"1\" class=\"dataframe\">\n",
       "  <thead>\n",
       "    <tr style=\"text-align: right;\">\n",
       "      <th></th>\n",
       "      <th>actual</th>\n",
       "      <th>prob</th>\n",
       "      <th>pred</th>\n",
       "    </tr>\n",
       "  </thead>\n",
       "  <tbody>\n",
       "    <tr>\n",
       "      <th>398478</th>\n",
       "      <td>True</td>\n",
       "      <td>0.89</td>\n",
       "      <td>True</td>\n",
       "    </tr>\n",
       "    <tr>\n",
       "      <th>127075</th>\n",
       "      <td>True</td>\n",
       "      <td>0.84</td>\n",
       "      <td>True</td>\n",
       "    </tr>\n",
       "    <tr>\n",
       "      <th>548005</th>\n",
       "      <td>True</td>\n",
       "      <td>0.83</td>\n",
       "      <td>True</td>\n",
       "    </tr>\n",
       "    <tr>\n",
       "      <th>853369</th>\n",
       "      <td>True</td>\n",
       "      <td>0.82</td>\n",
       "      <td>True</td>\n",
       "    </tr>\n",
       "    <tr>\n",
       "      <th>497005</th>\n",
       "      <td>False</td>\n",
       "      <td>0.81</td>\n",
       "      <td>True</td>\n",
       "    </tr>\n",
       "  </tbody>\n",
       "</table>\n",
       "</div>"
      ],
      "text/plain": [
       "        actual  prob  pred\n",
       "398478    True  0.89  True\n",
       "127075    True  0.84  True\n",
       "548005    True  0.83  True\n",
       "853369    True  0.82  True\n",
       "497005   False  0.81  True"
      ]
     },
     "execution_count": 8,
     "metadata": {},
     "output_type": "execute_result"
    }
   ],
   "source": [
    "#Generate actual and predicted dataframe\n",
    "def ky_evaluate_model(pred,ltu_actual,cutoff_k):\n",
    "    pred_dict = {'prob': pred,\n",
    "                'actual': ltu_actual}\n",
    "    pred_df = pd.DataFrame(pred_dict, index=ltu_actual.index)\n",
    "    pred_df.sort_values('prob',ascending=False,inplace=True)\n",
    "    pred_df['pred'] = (([True] * cutoff_k) + ([False] * (pred_df.shape[0]-cutoff_k)))\n",
    "    return pred_df\n",
    "\n",
    "actual_pred = ky_evaluate_model(model_results.loc[:,'2017-07-28_17:22:51_rf_application'],\\\n",
    "              model_results.loc[:,'ltu'],1000)\n",
    "actual_pred.head()"
   ]
  },
  {
   "cell_type": "code",
   "execution_count": 9,
   "metadata": {},
   "outputs": [
    {
     "name": "stdout",
     "output_type": "stream",
     "text": [
      "0.620229714709\n",
      "0.496\n",
      "0.242899118511\n",
      "0.546360167122\n"
     ]
    }
   ],
   "source": [
    "#compare to what metrics give\n",
    "import sklearn.metrics\n",
    "print sklearn.metrics.accuracy_score(actual_pred.loc[:,'actual'],\\\n",
    "                                actual_pred.loc[:,'pred'])\n",
    "print sklearn.metrics.precision_score(actual_pred.loc[:,'actual'],\\\n",
    "                                actual_pred.loc[:,'pred'])\n",
    "print sklearn.metrics.recall_score(actual_pred.loc[:,'actual'],\\\n",
    "                                actual_pred.loc[:,'pred'])\n",
    "print sklearn.metrics.roc_auc_score(actual_pred.loc[:,'actual'],\\\n",
    "                                actual_pred.loc[:,'pred'])"
   ]
  },
  {
   "cell_type": "code",
   "execution_count": null,
   "metadata": {
    "collapsed": true
   },
   "outputs": [],
   "source": []
  },
  {
   "cell_type": "code",
   "execution_count": 10,
   "metadata": {},
   "outputs": [
    {
     "data": {
      "text/html": [
       "<div>\n",
       "<style>\n",
       "    .dataframe thead tr:only-child th {\n",
       "        text-align: right;\n",
       "    }\n",
       "\n",
       "    .dataframe thead th {\n",
       "        text-align: left;\n",
       "    }\n",
       "\n",
       "    .dataframe tbody tr th {\n",
       "        vertical-align: top;\n",
       "    }\n",
       "</style>\n",
       "<table border=\"1\" class=\"dataframe\">\n",
       "  <thead>\n",
       "    <tr style=\"text-align: right;\">\n",
       "      <th></th>\n",
       "      <th>ltu</th>\n",
       "      <th>2017-07-28_17:22:51_rf_application</th>\n",
       "    </tr>\n",
       "  </thead>\n",
       "  <tbody>\n",
       "    <tr>\n",
       "      <th>0</th>\n",
       "      <td>True</td>\n",
       "      <td>0.43</td>\n",
       "    </tr>\n",
       "    <tr>\n",
       "      <th>358</th>\n",
       "      <td>False</td>\n",
       "      <td>0.41</td>\n",
       "    </tr>\n",
       "    <tr>\n",
       "      <th>1338</th>\n",
       "      <td>False</td>\n",
       "      <td>0.41</td>\n",
       "    </tr>\n",
       "    <tr>\n",
       "      <th>1826</th>\n",
       "      <td>False</td>\n",
       "      <td>0.23</td>\n",
       "    </tr>\n",
       "    <tr>\n",
       "      <th>2160</th>\n",
       "      <td>False</td>\n",
       "      <td>0.21</td>\n",
       "    </tr>\n",
       "  </tbody>\n",
       "</table>\n",
       "</div>"
      ],
      "text/plain": [
       "        ltu  2017-07-28_17:22:51_rf_application\n",
       "0      True                                0.43\n",
       "358   False                                0.41\n",
       "1338  False                                0.41\n",
       "1826  False                                0.23\n",
       "2160  False                                0.21"
      ]
     },
     "execution_count": 10,
     "metadata": {},
     "output_type": "execute_result"
    }
   ],
   "source": [
    "model_results.head()"
   ]
  },
  {
   "cell_type": "code",
   "execution_count": 11,
   "metadata": {},
   "outputs": [
    {
     "data": {
      "text/html": [
       "<div>\n",
       "<style>\n",
       "    .dataframe thead tr:only-child th {\n",
       "        text-align: right;\n",
       "    }\n",
       "\n",
       "    .dataframe thead th {\n",
       "        text-align: left;\n",
       "    }\n",
       "\n",
       "    .dataframe tbody tr th {\n",
       "        vertical-align: top;\n",
       "    }\n",
       "</style>\n",
       "<table border=\"1\" class=\"dataframe\">\n",
       "  <thead>\n",
       "    <tr style=\"text-align: right;\">\n",
       "      <th></th>\n",
       "      <th>model_id</th>\n",
       "      <th>split_type</th>\n",
       "      <th>model_type</th>\n",
       "      <th>feature_set</th>\n",
       "      <th>split_date</th>\n",
       "    </tr>\n",
       "  </thead>\n",
       "  <tbody>\n",
       "    <tr>\n",
       "      <th>0</th>\n",
       "      <td>2017-07-28_17:22:51_rf_application</td>\n",
       "      <td>application</td>\n",
       "      <td>rf</td>\n",
       "      <td>demographics_only</td>\n",
       "      <td>2016-04-30</td>\n",
       "    </tr>\n",
       "  </tbody>\n",
       "</table>\n",
       "</div>"
      ],
      "text/plain": [
       "                             model_id   split_type model_type  \\\n",
       "0  2017-07-28_17:22:51_rf_application  application         rf   \n",
       "\n",
       "         feature_set split_date  \n",
       "0  demographics_only 2016-04-30  "
      ]
     },
     "execution_count": 11,
     "metadata": {},
     "output_type": "execute_result"
    }
   ],
   "source": [
    "model_config"
   ]
  },
  {
   "cell_type": "code",
   "execution_count": 12,
   "metadata": {},
   "outputs": [
    {
     "data": {
      "text/html": [
       "<div>\n",
       "<style>\n",
       "    .dataframe thead tr:only-child th {\n",
       "        text-align: right;\n",
       "    }\n",
       "\n",
       "    .dataframe thead th {\n",
       "        text-align: left;\n",
       "    }\n",
       "\n",
       "    .dataframe tbody tr th {\n",
       "        vertical-align: top;\n",
       "    }\n",
       "</style>\n",
       "<table border=\"1\" class=\"dataframe\">\n",
       "  <thead>\n",
       "    <tr style=\"text-align: right;\">\n",
       "      <th></th>\n",
       "      <th>model_id</th>\n",
       "      <th>k_value</th>\n",
       "      <th>k_type</th>\n",
       "      <th>metric</th>\n",
       "      <th>value</th>\n",
       "    </tr>\n",
       "  </thead>\n",
       "  <tbody>\n",
       "    <tr>\n",
       "      <th>0</th>\n",
       "      <td>2017-07-28_17:22:51_rf_application</td>\n",
       "      <td>1000</td>\n",
       "      <td>number</td>\n",
       "      <td>precision</td>\n",
       "      <td>0.496000</td>\n",
       "    </tr>\n",
       "    <tr>\n",
       "      <th>1</th>\n",
       "      <td>2017-07-28_17:22:51_rf_application</td>\n",
       "      <td>1000</td>\n",
       "      <td>number</td>\n",
       "      <td>recall</td>\n",
       "      <td>0.242899</td>\n",
       "    </tr>\n",
       "    <tr>\n",
       "      <th>2</th>\n",
       "      <td>2017-07-28_17:22:51_rf_application</td>\n",
       "      <td>1000</td>\n",
       "      <td>number</td>\n",
       "      <td>accuracy</td>\n",
       "      <td>0.620230</td>\n",
       "    </tr>\n",
       "    <tr>\n",
       "      <th>3</th>\n",
       "      <td>2017-07-28_17:22:51_rf_application</td>\n",
       "      <td>1000</td>\n",
       "      <td>number</td>\n",
       "      <td>roc_auc_score</td>\n",
       "      <td>0.546360</td>\n",
       "    </tr>\n",
       "  </tbody>\n",
       "</table>\n",
       "</div>"
      ],
      "text/plain": [
       "                             model_id k_value  k_type         metric     value\n",
       "0  2017-07-28_17:22:51_rf_application    1000  number      precision  0.496000\n",
       "1  2017-07-28_17:22:51_rf_application    1000  number         recall  0.242899\n",
       "2  2017-07-28_17:22:51_rf_application    1000  number       accuracy  0.620230\n",
       "3  2017-07-28_17:22:51_rf_application    1000  number  roc_auc_score  0.546360"
      ]
     },
     "execution_count": 12,
     "metadata": {},
     "output_type": "execute_result"
    }
   ],
   "source": [
    "model_performance"
   ]
  },
  {
   "cell_type": "code",
   "execution_count": 13,
   "metadata": {},
   "outputs": [
    {
     "data": {
      "text/plain": [
       "array([ 0.11783986,  0.16749163,  0.04396353,  0.10067518,  0.10083943,\n",
       "        0.01712462,  0.0170005 ,  0.00053832,  0.00053117,  0.0085803 ,\n",
       "        0.00795006,  0.02120158,  0.02050117,  0.0205954 ,  0.02065509,\n",
       "        0.00905354,  0.00857765,  0.01562002,  0.00329237,  0.0029707 ,\n",
       "        0.01531648,  0.01303159,  0.00221121,  0.00202134,  0.00506839,\n",
       "        0.0052045 ,  0.01495949,  0.01330893,  0.01539374,  0.00282139,\n",
       "        0.00280188,  0.0027757 ,  0.00290221,  0.00798251,  0.00739816,\n",
       "        0.0079017 ,  0.00665612,  0.00968996,  0.00411646,  0.0028048 ,\n",
       "        0.00748644,  0.00996631,  0.00399704,  0.01040587,  0.01260446,\n",
       "        0.00659549,  0.00626674,  0.00971677,  0.00338807,  0.00257991,\n",
       "        0.00548824,  0.00820947,  0.00451697,  0.00925854,  0.01301025,\n",
       "        0.00902596,  0.00104405,  0.00397511,  0.00248192,  0.00387061,\n",
       "        0.00238239,  0.00273923,  0.0027618 ,  0.00615983,  0.00269987])"
      ]
     },
     "execution_count": 13,
     "metadata": {},
     "output_type": "execute_result"
    }
   ],
   "source": [
    "model_obj.feature_importances_"
   ]
  },
  {
   "cell_type": "code",
   "execution_count": null,
   "metadata": {
    "collapsed": true
   },
   "outputs": [],
   "source": []
  }
 ],
 "metadata": {
  "kernelspec": {
   "display_name": "Python 2",
   "language": "python",
   "name": "python2"
  },
  "language_info": {
   "codemirror_mode": {
    "name": "ipython",
    "version": 2
   },
   "file_extension": ".py",
   "mimetype": "text/x-python",
   "name": "python",
   "nbconvert_exporter": "python",
   "pygments_lexer": "ipython2",
   "version": "2.7.13"
  }
 },
 "nbformat": 4,
 "nbformat_minor": 2
}
