{
 "cells": [
  {
   "cell_type": "code",
   "execution_count": 72,
   "metadata": {
    "collapsed": true
   },
   "outputs": [],
   "source": [
    "import os\n",
    "import sys\n",
    "module_path = os.path.abspath(os.path.join('../..'))\n",
    "if module_path not in sys.path:\n",
    "    sys.path.append(module_path)"
   ]
  },
  {
   "cell_type": "code",
   "execution_count": 73,
   "metadata": {
    "collapsed": true
   },
   "outputs": [],
   "source": [
    "import pandas as pd\n",
    "import numpy as np\n",
    "import datetime as dt\n",
    "import math\n",
    "import sklearn\n",
    "import json\n",
    "from dateutil.relativedelta import relativedelta\n",
    "from sklearn import preprocessing\n",
    "import matplotlib.pyplot as plt\n",
    "%matplotlib inline"
   ]
  },
  {
   "cell_type": "code",
   "execution_count": 74,
   "metadata": {},
   "outputs": [],
   "source": [
    "from utils import db_utils\n",
    "from utils import iefp_data_utils\n",
    "from utils import pandas_utils\n",
    "from utils import model_utils\n",
    "from utils import train_test_utils\n",
    "from utils import feature_utils\n"
   ]
  },
  {
   "cell_type": "markdown",
   "metadata": {},
   "source": [
    "# Functions definitions"
   ]
  },
  {
   "cell_type": "code",
   "execution_count": 75,
   "metadata": {
    "collapsed": true
   },
   "outputs": [],
   "source": [
    "def model_metrics(pred,ltu_actual,cutoff_k):\n",
    "    pred_dict = {'prob': pred,\n",
    "                'actual': ltu_actual}\n",
    "    pred_df = pd.DataFrame(pred_dict, index=ltu_actual.index)\n",
    "    pred_df.sort_values('prob',ascending=False,inplace=True)\n",
    "    pred_df['pred'] = (([True] * cutoff_k) + ([False] * (pred_df.shape[0]-cutoff_k)))\n",
    "\n",
    "    true_positive = float(pred_df[(pred_df['pred']) & (pred_df['actual'])].shape[0])\n",
    "    false_positive = float(pred_df[(pred_df['pred']) & (np.logical_not(pred_df['actual']))].shape[0])\n",
    "    true_negative = float(pred_df[(np.logical_not(pred_df['pred'])) & (np.logical_not(pred_df['actual']))].shape[0])\n",
    "    false_negative = float(pred_df[(np.logical_not(pred_df['pred'])) & (pred_df['actual'])].shape[0])\n",
    "    precision = true_positive/(true_positive + false_positive)\n",
    "    recall = true_positive/(true_positive + false_negative)\n",
    "    accuracy = (true_positive+true_negative)/(true_positive+true_negative+false_positive+false_negative)\n",
    "    roc_auc_score = sklearn.metrics.roc_auc_score(pred_df['actual'], pred_df['pred'])\n",
    "    ltu=true_positive+false_negative\n",
    "    return (true_positive,true_negative,false_positive,false_negative,precision,recall,accuracy,roc_auc_score)\n",
    "\n",
    "def get_confmatrix_label(predicted_label,actual_label):\n",
    "    if predicted_label & actual_label:\n",
    "        return 'TP'\n",
    "    elif predicted_label & (not actual_label):\n",
    "        return 'FP'\n",
    "    elif (not predicted_label) & (not actual_label):\n",
    "        return 'TN'\n",
    "    else:\n",
    "        return 'FN'\n",
    "\n",
    "def evaluate_classification(pred,actual_label,cutoff_k):\n",
    "    pred_dict = {'prob': pred,\n",
    "                'actual': actual_label}\n",
    "    pred_df = pd.DataFrame(pred_dict, index=actual_label.index)\n",
    "    pred_df.sort_values('prob',ascending=False,inplace=True)\n",
    "    pred_df['pred'] = (([True] * cutoff_k) + ([False] * (pred_df.shape[0]-cutoff_k)))\n",
    "    pred_df['cm'] = pred_df.apply(lambda x: get_confmatrix_label(x['pred'],x['actual']),axis=1)\n",
    "    \n",
    "    return pred_df"
   ]
  },
  {
   "cell_type": "markdown",
   "metadata": {},
   "source": [
    "# Pipeline Config"
   ]
  },
  {
   "cell_type": "code",
   "execution_count": 249,
   "metadata": {
    "collapsed": true
   },
   "outputs": [],
   "source": [
    "config_filepath = \"../../src/model/pipeline-config-applength.json\"\n",
    "with open(config_filepath) as data_file:\n",
    "    config = json.load(data_file)"
   ]
  },
  {
   "cell_type": "markdown",
   "metadata": {},
   "source": [
    "# Running Pipeline"
   ]
  },
  {
   "cell_type": "code",
   "execution_count": 77,
   "metadata": {
    "collapsed": true
   },
   "outputs": [],
   "source": [
    "#Reading Data from DB\n",
    "conn = db_utils.connect_to_db()\n",
    "apps, movs = iefp_data_utils.get_clean_data(conn)"
   ]
  },
  {
   "cell_type": "code",
   "execution_count": 78,
   "metadata": {},
   "outputs": [
    {
     "name": "stdout",
     "output_type": "stream",
     "text": [
      "generating unchanging system and historical dataframes\n"
     ]
    }
   ],
   "source": [
    "print \"generating unchanging system and historical dataframes\"\n",
    "system_info = feature_utils.generate_system_info(apps)"
   ]
  },
  {
   "cell_type": "code",
   "execution_count": 79,
   "metadata": {
    "collapsed": true
   },
   "outputs": [],
   "source": [
    "feature_set_list = config['feature_sets'][0]['list']\n",
    "ltu_length = config['labels'][0]['ltu_length']\n",
    "time_split = config['time_splits'][0]\n",
    "model = config['models'][0]"
   ]
  },
  {
   "cell_type": "code",
   "execution_count": 80,
   "metadata": {
    "collapsed": true
   },
   "outputs": [],
   "source": [
    "split_type = time_split['type']\n",
    "action_date = pd.to_datetime(time_split['action_date'])\n",
    "train_timedelta = pd.Timedelta(time_split['train_timedelta'])\n",
    "test_window_size = pd.Timedelta(time_split['test_window_size'])\n",
    "train_st_date = action_date - train_timedelta\n",
    "train_apps,test_apps,train_movs,test_movs = train_test_utils.split_train_test_apps(apps,movs,action_date,train_st_date,ltu_length) "
   ]
  },
  {
   "cell_type": "code",
   "execution_count": 81,
   "metadata": {},
   "outputs": [
    {
     "name": "stdout",
     "output_type": "stream",
     "text": [
      "Generating LTU Labels\n",
      "Generating LTU/Non-LTU labels\n",
      "Generating LTU/Non-LTU labels\n"
     ]
    }
   ],
   "source": [
    "print \"Generating LTU Labels\"\n",
    "train_labels = train_test_utils.get_ltu_label_on_date(train_apps,movs,action_date,ltu_length)\n",
    "test_labels = train_test_utils.get_ltu_label_on_date(test_apps,movs,action_date + test_window_size,ltu_length)"
   ]
  },
  {
   "cell_type": "code",
   "execution_count": 82,
   "metadata": {},
   "outputs": [
    {
     "name": "stdout",
     "output_type": "stream",
     "text": [
      "Extending data\n"
     ]
    }
   ],
   "source": [
    "print \"Extending data\"\n",
    "extended_train = train_test_utils.extend_data(train_apps,movs,train_labels,action_date,pd.Timedelta('30D'))\n",
    "extended_test = train_test_utils.extend_data(test_apps,movs,test_labels,action_date,None)"
   ]
  },
  {
   "cell_type": "code",
   "execution_count": 83,
   "metadata": {},
   "outputs": [
    {
     "name": "stdout",
     "output_type": "stream",
     "text": [
      "Generating Features\n",
      "Generating matrix base\n",
      "Adding dynamics with app-length features\n",
      "Generating matrix base\n",
      "Adding dynamics with app-length features\n"
     ]
    }
   ],
   "source": [
    "print \"Generating Features\"\n",
    "pd.options.mode.chained_assignment = None #turns off warning for chained assignment\n",
    "train_matrix = feature_utils.generate_matrix(extended_train,train_apps,train_movs,feature_set_list,system_info)\n",
    "test_matrix = feature_utils.generate_matrix(extended_test,test_apps,test_movs,feature_set_list, system_info)"
   ]
  },
  {
   "cell_type": "code",
   "execution_count": 84,
   "metadata": {},
   "outputs": [
    {
     "name": "stdout",
     "output_type": "stream",
     "text": [
      "Training Model\n"
     ]
    }
   ],
   "source": [
    "model_id = model_utils.get_time()+'_'+model['type']+'_'+str(len(feature_set_list))+'fsets'\n",
    "print \"Training Model\"\n",
    "model_obj = model_utils.train_model(model['type'],train_matrix,{})"
   ]
  },
  {
   "cell_type": "code",
   "execution_count": 85,
   "metadata": {},
   "outputs": [
    {
     "name": "stdout",
     "output_type": "stream",
     "text": [
      "Testing Model\n"
     ]
    }
   ],
   "source": [
    "print \"Testing Model\"\n",
    "model_results = model_utils.test_model(model['type'],model_obj,test_matrix,model_id)"
   ]
  },
  {
   "cell_type": "code",
   "execution_count": 86,
   "metadata": {},
   "outputs": [
    {
     "data": {
      "text/html": [
       "<div>\n",
       "<style>\n",
       "    .dataframe thead tr:only-child th {\n",
       "        text-align: right;\n",
       "    }\n",
       "\n",
       "    .dataframe thead th {\n",
       "        text-align: left;\n",
       "    }\n",
       "\n",
       "    .dataframe tbody tr th {\n",
       "        vertical-align: top;\n",
       "    }\n",
       "</style>\n",
       "<table border=\"1\" class=\"dataframe\">\n",
       "  <thead>\n",
       "    <tr style=\"text-align: right;\">\n",
       "      <th></th>\n",
       "      <th></th>\n",
       "      <th>ltu</th>\n",
       "      <th>2017-08-15_09:16:45_rf_1fsets</th>\n",
       "    </tr>\n",
       "    <tr>\n",
       "      <th>application_id</th>\n",
       "      <th>ref_date</th>\n",
       "      <th></th>\n",
       "      <th></th>\n",
       "    </tr>\n",
       "  </thead>\n",
       "  <tbody>\n",
       "    <tr>\n",
       "      <th>100349</th>\n",
       "      <th>2016-04-30</th>\n",
       "      <td>True</td>\n",
       "      <td>1.0</td>\n",
       "    </tr>\n",
       "    <tr>\n",
       "      <th>100282</th>\n",
       "      <th>2016-04-30</th>\n",
       "      <td>True</td>\n",
       "      <td>1.0</td>\n",
       "    </tr>\n",
       "    <tr>\n",
       "      <th>100305</th>\n",
       "      <th>2016-04-30</th>\n",
       "      <td>True</td>\n",
       "      <td>1.0</td>\n",
       "    </tr>\n",
       "    <tr>\n",
       "      <th>100344</th>\n",
       "      <th>2016-04-30</th>\n",
       "      <td>True</td>\n",
       "      <td>1.0</td>\n",
       "    </tr>\n",
       "    <tr>\n",
       "      <th>100337</th>\n",
       "      <th>2016-04-30</th>\n",
       "      <td>True</td>\n",
       "      <td>1.0</td>\n",
       "    </tr>\n",
       "  </tbody>\n",
       "</table>\n",
       "</div>"
      ],
      "text/plain": [
       "                            ltu  2017-08-15_09:16:45_rf_1fsets\n",
       "application_id ref_date                                       \n",
       "100349         2016-04-30  True                            1.0\n",
       "100282         2016-04-30  True                            1.0\n",
       "100305         2016-04-30  True                            1.0\n",
       "100344         2016-04-30  True                            1.0\n",
       "100337         2016-04-30  True                            1.0"
      ]
     },
     "execution_count": 86,
     "metadata": {},
     "output_type": "execute_result"
    }
   ],
   "source": [
    "model_results.head()"
   ]
  },
  {
   "cell_type": "markdown",
   "metadata": {
    "collapsed": true
   },
   "source": [
    "# Model Evaluation"
   ]
  },
  {
   "cell_type": "code",
   "execution_count": 339,
   "metadata": {},
   "outputs": [],
   "source": [
    "def prepare_model_results_for_analysis(model_res,applications,model_id):\n",
    "    model_results_apps = model_res.reset_index().rename(columns = {model_id : 'prob'}).merge(applications, left_on='application_id',right_on='table_index')\n",
    "    model_results_apps['months_in_system'] =  np.floor(pandas_utils.difftime_in_months(model_results_apps['ref_date'],model_results_apps['app_start_date']))\n",
    "    model_results_apps = model_results_apps[['application_id','months_in_system','prob','ltu']]\n",
    "    \n",
    "    return model_results_apps\n",
    "\n",
    "def build_test_eval_subset_df(subsets_config,model_res_apps):\n",
    "    #Calculate month bucket LTU prop\n",
    "    ltu_prop_by_month = model_res_apps.groupby(['months_in_system']).ltu.mean().reset_index(name='ltu_prop')\n",
    "    ltu_prop_overall = model_res_apps.ltu.mean()\n",
    "    \n",
    "    #Filter months in test set based on subset type and value\n",
    "    test_subsets = []\n",
    "    \n",
    "    for subset_config in subsets_config:\n",
    "        subset_type = subset_config['type']\n",
    "        subset_cutoff = subset_config['cutoff']\n",
    "    \n",
    "        if (subset_type == 'month_thresh'):\n",
    "            test_subsets.append({'subset_type':subset_type, 'subset_cutoff': subset_cutoff, 'month_thresh':subset_cutoff})\n",
    "        elif (subset_type == 'ltu_prop_weight'):\n",
    "            month_thresh = ltu_prop_by_month[ltu_prop_by_month['ltu_prop'] < ltu_prop_overall*subset_cutoff]['months_in_system'].max()\n",
    "            test_subsets.append({'subset_type':subset_type, 'subset_cutoff': subset_cutoff, 'month_thresh':month_thresh})\n",
    "        else:\n",
    "            print 'Warning: Invalid subset type:', subset_type\n",
    "        \n",
    "    return pd.DataFrame(test_subsets).reindex(columns = ['subset_type','subset_cutoff','month_thresh'])\n",
    "\n",
    "def model_metrics(pred,ltu_actual,cutoff_k):\n",
    "    pred_dict = {'prob': pred,\n",
    "                'actual': ltu_actual}\n",
    "    pred_df = pd.DataFrame(pred_dict, index=ltu_actual.index)\n",
    "    pred_df.sort_values('prob',ascending=False,inplace=True)\n",
    "    pred_df['pred'] = (([True] * cutoff_k) + ([False] * (pred_df.shape[0]-cutoff_k)))\n",
    "\n",
    "    true_positive = float(pred_df[(pred_df['pred']) & (pred_df['actual'])].shape[0])\n",
    "    false_positive = float(pred_df[(pred_df['pred']) & (np.logical_not(pred_df['actual']))].shape[0])\n",
    "    true_negative = float(pred_df[(np.logical_not(pred_df['pred'])) & (np.logical_not(pred_df['actual']))].shape[0])\n",
    "    false_negative = float(pred_df[(np.logical_not(pred_df['pred'])) & (pred_df['actual'])].shape[0])\n",
    "    precision = true_positive/(true_positive + false_positive)\n",
    "    recall = true_positive/(true_positive + false_negative)\n",
    "    accuracy = (true_positive+true_negative)/(true_positive+true_negative+false_positive+false_negative)\n",
    "    roc_auc_score = sklearn.metrics.roc_auc_score(pred_df['actual'], pred_df['pred'])\n",
    "    ltu=true_positive+false_negative\n",
    "    return (true_positive,true_negative,false_positive,false_negative,precision,recall,accuracy,roc_auc_score)\n",
    "\n",
    "def evaluate_model(model_results, k_cutoffs, test_subsets, model_id):\n",
    "    \n",
    "    model_performance = pd.DataFrame(columns=['model_id','k_value','k_type','metric','subset_type','subset_cutoff','value'])\n",
    "\n",
    "    print \"Calculating performance metrics for model: \"+model_id\n",
    "\n",
    "    model_performances_list = []\n",
    "    \n",
    "    for index, row in test_subsets.iterrows():\n",
    "        subset_type = row['subset_type']\n",
    "        subset_cutoff = row['subset_cutoff']\n",
    "        month_threshold = row['month_thresh']\n",
    "        \n",
    "        for k in k_cutoffs:\n",
    "            k_type = k['type']\n",
    "            k_value = k['value']\n",
    "\n",
    "            if k_type == \"number\":\n",
    "                cutoff_number = k_value\n",
    "            else:\n",
    "                cutoff_number = 1 #placeholder; want to replace with function to convert a percentage to a number k\n",
    "            model_results_subset = model_results[model_results['months_in_system'] <= month_threshold]\n",
    "            subset_ltu_prop = model_results_subset.ltu.mean()\n",
    "            subset_size = model_results_subset.shape[0]\n",
    "            tp,tn,fp,fn,precision,recall,accuracy,roc_auc_score=model_metrics(model_results_subset.loc[:, 'prob'], model_results_subset.loc[:, 'ltu'], cutoff_number)\n",
    "            \n",
    "            model_performances_list.append({'model_id':model_id, 'k_value':k_value, 'k_type':k_type, 'metric':'precision', 'subset_type': subset_type, 'subset_cutoff': subset_cutoff, 'month_threshold': month_threshold,'subset_size': subset_size, 'subset_ltu_prop': subset_ltu_prop, 'value':precision})\n",
    "            model_performances_list.append({'model_id':model_id, 'k_value':k_value, 'k_type':k_type, 'metric':'recall', 'subset_type': subset_type, 'subset_cutoff': subset_cutoff, 'month_threshold': month_threshold,'subset_size': subset_size, 'subset_ltu_prop': subset_ltu_prop, 'value':recall})\n",
    "            model_performances_list.append({'model_id':model_id, 'k_value':k_value, 'k_type':k_type, 'metric':'accuracy', 'subset_type': subset_type, 'subset_cutoff': subset_cutoff, 'month_threshold': month_threshold,'subset_size': subset_size, 'subset_ltu_prop': subset_ltu_prop, 'value':accuracy})\n",
    "            model_performances_list.append({'model_id':model_id, 'k_value':k_value, 'k_type':k_type, 'metric':'roc_auc_score', 'subset_type': subset_type, 'subset_cutoff': subset_cutoff, 'month_threshold': month_threshold,'subset_size': subset_size, 'subset_ltu_prop': subset_ltu_prop, 'value':roc_auc_score})\n",
    "\n",
    "    model_performance = pd.DataFrame(model_performances_list)\n",
    "    model_performance = model_performance.reindex(columns = ['model_id','k_value','k_type','metric','subset_type','subset_cutoff','month_threshold','subset_size','subset_ltu_prop','value'])\n",
    "        \n",
    "    return model_performance.reset_index(drop=True)"
   ]
  },
  {
   "cell_type": "code",
   "execution_count": 340,
   "metadata": {},
   "outputs": [],
   "source": [
    "model_res_apps = prepare_model_results_for_analysis(model_results,apps,model_id)"
   ]
  },
  {
   "cell_type": "code",
   "execution_count": 341,
   "metadata": {},
   "outputs": [
    {
     "data": {
      "text/html": [
       "<div>\n",
       "<style>\n",
       "    .dataframe thead tr:only-child th {\n",
       "        text-align: right;\n",
       "    }\n",
       "\n",
       "    .dataframe thead th {\n",
       "        text-align: left;\n",
       "    }\n",
       "\n",
       "    .dataframe tbody tr th {\n",
       "        vertical-align: top;\n",
       "    }\n",
       "</style>\n",
       "<table border=\"1\" class=\"dataframe\">\n",
       "  <thead>\n",
       "    <tr style=\"text-align: right;\">\n",
       "      <th></th>\n",
       "      <th>application_id</th>\n",
       "      <th>months_in_system</th>\n",
       "      <th>prob</th>\n",
       "      <th>ltu</th>\n",
       "    </tr>\n",
       "  </thead>\n",
       "  <tbody>\n",
       "    <tr>\n",
       "      <th>0</th>\n",
       "      <td>100349</td>\n",
       "      <td>11.0</td>\n",
       "      <td>1.0</td>\n",
       "      <td>True</td>\n",
       "    </tr>\n",
       "    <tr>\n",
       "      <th>1</th>\n",
       "      <td>100282</td>\n",
       "      <td>11.0</td>\n",
       "      <td>1.0</td>\n",
       "      <td>True</td>\n",
       "    </tr>\n",
       "    <tr>\n",
       "      <th>2</th>\n",
       "      <td>100305</td>\n",
       "      <td>11.0</td>\n",
       "      <td>1.0</td>\n",
       "      <td>True</td>\n",
       "    </tr>\n",
       "    <tr>\n",
       "      <th>3</th>\n",
       "      <td>100344</td>\n",
       "      <td>11.0</td>\n",
       "      <td>1.0</td>\n",
       "      <td>True</td>\n",
       "    </tr>\n",
       "    <tr>\n",
       "      <th>4</th>\n",
       "      <td>100337</td>\n",
       "      <td>11.0</td>\n",
       "      <td>1.0</td>\n",
       "      <td>True</td>\n",
       "    </tr>\n",
       "  </tbody>\n",
       "</table>\n",
       "</div>"
      ],
      "text/plain": [
       "   application_id  months_in_system  prob   ltu\n",
       "0          100349              11.0   1.0  True\n",
       "1          100282              11.0   1.0  True\n",
       "2          100305              11.0   1.0  True\n",
       "3          100344              11.0   1.0  True\n",
       "4          100337              11.0   1.0  True"
      ]
     },
     "execution_count": 341,
     "metadata": {},
     "output_type": "execute_result"
    }
   ],
   "source": [
    "model_res_apps.head()"
   ]
  },
  {
   "cell_type": "code",
   "execution_count": 342,
   "metadata": {
    "collapsed": true
   },
   "outputs": [],
   "source": [
    "test_subsets = build_test_eval_subset_df(config['data_subsets'],model_res_apps)"
   ]
  },
  {
   "cell_type": "code",
   "execution_count": 343,
   "metadata": {},
   "outputs": [
    {
     "data": {
      "text/html": [
       "<div>\n",
       "<style>\n",
       "    .dataframe thead tr:only-child th {\n",
       "        text-align: right;\n",
       "    }\n",
       "\n",
       "    .dataframe thead th {\n",
       "        text-align: left;\n",
       "    }\n",
       "\n",
       "    .dataframe tbody tr th {\n",
       "        vertical-align: top;\n",
       "    }\n",
       "</style>\n",
       "<table border=\"1\" class=\"dataframe\">\n",
       "  <thead>\n",
       "    <tr style=\"text-align: right;\">\n",
       "      <th></th>\n",
       "      <th>subset_type</th>\n",
       "      <th>subset_cutoff</th>\n",
       "      <th>month_thresh</th>\n",
       "    </tr>\n",
       "  </thead>\n",
       "  <tbody>\n",
       "    <tr>\n",
       "      <th>0</th>\n",
       "      <td>month_thresh</td>\n",
       "      <td>4.0</td>\n",
       "      <td>4.0</td>\n",
       "    </tr>\n",
       "    <tr>\n",
       "      <th>1</th>\n",
       "      <td>month_thresh</td>\n",
       "      <td>6.0</td>\n",
       "      <td>6.0</td>\n",
       "    </tr>\n",
       "    <tr>\n",
       "      <th>2</th>\n",
       "      <td>month_thresh</td>\n",
       "      <td>12.0</td>\n",
       "      <td>12.0</td>\n",
       "    </tr>\n",
       "    <tr>\n",
       "      <th>3</th>\n",
       "      <td>ltu_prop_weight</td>\n",
       "      <td>1.5</td>\n",
       "      <td>9.0</td>\n",
       "    </tr>\n",
       "  </tbody>\n",
       "</table>\n",
       "</div>"
      ],
      "text/plain": [
       "       subset_type  subset_cutoff  month_thresh\n",
       "0     month_thresh            4.0           4.0\n",
       "1     month_thresh            6.0           6.0\n",
       "2     month_thresh           12.0          12.0\n",
       "3  ltu_prop_weight            1.5           9.0"
      ]
     },
     "execution_count": 343,
     "metadata": {},
     "output_type": "execute_result"
    }
   ],
   "source": [
    "test_subsets"
   ]
  },
  {
   "cell_type": "code",
   "execution_count": 344,
   "metadata": {},
   "outputs": [
    {
     "name": "stdout",
     "output_type": "stream",
     "text": [
      "Calculating performance metrics for model: 2017-08-15_09:16:45_rf_1fsets\n"
     ]
    }
   ],
   "source": [
    "model_performance = evaluate_model(model_results_apps, config['cutoffs'], test_subsets, model_id)"
   ]
  },
  {
   "cell_type": "code",
   "execution_count": 346,
   "metadata": {},
   "outputs": [
    {
     "data": {
      "text/html": [
       "<div>\n",
       "<style>\n",
       "    .dataframe thead tr:only-child th {\n",
       "        text-align: right;\n",
       "    }\n",
       "\n",
       "    .dataframe thead th {\n",
       "        text-align: left;\n",
       "    }\n",
       "\n",
       "    .dataframe tbody tr th {\n",
       "        vertical-align: top;\n",
       "    }\n",
       "</style>\n",
       "<table border=\"1\" class=\"dataframe\">\n",
       "  <thead>\n",
       "    <tr style=\"text-align: right;\">\n",
       "      <th></th>\n",
       "      <th>model_id</th>\n",
       "      <th>k_value</th>\n",
       "      <th>k_type</th>\n",
       "      <th>metric</th>\n",
       "      <th>subset_type</th>\n",
       "      <th>subset_cutoff</th>\n",
       "      <th>month_threshold</th>\n",
       "      <th>subset_size</th>\n",
       "      <th>subset_ltu_prop</th>\n",
       "      <th>value</th>\n",
       "    </tr>\n",
       "  </thead>\n",
       "  <tbody>\n",
       "    <tr>\n",
       "      <th>0</th>\n",
       "      <td>2017-08-15_09:16:45_rf_1fsets</td>\n",
       "      <td>50</td>\n",
       "      <td>number</td>\n",
       "      <td>precision</td>\n",
       "      <td>month_thresh</td>\n",
       "      <td>4.0</td>\n",
       "      <td>4.0</td>\n",
       "      <td>3863</td>\n",
       "      <td>0.391665</td>\n",
       "      <td>0.680000</td>\n",
       "    </tr>\n",
       "    <tr>\n",
       "      <th>1</th>\n",
       "      <td>2017-08-15_09:16:45_rf_1fsets</td>\n",
       "      <td>50</td>\n",
       "      <td>number</td>\n",
       "      <td>recall</td>\n",
       "      <td>month_thresh</td>\n",
       "      <td>4.0</td>\n",
       "      <td>4.0</td>\n",
       "      <td>3863</td>\n",
       "      <td>0.391665</td>\n",
       "      <td>0.022472</td>\n",
       "    </tr>\n",
       "    <tr>\n",
       "      <th>2</th>\n",
       "      <td>2017-08-15_09:16:45_rf_1fsets</td>\n",
       "      <td>50</td>\n",
       "      <td>number</td>\n",
       "      <td>accuracy</td>\n",
       "      <td>month_thresh</td>\n",
       "      <td>4.0</td>\n",
       "      <td>4.0</td>\n",
       "      <td>3863</td>\n",
       "      <td>0.391665</td>\n",
       "      <td>0.612995</td>\n",
       "    </tr>\n",
       "    <tr>\n",
       "      <th>3</th>\n",
       "      <td>2017-08-15_09:16:45_rf_1fsets</td>\n",
       "      <td>50</td>\n",
       "      <td>number</td>\n",
       "      <td>roc_auc_score</td>\n",
       "      <td>month_thresh</td>\n",
       "      <td>4.0</td>\n",
       "      <td>4.0</td>\n",
       "      <td>3863</td>\n",
       "      <td>0.391665</td>\n",
       "      <td>0.507832</td>\n",
       "    </tr>\n",
       "    <tr>\n",
       "      <th>4</th>\n",
       "      <td>2017-08-15_09:16:45_rf_1fsets</td>\n",
       "      <td>100</td>\n",
       "      <td>number</td>\n",
       "      <td>precision</td>\n",
       "      <td>month_thresh</td>\n",
       "      <td>4.0</td>\n",
       "      <td>4.0</td>\n",
       "      <td>3863</td>\n",
       "      <td>0.391665</td>\n",
       "      <td>0.630000</td>\n",
       "    </tr>\n",
       "  </tbody>\n",
       "</table>\n",
       "</div>"
      ],
      "text/plain": [
       "                        model_id  k_value  k_type         metric  \\\n",
       "0  2017-08-15_09:16:45_rf_1fsets       50  number      precision   \n",
       "1  2017-08-15_09:16:45_rf_1fsets       50  number         recall   \n",
       "2  2017-08-15_09:16:45_rf_1fsets       50  number       accuracy   \n",
       "3  2017-08-15_09:16:45_rf_1fsets       50  number  roc_auc_score   \n",
       "4  2017-08-15_09:16:45_rf_1fsets      100  number      precision   \n",
       "\n",
       "    subset_type  subset_cutoff  month_threshold  subset_size  subset_ltu_prop  \\\n",
       "0  month_thresh            4.0              4.0         3863         0.391665   \n",
       "1  month_thresh            4.0              4.0         3863         0.391665   \n",
       "2  month_thresh            4.0              4.0         3863         0.391665   \n",
       "3  month_thresh            4.0              4.0         3863         0.391665   \n",
       "4  month_thresh            4.0              4.0         3863         0.391665   \n",
       "\n",
       "      value  \n",
       "0  0.680000  \n",
       "1  0.022472  \n",
       "2  0.612995  \n",
       "3  0.507832  \n",
       "4  0.630000  "
      ]
     },
     "execution_count": 346,
     "metadata": {},
     "output_type": "execute_result"
    }
   ],
   "source": [
    "model_performance.head()"
   ]
  },
  {
   "cell_type": "code",
   "execution_count": 331,
   "metadata": {},
   "outputs": [],
   "source": [
    "db_utils.write_table(model_performance,conn, 'model_output', 'performances2',if_exists='append')"
   ]
  },
  {
   "cell_type": "code",
   "execution_count": 246,
   "metadata": {
    "collapsed": true
   },
   "outputs": [],
   "source": [
    "month_subset_4 = build_test_eval_subset_df(config['data_subsets'],model_results,apps)\n",
    "month_subset_6 = prepare_test_eval_subset('month_subset',6,model_results,apps)\n",
    "month_subset_12 = prepare_test_eval_subset('month_subset',12,model_results,apps)\n",
    "\n",
    "ltu_prop_subset_1_5 = prepare_test_eval_subset('ltu_prop',1.5,model_results,apps)"
   ]
  },
  {
   "cell_type": "code",
   "execution_count": 247,
   "metadata": {},
   "outputs": [
    {
     "name": "stdout",
     "output_type": "stream",
     "text": [
      "       application_id  months_in_system         prob\n",
      "count     3863.000000       3863.000000  3863.000000\n",
      "mean    110910.451463          1.780999     0.317886\n",
      "std       2072.393517          1.350406     0.130651\n",
      "min      71223.000000          0.000000     0.000000\n",
      "25%     109655.000000          1.000000     0.229770\n",
      "50%     111076.000000          2.000000     0.277114\n",
      "75%     112247.500000          3.000000     0.394026\n",
      "max     123789.000000          4.000000     0.990952\n",
      "       application_id  months_in_system         prob\n",
      "count     4905.000000       4905.000000  4905.000000\n",
      "mean    110087.320082          2.575535     0.379056\n",
      "std       2509.440011          1.957036     0.180699\n",
      "min      71223.000000          0.000000     0.000000\n",
      "25%     108329.000000          1.000000     0.243987\n",
      "50%     110411.000000          2.000000     0.305397\n",
      "75%     111948.000000          4.000000     0.521276\n",
      "max     124952.000000          6.000000     1.000000\n",
      "       application_id  months_in_system         prob\n",
      "count     6899.000000       6899.000000  6899.000000\n",
      "mean    108151.689375          4.358748     0.508167\n",
      "std       4004.302389          3.335434     0.268530\n",
      "min      70322.000000          0.000000     0.000000\n",
      "25%     105190.000000          2.000000     0.269502\n",
      "50%     108847.000000          4.000000     0.455292\n",
      "75%     111389.000000          7.000000     0.742563\n",
      "max     124999.000000         11.000000     1.000000\n",
      "       application_id  months_in_system         prob\n",
      "count     4905.000000       4905.000000  4905.000000\n",
      "mean    110087.320082          2.575535     0.379056\n",
      "std       2509.440011          1.957036     0.180699\n",
      "min      71223.000000          0.000000     0.000000\n",
      "25%     108329.000000          1.000000     0.243987\n",
      "50%     110411.000000          2.000000     0.305397\n",
      "75%     111948.000000          4.000000     0.521276\n",
      "max     124952.000000          6.000000     1.000000\n",
      "       application_id  months_in_system         prob\n",
      "count     4905.000000       4905.000000  4905.000000\n",
      "mean    110087.320082          2.575535     0.379056\n",
      "std       2509.440011          1.957036     0.180699\n",
      "min      71223.000000          0.000000     0.000000\n",
      "25%     108329.000000          1.000000     0.243987\n",
      "50%     110411.000000          2.000000     0.305397\n",
      "75%     111948.000000          4.000000     0.521276\n",
      "max     124952.000000          6.000000     1.000000\n",
      "       application_id  months_in_system         prob\n",
      "count     6248.000000       6248.000000  6248.000000\n",
      "mean    108846.296255          3.722791     0.462998\n",
      "std       3508.396917          2.823439     0.238694\n",
      "min      70322.000000          0.000000     0.000000\n",
      "25%     106318.500000          1.000000     0.248590\n",
      "50%     109359.500000          3.000000     0.410580\n",
      "75%     111575.250000          6.000000     0.653898\n",
      "max     124999.000000          9.000000     1.000000\n"
     ]
    }
   ],
   "source": [
    "print(month_subset_4.describe())\n",
    "print(month_subset_6.describe())\n",
    "print(month_subset_12.describe())\n",
    "\n",
    "print(ltu_prop_subset_1_2.describe())\n",
    "print(ltu_prop_subset_1_3.describe())\n",
    "print(ltu_prop_subset_1_5.describe())"
   ]
  },
  {
   "cell_type": "code",
   "execution_count": null,
   "metadata": {
    "collapsed": true
   },
   "outputs": [],
   "source": []
  },
  {
   "cell_type": "code",
   "execution_count": 222,
   "metadata": {},
   "outputs": [],
   "source": [
    "model_results_apps = model_results.reset_index().rename(columns = {model_id : 'prob'}).merge(apps, left_on='application_id',right_on='table_index')\n",
    "model_results_apps['months_in_system2'] =  model_results_apps.apply(lambda x: relativedelta(x['ref_date'],x['app_start_date']).months, axis=1)\n",
    "model_results_apps['months_in_system'] =  np.floor(pandas_utils.difftime_in_months(model_results_apps['ref_date'],model_results_apps['app_start_date']))\n",
    "model_results_apps = model_results_apps[['application_id','months_in_system','months_in_system2','prob','ltu']]"
   ]
  },
  {
   "cell_type": "code",
   "execution_count": 225,
   "metadata": {},
   "outputs": [
    {
     "data": {
      "text/html": [
       "<div>\n",
       "<style>\n",
       "    .dataframe thead tr:only-child th {\n",
       "        text-align: right;\n",
       "    }\n",
       "\n",
       "    .dataframe thead th {\n",
       "        text-align: left;\n",
       "    }\n",
       "\n",
       "    .dataframe tbody tr th {\n",
       "        vertical-align: top;\n",
       "    }\n",
       "</style>\n",
       "<table border=\"1\" class=\"dataframe\">\n",
       "  <thead>\n",
       "    <tr style=\"text-align: right;\">\n",
       "      <th></th>\n",
       "      <th>application_id</th>\n",
       "      <th>months_in_system</th>\n",
       "      <th>months_in_system2</th>\n",
       "      <th>prob</th>\n",
       "    </tr>\n",
       "  </thead>\n",
       "  <tbody>\n",
       "    <tr>\n",
       "      <th>count</th>\n",
       "      <td>6899.000000</td>\n",
       "      <td>6899.000000</td>\n",
       "      <td>6899.000000</td>\n",
       "      <td>6899.000000</td>\n",
       "    </tr>\n",
       "    <tr>\n",
       "      <th>mean</th>\n",
       "      <td>108151.689375</td>\n",
       "      <td>4.358748</td>\n",
       "      <td>4.373242</td>\n",
       "      <td>0.508167</td>\n",
       "    </tr>\n",
       "    <tr>\n",
       "      <th>std</th>\n",
       "      <td>4004.302389</td>\n",
       "      <td>3.335434</td>\n",
       "      <td>3.332669</td>\n",
       "      <td>0.268530</td>\n",
       "    </tr>\n",
       "    <tr>\n",
       "      <th>min</th>\n",
       "      <td>70322.000000</td>\n",
       "      <td>0.000000</td>\n",
       "      <td>0.000000</td>\n",
       "      <td>0.000000</td>\n",
       "    </tr>\n",
       "    <tr>\n",
       "      <th>25%</th>\n",
       "      <td>105190.000000</td>\n",
       "      <td>2.000000</td>\n",
       "      <td>2.000000</td>\n",
       "      <td>0.269502</td>\n",
       "    </tr>\n",
       "    <tr>\n",
       "      <th>50%</th>\n",
       "      <td>108847.000000</td>\n",
       "      <td>4.000000</td>\n",
       "      <td>4.000000</td>\n",
       "      <td>0.455292</td>\n",
       "    </tr>\n",
       "    <tr>\n",
       "      <th>75%</th>\n",
       "      <td>111389.000000</td>\n",
       "      <td>7.000000</td>\n",
       "      <td>7.000000</td>\n",
       "      <td>0.742563</td>\n",
       "    </tr>\n",
       "    <tr>\n",
       "      <th>max</th>\n",
       "      <td>124999.000000</td>\n",
       "      <td>11.000000</td>\n",
       "      <td>11.000000</td>\n",
       "      <td>1.000000</td>\n",
       "    </tr>\n",
       "  </tbody>\n",
       "</table>\n",
       "</div>"
      ],
      "text/plain": [
       "       application_id  months_in_system  months_in_system2         prob\n",
       "count     6899.000000       6899.000000        6899.000000  6899.000000\n",
       "mean    108151.689375          4.358748           4.373242     0.508167\n",
       "std       4004.302389          3.335434           3.332669     0.268530\n",
       "min      70322.000000          0.000000           0.000000     0.000000\n",
       "25%     105190.000000          2.000000           2.000000     0.269502\n",
       "50%     108847.000000          4.000000           4.000000     0.455292\n",
       "75%     111389.000000          7.000000           7.000000     0.742563\n",
       "max     124999.000000         11.000000          11.000000     1.000000"
      ]
     },
     "execution_count": 225,
     "metadata": {},
     "output_type": "execute_result"
    }
   ],
   "source": [
    "model_results_apps.describe()"
   ]
  },
  {
   "cell_type": "code",
   "execution_count": 214,
   "metadata": {},
   "outputs": [
    {
     "data": {
      "text/plain": [
       "numpy.float64"
      ]
     },
     "execution_count": 214,
     "metadata": {},
     "output_type": "execute_result"
    }
   ],
   "source": [
    "type(model_results_apps['months_in_system'][0])"
   ]
  },
  {
   "cell_type": "code",
   "execution_count": 242,
   "metadata": {},
   "outputs": [
    {
     "name": "stdout",
     "output_type": "stream",
     "text": [
      "Calculating performance metrics for model: 2017-08-15_09:16:45_rf_1fsets\n",
      "                        model_id k_value  k_type         metric   subset_type  \\\n",
      "0  2017-08-15_09:16:45_rf_1fsets    1000  number      precision  month_subset   \n",
      "1  2017-08-15_09:16:45_rf_1fsets    1000  number         recall  month_subset   \n",
      "2  2017-08-15_09:16:45_rf_1fsets    1000  number       accuracy  month_subset   \n",
      "3  2017-08-15_09:16:45_rf_1fsets    1000  number  roc_auc_score  month_subset   \n",
      "\n",
      "  subset_cutoff     value  \n",
      "0             4  0.553000  \n",
      "1             4  0.365499  \n",
      "2             4  0.635775  \n",
      "3             4  0.587643  \n",
      "Calculating performance metrics for model: 2017-08-15_09:16:45_rf_1fsets\n",
      "                        model_id k_value  k_type         metric   subset_type  \\\n",
      "0  2017-08-15_09:16:45_rf_1fsets    1000  number      precision  month_subset   \n",
      "1  2017-08-15_09:16:45_rf_1fsets    1000  number         recall  month_subset   \n",
      "2  2017-08-15_09:16:45_rf_1fsets    1000  number       accuracy  month_subset   \n",
      "3  2017-08-15_09:16:45_rf_1fsets    1000  number  roc_auc_score  month_subset   \n",
      "\n",
      "  subset_cutoff     value  \n",
      "0             6  0.632000  \n",
      "1             6  0.295327  \n",
      "2             6  0.617533  \n",
      "3             6  0.581117  \n",
      "Calculating performance metrics for model: 2017-08-15_09:16:45_rf_1fsets\n",
      "                        model_id k_value  k_type         metric   subset_type  \\\n",
      "0  2017-08-15_09:16:45_rf_1fsets    1000  number      precision  month_subset   \n",
      "1  2017-08-15_09:16:45_rf_1fsets    1000  number         recall  month_subset   \n",
      "2  2017-08-15_09:16:45_rf_1fsets    1000  number       accuracy  month_subset   \n",
      "3  2017-08-15_09:16:45_rf_1fsets    1000  number  roc_auc_score  month_subset   \n",
      "\n",
      "  subset_cutoff     value  \n",
      "0            12  0.880000  \n",
      "1            12  0.232866  \n",
      "2            12  0.562400  \n",
      "3            12  0.597202  \n",
      "Calculating performance metrics for model: 2017-08-15_09:16:45_rf_1fsets\n",
      "                        model_id k_value  k_type         metric subset_type  \\\n",
      "0  2017-08-15_09:16:45_rf_1fsets    1000  number      precision    ltu_prop   \n",
      "1  2017-08-15_09:16:45_rf_1fsets    1000  number         recall    ltu_prop   \n",
      "2  2017-08-15_09:16:45_rf_1fsets    1000  number       accuracy    ltu_prop   \n",
      "3  2017-08-15_09:16:45_rf_1fsets    1000  number  roc_auc_score    ltu_prop   \n",
      "\n",
      "   subset_cutoff     value  \n",
      "0            1.5  0.787000  \n",
      "1            1.5  0.248030  \n",
      "2            1.5  0.584027  \n",
      "3            1.5  0.589381  \n"
     ]
    }
   ],
   "source": [
    "print evaluate_model(month_subset_4, 'number', 1000, model_id,'month_subset',4)\n",
    "print evaluate_model(month_subset_6, 'number', 1000, model_id,'month_subset',6)\n",
    "print evaluate_model(month_subset_12, 'number', 1000, model_id,'month_subset',12)\n",
    "print evaluate_model(ltu_prop_subset_1_5, 'number', 1000, model_id,'ltu_prop',1.5)"
   ]
  },
  {
   "cell_type": "code",
   "execution_count": 179,
   "metadata": {},
   "outputs": [],
   "source": [
    "#Calculate month bucket LTU prop\n",
    "ltu_prop_by_month = model_results_apps.groupby(['months_in_system']).ltu.mean().reset_index(name='ltu_prop')\n",
    "ltu_prop_overall = model_results.ltu.mean()"
   ]
  },
  {
   "cell_type": "code",
   "execution_count": 180,
   "metadata": {
    "scrolled": false
   },
   "outputs": [
    {
     "name": "stdout",
     "output_type": "stream",
     "text": [
      "    months_in_system  ltu_prop\n",
      "0                  0  0.317497\n",
      "1                  1  0.326365\n",
      "2                  2  0.352668\n",
      "3                  3  0.480570\n",
      "4                  4  0.567568\n",
      "5                  5  0.579350\n",
      "6                  6  0.614068\n",
      "7                  7  0.716094\n",
      "8                  8  0.800000\n",
      "9                  9  0.805492\n",
      "10                10  0.888571\n",
      "11                11  0.980066\n",
      "0.547760545007\n"
     ]
    }
   ],
   "source": [
    "print(ltu_prop_by_month)\n",
    "print(ltu_prop_overall)"
   ]
  },
  {
   "cell_type": "code",
   "execution_count": 187,
   "metadata": {
    "collapsed": true
   },
   "outputs": [],
   "source": [
    "ltu_prop_coef = 1.3\n",
    "unbiased_months = ltu_prop_by_month[ltu_prop_by_month['ltu_prop'] < ltu_prop_overall*ltu_prop_coef]['months_in_system']\n",
    "unbiased_set = model_results_apps[model_results_apps['months_in_system'].isin(unbiased_months)]"
   ]
  },
  {
   "cell_type": "code",
   "execution_count": 188,
   "metadata": {},
   "outputs": [
    {
     "data": {
      "text/plain": [
       "0.71208870850847961"
      ]
     },
     "execution_count": 188,
     "metadata": {},
     "output_type": "execute_result"
    }
   ],
   "source": [
    "ltu_prop_overall*ltu_prop_coef"
   ]
  },
  {
   "cell_type": "code",
   "execution_count": 189,
   "metadata": {},
   "outputs": [
    {
     "data": {
      "text/plain": [
       "0    0\n",
       "1    1\n",
       "2    2\n",
       "3    3\n",
       "4    4\n",
       "5    5\n",
       "6    6\n",
       "Name: months_in_system, dtype: int64"
      ]
     },
     "execution_count": 189,
     "metadata": {},
     "output_type": "execute_result"
    }
   ],
   "source": [
    "unbiased_months"
   ]
  },
  {
   "cell_type": "code",
   "execution_count": 190,
   "metadata": {},
   "outputs": [
    {
     "data": {
      "text/html": [
       "<div>\n",
       "<style>\n",
       "    .dataframe thead tr:only-child th {\n",
       "        text-align: right;\n",
       "    }\n",
       "\n",
       "    .dataframe thead th {\n",
       "        text-align: left;\n",
       "    }\n",
       "\n",
       "    .dataframe tbody tr th {\n",
       "        vertical-align: top;\n",
       "    }\n",
       "</style>\n",
       "<table border=\"1\" class=\"dataframe\">\n",
       "  <thead>\n",
       "    <tr style=\"text-align: right;\">\n",
       "      <th></th>\n",
       "      <th>application_id</th>\n",
       "      <th>months_in_system</th>\n",
       "      <th>prob</th>\n",
       "      <th>ltu</th>\n",
       "    </tr>\n",
       "  </thead>\n",
       "  <tbody>\n",
       "    <tr>\n",
       "      <th>2011</th>\n",
       "      <td>105859</td>\n",
       "      <td>6</td>\n",
       "      <td>0.636924</td>\n",
       "      <td>True</td>\n",
       "    </tr>\n",
       "    <tr>\n",
       "      <th>2012</th>\n",
       "      <td>105860</td>\n",
       "      <td>6</td>\n",
       "      <td>0.718350</td>\n",
       "      <td>False</td>\n",
       "    </tr>\n",
       "    <tr>\n",
       "      <th>2013</th>\n",
       "      <td>105799</td>\n",
       "      <td>6</td>\n",
       "      <td>0.723506</td>\n",
       "      <td>True</td>\n",
       "    </tr>\n",
       "    <tr>\n",
       "      <th>2014</th>\n",
       "      <td>105812</td>\n",
       "      <td>6</td>\n",
       "      <td>0.688167</td>\n",
       "      <td>True</td>\n",
       "    </tr>\n",
       "    <tr>\n",
       "      <th>2015</th>\n",
       "      <td>105826</td>\n",
       "      <td>6</td>\n",
       "      <td>0.775273</td>\n",
       "      <td>True</td>\n",
       "    </tr>\n",
       "  </tbody>\n",
       "</table>\n",
       "</div>"
      ],
      "text/plain": [
       "      application_id  months_in_system      prob    ltu\n",
       "2011          105859                 6  0.636924   True\n",
       "2012          105860                 6  0.718350  False\n",
       "2013          105799                 6  0.723506   True\n",
       "2014          105812                 6  0.688167   True\n",
       "2015          105826                 6  0.775273   True"
      ]
     },
     "execution_count": 190,
     "metadata": {},
     "output_type": "execute_result"
    }
   ],
   "source": [
    "unbiased_set.head()"
   ]
  },
  {
   "cell_type": "code",
   "execution_count": 191,
   "metadata": {
    "collapsed": true
   },
   "outputs": [],
   "source": [
    "unbiased_set = model_results_apps[model_results_apps['months_in_system'] <= 4]"
   ]
  },
  {
   "cell_type": "code",
   "execution_count": 192,
   "metadata": {},
   "outputs": [
    {
     "data": {
      "text/html": [
       "<div>\n",
       "<style>\n",
       "    .dataframe thead tr:only-child th {\n",
       "        text-align: right;\n",
       "    }\n",
       "\n",
       "    .dataframe thead th {\n",
       "        text-align: left;\n",
       "    }\n",
       "\n",
       "    .dataframe tbody tr th {\n",
       "        vertical-align: top;\n",
       "    }\n",
       "</style>\n",
       "<table border=\"1\" class=\"dataframe\">\n",
       "  <thead>\n",
       "    <tr style=\"text-align: right;\">\n",
       "      <th></th>\n",
       "      <th>application_id</th>\n",
       "      <th>months_in_system</th>\n",
       "      <th>prob</th>\n",
       "      <th>ltu</th>\n",
       "    </tr>\n",
       "  </thead>\n",
       "  <tbody>\n",
       "    <tr>\n",
       "      <th>3060</th>\n",
       "      <td>108004</td>\n",
       "      <td>4</td>\n",
       "      <td>0.602142</td>\n",
       "      <td>False</td>\n",
       "    </tr>\n",
       "    <tr>\n",
       "      <th>3061</th>\n",
       "      <td>108070</td>\n",
       "      <td>4</td>\n",
       "      <td>0.564362</td>\n",
       "      <td>True</td>\n",
       "    </tr>\n",
       "    <tr>\n",
       "      <th>3062</th>\n",
       "      <td>108002</td>\n",
       "      <td>4</td>\n",
       "      <td>0.554146</td>\n",
       "      <td>True</td>\n",
       "    </tr>\n",
       "    <tr>\n",
       "      <th>3063</th>\n",
       "      <td>108052</td>\n",
       "      <td>4</td>\n",
       "      <td>0.427000</td>\n",
       "      <td>True</td>\n",
       "    </tr>\n",
       "    <tr>\n",
       "      <th>3064</th>\n",
       "      <td>108031</td>\n",
       "      <td>4</td>\n",
       "      <td>0.554146</td>\n",
       "      <td>True</td>\n",
       "    </tr>\n",
       "  </tbody>\n",
       "</table>\n",
       "</div>"
      ],
      "text/plain": [
       "      application_id  months_in_system      prob    ltu\n",
       "3060          108004                 4  0.602142  False\n",
       "3061          108070                 4  0.564362   True\n",
       "3062          108002                 4  0.554146   True\n",
       "3063          108052                 4  0.427000   True\n",
       "3064          108031                 4  0.554146   True"
      ]
     },
     "execution_count": 192,
     "metadata": {},
     "output_type": "execute_result"
    }
   ],
   "source": [
    "unbiased_set.head()"
   ]
  },
  {
   "cell_type": "code",
   "execution_count": 239,
   "metadata": {
    "collapsed": true
   },
   "outputs": [],
   "source": [
    "\n",
    "\n",
    "def get_confmatrix_label(predicted_label,actual_label):\n",
    "    if predicted_label & actual_label:\n",
    "        return 'TP'\n",
    "    elif predicted_label & (not actual_label):\n",
    "        return 'FP'\n",
    "    elif (not predicted_label) & (not actual_label):\n",
    "        return 'TN'\n",
    "    else:\n",
    "        return 'FN'\n",
    "\n",
    "def evaluate_classification(pred,actual_label,cutoff_k):\n",
    "    pred_dict = {'prob': pred,\n",
    "                'actual': actual_label}\n",
    "    pred_df = pd.DataFrame(pred_dict, index=actual_label.index)\n",
    "    pred_df.sort_values('prob',ascending=False,inplace=True)\n",
    "    pred_df['pred'] = (([True] * cutoff_k) + ([False] * (pred_df.shape[0]-cutoff_k)))\n",
    "    pred_df['cm'] = pred_df.apply(lambda x: get_confmatrix_label(x['pred'],x['actual']),axis=1)\n",
    "    \n",
    "    return pred_df"
   ]
  },
  {
   "cell_type": "code",
   "execution_count": 118,
   "metadata": {},
   "outputs": [
    {
     "name": "stdout",
     "output_type": "stream",
     "text": [
      "Calculating performance metrics for model: 2017-08-15_09:16:45_rf_1fsets\n"
     ]
    }
   ],
   "source": [
    "model_eval = evaluate_model(model_results, 'number', 1000)"
   ]
  },
  {
   "cell_type": "code",
   "execution_count": 119,
   "metadata": {},
   "outputs": [
    {
     "data": {
      "text/html": [
       "<div>\n",
       "<style>\n",
       "    .dataframe thead tr:only-child th {\n",
       "        text-align: right;\n",
       "    }\n",
       "\n",
       "    .dataframe thead th {\n",
       "        text-align: left;\n",
       "    }\n",
       "\n",
       "    .dataframe tbody tr th {\n",
       "        vertical-align: top;\n",
       "    }\n",
       "</style>\n",
       "<table border=\"1\" class=\"dataframe\">\n",
       "  <thead>\n",
       "    <tr style=\"text-align: right;\">\n",
       "      <th></th>\n",
       "      <th>model_id</th>\n",
       "      <th>k_value</th>\n",
       "      <th>k_type</th>\n",
       "      <th>metric</th>\n",
       "      <th>value</th>\n",
       "    </tr>\n",
       "  </thead>\n",
       "  <tbody>\n",
       "    <tr>\n",
       "      <th>0</th>\n",
       "      <td>2017-08-15_09:16:45_rf_1fsets</td>\n",
       "      <td>1000</td>\n",
       "      <td>number</td>\n",
       "      <td>precision</td>\n",
       "      <td>0.880000</td>\n",
       "    </tr>\n",
       "    <tr>\n",
       "      <th>1</th>\n",
       "      <td>2017-08-15_09:16:45_rf_1fsets</td>\n",
       "      <td>1000</td>\n",
       "      <td>number</td>\n",
       "      <td>recall</td>\n",
       "      <td>0.232866</td>\n",
       "    </tr>\n",
       "    <tr>\n",
       "      <th>2</th>\n",
       "      <td>2017-08-15_09:16:45_rf_1fsets</td>\n",
       "      <td>1000</td>\n",
       "      <td>number</td>\n",
       "      <td>accuracy</td>\n",
       "      <td>0.562400</td>\n",
       "    </tr>\n",
       "    <tr>\n",
       "      <th>3</th>\n",
       "      <td>2017-08-15_09:16:45_rf_1fsets</td>\n",
       "      <td>1000</td>\n",
       "      <td>number</td>\n",
       "      <td>roc_auc_score</td>\n",
       "      <td>0.597202</td>\n",
       "    </tr>\n",
       "  </tbody>\n",
       "</table>\n",
       "</div>"
      ],
      "text/plain": [
       "                        model_id k_value  k_type         metric     value\n",
       "0  2017-08-15_09:16:45_rf_1fsets    1000  number      precision  0.880000\n",
       "1  2017-08-15_09:16:45_rf_1fsets    1000  number         recall  0.232866\n",
       "2  2017-08-15_09:16:45_rf_1fsets    1000  number       accuracy  0.562400\n",
       "3  2017-08-15_09:16:45_rf_1fsets    1000  number  roc_auc_score  0.597202"
      ]
     },
     "execution_count": 119,
     "metadata": {},
     "output_type": "execute_result"
    }
   ],
   "source": [
    "model_eval.head()"
   ]
  },
  {
   "cell_type": "code",
   "execution_count": 70,
   "metadata": {
    "collapsed": true
   },
   "outputs": [],
   "source": [
    "res_subset = evaluate_model(model_results,apps,'all',0.0,model_id)"
   ]
  },
  {
   "cell_type": "code",
   "execution_count": 71,
   "metadata": {},
   "outputs": [
    {
     "data": {
      "text/html": [
       "<div>\n",
       "<style>\n",
       "    .dataframe thead tr:only-child th {\n",
       "        text-align: right;\n",
       "    }\n",
       "\n",
       "    .dataframe thead th {\n",
       "        text-align: left;\n",
       "    }\n",
       "\n",
       "    .dataframe tbody tr th {\n",
       "        vertical-align: top;\n",
       "    }\n",
       "</style>\n",
       "<table border=\"1\" class=\"dataframe\">\n",
       "  <thead>\n",
       "    <tr style=\"text-align: right;\">\n",
       "      <th></th>\n",
       "      <th>application_id</th>\n",
       "      <th>ref_date</th>\n",
       "      <th>ltu</th>\n",
       "      <th>prob</th>\n",
       "      <th>anomes</th>\n",
       "      <th>mo_data_movimento</th>\n",
       "      <th>cfreguesia</th>\n",
       "      <th>dfreguesia</th>\n",
       "      <th>ctipo_movimento</th>\n",
       "      <th>dtipo_movimento</th>\n",
       "      <th>...</th>\n",
       "      <th>candidatura_data_ppe</th>\n",
       "      <th>ute_idade</th>\n",
       "      <th>intervencoes</th>\n",
       "      <th>sub_data_inicio</th>\n",
       "      <th>sub_data_fim</th>\n",
       "      <th>sub_data_extincao</th>\n",
       "      <th>sub_data_suspensao</th>\n",
       "      <th>table_index</th>\n",
       "      <th>app_start_date</th>\n",
       "      <th>months_since_app</th>\n",
       "    </tr>\n",
       "  </thead>\n",
       "  <tbody>\n",
       "    <tr>\n",
       "      <th>0</th>\n",
       "      <td>100349</td>\n",
       "      <td>2016-04-30</td>\n",
       "      <td>True</td>\n",
       "      <td>1.0</td>\n",
       "      <td>201505</td>\n",
       "      <td>2015-05-04 16:53:22</td>\n",
       "      <td>110501</td>\n",
       "      <td>ALCABIDECHE</td>\n",
       "      <td>11</td>\n",
       "      <td>PEDIDOS DE EMPREGO AO LONGO DO MÃS</td>\n",
       "      <td>...</td>\n",
       "      <td>2013-01-14 00:00:00</td>\n",
       "      <td>53</td>\n",
       "      <td>1</td>\n",
       "      <td>2002-06-06 00:00:00</td>\n",
       "      <td>2004-05-26 00:00:00</td>\n",
       "      <td>2004-04-08 00:00:00</td>\n",
       "      <td>None</td>\n",
       "      <td>100349</td>\n",
       "      <td>2015-05-04</td>\n",
       "      <td>11.893468</td>\n",
       "    </tr>\n",
       "    <tr>\n",
       "      <th>1</th>\n",
       "      <td>100282</td>\n",
       "      <td>2016-04-30</td>\n",
       "      <td>True</td>\n",
       "      <td>1.0</td>\n",
       "      <td>201505</td>\n",
       "      <td>2015-05-04 09:42:11</td>\n",
       "      <td>110507</td>\n",
       "      <td>U.F. DE CARCAVELOS E PAREDE</td>\n",
       "      <td>11</td>\n",
       "      <td>PEDIDOS DE EMPREGO AO LONGO DO MÃS</td>\n",
       "      <td>...</td>\n",
       "      <td>2009-04-06 00:00:00</td>\n",
       "      <td>42</td>\n",
       "      <td>1</td>\n",
       "      <td>None</td>\n",
       "      <td>None</td>\n",
       "      <td>None</td>\n",
       "      <td>None</td>\n",
       "      <td>100282</td>\n",
       "      <td>2015-05-04</td>\n",
       "      <td>11.893468</td>\n",
       "    </tr>\n",
       "    <tr>\n",
       "      <th>2</th>\n",
       "      <td>100305</td>\n",
       "      <td>2016-04-30</td>\n",
       "      <td>True</td>\n",
       "      <td>1.0</td>\n",
       "      <td>201505</td>\n",
       "      <td>2015-05-04 11:54:43</td>\n",
       "      <td>110501</td>\n",
       "      <td>ALCABIDECHE</td>\n",
       "      <td>11</td>\n",
       "      <td>PEDIDOS DE EMPREGO AO LONGO DO MÃS</td>\n",
       "      <td>...</td>\n",
       "      <td>2013-08-27 00:00:00</td>\n",
       "      <td>22</td>\n",
       "      <td>1</td>\n",
       "      <td>2013-08-27 00:00:00</td>\n",
       "      <td>2014-05-24 00:00:00</td>\n",
       "      <td>2014-01-23 00:00:00</td>\n",
       "      <td>2014-01-24 00:00:00</td>\n",
       "      <td>100305</td>\n",
       "      <td>2015-05-04</td>\n",
       "      <td>11.893468</td>\n",
       "    </tr>\n",
       "    <tr>\n",
       "      <th>3</th>\n",
       "      <td>100344</td>\n",
       "      <td>2016-04-30</td>\n",
       "      <td>True</td>\n",
       "      <td>1.0</td>\n",
       "      <td>201505</td>\n",
       "      <td>2015-05-04 16:18:30</td>\n",
       "      <td>110508</td>\n",
       "      <td>U.F. DE CASCAIS E ESTORIL</td>\n",
       "      <td>11</td>\n",
       "      <td>PEDIDOS DE EMPREGO AO LONGO DO MÃS</td>\n",
       "      <td>...</td>\n",
       "      <td>2009-11-04 00:00:00</td>\n",
       "      <td>50</td>\n",
       "      <td>1</td>\n",
       "      <td>None</td>\n",
       "      <td>None</td>\n",
       "      <td>None</td>\n",
       "      <td>None</td>\n",
       "      <td>100344</td>\n",
       "      <td>2015-05-04</td>\n",
       "      <td>11.893468</td>\n",
       "    </tr>\n",
       "    <tr>\n",
       "      <th>4</th>\n",
       "      <td>100337</td>\n",
       "      <td>2016-04-30</td>\n",
       "      <td>True</td>\n",
       "      <td>1.0</td>\n",
       "      <td>201505</td>\n",
       "      <td>2015-05-04 15:31:20</td>\n",
       "      <td>110506</td>\n",
       "      <td>SÃO DOMINGOS DE RANA</td>\n",
       "      <td>11</td>\n",
       "      <td>PEDIDOS DE EMPREGO AO LONGO DO MÃS</td>\n",
       "      <td>...</td>\n",
       "      <td>2013-12-27 00:00:00</td>\n",
       "      <td>22</td>\n",
       "      <td>1</td>\n",
       "      <td>None</td>\n",
       "      <td>None</td>\n",
       "      <td>None</td>\n",
       "      <td>None</td>\n",
       "      <td>100337</td>\n",
       "      <td>2015-05-04</td>\n",
       "      <td>11.893468</td>\n",
       "    </tr>\n",
       "  </tbody>\n",
       "</table>\n",
       "<p>5 rows × 76 columns</p>\n",
       "</div>"
      ],
      "text/plain": [
       "   application_id   ref_date   ltu  prob  anomes    mo_data_movimento  \\\n",
       "0          100349 2016-04-30  True   1.0  201505  2015-05-04 16:53:22   \n",
       "1          100282 2016-04-30  True   1.0  201505  2015-05-04 09:42:11   \n",
       "2          100305 2016-04-30  True   1.0  201505  2015-05-04 11:54:43   \n",
       "3          100344 2016-04-30  True   1.0  201505  2015-05-04 16:18:30   \n",
       "4          100337 2016-04-30  True   1.0  201505  2015-05-04 15:31:20   \n",
       "\n",
       "   cfreguesia                   dfreguesia  ctipo_movimento  \\\n",
       "0      110501                  ALCABIDECHE               11   \n",
       "1      110507  U.F. DE CARCAVELOS E PAREDE               11   \n",
       "2      110501                  ALCABIDECHE               11   \n",
       "3      110508    U.F. DE CASCAIS E ESTORIL               11   \n",
       "4      110506        SÃO DOMINGOS DE RANA               11   \n",
       "\n",
       "                       dtipo_movimento       ...         candidatura_data_ppe  \\\n",
       "0  PEDIDOS DE EMPREGO AO LONGO DO MÃS       ...          2013-01-14 00:00:00   \n",
       "1  PEDIDOS DE EMPREGO AO LONGO DO MÃS       ...          2009-04-06 00:00:00   \n",
       "2  PEDIDOS DE EMPREGO AO LONGO DO MÃS       ...          2013-08-27 00:00:00   \n",
       "3  PEDIDOS DE EMPREGO AO LONGO DO MÃS       ...          2009-11-04 00:00:00   \n",
       "4  PEDIDOS DE EMPREGO AO LONGO DO MÃS       ...          2013-12-27 00:00:00   \n",
       "\n",
       "  ute_idade intervencoes      sub_data_inicio         sub_data_fim  \\\n",
       "0        53            1  2002-06-06 00:00:00  2004-05-26 00:00:00   \n",
       "1        42            1                 None                 None   \n",
       "2        22            1  2013-08-27 00:00:00  2014-05-24 00:00:00   \n",
       "3        50            1                 None                 None   \n",
       "4        22            1                 None                 None   \n",
       "\n",
       "     sub_data_extincao   sub_data_suspensao table_index app_start_date  \\\n",
       "0  2004-04-08 00:00:00                 None      100349     2015-05-04   \n",
       "1                 None                 None      100282     2015-05-04   \n",
       "2  2014-01-23 00:00:00  2014-01-24 00:00:00      100305     2015-05-04   \n",
       "3                 None                 None      100344     2015-05-04   \n",
       "4                 None                 None      100337     2015-05-04   \n",
       "\n",
       "  months_since_app  \n",
       "0        11.893468  \n",
       "1        11.893468  \n",
       "2        11.893468  \n",
       "3        11.893468  \n",
       "4        11.893468  \n",
       "\n",
       "[5 rows x 76 columns]"
      ]
     },
     "execution_count": 71,
     "metadata": {},
     "output_type": "execute_result"
    }
   ],
   "source": [
    "res_subset.head()"
   ]
  },
  {
   "cell_type": "code",
   "execution_count": 21,
   "metadata": {},
   "outputs": [
    {
     "name": "stdout",
     "output_type": "stream",
     "text": [
      "[ 0.  1.]\n"
     ]
    }
   ],
   "source": [
    "#Checking classes order in prediction result\n",
    "print model_obj.classes_"
   ]
  },
  {
   "cell_type": "code",
   "execution_count": 45,
   "metadata": {
    "collapsed": true
   },
   "outputs": [],
   "source": [
    "classif_eval = evaluate_classification(model_results.loc[:,model_id], model_results.loc[:, 'ltu'], 2000).reset_index()"
   ]
  },
  {
   "cell_type": "code",
   "execution_count": 47,
   "metadata": {},
   "outputs": [
    {
     "name": "stdout",
     "output_type": "stream",
     "text": [
      "(6899, 6)\n"
     ]
    },
    {
     "data": {
      "text/html": [
       "<div>\n",
       "<style>\n",
       "    .dataframe thead tr:only-child th {\n",
       "        text-align: right;\n",
       "    }\n",
       "\n",
       "    .dataframe thead th {\n",
       "        text-align: left;\n",
       "    }\n",
       "\n",
       "    .dataframe tbody tr th {\n",
       "        vertical-align: top;\n",
       "    }\n",
       "</style>\n",
       "<table border=\"1\" class=\"dataframe\">\n",
       "  <thead>\n",
       "    <tr style=\"text-align: right;\">\n",
       "      <th></th>\n",
       "      <th>application_id</th>\n",
       "      <th>ref_date</th>\n",
       "      <th>actual</th>\n",
       "      <th>prob</th>\n",
       "      <th>pred</th>\n",
       "      <th>cm</th>\n",
       "    </tr>\n",
       "  </thead>\n",
       "  <tbody>\n",
       "    <tr>\n",
       "      <th>0</th>\n",
       "      <td>100349</td>\n",
       "      <td>2016-04-30</td>\n",
       "      <td>True</td>\n",
       "      <td>1.0</td>\n",
       "      <td>True</td>\n",
       "      <td>TP</td>\n",
       "    </tr>\n",
       "    <tr>\n",
       "      <th>1</th>\n",
       "      <td>100960</td>\n",
       "      <td>2016-04-30</td>\n",
       "      <td>True</td>\n",
       "      <td>1.0</td>\n",
       "      <td>True</td>\n",
       "      <td>TP</td>\n",
       "    </tr>\n",
       "    <tr>\n",
       "      <th>2</th>\n",
       "      <td>100864</td>\n",
       "      <td>2016-04-30</td>\n",
       "      <td>True</td>\n",
       "      <td>1.0</td>\n",
       "      <td>True</td>\n",
       "      <td>TP</td>\n",
       "    </tr>\n",
       "    <tr>\n",
       "      <th>3</th>\n",
       "      <td>100887</td>\n",
       "      <td>2016-04-30</td>\n",
       "      <td>True</td>\n",
       "      <td>1.0</td>\n",
       "      <td>True</td>\n",
       "      <td>TP</td>\n",
       "    </tr>\n",
       "    <tr>\n",
       "      <th>4</th>\n",
       "      <td>103187</td>\n",
       "      <td>2016-04-30</td>\n",
       "      <td>True</td>\n",
       "      <td>1.0</td>\n",
       "      <td>True</td>\n",
       "      <td>TP</td>\n",
       "    </tr>\n",
       "  </tbody>\n",
       "</table>\n",
       "</div>"
      ],
      "text/plain": [
       "   application_id   ref_date  actual  prob  pred  cm\n",
       "0          100349 2016-04-30    True   1.0  True  TP\n",
       "1          100960 2016-04-30    True   1.0  True  TP\n",
       "2          100864 2016-04-30    True   1.0  True  TP\n",
       "3          100887 2016-04-30    True   1.0  True  TP\n",
       "4          103187 2016-04-30    True   1.0  True  TP"
      ]
     },
     "execution_count": 47,
     "metadata": {},
     "output_type": "execute_result"
    }
   ],
   "source": [
    "print classif_eval.shape\n",
    "classif_eval.head()"
   ]
  },
  {
   "cell_type": "code",
   "execution_count": 54,
   "metadata": {},
   "outputs": [
    {
     "name": "stdout",
     "output_type": "stream",
     "text": [
      "(6899, 8)\n"
     ]
    },
    {
     "data": {
      "text/html": [
       "<div>\n",
       "<style>\n",
       "    .dataframe thead tr:only-child th {\n",
       "        text-align: right;\n",
       "    }\n",
       "\n",
       "    .dataframe thead th {\n",
       "        text-align: left;\n",
       "    }\n",
       "\n",
       "    .dataframe tbody tr th {\n",
       "        vertical-align: top;\n",
       "    }\n",
       "</style>\n",
       "<table border=\"1\" class=\"dataframe\">\n",
       "  <thead>\n",
       "    <tr style=\"text-align: right;\">\n",
       "      <th></th>\n",
       "      <th>application_id</th>\n",
       "      <th>ref_date</th>\n",
       "      <th>ltu</th>\n",
       "      <th>apps_so_far</th>\n",
       "      <th>cat_changes_so_far</th>\n",
       "      <th>convocations_so_far</th>\n",
       "      <th>interventions_so_far</th>\n",
       "      <th>interviews_so_far</th>\n",
       "      <th>movements</th>\n",
       "      <th>months_so_far</th>\n",
       "    </tr>\n",
       "  </thead>\n",
       "  <tbody>\n",
       "    <tr>\n",
       "      <th>0</th>\n",
       "      <td>100349</td>\n",
       "      <td>2016-04-30</td>\n",
       "      <td>True</td>\n",
       "      <td>1.0</td>\n",
       "      <td>0.0</td>\n",
       "      <td>5.0</td>\n",
       "      <td>3.0</td>\n",
       "      <td>2.0</td>\n",
       "      <td>11.0</td>\n",
       "      <td>12</td>\n",
       "    </tr>\n",
       "    <tr>\n",
       "      <th>1</th>\n",
       "      <td>100282</td>\n",
       "      <td>2016-04-30</td>\n",
       "      <td>True</td>\n",
       "      <td>1.0</td>\n",
       "      <td>0.0</td>\n",
       "      <td>2.0</td>\n",
       "      <td>5.0</td>\n",
       "      <td>0.0</td>\n",
       "      <td>8.0</td>\n",
       "      <td>12</td>\n",
       "    </tr>\n",
       "    <tr>\n",
       "      <th>2</th>\n",
       "      <td>100305</td>\n",
       "      <td>2016-04-30</td>\n",
       "      <td>True</td>\n",
       "      <td>1.0</td>\n",
       "      <td>0.0</td>\n",
       "      <td>0.0</td>\n",
       "      <td>0.0</td>\n",
       "      <td>0.0</td>\n",
       "      <td>1.0</td>\n",
       "      <td>12</td>\n",
       "    </tr>\n",
       "    <tr>\n",
       "      <th>3</th>\n",
       "      <td>100344</td>\n",
       "      <td>2016-04-30</td>\n",
       "      <td>True</td>\n",
       "      <td>1.0</td>\n",
       "      <td>0.0</td>\n",
       "      <td>2.0</td>\n",
       "      <td>1.0</td>\n",
       "      <td>0.0</td>\n",
       "      <td>4.0</td>\n",
       "      <td>12</td>\n",
       "    </tr>\n",
       "    <tr>\n",
       "      <th>4</th>\n",
       "      <td>100337</td>\n",
       "      <td>2016-04-30</td>\n",
       "      <td>True</td>\n",
       "      <td>1.0</td>\n",
       "      <td>2.0</td>\n",
       "      <td>4.0</td>\n",
       "      <td>2.0</td>\n",
       "      <td>0.0</td>\n",
       "      <td>9.0</td>\n",
       "      <td>12</td>\n",
       "    </tr>\n",
       "  </tbody>\n",
       "</table>\n",
       "</div>"
      ],
      "text/plain": [
       "   application_id   ref_date   ltu  apps_so_far  cat_changes_so_far  \\\n",
       "0          100349 2016-04-30  True          1.0                 0.0   \n",
       "1          100282 2016-04-30  True          1.0                 0.0   \n",
       "2          100305 2016-04-30  True          1.0                 0.0   \n",
       "3          100344 2016-04-30  True          1.0                 0.0   \n",
       "4          100337 2016-04-30  True          1.0                 2.0   \n",
       "\n",
       "   convocations_so_far  interventions_so_far  interviews_so_far  movements  \\\n",
       "0                  5.0                   3.0                2.0       11.0   \n",
       "1                  2.0                   5.0                0.0        8.0   \n",
       "2                  0.0                   0.0                0.0        1.0   \n",
       "3                  2.0                   1.0                0.0        4.0   \n",
       "4                  4.0                   2.0                0.0        9.0   \n",
       "\n",
       "   months_so_far  \n",
       "0             12  \n",
       "1             12  \n",
       "2             12  \n",
       "3             12  \n",
       "4             12  "
      ]
     },
     "execution_count": 54,
     "metadata": {},
     "output_type": "execute_result"
    }
   ],
   "source": [
    "print test_matrix.shape\n",
    "raw_test_matrix = test_matrix.reset_index()\n",
    "raw_test_matrix.head()"
   ]
  },
  {
   "cell_type": "code",
   "execution_count": 59,
   "metadata": {
    "collapsed": true
   },
   "outputs": [],
   "source": [
    "test_results = classif_eval.merge(apps, left_on='application_id',right_on='table_index')[['application_id','app_start_date','ref_date','prob']].sort_values('prob', ascending=False)\n",
    "test_results['months_since_app'] = pandas_utils.difftime_in_months(test_results['ref_date'],test_results['app_start_date']).astype(int)"
   ]
  },
  {
   "cell_type": "code",
   "execution_count": 60,
   "metadata": {},
   "outputs": [
    {
     "data": {
      "text/html": [
       "<div>\n",
       "<style>\n",
       "    .dataframe thead tr:only-child th {\n",
       "        text-align: right;\n",
       "    }\n",
       "\n",
       "    .dataframe thead th {\n",
       "        text-align: left;\n",
       "    }\n",
       "\n",
       "    .dataframe tbody tr th {\n",
       "        vertical-align: top;\n",
       "    }\n",
       "</style>\n",
       "<table border=\"1\" class=\"dataframe\">\n",
       "  <thead>\n",
       "    <tr style=\"text-align: right;\">\n",
       "      <th></th>\n",
       "      <th>application_id</th>\n",
       "      <th>app_start_date</th>\n",
       "      <th>ref_date</th>\n",
       "      <th>prob</th>\n",
       "      <th>months_since_app</th>\n",
       "    </tr>\n",
       "  </thead>\n",
       "  <tbody>\n",
       "    <tr>\n",
       "      <th>518</th>\n",
       "      <td>101698</td>\n",
       "      <td>2015-06-11</td>\n",
       "      <td>2016-04-30</td>\n",
       "      <td>0.958229</td>\n",
       "      <td>10</td>\n",
       "    </tr>\n",
       "    <tr>\n",
       "      <th>519</th>\n",
       "      <td>101827</td>\n",
       "      <td>2015-06-15</td>\n",
       "      <td>2016-04-30</td>\n",
       "      <td>0.958229</td>\n",
       "      <td>10</td>\n",
       "    </tr>\n",
       "    <tr>\n",
       "      <th>520</th>\n",
       "      <td>102287</td>\n",
       "      <td>2015-06-12</td>\n",
       "      <td>2016-04-30</td>\n",
       "      <td>0.958229</td>\n",
       "      <td>10</td>\n",
       "    </tr>\n",
       "    <tr>\n",
       "      <th>521</th>\n",
       "      <td>101784</td>\n",
       "      <td>2015-06-12</td>\n",
       "      <td>2016-04-30</td>\n",
       "      <td>0.958229</td>\n",
       "      <td>10</td>\n",
       "    </tr>\n",
       "    <tr>\n",
       "      <th>522</th>\n",
       "      <td>101675</td>\n",
       "      <td>2015-06-09</td>\n",
       "      <td>2016-04-30</td>\n",
       "      <td>0.958229</td>\n",
       "      <td>10</td>\n",
       "    </tr>\n",
       "    <tr>\n",
       "      <th>523</th>\n",
       "      <td>101745</td>\n",
       "      <td>2015-06-11</td>\n",
       "      <td>2016-04-30</td>\n",
       "      <td>0.958229</td>\n",
       "      <td>10</td>\n",
       "    </tr>\n",
       "    <tr>\n",
       "      <th>509</th>\n",
       "      <td>102268</td>\n",
       "      <td>2015-06-29</td>\n",
       "      <td>2016-04-30</td>\n",
       "      <td>0.958229</td>\n",
       "      <td>10</td>\n",
       "    </tr>\n",
       "    <tr>\n",
       "      <th>510</th>\n",
       "      <td>102292</td>\n",
       "      <td>2015-06-29</td>\n",
       "      <td>2016-04-30</td>\n",
       "      <td>0.958229</td>\n",
       "      <td>10</td>\n",
       "    </tr>\n",
       "    <tr>\n",
       "      <th>494</th>\n",
       "      <td>102044</td>\n",
       "      <td>2015-06-19</td>\n",
       "      <td>2016-04-30</td>\n",
       "      <td>0.958229</td>\n",
       "      <td>10</td>\n",
       "    </tr>\n",
       "    <tr>\n",
       "      <th>508</th>\n",
       "      <td>102244</td>\n",
       "      <td>2015-06-29</td>\n",
       "      <td>2016-04-30</td>\n",
       "      <td>0.958229</td>\n",
       "      <td>10</td>\n",
       "    </tr>\n",
       "    <tr>\n",
       "      <th>500</th>\n",
       "      <td>102375</td>\n",
       "      <td>2015-07-01</td>\n",
       "      <td>2016-04-30</td>\n",
       "      <td>0.958229</td>\n",
       "      <td>9</td>\n",
       "    </tr>\n",
       "    <tr>\n",
       "      <th>493</th>\n",
       "      <td>102202</td>\n",
       "      <td>2015-06-25</td>\n",
       "      <td>2016-04-30</td>\n",
       "      <td>0.958229</td>\n",
       "      <td>10</td>\n",
       "    </tr>\n",
       "    <tr>\n",
       "      <th>495</th>\n",
       "      <td>102035</td>\n",
       "      <td>2015-06-19</td>\n",
       "      <td>2016-04-30</td>\n",
       "      <td>0.958229</td>\n",
       "      <td>10</td>\n",
       "    </tr>\n",
       "    <tr>\n",
       "      <th>496</th>\n",
       "      <td>102554</td>\n",
       "      <td>2015-07-03</td>\n",
       "      <td>2016-04-30</td>\n",
       "      <td>0.958229</td>\n",
       "      <td>9</td>\n",
       "    </tr>\n",
       "    <tr>\n",
       "      <th>497</th>\n",
       "      <td>102533</td>\n",
       "      <td>2015-07-03</td>\n",
       "      <td>2016-04-30</td>\n",
       "      <td>0.958229</td>\n",
       "      <td>9</td>\n",
       "    </tr>\n",
       "    <tr>\n",
       "      <th>499</th>\n",
       "      <td>102487</td>\n",
       "      <td>2015-07-02</td>\n",
       "      <td>2016-04-30</td>\n",
       "      <td>0.958229</td>\n",
       "      <td>9</td>\n",
       "    </tr>\n",
       "    <tr>\n",
       "      <th>498</th>\n",
       "      <td>102557</td>\n",
       "      <td>2015-07-03</td>\n",
       "      <td>2016-04-30</td>\n",
       "      <td>0.958229</td>\n",
       "      <td>9</td>\n",
       "    </tr>\n",
       "    <tr>\n",
       "      <th>501</th>\n",
       "      <td>102027</td>\n",
       "      <td>2015-06-19</td>\n",
       "      <td>2016-04-30</td>\n",
       "      <td>0.958229</td>\n",
       "      <td>10</td>\n",
       "    </tr>\n",
       "    <tr>\n",
       "      <th>502</th>\n",
       "      <td>119556</td>\n",
       "      <td>2015-07-02</td>\n",
       "      <td>2016-04-30</td>\n",
       "      <td>0.958229</td>\n",
       "      <td>9</td>\n",
       "    </tr>\n",
       "    <tr>\n",
       "      <th>503</th>\n",
       "      <td>102466</td>\n",
       "      <td>2015-07-02</td>\n",
       "      <td>2016-04-30</td>\n",
       "      <td>0.958229</td>\n",
       "      <td>9</td>\n",
       "    </tr>\n",
       "    <tr>\n",
       "      <th>504</th>\n",
       "      <td>102199</td>\n",
       "      <td>2015-06-25</td>\n",
       "      <td>2016-04-30</td>\n",
       "      <td>0.958229</td>\n",
       "      <td>10</td>\n",
       "    </tr>\n",
       "    <tr>\n",
       "      <th>505</th>\n",
       "      <td>102425</td>\n",
       "      <td>2015-07-01</td>\n",
       "      <td>2016-04-30</td>\n",
       "      <td>0.958229</td>\n",
       "      <td>9</td>\n",
       "    </tr>\n",
       "    <tr>\n",
       "      <th>506</th>\n",
       "      <td>102400</td>\n",
       "      <td>2015-07-01</td>\n",
       "      <td>2016-04-30</td>\n",
       "      <td>0.958229</td>\n",
       "      <td>9</td>\n",
       "    </tr>\n",
       "    <tr>\n",
       "      <th>507</th>\n",
       "      <td>102419</td>\n",
       "      <td>2015-07-01</td>\n",
       "      <td>2016-04-30</td>\n",
       "      <td>0.958229</td>\n",
       "      <td>9</td>\n",
       "    </tr>\n",
       "    <tr>\n",
       "      <th>524</th>\n",
       "      <td>102892</td>\n",
       "      <td>2015-07-14</td>\n",
       "      <td>2016-04-30</td>\n",
       "      <td>0.956772</td>\n",
       "      <td>9</td>\n",
       "    </tr>\n",
       "    <tr>\n",
       "      <th>525</th>\n",
       "      <td>104714</td>\n",
       "      <td>2015-09-04</td>\n",
       "      <td>2016-04-30</td>\n",
       "      <td>0.956667</td>\n",
       "      <td>7</td>\n",
       "    </tr>\n",
       "    <tr>\n",
       "      <th>526</th>\n",
       "      <td>103436</td>\n",
       "      <td>2015-07-31</td>\n",
       "      <td>2016-04-30</td>\n",
       "      <td>0.956667</td>\n",
       "      <td>9</td>\n",
       "    </tr>\n",
       "    <tr>\n",
       "      <th>527</th>\n",
       "      <td>105852</td>\n",
       "      <td>2015-10-01</td>\n",
       "      <td>2016-04-30</td>\n",
       "      <td>0.956088</td>\n",
       "      <td>6</td>\n",
       "    </tr>\n",
       "    <tr>\n",
       "      <th>528</th>\n",
       "      <td>101437</td>\n",
       "      <td>2015-06-03</td>\n",
       "      <td>2016-04-30</td>\n",
       "      <td>0.955767</td>\n",
       "      <td>10</td>\n",
       "    </tr>\n",
       "    <tr>\n",
       "      <th>531</th>\n",
       "      <td>103771</td>\n",
       "      <td>2015-08-07</td>\n",
       "      <td>2016-04-30</td>\n",
       "      <td>0.955000</td>\n",
       "      <td>8</td>\n",
       "    </tr>\n",
       "    <tr>\n",
       "      <th>529</th>\n",
       "      <td>103204</td>\n",
       "      <td>2015-07-24</td>\n",
       "      <td>2016-04-30</td>\n",
       "      <td>0.955000</td>\n",
       "      <td>9</td>\n",
       "    </tr>\n",
       "    <tr>\n",
       "      <th>530</th>\n",
       "      <td>102873</td>\n",
       "      <td>2015-07-14</td>\n",
       "      <td>2016-04-30</td>\n",
       "      <td>0.955000</td>\n",
       "      <td>9</td>\n",
       "    </tr>\n",
       "    <tr>\n",
       "      <th>532</th>\n",
       "      <td>102132</td>\n",
       "      <td>2015-06-23</td>\n",
       "      <td>2016-04-30</td>\n",
       "      <td>0.954167</td>\n",
       "      <td>10</td>\n",
       "    </tr>\n",
       "    <tr>\n",
       "      <th>533</th>\n",
       "      <td>102136</td>\n",
       "      <td>2015-06-23</td>\n",
       "      <td>2016-04-30</td>\n",
       "      <td>0.954000</td>\n",
       "      <td>10</td>\n",
       "    </tr>\n",
       "    <tr>\n",
       "      <th>534</th>\n",
       "      <td>101327</td>\n",
       "      <td>2015-06-01</td>\n",
       "      <td>2016-04-30</td>\n",
       "      <td>0.953333</td>\n",
       "      <td>10</td>\n",
       "    </tr>\n",
       "    <tr>\n",
       "      <th>535</th>\n",
       "      <td>105876</td>\n",
       "      <td>2015-10-02</td>\n",
       "      <td>2016-04-30</td>\n",
       "      <td>0.952860</td>\n",
       "      <td>6</td>\n",
       "    </tr>\n",
       "    <tr>\n",
       "      <th>536</th>\n",
       "      <td>103944</td>\n",
       "      <td>2015-08-13</td>\n",
       "      <td>2016-04-30</td>\n",
       "      <td>0.951667</td>\n",
       "      <td>8</td>\n",
       "    </tr>\n",
       "    <tr>\n",
       "      <th>542</th>\n",
       "      <td>105979</td>\n",
       "      <td>2015-10-05</td>\n",
       "      <td>2016-04-30</td>\n",
       "      <td>0.951604</td>\n",
       "      <td>6</td>\n",
       "    </tr>\n",
       "    <tr>\n",
       "      <th>541</th>\n",
       "      <td>106828</td>\n",
       "      <td>2015-10-27</td>\n",
       "      <td>2016-04-30</td>\n",
       "      <td>0.951604</td>\n",
       "      <td>6</td>\n",
       "    </tr>\n",
       "    <tr>\n",
       "      <th>540</th>\n",
       "      <td>106118</td>\n",
       "      <td>2015-10-08</td>\n",
       "      <td>2016-04-30</td>\n",
       "      <td>0.951604</td>\n",
       "      <td>6</td>\n",
       "    </tr>\n",
       "    <tr>\n",
       "      <th>539</th>\n",
       "      <td>105926</td>\n",
       "      <td>2015-10-05</td>\n",
       "      <td>2016-04-30</td>\n",
       "      <td>0.951604</td>\n",
       "      <td>6</td>\n",
       "    </tr>\n",
       "    <tr>\n",
       "      <th>538</th>\n",
       "      <td>106160</td>\n",
       "      <td>2015-10-13</td>\n",
       "      <td>2016-04-30</td>\n",
       "      <td>0.951604</td>\n",
       "      <td>6</td>\n",
       "    </tr>\n",
       "    <tr>\n",
       "      <th>537</th>\n",
       "      <td>106592</td>\n",
       "      <td>2015-10-20</td>\n",
       "      <td>2016-04-30</td>\n",
       "      <td>0.951604</td>\n",
       "      <td>6</td>\n",
       "    </tr>\n",
       "    <tr>\n",
       "      <th>543</th>\n",
       "      <td>103665</td>\n",
       "      <td>2015-08-05</td>\n",
       "      <td>2016-04-30</td>\n",
       "      <td>0.950978</td>\n",
       "      <td>8</td>\n",
       "    </tr>\n",
       "    <tr>\n",
       "      <th>544</th>\n",
       "      <td>101832</td>\n",
       "      <td>2015-06-15</td>\n",
       "      <td>2016-04-30</td>\n",
       "      <td>0.950167</td>\n",
       "      <td>10</td>\n",
       "    </tr>\n",
       "    <tr>\n",
       "      <th>550</th>\n",
       "      <td>102265</td>\n",
       "      <td>2015-06-29</td>\n",
       "      <td>2016-04-30</td>\n",
       "      <td>0.950000</td>\n",
       "      <td>10</td>\n",
       "    </tr>\n",
       "    <tr>\n",
       "      <th>554</th>\n",
       "      <td>109053</td>\n",
       "      <td>2016-01-05</td>\n",
       "      <td>2016-04-30</td>\n",
       "      <td>0.950000</td>\n",
       "      <td>3</td>\n",
       "    </tr>\n",
       "    <tr>\n",
       "      <th>553</th>\n",
       "      <td>100882</td>\n",
       "      <td>2015-05-19</td>\n",
       "      <td>2016-04-30</td>\n",
       "      <td>0.950000</td>\n",
       "      <td>11</td>\n",
       "    </tr>\n",
       "    <tr>\n",
       "      <th>551</th>\n",
       "      <td>103239</td>\n",
       "      <td>2015-07-24</td>\n",
       "      <td>2016-04-30</td>\n",
       "      <td>0.950000</td>\n",
       "      <td>9</td>\n",
       "    </tr>\n",
       "    <tr>\n",
       "      <th>552</th>\n",
       "      <td>102513</td>\n",
       "      <td>2015-07-03</td>\n",
       "      <td>2016-04-30</td>\n",
       "      <td>0.950000</td>\n",
       "      <td>9</td>\n",
       "    </tr>\n",
       "  </tbody>\n",
       "</table>\n",
       "</div>"
      ],
      "text/plain": [
       "     application_id app_start_date   ref_date      prob  months_since_app\n",
       "518          101698     2015-06-11 2016-04-30  0.958229                10\n",
       "519          101827     2015-06-15 2016-04-30  0.958229                10\n",
       "520          102287     2015-06-12 2016-04-30  0.958229                10\n",
       "521          101784     2015-06-12 2016-04-30  0.958229                10\n",
       "522          101675     2015-06-09 2016-04-30  0.958229                10\n",
       "523          101745     2015-06-11 2016-04-30  0.958229                10\n",
       "509          102268     2015-06-29 2016-04-30  0.958229                10\n",
       "510          102292     2015-06-29 2016-04-30  0.958229                10\n",
       "494          102044     2015-06-19 2016-04-30  0.958229                10\n",
       "508          102244     2015-06-29 2016-04-30  0.958229                10\n",
       "500          102375     2015-07-01 2016-04-30  0.958229                 9\n",
       "493          102202     2015-06-25 2016-04-30  0.958229                10\n",
       "495          102035     2015-06-19 2016-04-30  0.958229                10\n",
       "496          102554     2015-07-03 2016-04-30  0.958229                 9\n",
       "497          102533     2015-07-03 2016-04-30  0.958229                 9\n",
       "499          102487     2015-07-02 2016-04-30  0.958229                 9\n",
       "498          102557     2015-07-03 2016-04-30  0.958229                 9\n",
       "501          102027     2015-06-19 2016-04-30  0.958229                10\n",
       "502          119556     2015-07-02 2016-04-30  0.958229                 9\n",
       "503          102466     2015-07-02 2016-04-30  0.958229                 9\n",
       "504          102199     2015-06-25 2016-04-30  0.958229                10\n",
       "505          102425     2015-07-01 2016-04-30  0.958229                 9\n",
       "506          102400     2015-07-01 2016-04-30  0.958229                 9\n",
       "507          102419     2015-07-01 2016-04-30  0.958229                 9\n",
       "524          102892     2015-07-14 2016-04-30  0.956772                 9\n",
       "525          104714     2015-09-04 2016-04-30  0.956667                 7\n",
       "526          103436     2015-07-31 2016-04-30  0.956667                 9\n",
       "527          105852     2015-10-01 2016-04-30  0.956088                 6\n",
       "528          101437     2015-06-03 2016-04-30  0.955767                10\n",
       "531          103771     2015-08-07 2016-04-30  0.955000                 8\n",
       "529          103204     2015-07-24 2016-04-30  0.955000                 9\n",
       "530          102873     2015-07-14 2016-04-30  0.955000                 9\n",
       "532          102132     2015-06-23 2016-04-30  0.954167                10\n",
       "533          102136     2015-06-23 2016-04-30  0.954000                10\n",
       "534          101327     2015-06-01 2016-04-30  0.953333                10\n",
       "535          105876     2015-10-02 2016-04-30  0.952860                 6\n",
       "536          103944     2015-08-13 2016-04-30  0.951667                 8\n",
       "542          105979     2015-10-05 2016-04-30  0.951604                 6\n",
       "541          106828     2015-10-27 2016-04-30  0.951604                 6\n",
       "540          106118     2015-10-08 2016-04-30  0.951604                 6\n",
       "539          105926     2015-10-05 2016-04-30  0.951604                 6\n",
       "538          106160     2015-10-13 2016-04-30  0.951604                 6\n",
       "537          106592     2015-10-20 2016-04-30  0.951604                 6\n",
       "543          103665     2015-08-05 2016-04-30  0.950978                 8\n",
       "544          101832     2015-06-15 2016-04-30  0.950167                10\n",
       "550          102265     2015-06-29 2016-04-30  0.950000                10\n",
       "554          109053     2016-01-05 2016-04-30  0.950000                 3\n",
       "553          100882     2015-05-19 2016-04-30  0.950000                11\n",
       "551          103239     2015-07-24 2016-04-30  0.950000                 9\n",
       "552          102513     2015-07-03 2016-04-30  0.950000                 9"
      ]
     },
     "execution_count": 60,
     "metadata": {},
     "output_type": "execute_result"
    }
   ],
   "source": [
    "test_results[500:550]"
   ]
  },
  {
   "cell_type": "code",
   "execution_count": null,
   "metadata": {
    "collapsed": true
   },
   "outputs": [],
   "source": [
    "applications_by_months_so_far = test_results.groupby(['months_so_far'])['application_id'].count().reset_index(name='total_count')\n",
    "applications_by_months_so_far"
   ]
  },
  {
   "cell_type": "code",
   "execution_count": null,
   "metadata": {
    "collapsed": true
   },
   "outputs": [],
   "source": [
    "cm_by_months_so_far = test_results.groupby(['cm','months_so_far'])['application_id'].count().reset_index(name='count')\n",
    "cm_by_months_so_far"
   ]
  },
  {
   "cell_type": "code",
   "execution_count": null,
   "metadata": {
    "collapsed": true
   },
   "outputs": [],
   "source": [
    "norm_cm_by_months_so_far = cm_by_months_so_far.merge(applications_by_months_so_far)\n",
    "norm_cm_by_months_so_far.head()"
   ]
  },
  {
   "cell_type": "code",
   "execution_count": null,
   "metadata": {
    "collapsed": true
   },
   "outputs": [],
   "source": [
    "norm_cm_by_months_so_far['proportion'] = norm_cm_by_months_so_far['count']/norm_cm_by_months_so_far['total_count']\n",
    "norm_cm_by_months_so_far.head()"
   ]
  },
  {
   "cell_type": "code",
   "execution_count": null,
   "metadata": {
    "collapsed": true
   },
   "outputs": [],
   "source": [
    "for cm_label in ['TP','FP','TN','FN']:\n",
    "    cm_hist = norm_cm_by_months_so_far[norm_cm_by_months_so_far['cm'] ==  cm_label][['months_so_far','proportion']]\n",
    "    cm_hist.plot(\n",
    "        x='months_so_far',\n",
    "        y='proportion',\n",
    "        kind='bar',\n",
    "        legend=False,\n",
    "        title=\"Normalized Proportion of months_so_far in \" + cm_label).set_ylabel('Proportion within group (%)')"
   ]
  },
  {
   "cell_type": "code",
   "execution_count": null,
   "metadata": {
    "collapsed": true
   },
   "outputs": [],
   "source": [
    "applications_by_months_so_far.plot(\n",
    "        x='months_so_far',\n",
    "        y='total_count',\n",
    "        kind='bar',\n",
    "        legend=False,\n",
    "        title=\"Proportion of months_so_far in test set\").set_ylabel('Total Count')"
   ]
  },
  {
   "cell_type": "code",
   "execution_count": null,
   "metadata": {
    "collapsed": true
   },
   "outputs": [],
   "source": [
    "test_matrix.time_so_far.describe()"
   ]
  },
  {
   "cell_type": "code",
   "execution_count": null,
   "metadata": {
    "collapsed": true
   },
   "outputs": [],
   "source": [
    "test_matrix.months_so_far.describe()"
   ]
  },
  {
   "cell_type": "code",
   "execution_count": null,
   "metadata": {
    "collapsed": true
   },
   "outputs": [],
   "source": [
    "classif_eval.groupby('cm').count()"
   ]
  },
  {
   "cell_type": "code",
   "execution_count": null,
   "metadata": {
    "collapsed": true
   },
   "outputs": [],
   "source": [
    "#Analyze Distribution of months since application in TP and FN\n"
   ]
  },
  {
   "cell_type": "code",
   "execution_count": null,
   "metadata": {
    "collapsed": true
   },
   "outputs": [],
   "source": [
    "classif_eval.shape"
   ]
  },
  {
   "cell_type": "code",
   "execution_count": null,
   "metadata": {
    "collapsed": true
   },
   "outputs": [],
   "source": [
    "classif_eval.head()"
   ]
  },
  {
   "cell_type": "markdown",
   "metadata": {},
   "source": [
    "# Testing Features Matrix"
   ]
  },
  {
   "cell_type": "code",
   "execution_count": null,
   "metadata": {
    "collapsed": true
   },
   "outputs": [],
   "source": [
    "train_matrix.columns.to_series().groupby(train_matrix.dtypes).groups"
   ]
  },
  {
   "cell_type": "code",
   "execution_count": null,
   "metadata": {
    "collapsed": true
   },
   "outputs": [],
   "source": [
    "test_matrix.head()"
   ]
  },
  {
   "cell_type": "markdown",
   "metadata": {},
   "source": [
    "# Testing Extended Datasets"
   ]
  },
  {
   "cell_type": "code",
   "execution_count": null,
   "metadata": {
    "collapsed": true
   },
   "outputs": [],
   "source": [
    "extended_train.head()"
   ]
  },
  {
   "cell_type": "code",
   "execution_count": null,
   "metadata": {
    "collapsed": true
   },
   "outputs": [],
   "source": [
    "extended_test.head()"
   ]
  },
  {
   "cell_type": "code",
   "execution_count": null,
   "metadata": {
    "collapsed": true
   },
   "outputs": [],
   "source": [
    "extended_train[['application_id','ltu']].drop_duplicates().ltu.sum()"
   ]
  },
  {
   "cell_type": "code",
   "execution_count": null,
   "metadata": {
    "collapsed": true
   },
   "outputs": [],
   "source": [
    "extended_test[['application_id','ltu']].drop_duplicates().ltu.sum()"
   ]
  },
  {
   "cell_type": "code",
   "execution_count": null,
   "metadata": {
    "collapsed": true
   },
   "outputs": [],
   "source": [
    "train_labels.groupby('ltu').count()/train_labels.shape[0]"
   ]
  },
  {
   "cell_type": "code",
   "execution_count": null,
   "metadata": {
    "collapsed": true
   },
   "outputs": [],
   "source": [
    "test_labels.groupby('ltu').count()/test_labels.shape[0]"
   ]
  },
  {
   "cell_type": "code",
   "execution_count": null,
   "metadata": {
    "collapsed": true
   },
   "outputs": [],
   "source": [
    "train_app_length = get_app_length(train_apps,movs,test_st_date)"
   ]
  },
  {
   "cell_type": "code",
   "execution_count": null,
   "metadata": {
    "collapsed": true
   },
   "outputs": [],
   "source": [
    "train_app_length.describe()"
   ]
  },
  {
   "cell_type": "code",
   "execution_count": null,
   "metadata": {
    "collapsed": true
   },
   "outputs": [],
   "source": [
    "test_app_length = get_app_length(test_apps,movs,test_st_date)"
   ]
  },
  {
   "cell_type": "code",
   "execution_count": null,
   "metadata": {
    "collapsed": true
   },
   "outputs": [],
   "source": [
    "test_app_length.describe()"
   ]
  },
  {
   "cell_type": "code",
   "execution_count": null,
   "metadata": {
    "collapsed": true
   },
   "outputs": [],
   "source": [
    "train_apps.shape"
   ]
  },
  {
   "cell_type": "code",
   "execution_count": null,
   "metadata": {
    "collapsed": true
   },
   "outputs": [],
   "source": [
    "test_apps.shape"
   ]
  },
  {
   "cell_type": "code",
   "execution_count": null,
   "metadata": {
    "collapsed": true
   },
   "outputs": [],
   "source": []
  }
 ],
 "metadata": {
  "kernelspec": {
   "display_name": "Python 2",
   "language": "python",
   "name": "python2"
  },
  "language_info": {
   "codemirror_mode": {
    "name": "ipython",
    "version": 2
   },
   "file_extension": ".py",
   "mimetype": "text/x-python",
   "name": "python",
   "nbconvert_exporter": "python",
   "pygments_lexer": "ipython2",
   "version": "2.7.13"
  }
 },
 "nbformat": 4,
 "nbformat_minor": 2
}
