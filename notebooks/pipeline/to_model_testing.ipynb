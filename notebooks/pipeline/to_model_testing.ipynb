{
 "cells": [
  {
   "cell_type": "code",
   "execution_count": 1,
   "metadata": {
    "collapsed": true
   },
   "outputs": [],
   "source": [
    "import pandas as pd\n",
    "import numpy as np\n",
    "from pandas import Series, DataFrame\n",
    "import matplotlib.pyplot as plt\n",
    "import psycopg2 as pg\n",
    "%matplotlib inline\n",
    "import seaborn as sns\n",
    "import dbcreds"
   ]
  },
  {
   "cell_type": "code",
   "execution_count": 2,
   "metadata": {
    "collapsed": true
   },
   "outputs": [],
   "source": [
    "import sys\n",
    "import pickle\n",
    "from utils import model_utils\n",
    "import prepare_feature_matrix\n",
    "import train_model\n",
    "import test_model\n",
    "import evaluate_models"
   ]
  },
  {
   "cell_type": "code",
   "execution_count": 3,
   "metadata": {
    "collapsed": true
   },
   "outputs": [],
   "source": [
    "for time_split in [{\"split_date\":\"2015-04-30\",\"train_timedelta\":\"365D\",\"test_timedelta\":\"365D\"}]:\n",
    "    split_date = pd.to_datetime(time_split['split_date'])\n",
    "    train_timedelta = pd.Timedelta(time_split['train_timedelta'])\n",
    "    test_timedelta = pd.Timedelta(time_split['test_timedelta'])"
   ]
  },
  {
   "cell_type": "code",
   "execution_count": 4,
   "metadata": {},
   "outputs": [
    {
     "name": "stdout",
     "output_type": "stream",
     "text": [
      "Generating Feature Matrix\n",
      "Reading data from DB\n",
      "Cleaning data\n",
      "Generating LTU/Non-LTU labels\n",
      "Building model feature matrix\n",
      "Splitting Train/Test Sets\n"
     ]
    }
   ],
   "source": [
    "for feature_set in [{\"name\":\"demographics_only\"}]:\n",
    "    feature_set_name = feature_set['name']\n",
    "\n",
    "    print \"Generating Feature Matrix\"\n",
    "    feature_matrix = prepare_feature_matrix.generate_matrix(feature_set_name)\n",
    "\n",
    "    print \"Splitting Train/Test Sets\"\n",
    "    train_data,test_data=model_utils.split_train_test(feature_matrix,split_date,train_timedelta,test_timedelta)"
   ]
  },
  {
   "cell_type": "code",
   "execution_count": 8,
   "metadata": {},
   "outputs": [
    {
     "name": "stdout",
     "output_type": "stream",
     "text": [
      "(74059, 68)\n",
      "(8565, 68)\n",
      "(8824, 68)\n"
     ]
    },
    {
     "data": {
      "text/html": [
       "<div>\n",
       "<style>\n",
       "    .dataframe thead tr:only-child th {\n",
       "        text-align: right;\n",
       "    }\n",
       "\n",
       "    .dataframe thead th {\n",
       "        text-align: left;\n",
       "    }\n",
       "\n",
       "    .dataframe tbody tr th {\n",
       "        vertical-align: top;\n",
       "    }\n",
       "</style>\n",
       "<table border=\"1\" class=\"dataframe\">\n",
       "  <thead>\n",
       "    <tr style=\"text-align: right;\">\n",
       "      <th></th>\n",
       "      <th>application_id</th>\n",
       "      <th>app_start_date</th>\n",
       "      <th>ltu</th>\n",
       "      <th>age</th>\n",
       "      <th>time_since_exit</th>\n",
       "      <th>number_dependents</th>\n",
       "      <th>experience_intended_prof</th>\n",
       "      <th>experience_prev_prof</th>\n",
       "      <th>gender_F</th>\n",
       "      <th>gender_M</th>\n",
       "      <th>...</th>\n",
       "      <th>previous_prof_Unknown</th>\n",
       "      <th>training_area_Agriculture</th>\n",
       "      <th>training_area_ArtsAndHumanities</th>\n",
       "      <th>training_area_Education</th>\n",
       "      <th>training_area_EngineeringAndConstruction</th>\n",
       "      <th>training_area_HealthAndSocialProtection</th>\n",
       "      <th>training_area_STEM</th>\n",
       "      <th>training_area_Service</th>\n",
       "      <th>training_area_SocialScienceTradeAndLaw</th>\n",
       "      <th>training_area_Unkown</th>\n",
       "    </tr>\n",
       "  </thead>\n",
       "  <tbody>\n",
       "    <tr>\n",
       "      <th>0</th>\n",
       "      <td>120687</td>\n",
       "      <td>2016-12-06</td>\n",
       "      <td>True</td>\n",
       "      <td>44</td>\n",
       "      <td>1928.0</td>\n",
       "      <td>2.0</td>\n",
       "      <td>36.0</td>\n",
       "      <td>36.0</td>\n",
       "      <td>0</td>\n",
       "      <td>1</td>\n",
       "      <td>...</td>\n",
       "      <td>0</td>\n",
       "      <td>0</td>\n",
       "      <td>0</td>\n",
       "      <td>0</td>\n",
       "      <td>0</td>\n",
       "      <td>0</td>\n",
       "      <td>0</td>\n",
       "      <td>0</td>\n",
       "      <td>0</td>\n",
       "      <td>1</td>\n",
       "    </tr>\n",
       "    <tr>\n",
       "      <th>33</th>\n",
       "      <td>61038</td>\n",
       "      <td>2012-05-17</td>\n",
       "      <td>False</td>\n",
       "      <td>42</td>\n",
       "      <td>170.0</td>\n",
       "      <td>2.0</td>\n",
       "      <td>144.0</td>\n",
       "      <td>10.0</td>\n",
       "      <td>1</td>\n",
       "      <td>0</td>\n",
       "      <td>...</td>\n",
       "      <td>0</td>\n",
       "      <td>0</td>\n",
       "      <td>0</td>\n",
       "      <td>0</td>\n",
       "      <td>1</td>\n",
       "      <td>0</td>\n",
       "      <td>0</td>\n",
       "      <td>0</td>\n",
       "      <td>0</td>\n",
       "      <td>0</td>\n",
       "    </tr>\n",
       "    <tr>\n",
       "      <th>55</th>\n",
       "      <td>9206</td>\n",
       "      <td>2007-12-10</td>\n",
       "      <td>False</td>\n",
       "      <td>33</td>\n",
       "      <td>24.0</td>\n",
       "      <td>1.0</td>\n",
       "      <td>30.0</td>\n",
       "      <td>30.0</td>\n",
       "      <td>0</td>\n",
       "      <td>1</td>\n",
       "      <td>...</td>\n",
       "      <td>0</td>\n",
       "      <td>0</td>\n",
       "      <td>0</td>\n",
       "      <td>0</td>\n",
       "      <td>0</td>\n",
       "      <td>0</td>\n",
       "      <td>0</td>\n",
       "      <td>0</td>\n",
       "      <td>0</td>\n",
       "      <td>1</td>\n",
       "    </tr>\n",
       "    <tr>\n",
       "      <th>59</th>\n",
       "      <td>8491</td>\n",
       "      <td>2007-11-05</td>\n",
       "      <td>False</td>\n",
       "      <td>32</td>\n",
       "      <td>1224.0</td>\n",
       "      <td>0.0</td>\n",
       "      <td>48.0</td>\n",
       "      <td>48.0</td>\n",
       "      <td>1</td>\n",
       "      <td>0</td>\n",
       "      <td>...</td>\n",
       "      <td>0</td>\n",
       "      <td>0</td>\n",
       "      <td>0</td>\n",
       "      <td>0</td>\n",
       "      <td>0</td>\n",
       "      <td>0</td>\n",
       "      <td>0</td>\n",
       "      <td>0</td>\n",
       "      <td>0</td>\n",
       "      <td>1</td>\n",
       "    </tr>\n",
       "    <tr>\n",
       "      <th>70</th>\n",
       "      <td>45682</td>\n",
       "      <td>2011-02-15</td>\n",
       "      <td>False</td>\n",
       "      <td>35</td>\n",
       "      <td>1016.0</td>\n",
       "      <td>0.0</td>\n",
       "      <td>48.0</td>\n",
       "      <td>36.0</td>\n",
       "      <td>1</td>\n",
       "      <td>0</td>\n",
       "      <td>...</td>\n",
       "      <td>0</td>\n",
       "      <td>0</td>\n",
       "      <td>0</td>\n",
       "      <td>0</td>\n",
       "      <td>0</td>\n",
       "      <td>0</td>\n",
       "      <td>0</td>\n",
       "      <td>0</td>\n",
       "      <td>0</td>\n",
       "      <td>1</td>\n",
       "    </tr>\n",
       "  </tbody>\n",
       "</table>\n",
       "<p>5 rows × 68 columns</p>\n",
       "</div>"
      ],
      "text/plain": [
       "    application_id app_start_date    ltu  age  time_since_exit  \\\n",
       "0           120687     2016-12-06   True   44           1928.0   \n",
       "33           61038     2012-05-17  False   42            170.0   \n",
       "55            9206     2007-12-10  False   33             24.0   \n",
       "59            8491     2007-11-05  False   32           1224.0   \n",
       "70           45682     2011-02-15  False   35           1016.0   \n",
       "\n",
       "    number_dependents  experience_intended_prof  experience_prev_prof  \\\n",
       "0                 2.0                      36.0                  36.0   \n",
       "33                2.0                     144.0                  10.0   \n",
       "55                1.0                      30.0                  30.0   \n",
       "59                0.0                      48.0                  48.0   \n",
       "70                0.0                      48.0                  36.0   \n",
       "\n",
       "    gender_F  gender_M          ...           previous_prof_Unknown  \\\n",
       "0          0         1          ...                               0   \n",
       "33         1         0          ...                               0   \n",
       "55         0         1          ...                               0   \n",
       "59         1         0          ...                               0   \n",
       "70         1         0          ...                               0   \n",
       "\n",
       "    training_area_Agriculture  training_area_ArtsAndHumanities  \\\n",
       "0                           0                                0   \n",
       "33                          0                                0   \n",
       "55                          0                                0   \n",
       "59                          0                                0   \n",
       "70                          0                                0   \n",
       "\n",
       "    training_area_Education  training_area_EngineeringAndConstruction  \\\n",
       "0                         0                                         0   \n",
       "33                        0                                         1   \n",
       "55                        0                                         0   \n",
       "59                        0                                         0   \n",
       "70                        0                                         0   \n",
       "\n",
       "    training_area_HealthAndSocialProtection  training_area_STEM  \\\n",
       "0                                         0                   0   \n",
       "33                                        0                   0   \n",
       "55                                        0                   0   \n",
       "59                                        0                   0   \n",
       "70                                        0                   0   \n",
       "\n",
       "    training_area_Service  training_area_SocialScienceTradeAndLaw  \\\n",
       "0                       0                                       0   \n",
       "33                      0                                       0   \n",
       "55                      0                                       0   \n",
       "59                      0                                       0   \n",
       "70                      0                                       0   \n",
       "\n",
       "    training_area_Unkown  \n",
       "0                      1  \n",
       "33                     0  \n",
       "55                     1  \n",
       "59                     1  \n",
       "70                     1  \n",
       "\n",
       "[5 rows x 68 columns]"
      ]
     },
     "execution_count": 8,
     "metadata": {},
     "output_type": "execute_result"
    }
   ],
   "source": [
    "print feature_matrix.shape\n",
    "print train_data.shape\n",
    "print test_data.shape\n",
    "feature_matrix.head()"
   ]
  },
  {
   "cell_type": "code",
   "execution_count": 79,
   "metadata": {},
   "outputs": [],
   "source": [
    "import sklearn\n",
    "from sklearn import svm\n",
    "from sklearn.neural_network import MLPClassifier\n",
    "from sklearn.neighbors import KNeighborsClassifier\n",
    "from sklearn.ensemble import RandomForestClassifier, AdaBoostClassifier\n",
    "from sklearn.tree import DecisionTreeClassifier\n",
    "\n",
    "def svm():\n",
    "    return sklearn.svm.SVC(probability=True,kernel='linear')\n",
    "\n",
    "def random_forest():\n",
    "    return sklearn.ensemble.RandomForestClassifier(n_estimators=100,\n",
    "                       criterion='gini',\n",
    "                       max_depth=None,\n",
    "                       random_state=4321) # always set your random seed for reproducibility!\n",
    "\n",
    "def dec_tree():\n",
    "    return sklearn.tree.DecisionTreeClassifier()\n",
    "\n",
    "def knn():\n",
    "    return sklearn.neighbors.KNeighborsClassifier()\n",
    "\n",
    "def ann():\n",
    "    return sklearn.neural_network.MLPClassifier()\n",
    "\n",
    "def adaboost():\n",
    "    return sklearn.ensemble.AdaBoostClassifier()\n",
    "\n",
    "def get_model(model_type):\n",
    "    switcher = {\n",
    "        'rf': random_forest,\n",
    "        'svm': svm,\n",
    "        'knn': knn,\n",
    "        'ann': ann,\n",
    "        'tree': dec_tree,\n",
    "        'adaboost': adaboost,\n",
    "    }\n",
    "    # Get the function from switcher dictionary\n",
    "    func = switcher.get(model_type)\n",
    "    # Execute the function\n",
    "    return func()\n",
    "\n",
    "#Train Generic Model\n",
    "def train_model(model_type,train_matrix,model_params):\n",
    "    model = None\n",
    "\n",
    "    model = get_model(model_type)\n",
    "\n",
    "    #Define Model input/output\n",
    "    y = train_matrix.ltu.astype(float)\n",
    "    X = train_matrix.drop(['app_start_date','ltu','application_id'], 1)\n",
    "\n",
    "    model.fit(X=X, y=y)\n",
    "    return model"
   ]
  },
  {
   "cell_type": "code",
   "execution_count": null,
   "metadata": {},
   "outputs": [],
   "source": [
    "model_type = \"svm\"\n",
    "\n",
    "start_time = time.time()\n",
    "model_obj = train_model(model_type,train_data,{})\n",
    "elapsed_time = time.time() - start_time\n",
    "print \"Elapsed time is:\", elapsed_time"
   ]
  },
  {
   "cell_type": "code",
   "execution_count": 70,
   "metadata": {},
   "outputs": [],
   "source": [
    "def get_feature_importances(model,train_matrix,top_n):\n",
    "    features=train_matrix.drop([\"app_start_date\",\"ltu\",\"application_id\"],1).columns.tolist()\n",
    "    importance=model.feature_importances_\n",
    "    feature_matrix=pd.DataFrame({\"features\":features,\"importance\":importance})\n",
    "    feature_matrix.sort_values('importance',inplace=True,ascending=False)\n",
    "    return feature_matrix[:top_n]"
   ]
  },
  {
   "cell_type": "code",
   "execution_count": 77,
   "metadata": {
    "collapsed": true
   },
   "outputs": [],
   "source": [
    "def get_feature_importances2(model,train_matrix,top_n):\n",
    "    features=train_matrix.drop([\"app_start_date\",\"ltu\",\"application_id\"],1).columns.tolist()\n",
    "    coefficients=model.coef_\n",
    "    #feature_matrix=pd.DataFrame({\"features\":features,\"importance\":importance})\n",
    "    #feature_matrix.sort_values('importance',inplace=True,ascending=False)\n",
    "    #return feature_matrix[:top_n]\n",
    "    print coefficients"
   ]
  },
  {
   "cell_type": "code",
   "execution_count": 78,
   "metadata": {},
   "outputs": [
    {
     "ename": "ValueError",
     "evalue": "coef_ is only available when using a linear kernel",
     "output_type": "error",
     "traceback": [
      "\u001b[0;31m---------------------------------------\u001b[0m",
      "\u001b[0;31mValueError\u001b[0mTraceback (most recent call last)",
      "\u001b[0;32m<ipython-input-78-c5f31615a1ae>\u001b[0m in \u001b[0;36m<module>\u001b[0;34m()\u001b[0m\n\u001b[0;32m----> 1\u001b[0;31m \u001b[0;32mprint\u001b[0m \u001b[0mget_feature_importances\u001b[0m\u001b[0;34m(\u001b[0m\u001b[0mmodel_obj\u001b[0m\u001b[0;34m,\u001b[0m\u001b[0mtrain_data\u001b[0m\u001b[0;34m,\u001b[0m\u001b[0;36m5\u001b[0m\u001b[0;34m)\u001b[0m\u001b[0;34m\u001b[0m\u001b[0m\n\u001b[0m",
      "\u001b[0;32m<ipython-input-74-93af7369b397>\u001b[0m in \u001b[0;36mget_feature_importances\u001b[0;34m(model, train_matrix, top_n)\u001b[0m\n\u001b[1;32m      1\u001b[0m \u001b[0;32mdef\u001b[0m \u001b[0mget_feature_importances\u001b[0m\u001b[0;34m(\u001b[0m\u001b[0mmodel\u001b[0m\u001b[0;34m,\u001b[0m\u001b[0mtrain_matrix\u001b[0m\u001b[0;34m,\u001b[0m\u001b[0mtop_n\u001b[0m\u001b[0;34m)\u001b[0m\u001b[0;34m:\u001b[0m\u001b[0;34m\u001b[0m\u001b[0m\n\u001b[1;32m      2\u001b[0m     \u001b[0mfeatures\u001b[0m\u001b[0;34m=\u001b[0m\u001b[0mtrain_matrix\u001b[0m\u001b[0;34m.\u001b[0m\u001b[0mdrop\u001b[0m\u001b[0;34m(\u001b[0m\u001b[0;34m[\u001b[0m\u001b[0;34m\"app_start_date\"\u001b[0m\u001b[0;34m,\u001b[0m\u001b[0;34m\"ltu\"\u001b[0m\u001b[0;34m,\u001b[0m\u001b[0;34m\"application_id\"\u001b[0m\u001b[0;34m]\u001b[0m\u001b[0;34m,\u001b[0m\u001b[0;36m1\u001b[0m\u001b[0;34m)\u001b[0m\u001b[0;34m.\u001b[0m\u001b[0mcolumns\u001b[0m\u001b[0;34m.\u001b[0m\u001b[0mtolist\u001b[0m\u001b[0;34m(\u001b[0m\u001b[0;34m)\u001b[0m\u001b[0;34m\u001b[0m\u001b[0m\n\u001b[0;32m----> 3\u001b[0;31m     \u001b[0mcoefficients\u001b[0m\u001b[0;34m=\u001b[0m\u001b[0mmodel\u001b[0m\u001b[0;34m.\u001b[0m\u001b[0mcoef_\u001b[0m\u001b[0;34m\u001b[0m\u001b[0m\n\u001b[0m\u001b[1;32m      4\u001b[0m     \u001b[0;31m#feature_matrix=pd.DataFrame({\"features\":features,\"importance\":importance})\u001b[0m\u001b[0;34m\u001b[0m\u001b[0;34m\u001b[0m\u001b[0m\n\u001b[1;32m      5\u001b[0m     \u001b[0;31m#feature_matrix.sort_values('importance',inplace=True,ascending=False)\u001b[0m\u001b[0;34m\u001b[0m\u001b[0;34m\u001b[0m\u001b[0m\n",
      "\u001b[0;32m/opt/anaconda/lib/python2.7/site-packages/sklearn/svm/base.pyc\u001b[0m in \u001b[0;36mcoef_\u001b[0;34m(self)\u001b[0m\n\u001b[1;32m    483\u001b[0m     \u001b[0;32mdef\u001b[0m \u001b[0mcoef_\u001b[0m\u001b[0;34m(\u001b[0m\u001b[0mself\u001b[0m\u001b[0;34m)\u001b[0m\u001b[0;34m:\u001b[0m\u001b[0;34m\u001b[0m\u001b[0m\n\u001b[1;32m    484\u001b[0m         \u001b[0;32mif\u001b[0m \u001b[0mself\u001b[0m\u001b[0;34m.\u001b[0m\u001b[0mkernel\u001b[0m \u001b[0;34m!=\u001b[0m \u001b[0;34m'linear'\u001b[0m\u001b[0;34m:\u001b[0m\u001b[0;34m\u001b[0m\u001b[0m\n\u001b[0;32m--> 485\u001b[0;31m             raise ValueError('coef_ is only available when using a '\n\u001b[0m\u001b[1;32m    486\u001b[0m                              'linear kernel')\n\u001b[1;32m    487\u001b[0m \u001b[0;34m\u001b[0m\u001b[0m\n",
      "\u001b[0;31mValueError\u001b[0m: coef_ is only available when using a linear kernel"
     ]
    }
   ],
   "source": [
    "print get_feature_importances2(model_obj,train_data,5)"
   ]
  },
  {
   "cell_type": "code",
   "execution_count": 47,
   "metadata": {},
   "outputs": [],
   "source": [
    "def test_model(model_type,model,test_matrix):\n",
    "    pred = model.predict_proba(test_matrix.drop(['app_start_date','ltu','application_id'],1))\n",
    "    model_results = pd.Series(index=test_matrix.index, data=pred[:,1])\n",
    "    labels = pd.DataFrame(test_matrix['ltu'])\n",
    "    all_model_results = pd.concat([labels,pd.DataFrame(data=model_results,columns=['model_1'])], axis=1)\n",
    "    return all_model_results\n",
    "\n",
    "model_results = test_model(model_type,model_obj,test_data)\n"
   ]
  },
  {
   "cell_type": "code",
   "execution_count": 48,
   "metadata": {},
   "outputs": [
    {
     "data": {
      "text/html": [
       "<div>\n",
       "<style>\n",
       "    .dataframe thead tr:only-child th {\n",
       "        text-align: right;\n",
       "    }\n",
       "\n",
       "    .dataframe thead th {\n",
       "        text-align: left;\n",
       "    }\n",
       "\n",
       "    .dataframe tbody tr th {\n",
       "        vertical-align: top;\n",
       "    }\n",
       "</style>\n",
       "<table border=\"1\" class=\"dataframe\">\n",
       "  <thead>\n",
       "    <tr style=\"text-align: right;\">\n",
       "      <th></th>\n",
       "      <th>ltu</th>\n",
       "      <th>model_1</th>\n",
       "    </tr>\n",
       "  </thead>\n",
       "  <tbody>\n",
       "    <tr>\n",
       "      <th>99</th>\n",
       "      <td>True</td>\n",
       "      <td>0.2</td>\n",
       "    </tr>\n",
       "    <tr>\n",
       "      <th>143</th>\n",
       "      <td>True</td>\n",
       "      <td>0.2</td>\n",
       "    </tr>\n",
       "    <tr>\n",
       "      <th>191</th>\n",
       "      <td>False</td>\n",
       "      <td>0.4</td>\n",
       "    </tr>\n",
       "    <tr>\n",
       "      <th>363</th>\n",
       "      <td>False</td>\n",
       "      <td>0.0</td>\n",
       "    </tr>\n",
       "    <tr>\n",
       "      <th>434</th>\n",
       "      <td>False</td>\n",
       "      <td>0.2</td>\n",
       "    </tr>\n",
       "  </tbody>\n",
       "</table>\n",
       "</div>"
      ],
      "text/plain": [
       "       ltu  model_1\n",
       "99    True      0.2\n",
       "143   True      0.2\n",
       "191  False      0.4\n",
       "363  False      0.0\n",
       "434  False      0.2"
      ]
     },
     "execution_count": 48,
     "metadata": {},
     "output_type": "execute_result"
    }
   ],
   "source": [
    "model_results.head()"
   ]
  },
  {
   "cell_type": "code",
   "execution_count": 49,
   "metadata": {},
   "outputs": [
    {
     "name": "stdout",
     "output_type": "stream",
     "text": [
      "Calculating performance metrics for model: model_1\n",
      "        model_id     k     metric     value\n",
      "model_1  model_1  1000  precision  0.365000\n",
      "model_1  model_1  1000     recall  0.143137\n",
      "model_1  model_1  1000   accuracy  0.680417\n"
     ]
    }
   ],
   "source": [
    "model_performance = evaluate_models.evaluate_models(model_results,1000)\n",
    "print model_performance.head()"
   ]
  },
  {
   "cell_type": "code",
   "execution_count": 73,
   "metadata": {},
   "outputs": [
    {
     "name": "stdout",
     "output_type": "stream",
     "text": [
      "Training Model\n",
      "Testing Model\n",
      "Evaluating Model Performance\n",
      "Calculating performance metrics for model: model_1\n",
      "        model_id     k     metric     value\n",
      "model_1  model_1  1000  precision  0.417000\n",
      "model_1  model_1  1000     recall  0.163529\n",
      "model_1  model_1  1000   accuracy  0.692203\n",
      "                   features  importance\n",
      "1           time_since_exit    0.164138\n",
      "0                       age    0.118739\n",
      "4      experience_prev_prof    0.103594\n",
      "3  experience_intended_prof    0.102723\n",
      "2         number_dependents    0.045618\n",
      "Training Model\n",
      "Testing Model\n",
      "Evaluating Model Performance\n",
      "Calculating performance metrics for model: model_1\n",
      "        model_id     k     metric     value\n",
      "model_1  model_1  1000  precision  0.337000\n",
      "model_1  model_1  1000     recall  0.132157\n",
      "model_1  model_1  1000   accuracy  0.674071\n"
     ]
    },
    {
     "ename": "AttributeError",
     "evalue": "'SVC' object has no attribute 'feature_importances_'",
     "output_type": "error",
     "traceback": [
      "\u001b[0;31m---------------------------------------\u001b[0m",
      "\u001b[0;31mAttributeError\u001b[0mTraceback (most recent call last)",
      "\u001b[0;32m<ipython-input-73-c336c1e71e36>\u001b[0m in \u001b[0;36m<module>\u001b[0;34m()\u001b[0m\n\u001b[1;32m      7\u001b[0m     \u001b[0mmodel_performance\u001b[0m \u001b[0;34m=\u001b[0m \u001b[0mevaluate_models\u001b[0m\u001b[0;34m.\u001b[0m\u001b[0mevaluate_models\u001b[0m\u001b[0;34m(\u001b[0m\u001b[0mmodel_results\u001b[0m\u001b[0;34m,\u001b[0m\u001b[0;36m1000\u001b[0m\u001b[0;34m)\u001b[0m\u001b[0;34m\u001b[0m\u001b[0m\n\u001b[1;32m      8\u001b[0m     \u001b[0;32mprint\u001b[0m \u001b[0mmodel_performance\u001b[0m\u001b[0;34m.\u001b[0m\u001b[0mhead\u001b[0m\u001b[0;34m(\u001b[0m\u001b[0;34m)\u001b[0m\u001b[0;34m\u001b[0m\u001b[0m\n\u001b[0;32m----> 9\u001b[0;31m     \u001b[0;32mprint\u001b[0m \u001b[0mget_feature_importances\u001b[0m\u001b[0;34m(\u001b[0m\u001b[0mmodel_obj\u001b[0m\u001b[0;34m,\u001b[0m\u001b[0mtrain_data\u001b[0m\u001b[0;34m,\u001b[0m\u001b[0;36m5\u001b[0m\u001b[0;34m)\u001b[0m\u001b[0;34m\u001b[0m\u001b[0m\n\u001b[0m",
      "\u001b[0;32m<ipython-input-70-33b05ac884aa>\u001b[0m in \u001b[0;36mget_feature_importances\u001b[0;34m(model, train_matrix, top_n)\u001b[0m\n\u001b[1;32m      1\u001b[0m \u001b[0;32mdef\u001b[0m \u001b[0mget_feature_importances\u001b[0m\u001b[0;34m(\u001b[0m\u001b[0mmodel\u001b[0m\u001b[0;34m,\u001b[0m\u001b[0mtrain_matrix\u001b[0m\u001b[0;34m,\u001b[0m\u001b[0mtop_n\u001b[0m\u001b[0;34m)\u001b[0m\u001b[0;34m:\u001b[0m\u001b[0;34m\u001b[0m\u001b[0m\n\u001b[1;32m      2\u001b[0m     \u001b[0mfeatures\u001b[0m\u001b[0;34m=\u001b[0m\u001b[0mtrain_matrix\u001b[0m\u001b[0;34m.\u001b[0m\u001b[0mdrop\u001b[0m\u001b[0;34m(\u001b[0m\u001b[0;34m[\u001b[0m\u001b[0;34m\"app_start_date\"\u001b[0m\u001b[0;34m,\u001b[0m\u001b[0;34m\"ltu\"\u001b[0m\u001b[0;34m,\u001b[0m\u001b[0;34m\"application_id\"\u001b[0m\u001b[0;34m]\u001b[0m\u001b[0;34m,\u001b[0m\u001b[0;36m1\u001b[0m\u001b[0;34m)\u001b[0m\u001b[0;34m.\u001b[0m\u001b[0mcolumns\u001b[0m\u001b[0;34m.\u001b[0m\u001b[0mtolist\u001b[0m\u001b[0;34m(\u001b[0m\u001b[0;34m)\u001b[0m\u001b[0;34m\u001b[0m\u001b[0m\n\u001b[0;32m----> 3\u001b[0;31m     \u001b[0mimportance\u001b[0m\u001b[0;34m=\u001b[0m\u001b[0mmodel\u001b[0m\u001b[0;34m.\u001b[0m\u001b[0mfeature_importances_\u001b[0m\u001b[0;34m\u001b[0m\u001b[0m\n\u001b[0m\u001b[1;32m      4\u001b[0m     \u001b[0mfeature_matrix\u001b[0m\u001b[0;34m=\u001b[0m\u001b[0mpd\u001b[0m\u001b[0;34m.\u001b[0m\u001b[0mDataFrame\u001b[0m\u001b[0;34m(\u001b[0m\u001b[0;34m{\u001b[0m\u001b[0;34m\"features\"\u001b[0m\u001b[0;34m:\u001b[0m\u001b[0mfeatures\u001b[0m\u001b[0;34m,\u001b[0m\u001b[0;34m\"importance\"\u001b[0m\u001b[0;34m:\u001b[0m\u001b[0mimportance\u001b[0m\u001b[0;34m}\u001b[0m\u001b[0;34m)\u001b[0m\u001b[0;34m\u001b[0m\u001b[0m\n\u001b[1;32m      5\u001b[0m     \u001b[0mfeature_matrix\u001b[0m\u001b[0;34m.\u001b[0m\u001b[0msort_values\u001b[0m\u001b[0;34m(\u001b[0m\u001b[0;34m'importance'\u001b[0m\u001b[0;34m,\u001b[0m\u001b[0minplace\u001b[0m\u001b[0;34m=\u001b[0m\u001b[0mTrue\u001b[0m\u001b[0;34m,\u001b[0m\u001b[0mascending\u001b[0m\u001b[0;34m=\u001b[0m\u001b[0mFalse\u001b[0m\u001b[0;34m)\u001b[0m\u001b[0;34m\u001b[0m\u001b[0m\n",
      "\u001b[0;31mAttributeError\u001b[0m: 'SVC' object has no attribute 'feature_importances_'"
     ]
    }
   ],
   "source": [
    "for model in [{'type':'rf'},{'type':'svm'},{'type':'knn'},{'type':'tree'},{'type':'adaboost'},{'type':'ann'}]:\n",
    "    print \"Training Model\"\n",
    "    model_obj = train_model(model['type'],train_data,{})\n",
    "    print \"Testing Model\"\n",
    "    model_results = test_model(model['type'],model_obj,test_data)\n",
    "    print \"Evaluating Model Performance\"\n",
    "    model_performance = evaluate_models.evaluate_models(model_results,1000)\n",
    "    print model_performance.head()\n",
    "    print get_feature_importances(model_obj,train_data,5)\n"
   ]
  },
  {
   "cell_type": "code",
   "execution_count": null,
   "metadata": {
    "collapsed": true
   },
   "outputs": [],
   "source": [
    "model_utils.train_model()"
   ]
  },
  {
   "cell_type": "code",
   "execution_count": null,
   "metadata": {
    "collapsed": true
   },
   "outputs": [],
   "source": [
    "test_data.drop(['app_start_date','ltu','application_id'],1).shape"
   ]
  },
  {
   "cell_type": "code",
   "execution_count": null,
   "metadata": {
    "collapsed": true
   },
   "outputs": [],
   "source": []
  }
 ],
 "metadata": {
  "kernelspec": {
   "display_name": "Python 2",
   "language": "python",
   "name": "python2"
  },
  "language_info": {
   "codemirror_mode": {
    "name": "ipython",
    "version": 2
   },
   "file_extension": ".py",
   "mimetype": "text/x-python",
   "name": "python",
   "nbconvert_exporter": "python",
   "pygments_lexer": "ipython2",
   "version": "2.7.13"
  }
 },
 "nbformat": 4,
 "nbformat_minor": 2
}
