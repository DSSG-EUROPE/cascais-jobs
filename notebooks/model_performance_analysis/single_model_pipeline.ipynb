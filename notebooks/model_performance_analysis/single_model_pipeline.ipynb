{
 "cells": [
  {
   "cell_type": "code",
   "execution_count": 1,
   "metadata": {
    "collapsed": true
   },
   "outputs": [],
   "source": [
    "config_action12 = {\n",
    "    \"models\":[\n",
    "        {\"type\":\"lg\", \"params\":{}}\n",
    "    ],\n",
    "    \"time_splits\":[\n",
    "        {\"type\":\"action\",\"action_date\":\"2016-01-30\",\"train_timedelta\":\"1460D\",\"test_window_size\":\"365D\"}\n",
    "     ],\n",
    "    \"feature_sets\":[\n",
    "        {\"name\":\"all_feats\",\"list\":[\"demographics\",\"dynamic\",\"system\",\"historical\"]}\n",
    "    ],\n",
    "    \"data_subsets\":[\n",
    "        {\"type\":\"month_thresh\",\"cutoff\":12}\n",
    "    ],\n",
    "    \"cutoffs\":[\n",
    "        {\"type\":\"number\", \"value\":50},\n",
    "        {\"type\":\"number\", \"value\":100},\n",
    "        {\"type\":\"number\", \"value\":1000}\n",
    "    ],\n",
    "    \"labels\":[\n",
    "        {\"ltu_length\":12}\n",
    "    ],\n",
    "    \"historical\":[\n",
    "        {\"limit\":\"1095D\"}\n",
    "    ]    \n",
    "}"
   ]
  },
  {
   "cell_type": "code",
   "execution_count": 193,
   "metadata": {
    "collapsed": true
   },
   "outputs": [],
   "source": [
    "config_action6 = {\n",
    "    \"models\":[\n",
    "        {\"type\":\"lg\", \"params\":{}}\n",
    "    ],\n",
    "    \"time_splits\":[\n",
    "        {\"type\":\"action\",\"action_date\":\"2015-10-30\",\"train_timedelta\":\"1460D\",\"test_window_size\":\"365D\"}\n",
    "     ],\n",
    "    \"feature_sets\":[\n",
    "        {\"name\":\"all_feats\",\"list\":[\"demographics\",\"dynamic\",\"system\",\"historical\"]}\n",
    "    ],\n",
    "    \"data_subsets\":[\n",
    "        {\"type\":\"month_thresh\",\"cutoff\":6}\n",
    "    ],\n",
    "    \"cutoffs\":[\n",
    "        {\"type\":\"number\", \"value\":50},\n",
    "        {\"type\":\"number\", \"value\":100},\n",
    "        {\"type\":\"number\", \"value\":1000}\n",
    "    ],\n",
    "    \"labels\":[\n",
    "        {\"ltu_length\":12}\n",
    "    ],\n",
    "    \"historical\":[\n",
    "        {\"limit\":\"1095D\"}\n",
    "    ]    \n",
    "}"
   ]
  },
  {
   "cell_type": "code",
   "execution_count": 194,
   "metadata": {
    "collapsed": true
   },
   "outputs": [],
   "source": [
    "config_appRF = {\n",
    "    \"models\":[\n",
    "        {\"type\":\"rf\", \"params\":{}}\n",
    "    ],\n",
    "    \"time_splits\":[\n",
    "        {\"type\":\"date\",\"action_date\":\"2015-12-30\",\"train_timedelta\":\"1460D\",\"test_window_size\":\"365D\"}\n",
    "     ],\n",
    "    \"feature_sets\":[\n",
    "        {\"name\":\"all_feats\",\"list\":[\"demographics\",\"system\",\"historical\"]}\n",
    "    ],\n",
    "    \"data_subsets\":[\n",
    "        {\"type\":\"month_thresh\",\"cutoff\":12}\n",
    "    ],\n",
    "    \"cutoffs\":[\n",
    "        {\"type\":\"number\", \"value\":50},\n",
    "        {\"type\":\"number\", \"value\":100},\n",
    "        {\"type\":\"number\", \"value\":1000}\n",
    "    ],\n",
    "    \"labels\":[\n",
    "        {\"ltu_length\":12}\n",
    "    ],\n",
    "    \"historical\":[\n",
    "        {\"limit\":\"1095D\"}\n",
    "    ]    \n",
    "}"
   ]
  },
  {
   "cell_type": "code",
   "execution_count": 195,
   "metadata": {
    "collapsed": true
   },
   "outputs": [],
   "source": [
    "config = config_action6"
   ]
  },
  {
   "cell_type": "code",
   "execution_count": 196,
   "metadata": {},
   "outputs": [],
   "source": [
    "import json\n",
    "import sys\n",
    "import pandas as pd\n",
    "sys.path.append(\"../../\")\n",
    "from utils import model_utils\n",
    "from utils import db_utils\n",
    "from utils import feature_utils\n",
    "from utils import iefp_data_utils\n",
    "from utils import train_test_utils\n",
    "import os\n",
    "import datetime as dt"
   ]
  },
  {
   "cell_type": "code",
   "execution_count": 197,
   "metadata": {
    "collapsed": true
   },
   "outputs": [],
   "source": [
    "conn = db_utils.connect_to_db()\n",
    "apps,movs = iefp_data_utils.get_clean_data(conn)  "
   ]
  },
  {
   "cell_type": "code",
   "execution_count": 198,
   "metadata": {
    "scrolled": true
   },
   "outputs": [],
   "source": [
    "system_info = feature_utils.generate_system_info(apps)\n",
    "historical_limit = config['historical'][0]['limit']\n",
    "historical_info = feature_utils.generate_historical(apps, historical_limit)"
   ]
  },
  {
   "cell_type": "code",
   "execution_count": 199,
   "metadata": {
    "collapsed": true
   },
   "outputs": [],
   "source": [
    "for time_split in config['time_splits']:\n",
    "    model_id_counter = 1\n",
    "    \n",
    "    split_type = time_split['type']\n",
    "    action_date = pd.to_datetime(time_split['action_date'])\n",
    "    train_timedelta = pd.Timedelta(time_split['train_timedelta'])\n",
    "    test_window_size = pd.Timedelta(time_split['test_window_size'])\n",
    "    train_st_date = action_date - train_timedelta"
   ]
  },
  {
   "cell_type": "code",
   "execution_count": 200,
   "metadata": {},
   "outputs": [
    {
     "name": "stdout",
     "output_type": "stream",
     "text": [
      "Generating LTU Labels\n",
      "Generating LTU/Non-LTU labels\n",
      "Generating LTU/Non-LTU labels\n",
      "Extending data\n"
     ]
    }
   ],
   "source": [
    "ltu_length = config['labels'][0]['ltu_length']\n",
    "if split_type == \"action\":\n",
    "    train_apps,test_apps,train_movs,test_movs = train_test_utils.split_train_test_apps(apps,movs,action_date,train_st_date,ltu_length) \n",
    "    print \"Generating LTU Labels\"\n",
    "    train_labels = train_test_utils.get_ltu_label_on_date(train_apps,movs,action_date,ltu_length)\n",
    "    test_labels = train_test_utils.get_ltu_label_on_date(test_apps,movs,action_date + test_window_size,ltu_length)\n",
    "    print \"Extending data\"\n",
    "    extended_train = train_test_utils.extend_data(train_apps,movs,train_labels,action_date,pd.Timedelta('30D'))\n",
    "    extended_test = train_test_utils.extend_data(test_apps,movs,test_labels,action_date,None)\n",
    "elif split_type == \"date\":\n",
    "    train_apps,test_apps,train_movs,test_movs = train_test_utils.split_train_test_date(apps,movs,action_date,train_st_date,test_window_size)\n",
    "    train_labels = train_test_utils.get_ltu_label_on_date(train_apps,movs,action_date,ltu_length)\n",
    "    #use end time as today. Which applications we use for testing is determined by the window, but we can check the outcome of the application at any time after. \n",
    "    test_labels = train_test_utils.get_ltu_label_on_date(test_apps,movs,dt.date.today(),ltu_length)\n",
    "    extended_train = train_test_utils.extend_data(train_apps,movs,train_labels,action_date,None)\n",
    "    extended_test = train_test_utils.extend_data(test_apps,movs,test_labels,action_date,None)"
   ]
  },
  {
   "cell_type": "code",
   "execution_count": 201,
   "metadata": {},
   "outputs": [
    {
     "name": "stdout",
     "output_type": "stream",
     "text": [
      "Generating Features\n",
      "Generating matrix base\n",
      "Adding demographic features\n",
      "Adding system features\n",
      "Adding historical features\n",
      "Adding dynamic features\n",
      "Generating matrix base\n",
      "Adding demographic features\n",
      "Adding system features\n",
      "Adding historical features\n",
      "Adding dynamic features\n"
     ]
    }
   ],
   "source": [
    "for feature_set in config['feature_sets']:\n",
    "    feature_set_list = feature_set['list']\n",
    "    if split_type==\"date\" and \"dynamic\" in feature_set_list:\n",
    "        print \"Warning: not possible to use dynamic features when predicting on application date\"\n",
    "        continue\n",
    "    print \"Generating Features\"\n",
    "    pd.options.mode.chained_assignment = None #turns off warning for chained assignment\n",
    "    train_matrix = feature_utils.generate_matrix(extended_train,train_apps,train_movs,feature_set_list,system_info,historical_info)\n",
    "    test_matrix = feature_utils.generate_matrix(extended_test,test_apps,test_movs,feature_set_list, system_info, historical_info)\n",
    "    \n",
    "    #TEST ONLY ON THOSE LESS THAN 6 mo in\n",
    "    test_matrix = test_matrix[test_matrix['months_so_far']<=6.0]\n",
    "    \n",
    "    #remove columns that do not appear in both train and test matrixes (e.g., infrequent categorical variables)\n",
    "    in_both=list(set(train_matrix.columns)-set(test_matrix.columns))\n",
    "    in_both=in_both+list(set(test_matrix.columns)-set(train_matrix.columns))\n",
    "    for k in in_both: \n",
    "        if k in train_matrix:\n",
    "            del train_matrix[k]\n",
    "        if k in test_matrix:\n",
    "            del test_matrix[k]"
   ]
  },
  {
   "cell_type": "code",
   "execution_count": 202,
   "metadata": {},
   "outputs": [
    {
     "name": "stdout",
     "output_type": "stream",
     "text": [
      "Training Model\n",
      "Optimization terminated successfully.    (Exit mode 0)\n",
      "            Current function value: 0.344110495701\n",
      "            Iterations: 525\n",
      "            Function evaluations: 533\n",
      "            Gradient evaluations: 525\n",
      "Testing Model\n",
      "Evaluating Model Performance\n",
      "Calculating performance metrics for model: selected_model, train_test_split: selected_train_test\n",
      "Appending performance metrics to db\n",
      "Getting config details\n"
     ]
    }
   ],
   "source": [
    "for model in config['models']:\n",
    "    model_params = model['params']\n",
    "    model_params_index = str(config['models'].index(model))\n",
    "    model_id = \"selected_model\"#str(model_id_counter)+'_'+model['type']+'_paramset'+model_params_index+'_'+feature_set['name']+'_'+config_filepath\n",
    "    train_test_id = \"selected_train_test\"#str(train_test_id_counter)+'_'+model_utils.get_time()\n",
    "\n",
    "    print \"Training Model\"\n",
    "    model_obj = model_utils.train_model(model['type'],train_matrix,model_params)\n",
    "\n",
    "    print \"Testing Model\"\n",
    "    model_results = model_utils.test_model(model['type'],model_obj,test_matrix,model_id)\n",
    "    print \"Evaluating Model Performance\"\n",
    "    model_res_apps = model_utils.prepare_model_results_for_analysis(model_results,apps,model_id)\n",
    "    test_subsets = model_utils.build_test_eval_subset_df(config['data_subsets'],model_res_apps)\n",
    "    model_performance = model_utils.evaluate_model(model_res_apps, config['cutoffs'], test_subsets, model_id,train_test_id)\n",
    "\n",
    "    print \"Appending performance metrics to db\"\n",
    "    db_utils.write_table(model_performance,conn, 'model_output', 'performances', if_exists='append')\n",
    "\n",
    "    print \"Getting config details\"\n",
    "    train_total = len(train_matrix)\n",
    "    train_proportion_ltu = train_matrix.ltu.mean()\n",
    "    test_total = len(test_matrix)\n",
    "    test_proportion_ltu = test_matrix.ltu.mean()\n",
    "    features_string = \" \".join(str(x) for x in feature_set_list)\n",
    "    params_string = '_'.join('{}{}'.format(key, val) for key, val in model_params.items())"
   ]
  },
  {
   "cell_type": "markdown",
   "metadata": {},
   "source": [
    "# Testing RF at application time"
   ]
  },
  {
   "cell_type": "code",
   "execution_count": 100,
   "metadata": {
    "collapsed": true
   },
   "outputs": [],
   "source": [
    "import sklearn\n",
    "import numpy as np\n",
    "from sklearn import metrics\n",
    "\n",
    "import seaborn as sns\n",
    "import matplotlib.pyplot as plt\n",
    "%matplotlib inline"
   ]
  },
  {
   "cell_type": "code",
   "execution_count": 167,
   "metadata": {},
   "outputs": [
    {
     "data": {
      "text/html": [
       "<div>\n",
       "<style>\n",
       "    .dataframe thead tr:only-child th {\n",
       "        text-align: right;\n",
       "    }\n",
       "\n",
       "    .dataframe thead th {\n",
       "        text-align: left;\n",
       "    }\n",
       "\n",
       "    .dataframe tbody tr th {\n",
       "        vertical-align: top;\n",
       "    }\n",
       "</style>\n",
       "<table border=\"1\" class=\"dataframe\">\n",
       "  <thead>\n",
       "    <tr style=\"text-align: right;\">\n",
       "      <th></th>\n",
       "      <th></th>\n",
       "      <th>ltu</th>\n",
       "      <th>selected_model</th>\n",
       "    </tr>\n",
       "    <tr>\n",
       "      <th>application_id</th>\n",
       "      <th>ref_date</th>\n",
       "      <th></th>\n",
       "      <th></th>\n",
       "    </tr>\n",
       "  </thead>\n",
       "  <tbody>\n",
       "    <tr>\n",
       "      <th>105939</th>\n",
       "      <th>2016-04-30</th>\n",
       "      <td>True</td>\n",
       "      <td>0.469145</td>\n",
       "    </tr>\n",
       "    <tr>\n",
       "      <th>106001</th>\n",
       "      <th>2016-04-30</th>\n",
       "      <td>True</td>\n",
       "      <td>0.697364</td>\n",
       "    </tr>\n",
       "    <tr>\n",
       "      <th>118083</th>\n",
       "      <th>2016-04-30</th>\n",
       "      <td>True</td>\n",
       "      <td>0.538328</td>\n",
       "    </tr>\n",
       "    <tr>\n",
       "      <th>105987</th>\n",
       "      <th>2016-04-30</th>\n",
       "      <td>False</td>\n",
       "      <td>0.675519</td>\n",
       "    </tr>\n",
       "    <tr>\n",
       "      <th>105993</th>\n",
       "      <th>2016-04-30</th>\n",
       "      <td>False</td>\n",
       "      <td>0.698547</td>\n",
       "    </tr>\n",
       "  </tbody>\n",
       "</table>\n",
       "</div>"
      ],
      "text/plain": [
       "                             ltu  selected_model\n",
       "application_id ref_date                         \n",
       "105939         2016-04-30   True        0.469145\n",
       "106001         2016-04-30   True        0.697364\n",
       "118083         2016-04-30   True        0.538328\n",
       "105987         2016-04-30  False        0.675519\n",
       "105993         2016-04-30  False        0.698547"
      ]
     },
     "execution_count": 167,
     "metadata": {},
     "output_type": "execute_result"
    }
   ],
   "source": [
    "proba_results_Apr2016 = model_results.copy()\n",
    "proba_results_Apr2016.head()"
   ]
  },
  {
   "cell_type": "code",
   "execution_count": 14,
   "metadata": {
    "collapsed": true
   },
   "outputs": [],
   "source": [
    "proba_results['prediction'] = proba_results['selected_model']>=0.5"
   ]
  },
  {
   "cell_type": "code",
   "execution_count": 20,
   "metadata": {},
   "outputs": [
    {
     "data": {
      "text/plain": [
       "array([[2157,  846],\n",
       "       [1214, 2675]])"
      ]
     },
     "execution_count": 20,
     "metadata": {},
     "output_type": "execute_result"
    }
   ],
   "source": [
    "# for \n",
    "sklearn.metrics.confusion_matrix(y_true = proba_results['ltu'], y_pred = proba_results['prediction'])"
   ]
  },
  {
   "cell_type": "code",
   "execution_count": 21,
   "metadata": {},
   "outputs": [
    {
     "data": {
      "text/plain": [
       "0.75972735018460669"
      ]
     },
     "execution_count": 21,
     "metadata": {},
     "output_type": "execute_result"
    }
   ],
   "source": [
    "sklearn.metrics.precision_score(y_true = proba_results['ltu'], y_pred = proba_results['prediction'])"
   ]
  },
  {
   "cell_type": "code",
   "execution_count": null,
   "metadata": {
    "collapsed": true
   },
   "outputs": [],
   "source": []
  },
  {
   "cell_type": "code",
   "execution_count": 149,
   "metadata": {},
   "outputs": [
    {
     "name": "stdout",
     "output_type": "stream",
     "text": [
      "Getting feature importances\n"
     ]
    },
    {
     "name": "stderr",
     "output_type": "stream",
     "text": [
      "/opt/anaconda/lib/python2.7/site-packages/statsmodels/base/model.py:1029: RuntimeWarning: invalid value encountered in sqrt\n",
      "  return np.sqrt(np.diag(self.cov_params()))\n",
      "/opt/anaconda/lib/python2.7/site-packages/scipy/stats/_distn_infrastructure.py:879: RuntimeWarning: invalid value encountered in greater\n",
      "  return (self.a < x) & (x < self.b)\n",
      "/opt/anaconda/lib/python2.7/site-packages/scipy/stats/_distn_infrastructure.py:879: RuntimeWarning: invalid value encountered in less\n",
      "  return (self.a < x) & (x < self.b)\n",
      "/opt/anaconda/lib/python2.7/site-packages/scipy/stats/_distn_infrastructure.py:1818: RuntimeWarning: invalid value encountered in less_equal\n",
      "  cond2 = cond0 & (x <= self.a)\n"
     ]
    }
   ],
   "source": [
    "model_config = pd.DataFrame({'model_id':model_id,'model_type':model['type'],'params':params_string, 'feature_set':features_string, \"experiment\":\"no_experiment\"}, index=[0])\n",
    "model_config = model_config.reindex(columns=['model_id','model_type','params','feature_set','experiment'])\n",
    "\n",
    "train_test_config = pd.DataFrame({'model_id':model_id, 'train_test_id':train_test_id,'split_type':split_type, 'action_date':action_date,'train_timedelta': time_split['train_timedelta'], 'train_total':train_total,'train_proportion_ltu':train_proportion_ltu,'test_total':test_total,'test_proportion_ltu':test_proportion_ltu}, index=[0])\n",
    "train_test_config = train_test_config.reindex(columns=['model_id', 'train_test_id', 'split_type','action_date','train_timedelta','train_total','train_proportion_ltu','test_total','test_proportion_ltu'])\n",
    "\n",
    "print \"Getting feature importances\"\n",
    "feature_importance = model_utils.get_feature_importances(model_obj, model['type'], model_id, train_test_id, train_matrix, top_n=10)"
   ]
  },
  {
   "cell_type": "code",
   "execution_count": null,
   "metadata": {},
   "outputs": [],
   "source": [
    "model_performance[model_performance['metric']=='precision']"
   ]
  },
  {
   "cell_type": "code",
   "execution_count": null,
   "metadata": {},
   "outputs": [],
   "source": [
    "#test set details for threshold 6months\n",
    "test_matrix_6mo = test_matrix[test_matrix['months_so_far']<=6.0]\n",
    "print len(test_matrix_6mo)\n",
    "print test_matrix_6mo.ltu.mean()"
   ]
  },
  {
   "cell_type": "code",
   "execution_count": null,
   "metadata": {},
   "outputs": [],
   "source": [
    "model_obj.summary()"
   ]
  },
  {
   "cell_type": "code",
   "execution_count": null,
   "metadata": {},
   "outputs": [],
   "source": [
    "pd.DataFrame(model_obj.pvalues)"
   ]
  },
  {
   "cell_type": "code",
   "execution_count": null,
   "metadata": {
    "collapsed": true
   },
   "outputs": [],
   "source": [
    "def summary_to_df(model_object):\n",
    "    coefs = pd.DataFrame(model_object.params)\n",
    "    coefs.columns = ['coefs']\n",
    "    pvals = pd.DataFrame(model_object.pvalues)\n",
    "    pvals.columns = ['p_values']\n",
    "    df = pd.merge(coefs, pvals,left_index=True, right_index=True)\n",
    "    return df\n",
    "\n",
    "importances = summary_to_df(model_obj)"
   ]
  },
  {
   "cell_type": "code",
   "execution_count": null,
   "metadata": {},
   "outputs": [],
   "source": [
    "importances.sort_values(by=['p_values'])"
   ]
  },
  {
   "cell_type": "markdown",
   "metadata": {
    "collapsed": true
   },
   "source": [
    "# Plotting precision curve"
   ]
  },
  {
   "cell_type": "code",
   "execution_count": 212,
   "metadata": {},
   "outputs": [
    {
     "data": {
      "text/html": [
       "<div>\n",
       "<style>\n",
       "    .dataframe thead tr:only-child th {\n",
       "        text-align: right;\n",
       "    }\n",
       "\n",
       "    .dataframe thead th {\n",
       "        text-align: left;\n",
       "    }\n",
       "\n",
       "    .dataframe tbody tr th {\n",
       "        vertical-align: top;\n",
       "    }\n",
       "</style>\n",
       "<table border=\"1\" class=\"dataframe\">\n",
       "  <thead>\n",
       "    <tr style=\"text-align: right;\">\n",
       "      <th></th>\n",
       "      <th></th>\n",
       "      <th>ltu</th>\n",
       "      <th>selected_model</th>\n",
       "    </tr>\n",
       "    <tr>\n",
       "      <th>application_id</th>\n",
       "      <th>ref_date</th>\n",
       "      <th></th>\n",
       "      <th></th>\n",
       "    </tr>\n",
       "  </thead>\n",
       "  <tbody>\n",
       "    <tr>\n",
       "      <th>99423</th>\n",
       "      <th>2015-10-30</th>\n",
       "      <td>True</td>\n",
       "      <td>0.818494</td>\n",
       "    </tr>\n",
       "    <tr>\n",
       "      <th>99390</th>\n",
       "      <th>2015-10-30</th>\n",
       "      <td>False</td>\n",
       "      <td>0.668047</td>\n",
       "    </tr>\n",
       "    <tr>\n",
       "      <th>99391</th>\n",
       "      <th>2015-10-30</th>\n",
       "      <td>False</td>\n",
       "      <td>0.538915</td>\n",
       "    </tr>\n",
       "    <tr>\n",
       "      <th>99400</th>\n",
       "      <th>2015-10-30</th>\n",
       "      <td>True</td>\n",
       "      <td>0.741081</td>\n",
       "    </tr>\n",
       "    <tr>\n",
       "      <th>99422</th>\n",
       "      <th>2015-10-30</th>\n",
       "      <td>True</td>\n",
       "      <td>0.767593</td>\n",
       "    </tr>\n",
       "  </tbody>\n",
       "</table>\n",
       "</div>"
      ],
      "text/plain": [
       "                             ltu  selected_model\n",
       "application_id ref_date                         \n",
       "99423          2015-10-30   True        0.818494\n",
       "99390          2015-10-30  False        0.668047\n",
       "99391          2015-10-30  False        0.538915\n",
       "99400          2015-10-30   True        0.741081\n",
       "99422          2015-10-30   True        0.767593"
      ]
     },
     "execution_count": 212,
     "metadata": {},
     "output_type": "execute_result"
    }
   ],
   "source": [
    "proba_results_Oct2015 = model_results.copy()\n",
    "proba_results_Oct2015.head()"
   ]
  },
  {
   "cell_type": "code",
   "execution_count": 213,
   "metadata": {},
   "outputs": [
    {
     "name": "stdout",
     "output_type": "stream",
     "text": [
      "0.449764681809\n",
      "0.428816466552\n",
      "0.431005818786\n"
     ]
    }
   ],
   "source": [
    "print proba_results_Oct2015.ltu.mean()\n",
    "print proba_results_Jan2016.ltu.mean()\n",
    "print proba_results_Apr2016.ltu.mean()"
   ]
  },
  {
   "cell_type": "code",
   "execution_count": 214,
   "metadata": {},
   "outputs": [
    {
     "name": "stdout",
     "output_type": "stream",
     "text": [
      "         model_id        train_test_id split_type action_date train_timedelta  \\\n",
      "0  selected_model  selected_train_test     action  2016-04-30           1460D   \n",
      "\n",
      "   train_total  train_proportion_ltu  test_total  test_proportion_ltu  \n",
      "0       459473              0.681128        6899             0.547761  \n"
     ]
    }
   ],
   "source": [
    "print train_test_config"
   ]
  },
  {
   "cell_type": "code",
   "execution_count": 257,
   "metadata": {
    "scrolled": false
   },
   "outputs": [],
   "source": [
    "def plot_precision(proba_results):\n",
    "    predictions = proba_results.sort_values(by='selected_model', ascending = False)\n",
    "    precision_list = []\n",
    "    x_ticks = np.arange(50,1050,50)\n",
    "    \n",
    "    for k in x_ticks:\n",
    "        proba_results['prediction'] = [1]*k+[0]*(len(predictions)-k)\n",
    "        prec = sklearn.metrics.precision_score(y_true = proba_results['ltu'], y_pred = proba_results['prediction'])\n",
    "        precision_list.append(prec)\n",
    "    precision_df = pd.DataFrame(precision_list, index = x_ticks)\n",
    "    precision_df.columns = ['Oct_2015_precision']\n",
    "    \n",
    "    baseline = proba_results['ltu'].mean()\n",
    "    baseline_df = pd.DataFrame([baseline]*len(x_ticks), index = x_ticks)\n",
    "    baseline_df.columns = ['Oct_2015_baseline']\n",
    "    \n",
    "    return precision_df, baseline_df"
   ]
  },
  {
   "cell_type": "code",
   "execution_count": 258,
   "metadata": {},
   "outputs": [],
   "source": [
    "precOct, baseOct = plot_precision(proba_results_Oct2015)\n",
    "precJan, baseJan = plot_precision(proba_results_Jan2016)\n",
    "precApr, baseApr = plot_precision(proba_results_Apr2016)"
   ]
  },
  {
   "cell_type": "code",
   "execution_count": 259,
   "metadata": {},
   "outputs": [],
   "source": [
    "baseBlended = (baseOct + baseJan + baseApr)/3"
   ]
  },
  {
   "cell_type": "code",
   "execution_count": 260,
   "metadata": {},
   "outputs": [],
   "source": []
  },
  {
   "cell_type": "code",
   "execution_count": 261,
   "metadata": {
    "collapsed": true
   },
   "outputs": [],
   "source": [
    "from matplotlib.pyplot import *"
   ]
  },
  {
   "cell_type": "code",
   "execution_count": 349,
   "metadata": {
    "scrolled": false
   },
   "outputs": [
    {
     "data": {
      "image/png": "[encoded data removed]",
      "text/plain": [
       "<matplotlib.figure.Figure at 0x7f971b54bf90>"
      ]
     },
     "metadata": {},
     "output_type": "display_data"
    }
   ],
   "source": [
    "sns.set(font='sans-serif', font_scale=4)\n",
    "matplotlib.rcParams['font.sans-serif'] = \"Arial\"\n",
    "matplotlib.rcParams['font.family'] = \"sans-serif\"\n",
    "\n",
    "plt.figure(figsize=(12,7))\n",
    "ax1 = plt.subplot(111)\n",
    "ax1.plot(precOct, linewidth=8.0, label = 'Oct 2015', color = 'purple')\n",
    "ax1.plot(precJan, linewidth=8.0, label = 'Jan 2016', color = 'black')\n",
    "ax1.plot(precApr, linewidth=8.0, label = 'Apr 2016')\n",
    "ax1.plot(baseBlended, linewidth=8.0, linestyle='--', color='gray', label = 'Baseline')\n",
    "\n",
    "ax1.set_xlabel(\"\\nCutoff value: Number of prioritized individuals\")\n",
    "ax1.set_ylabel(\"Precision\\n\", fontname='Arial')\n",
    "\n",
    "plt.xlabel(\"\\nCutoff value: Number of prioritized individuals\", fontname='Arial')\n",
    "\n",
    "handles, labels = ax1.get_legend_handles_labels()\n",
    "ax1.legend(handles, labels,frameon=False,borderpad=1,fontsize=28,\\\n",
    "           handlelength=3, loc=(1,.5))\n",
    "\n",
    "ax1.set_ylim(0.35,0.75)\n",
    "ax1.set_xlim(0,1000)\n",
    "ax1.tick_params(axis='both', which='major', labelsize=32)\n",
    "\n",
    "ax1.xaxis.label.set_visible(False)\n",
    "ax1.yaxis.label.set_visible(False)"
   ]
  },
  {
   "cell_type": "code",
   "execution_count": 275,
   "metadata": {
    "collapsed": true
   },
   "outputs": [],
   "source": [
    "#baseline is between 43-45% depending on action date, we put a blended baseline of "
   ]
  },
  {
   "cell_type": "code",
   "execution_count": 267,
   "metadata": {
    "collapsed": true
   },
   "outputs": [],
   "source": [
    "# dataframes for thinkcell graphs"
   ]
  },
  {
   "cell_type": "code",
   "execution_count": 265,
   "metadata": {},
   "outputs": [],
   "source": [
    "combined_prec = pd.merge(pd.merge(pd.merge(precOct, precJan, left_index=True,right_index=True), precApr, left_index=True, right_index=True),\\\n",
    "                         baseBlended, left_index=True, right_index=True)\n",
    "combined_prec.columns = ['Oct_2016', 'Jan_2016', 'Apr_2016', 'blended_baseline']"
   ]
  },
  {
   "cell_type": "code",
   "execution_count": null,
   "metadata": {
    "collapsed": true
   },
   "outputs": [],
   "source": []
  },
  {
   "cell_type": "code",
   "execution_count": 266,
   "metadata": {},
   "outputs": [
    {
     "data": {
      "text/html": [
       "<div>\n",
       "<style>\n",
       "    .dataframe thead tr:only-child th {\n",
       "        text-align: right;\n",
       "    }\n",
       "\n",
       "    .dataframe thead th {\n",
       "        text-align: left;\n",
       "    }\n",
       "\n",
       "    .dataframe tbody tr th {\n",
       "        vertical-align: top;\n",
       "    }\n",
       "</style>\n",
       "<table border=\"1\" class=\"dataframe\">\n",
       "  <thead>\n",
       "    <tr style=\"text-align: right;\">\n",
       "      <th></th>\n",
       "      <th>50</th>\n",
       "      <th>100</th>\n",
       "      <th>150</th>\n",
       "      <th>200</th>\n",
       "      <th>250</th>\n",
       "      <th>300</th>\n",
       "      <th>350</th>\n",
       "      <th>400</th>\n",
       "      <th>450</th>\n",
       "      <th>500</th>\n",
       "      <th>550</th>\n",
       "      <th>600</th>\n",
       "      <th>650</th>\n",
       "      <th>700</th>\n",
       "      <th>750</th>\n",
       "      <th>800</th>\n",
       "      <th>850</th>\n",
       "      <th>900</th>\n",
       "      <th>950</th>\n",
       "      <th>1000</th>\n",
       "    </tr>\n",
       "  </thead>\n",
       "  <tbody>\n",
       "    <tr>\n",
       "      <th>Oct_2016</th>\n",
       "      <td>0.660000</td>\n",
       "      <td>0.670000</td>\n",
       "      <td>0.700000</td>\n",
       "      <td>0.685000</td>\n",
       "      <td>0.652000</td>\n",
       "      <td>0.673333</td>\n",
       "      <td>0.677143</td>\n",
       "      <td>0.682500</td>\n",
       "      <td>0.677778</td>\n",
       "      <td>0.674000</td>\n",
       "      <td>0.667273</td>\n",
       "      <td>0.661667</td>\n",
       "      <td>0.660000</td>\n",
       "      <td>0.660000</td>\n",
       "      <td>0.661333</td>\n",
       "      <td>0.655000</td>\n",
       "      <td>0.645882</td>\n",
       "      <td>0.642222</td>\n",
       "      <td>0.635789</td>\n",
       "      <td>0.626000</td>\n",
       "    </tr>\n",
       "    <tr>\n",
       "      <th>Jan_2016</th>\n",
       "      <td>0.700000</td>\n",
       "      <td>0.680000</td>\n",
       "      <td>0.686667</td>\n",
       "      <td>0.705000</td>\n",
       "      <td>0.684000</td>\n",
       "      <td>0.666667</td>\n",
       "      <td>0.674286</td>\n",
       "      <td>0.672500</td>\n",
       "      <td>0.662222</td>\n",
       "      <td>0.658000</td>\n",
       "      <td>0.650909</td>\n",
       "      <td>0.640000</td>\n",
       "      <td>0.643077</td>\n",
       "      <td>0.634286</td>\n",
       "      <td>0.634667</td>\n",
       "      <td>0.633750</td>\n",
       "      <td>0.629412</td>\n",
       "      <td>0.631111</td>\n",
       "      <td>0.634737</td>\n",
       "      <td>0.633000</td>\n",
       "    </tr>\n",
       "    <tr>\n",
       "      <th>Apr_2016</th>\n",
       "      <td>0.640000</td>\n",
       "      <td>0.620000</td>\n",
       "      <td>0.620000</td>\n",
       "      <td>0.635000</td>\n",
       "      <td>0.640000</td>\n",
       "      <td>0.636667</td>\n",
       "      <td>0.617143</td>\n",
       "      <td>0.597500</td>\n",
       "      <td>0.595556</td>\n",
       "      <td>0.606000</td>\n",
       "      <td>0.605455</td>\n",
       "      <td>0.603333</td>\n",
       "      <td>0.601538</td>\n",
       "      <td>0.608571</td>\n",
       "      <td>0.604000</td>\n",
       "      <td>0.605000</td>\n",
       "      <td>0.604706</td>\n",
       "      <td>0.597778</td>\n",
       "      <td>0.591579</td>\n",
       "      <td>0.589000</td>\n",
       "    </tr>\n",
       "    <tr>\n",
       "      <th>blended_baseline</th>\n",
       "      <td>0.436529</td>\n",
       "      <td>0.436529</td>\n",
       "      <td>0.436529</td>\n",
       "      <td>0.436529</td>\n",
       "      <td>0.436529</td>\n",
       "      <td>0.436529</td>\n",
       "      <td>0.436529</td>\n",
       "      <td>0.436529</td>\n",
       "      <td>0.436529</td>\n",
       "      <td>0.436529</td>\n",
       "      <td>0.436529</td>\n",
       "      <td>0.436529</td>\n",
       "      <td>0.436529</td>\n",
       "      <td>0.436529</td>\n",
       "      <td>0.436529</td>\n",
       "      <td>0.436529</td>\n",
       "      <td>0.436529</td>\n",
       "      <td>0.436529</td>\n",
       "      <td>0.436529</td>\n",
       "      <td>0.436529</td>\n",
       "    </tr>\n",
       "  </tbody>\n",
       "</table>\n",
       "</div>"
      ],
      "text/plain": [
       "                      50        100       150       200       250       300   \\\n",
       "Oct_2016          0.660000  0.670000  0.700000  0.685000  0.652000  0.673333   \n",
       "Jan_2016          0.700000  0.680000  0.686667  0.705000  0.684000  0.666667   \n",
       "Apr_2016          0.640000  0.620000  0.620000  0.635000  0.640000  0.636667   \n",
       "blended_baseline  0.436529  0.436529  0.436529  0.436529  0.436529  0.436529   \n",
       "\n",
       "                      350       400       450       500       550       600   \\\n",
       "Oct_2016          0.677143  0.682500  0.677778  0.674000  0.667273  0.661667   \n",
       "Jan_2016          0.674286  0.672500  0.662222  0.658000  0.650909  0.640000   \n",
       "Apr_2016          0.617143  0.597500  0.595556  0.606000  0.605455  0.603333   \n",
       "blended_baseline  0.436529  0.436529  0.436529  0.436529  0.436529  0.436529   \n",
       "\n",
       "                      650       700       750       800       850       900   \\\n",
       "Oct_2016          0.660000  0.660000  0.661333  0.655000  0.645882  0.642222   \n",
       "Jan_2016          0.643077  0.634286  0.634667  0.633750  0.629412  0.631111   \n",
       "Apr_2016          0.601538  0.608571  0.604000  0.605000  0.604706  0.597778   \n",
       "blended_baseline  0.436529  0.436529  0.436529  0.436529  0.436529  0.436529   \n",
       "\n",
       "                      950       1000  \n",
       "Oct_2016          0.635789  0.626000  \n",
       "Jan_2016          0.634737  0.633000  \n",
       "Apr_2016          0.591579  0.589000  \n",
       "blended_baseline  0.436529  0.436529  "
      ]
     },
     "execution_count": 266,
     "metadata": {},
     "output_type": "execute_result"
    }
   ],
   "source": [
    "combined_prec.transpose()"
   ]
  },
  {
   "cell_type": "code",
   "execution_count": null,
   "metadata": {
    "collapsed": true
   },
   "outputs": [],
   "source": []
  }
 ],
 "metadata": {
  "kernelspec": {
   "display_name": "Python 2",
   "language": "python",
   "name": "python2"
  },
  "language_info": {
   "codemirror_mode": {
    "name": "ipython",
    "version": 2
   },
   "file_extension": ".py",
   "mimetype": "text/x-python",
   "name": "python",
   "nbconvert_exporter": "python",
   "pygments_lexer": "ipython2",
   "version": "2.7.13"
  }
 },
 "nbformat": 4,
 "nbformat_minor": 2
}
